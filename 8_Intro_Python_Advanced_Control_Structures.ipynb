{
 "cells": [
  {
   "cell_type": "markdown",
   "metadata": {
    "colab_type": "text",
    "id": "kj6UPZUylhel"
   },
   "source": [
    "# Advanced Control Structures\n",
    "---\n",
    "\n",
    "This section introduces more advanced control structures, namely *`if-else` statements nested in `for` loops*, and *`for` loops nested in `for` loops*. These control structures allow for flexible programs.\n",
    "\n",
    "As we had seen before, the action of nesting is accompanied by an additional tabs compared to parent condition. The action of exiting a nested structure is accompanied by a backward-indent.\n",
    "\n",
    "Therefore, a `for` statement nested in an `if-else` statement and executing expressions has the following structure:\n",
    "\n",
    "```python\n",
    "if CONDITION:\n",
    "  for Condition:\n",
    "      statement 1\n",
    "      statement 2\n",
    "      statement 3\n",
    "      statement 4\n",
    "else:\n",
    "  statement 5   \n",
    "```\n",
    "\n",
    "Note above how statements 1-4 are indented below `for` loop in which they are executed. Note also that the `else` statement is indented at the same level as the `if` statement, not the `for` statement.\n"
   ]
  },
  {
   "cell_type": "markdown",
   "metadata": {
    "colab_type": "text",
    "id": "aqFeHz31mNTL"
   },
   "source": [
    "## Nested `if-else` statements in `for` loops\n",
    "---\n",
    "\n",
    "Let us assume we have access to a YouTube Collection of videos and their view counts. The sample list below contain three items, each of which is a tuple with the string video id and an integer representing the number of views.\n",
    "\n",
    "```python\n",
    "\n",
    "youtube_views = [('G7PydoX_WNQ', 31230), ('P81i66_tLlU' , 184961), ('VgEbcQxFUu8', 1139112)]\n",
    "```\n",
    "\n",
    "\n",
    "\n",
    "Printing the unique IDs of YouTube videos with over 100,000 views can be easily accomplished by nesting an `if-else` statement inside of a `for` loop. The `for` loop will iterate through the collection, while the nested `if-else` statement will evaluate the count for each video and print the names of those for which the number of views is greater than 100,000. This common pattern can be applied every time one needs to iterate over a list of elements and filter the elements based upon some condition.\n",
    "\n",
    "\n",
    "\n",
    "<img src=\"images/advanced_control_structure/nested_if_for_1.jpg\" alt=\"drawing\" style=\"width:800px;\"/>\n"
   ]
  },
  {
   "cell_type": "markdown",
   "metadata": {
    "colab_type": "text",
    "id": "Obx50UBMAMHt"
   },
   "source": [
    "#### Example1\n",
    "\n",
    "This code prints the unique ids of `YouTube` videos with more than 100,000 views.\n"
   ]
  },
  {
   "cell_type": "code",
   "execution_count": 5,
   "metadata": {
    "colab": {
     "base_uri": "https://localhost:8080/",
     "height": 51
    },
    "colab_type": "code",
    "executionInfo": {
     "elapsed": 665,
     "status": "ok",
     "timestamp": 1538170797353,
     "user": {
      "displayName": "Jaclyn Lee",
      "photoUrl": "",
      "userId": "17525286701482268466"
     },
     "user_tz": 600
    },
    "id": "TEuomTaq-3RP",
    "outputId": "e061d7f5-fba9-49ae-f45c-de2ceb73b7ab"
   },
   "outputs": [
    {
     "name": "stdout",
     "output_type": "stream",
     "text": [
      "P81i66_tLlU\n",
      "VgEbcQxFUu8\n"
     ]
    }
   ],
   "source": [
    "youtube_views = [('G7PydoX_WNQ', 31230), ('P81i66_tLlU' , 184961), ('VgEbcQxFUu8', 1139112)]\n",
    "for video in youtube_views:\n",
    "  if video[1] > 100000:\n",
    "    print(video[0])"
   ]
  },
  {
   "cell_type": "markdown",
   "metadata": {
    "colab_type": "text",
    "id": "TuBKUcOa7GtC"
   },
   "source": [
    "To better understand `if-else` statements nested in `for` loops, the `for` loop in the example above can be \"unrolled\" by writing the code without using a `for` loop."
   ]
  },
  {
   "cell_type": "code",
   "execution_count": 6,
   "metadata": {
    "colab": {
     "base_uri": "https://localhost:8080/",
     "height": 50
    },
    "colab_type": "code",
    "executionInfo": {
     "elapsed": 720,
     "status": "ok",
     "timestamp": 1538687807317,
     "user": {
      "displayName": "Jaclyn Lee",
      "photoUrl": "",
      "userId": "17525286701482268466"
     },
     "user_tz": 600
    },
    "id": "Lkokku8S7tcr",
    "outputId": "704e5961-620a-438a-ad59-334669f33913"
   },
   "outputs": [
    {
     "name": "stdout",
     "output_type": "stream",
     "text": [
      "P81i66_tLlU\n",
      "VgEbcQxFUu8\n"
     ]
    }
   ],
   "source": [
    "youtube_views = [('G7PydoX_WNQ', 31230), ('P81i66_tLlU', 184961), ('VgEbcQxFUu8', 1139112)]\n",
    "\n",
    "#iteration 1:\n",
    "video = youtube_views[0]\n",
    "if video[1] > 100000:\n",
    "  print(video[0])\n",
    "\n",
    "#iteration 2:\n",
    "video = youtube_views[1]\n",
    "if video[1] > 100000:\n",
    "  print(video[0])\n",
    "  \n",
    "#iteration3:\n",
    "video = youtube_views[2]\n",
    "if video[1] > 100000:\n",
    "  print(video[0])"
   ]
  },
  {
   "cell_type": "markdown",
   "metadata": {
    "colab_type": "text",
    "id": "v-7iQp0B8MS0"
   },
   "source": [
    "Here, a temporary variable called `video` is used to sequentially store the tuples in `youtube_views`. In the first iteration, the first tuple in `youtube_views` is stored in `video`. An `if-else` statement evaluates whether the second element in `video` is greater than 100,000 and will print the first element in the tuple if this is true. After the first iteration, the second tuple in `youtube_views` is assigned to `video` and the `if-else` statement is repeated. This process of reassigning the value of `video` to the different tuples in `youtube_views` and running the `if-else` statement will repeat until all the tuples have been iterated over.\n",
    "\n",
    "This unrolled `for` loop demonstrates what happens when Python interprets nested `if-else` statements in `for` loops. The `for` loop sequentially reassigns each item in the list to the temporary variable `vide`. The `if-else` statement will be executed for every iteration, or every time the temporary variable's value changes.\n"
   ]
  },
  {
   "cell_type": "markdown",
   "metadata": {
    "colab_type": "text",
    "id": "XlSehhnoIC_0"
   },
   "source": [
    "#### Example 2\n",
    "\n",
    "In this example, consider a list of tuples containing the names of YouTube channels and number of subscribers. An `if-else` statement nested inside of a `for` loop can also be used to print the usernames with more than 5,000,000 subscribers, or print \"Too few subscribers\" otherwise. The code is shown in the code below.\n"
   ]
  },
  {
   "cell_type": "code",
   "execution_count": 4,
   "metadata": {
    "colab": {
     "base_uri": "https://localhost:8080/",
     "height": 68
    },
    "colab_type": "code",
    "executionInfo": {
     "elapsed": 443,
     "status": "ok",
     "timestamp": 1538172252059,
     "user": {
      "displayName": "Jaclyn Lee",
      "photoUrl": "",
      "userId": "17525286701482268466"
     },
     "user_tz": 600
    },
    "id": "v7qQ3DLQLuIR",
    "outputId": "b7914ae4-025c-4ac1-b6d9-c87912981671"
   },
   "outputs": [
    {
     "name": "stdout",
     "output_type": "stream",
     "text": [
      "TED\n",
      "Too few subscribers\n",
      "TED-Ed\n"
     ]
    }
   ],
   "source": [
    "channels = [('TED', 11313839), ('Vox', 4818601), ('TED-Ed', 7514168)]\n",
    "for channel in channels:\n",
    "  if channel[1] > 5000000:\n",
    "    print(channel[0])\n",
    "  else:\n",
    "    print('Too few subscribers')"
   ]
  },
  {
   "cell_type": "markdown",
   "metadata": {
    "colab_type": "text",
    "id": "hI-i9K8EpKya"
   },
   "source": [
    "When Python executes this code, it iterates over the tuples in the list and execute the `if-else` statement for each tuple. During the first iteration, the `if-else` statement will look at `('TED',11313839)`. If the second element in this tuple is greater than 5,000,000, Python will print 'TED'. If not, Python will print 'Too few subscribers'. In this case 11,313,839 is greater than 5,000,000, so Python will print 'TED'.\n",
    "\n",
    "\n",
    "<img src=\"images/advanced_control_structure/nested_if_for_2.jpg\" alt=\"drawing\" style=\"width:800px;\"/>\n",
    "\n",
    "During the second iteration, Python will repeat the `if-else` statement for `('Vox', 4818601)`. Because 4,818,601 is less than 5,000,000, Python will print 'Too little subscribers'.\n",
    "\n",
    "\n",
    "<img src=\"images/advanced_control_structure/nested_if_for_2.1.jpg\" alt=\"drawing\" style=\"width:800px;\"/>\n",
    "\n",
    "\n",
    "During the third iteration, Python will repeat the `if-else` statement for `('TED-Ed', 7514168)`. 'TED-Ed' has 7,514,168 subscribers, which is greater than 5,000,000, so Python will print 'TED-Ed'.\n",
    "\n",
    "\n",
    "<img src=\"images/advanced_control_structure/nested_if_for_2.2.jpg\" alt=\"drawing\" style=\"width:800px;\"/>"
   ]
  },
  {
   "cell_type": "markdown",
   "metadata": {
    "colab_type": "text",
    "id": "J-KkU6S8WdXg"
   },
   "source": [
    "#### Quiz\n",
    "---\n",
    "\n",
    "How can the `for` loop presented in Example 2 be unrolled?"
   ]
  },
  {
   "cell_type": "code",
   "execution_count": null,
   "metadata": {},
   "outputs": [],
   "source": [
    "# Write your code here"
   ]
  },
  {
   "cell_type": "markdown",
   "metadata": {
    "colab_type": "text",
    "id": "OLxmFaNIWu5r"
   },
   "source": [
    "#### Quiz\n",
    "---\n",
    "\n",
    "Below is an `if-else` statement nested in a `for` loop applied to the `ghg_2014` dictionary from Chapter 7. How many countries will be printed?\n",
    "\n",
    "```python\n",
    "ghg_2014 = {'china' : 2806634, 'united states of america' : 1432855, 'india' : 610411, 'russian federation' : 465052, 'japan' : 331074}\n",
    "\n",
    "for country, emission in ghg_2014.items():\n",
    "  if emission > 500000:\n",
    "    print(country)\n",
    "\n",
    "```\n",
    "A. 0\n",
    "\n",
    "B. 1\n",
    "\n",
    "C. 2\n",
    "\n",
    "D. 3\n",
    "\n",
    "E. 4\n"
   ]
  },
  {
   "cell_type": "markdown",
   "metadata": {
    "colab_type": "text",
    "id": "E-0kCkWwmVyB"
   },
   "source": [
    "## Nested `for` loops\n",
    "---\n",
    "\n",
    "Nested `for` loops are `for` loops that occur within other `for` loops. When this control structure is executed, Python will first encounter the outer `for` loop and execute the outer loop's first iteration.\n",
    "\n",
    "The outer loop's first iteration will trigger the inner `for` loop, which will run to completion. After the inner `for` loop finishes iterating, Python will return to the outer loop for the outer loop's second iteration, which will trigger the inner `for` loop again. This process will repeat until the outer loop iterates to completion.\n",
    "\n",
    "\n",
    "```\n",
    "for first_iterating_variable in outer_loop:\n",
    "    do something\n",
    "    for second_iterating_variable in nested_loop:\n",
    "        do something\n",
    " ```\n",
    "\n",
    "<img src=\"images/advanced_control_structure/nested_for_loops.JPG\" alt=\"drawing\" style=\"width:600px;\"/>\n",
    "\n",
    "\n"
   ]
  },
  {
   "cell_type": "markdown",
   "metadata": {
    "colab_type": "text",
    "id": "xRMc78oqzI2p"
   },
   "source": [
    "### Example 3\n",
    "\n",
    "Nested `for` loops allow one to work with nested collections, similar to how `for` loops allow one to work with normal collections. To illustrate this, let's look at a concrete example of nested `for` loops in action. Consider two lists, one of which contains the numbers 1 through 3 and the other which contains the strings `'circle'`, `'triangle'`, `'square'`. How can one print the numbers 1 through 3 and print all of the strings for each number? The desired output woul be something similar to the following:\n",
    "```python\n",
    "1\n",
    "    circle\n",
    "    triangle\n",
    "    square\n",
    "2\n",
    "    circle\n",
    "    triangle\n",
    "    square\n",
    "3\n",
    "    circle\n",
    "    triangle\n",
    "    square\n",
    "```\n",
    "\n",
    "This can be achived using nested `for` loops; one `for` loop is used to iterate through the list of numbers, and a nested `for` loop is used to iterate through the shapes for each number in the `numbers` list. Based on the description above, the outer `for` iterated through the number while the inner `for` iterated over the shapes.\n"
   ]
  },
  {
   "cell_type": "code",
   "execution_count": 8,
   "metadata": {
    "colab": {
     "base_uri": "https://localhost:8080/",
     "height": 221
    },
    "colab_type": "code",
    "executionInfo": {
     "elapsed": 415,
     "status": "ok",
     "timestamp": 1538015699480,
     "user": {
      "displayName": "Charlotte Smith",
      "photoUrl": "",
      "userId": "05194161354170586023"
     },
     "user_tz": 600
    },
    "id": "M5NcGvCnxRhK",
    "outputId": "0795a8e8-e0aa-4072-c26f-32e4d2d1a217"
   },
   "outputs": [
    {
     "name": "stdout",
     "output_type": "stream",
     "text": [
      "1\n",
      "\tcircle\n",
      "\ttriangle\n",
      "\tsquare\n",
      "2\n",
      "\tcircle\n",
      "\ttriangle\n",
      "\tsquare\n",
      "3\n",
      "\tcircle\n",
      "\ttriangle\n",
      "\tsquare\n"
     ]
    }
   ],
   "source": [
    "numbers = [1, 2, 3]\n",
    "shapes = ['circle', 'triangle', 'square']\n",
    "\n",
    "for number in numbers:\n",
    "    print(number)\n",
    "    for shape in shapes:\n",
    "        print(\"\\t\"+shape)"
   ]
  },
  {
   "cell_type": "markdown",
   "metadata": {},
   "source": [
    "The figures bellow illustrate what is happening when Python executes the code.\n",
    "\n",
    "\n",
    "<img src=\"images/advanced_control_structure/nested_for_loops_1.jpg\" alt=\"drawing\" style=\"width:500px;\"/>"
   ]
  },
  {
   "cell_type": "markdown",
   "metadata": {
    "colab_type": "text",
    "id": "6loyXQvgyLgi"
   },
   "source": [
    "The program completes the first iteration of the outer loop by printing `1`, which then triggers the inner loop to initiate, printing `'circle'`, `'triangle'`, and `'square'` consecutively (\"The tab; \\t is added for clarity\"). Once the inner loop has completed, the program returns to the outer loop for its second iteration. The second iteration of the outer loop prints `2` then initiates the inner loop to print `'circle'`, `'triangle'`, and `'square'`. Yet again, Python returns to the outer loop, which prints `3` and executes the inner nested `for` loop that prints the shape sequence. After the outer `for` loop's third iteration is completed, the nested `for` loops will terminate because there are no more items for the outer `for` loop to iterate over.\n",
    "\n"
   ]
  },
  {
   "cell_type": "markdown",
   "metadata": {
    "colab_type": "text",
    "id": "V5Kdj0VcGBKD"
   },
   "source": [
    "The example below unrolls the nested shapes and numbers `for` loops:"
   ]
  },
  {
   "cell_type": "code",
   "execution_count": 10,
   "metadata": {
    "colab": {},
    "colab_type": "code",
    "id": "d6tcRZXSGgEH"
   },
   "outputs": [
    {
     "name": "stdout",
     "output_type": "stream",
     "text": [
      "1\n",
      "\tcircle\n",
      "\ttriangle\n",
      "\tsquare\n",
      "2\n",
      "\tcircle\n",
      "\ttriangle\n",
      "\tsquare\n",
      "3\n",
      "\tcircle\n",
      "\ttriangle\n",
      "\tsquare\n"
     ]
    }
   ],
   "source": [
    "numbers = [1, 2, 3] \n",
    "shapes = ['circle', 'triangle', 'square']\n",
    "\n",
    "#iteration 1:\n",
    "number = numbers[0]\n",
    "print(number)\n",
    "#inner for loop:\n",
    "shape = shapes[0]\n",
    "print(\"\\t\"+shape)\n",
    "shape = shapes[1]\n",
    "print(\"\\t\"+shape)\n",
    "shape = shapes[2]\n",
    "print(\"\\t\"+shape)\n",
    "\n",
    "#iteration 2:\n",
    "number = numbers[1]\n",
    "print(number)\n",
    "#inner for loop:\n",
    "shape = shapes[0]\n",
    "print(\"\\t\"+shape)\n",
    "shape = shapes[1]\n",
    "print(\"\\t\"+shape)\n",
    "shape = shapes[2]\n",
    "print(\"\\t\"+shape)\n",
    "\n",
    "#iteration 3:\n",
    "number = numbers[2]\n",
    "print(number)\n",
    "#inner for loop:\n",
    "shape = shapes[0]\n",
    "print(\"\\t\"+shape)\n",
    "shape = shapes[1]\n",
    "print(\"\\t\"+shape)\n",
    "shape = shapes[2]\n",
    "print(\"\\t\"+shape)"
   ]
  },
  {
   "cell_type": "markdown",
   "metadata": {
    "colab_type": "text",
    "id": "Un5xx9xiJ3XM"
   },
   "source": [
    "The unrolled version above shows explicitly how the outer `for` loop sequentially changes the value of the temporary variable, `number` to the different values in the `numbers` list. For each iteration of the outer `for` loop, the value stored in `number` will print followed by the execution of the inner `for` loop. \n",
    "\n",
    "The inner `for` loop will iterate through the list of shapes by changing the value of `shape` to the different values stored in the list `shapes`. For each iteration of the inner loop, Python will print the value of `shape`, which is `'circle'` for the first iteration, `'triangle'` for the second, and `'square'` for the third. Once the inner `for` loop finishes executing, Python will return to the outer `for` loop for the outer loop's next iteration."
   ]
  },
  {
   "cell_type": "markdown",
   "metadata": {
    "colab_type": "text",
    "id": "QVJV1Wg9K9d6"
   },
   "source": [
    "#### Example 4\n",
    "\n",
    "To further illustrate the utility of nested `for` loops we use another example which calculates the total sales of three stores who had a three-day sales from Friday through Sunday. The store's daily sales are stored in a tuple, and tuples are themselves stored in a list. It may be clear from the definition that we need to two `for` loops, the first to iterate over the stores and the second to iterate over the sales of each store.\n",
    "\n",
    "\n",
    "\n",
    "In order to sum all the sales within the tuples, it is necessary to iterate over every item in each tuple. Thus, nested `for` loops are used to access each element in the tuples and sum all the sales into another variable called `total_sales`.\n",
    "\n",
    "\n",
    "<img src=\"images/advanced_control_structure/nested_for_loops_3.jpg\" alt=\"drawing\" style=\"width:400px;\"/>\n",
    "\n",
    "\n",
    "\n"
   ]
  },
  {
   "cell_type": "code",
   "execution_count": null,
   "metadata": {
    "colab": {
     "base_uri": "https://localhost:8080/",
     "height": 50
    },
    "colab_type": "code",
    "executionInfo": {
     "elapsed": 421,
     "status": "ok",
     "timestamp": 1538376942273,
     "user": {
      "displayName": "Jaclyn Lee",
      "photoUrl": "",
      "userId": "17525286701482268466"
     },
     "user_tz": 600
    },
    "id": "NYdishDES09O",
    "outputId": "b60b0207-6381-48e5-e681-8cd9d5298331"
   },
   "outputs": [
    {
     "name": "stdout",
     "output_type": "stream",
     "text": [
      "Total Sales:\n",
      "63085\n"
     ]
    }
   ],
   "source": [
    "stores = [(2750, 5860, 4425), (8030, 10150, 7665), (5580, 8990, 9635)]\n",
    "total_sales = 0\n",
    "for store in stores:\n",
    "  for day in store:\n",
    "    total_sales = total_sales + day\n",
    "print('Total Sales:')\n",
    "print(total_sales)"
   ]
  },
  {
   "cell_type": "markdown",
   "metadata": {
    "colab_type": "text",
    "id": "-ffvPe9UWXkz"
   },
   "source": [
    "#### Example 5\n",
    "\n",
    "Let's revisit our card suits list from the Ordered Collections Chapter. A list of a deck of cards can be created by manually typing out each card. However, this process can be automated using nested `for` loops to combine the suits and the card numbers."
   ]
  },
  {
   "cell_type": "code",
   "execution_count": 1,
   "metadata": {
    "colab": {
     "base_uri": "https://localhost:8080/",
     "height": 890
    },
    "colab_type": "code",
    "executionInfo": {
     "elapsed": 428,
     "status": "ok",
     "timestamp": 1539723324918,
     "user": {
      "displayName": "Jaclyn Lee",
      "photoUrl": "",
      "userId": "17525286701482268466"
     },
     "user_tz": 600
    },
    "id": "6EiUwICYpDIN",
    "outputId": "b832adc6-2cca-4e93-af71-6bcc9d365d2c"
   },
   "outputs": [
    {
     "data": {
      "text/plain": [
       "['♤A',\n",
       " '♤2',\n",
       " '♤3',\n",
       " '♤4',\n",
       " '♤5',\n",
       " '♤6',\n",
       " '♤7',\n",
       " '♤8',\n",
       " '♤9',\n",
       " '♤10',\n",
       " '♤J',\n",
       " '♤Q',\n",
       " '♤K',\n",
       " '♡A',\n",
       " '♡2',\n",
       " '♡3',\n",
       " '♡4',\n",
       " '♡5',\n",
       " '♡6',\n",
       " '♡7',\n",
       " '♡8',\n",
       " '♡9',\n",
       " '♡10',\n",
       " '♡J',\n",
       " '♡Q',\n",
       " '♡K',\n",
       " '♢A',\n",
       " '♢2',\n",
       " '♢3',\n",
       " '♢4',\n",
       " '♢5',\n",
       " '♢6',\n",
       " '♢7',\n",
       " '♢8',\n",
       " '♢9',\n",
       " '♢10',\n",
       " '♢J',\n",
       " '♢Q',\n",
       " '♢K',\n",
       " '♧A',\n",
       " '♧2',\n",
       " '♧3',\n",
       " '♧4',\n",
       " '♧5',\n",
       " '♧6',\n",
       " '♧7',\n",
       " '♧8',\n",
       " '♧9',\n",
       " '♧10',\n",
       " '♧J',\n",
       " '♧Q',\n",
       " '♧K']"
      ]
     },
     "execution_count": 1,
     "metadata": {},
     "output_type": "execute_result"
    }
   ],
   "source": [
    "suits = [\"♤\", \"♡\", \"♢\", \"♧\"]\n",
    "card_numbers = ['A', '2', '3', '4', '5', '6', '7', '8', '9', '10', 'J', 'Q', 'K']\n",
    "cards = []\n",
    "for suit in suits:\n",
    "  for number in card_numbers:\n",
    "    card = suit + number\n",
    "    cards.append(card)\n",
    "    \n",
    "cards"
   ]
  },
  {
   "cell_type": "markdown",
   "metadata": {},
   "source": [
    "# TO DO\n",
    "### Python aside\n",
    "---\n",
    "#### `end` parameter in `print()`\n",
    "By default, the `print()` function will end with a newline. However if you don't want `print()` to end with a new line, you can change the `end` parameter to whatever you want the print() function to end with. For example, if you are printing x and want `print()` to end with a tab instead of a newline, you can type the following below.\n",
    "\n",
    "\n",
    "```python\n",
    "print(x, end=\"\\t\")\n",
    "```\n",
    "\n",
    "#### Counters\n",
    "\n",
    "Counters are variables that keep track of how many times a for loop iterates. You can create a counter, by setting the a counter variable equal to 1 right before the `for` loop, and updating the counter to be one more than its previous value at the end of the code within the for loop. For example:\n",
    "```python\n",
    "counter = 1\n",
    "for element in collection:\n",
    "    body of for loop\n",
    "    counter = counter + 1\n",
    "```\n",
    "\n",
    "Once you create a counter, you can use the value stored in counter to execute a snippet of code if it's a certain value.\n",
    "```python\n",
    "counter = 1\n",
    "for element in collection:\n",
    "    body of for loop\n",
    "    if counter == desired index\n",
    "    counter = counter + 1\n",
    "```\n",
    "\n",
    "\n"
   ]
  },
  {
   "cell_type": "markdown",
   "metadata": {},
   "source": [
    "#### Quiz \n",
    "---\n",
    "\n",
    "We can see that the `cards`  list contains the list of all possible combinations in a deck of cards. What if we are interested in printing each card suit per line. We would like the desired outcome to look like the following:\n",
    "\n",
    "``` Python\n",
    "♤A    ♤2    ♤3    ♤4    ♤5    ♤6    ♤7    ♤8    ♤9    ♤10    ♤J    ♤Q    ♤K    \n",
    "♡A    ♡2    ♡3    ♡4    ♡5    ♡6    ♡7    ♡8    ♡9    ♡10    ♡J    ♡Q    ♡K    \n",
    "♢A    ♢2    ♢3    ♢4    ♢5    ♢6    ♢7    ♢8    ♢9    ♢10    ♢J    ♢Q    ♢K    \n",
    "♧A    ♧2    ♧3    ♧4    ♧5    ♧6    ♧7    ♧8    ♧9    ♧10    ♧J    ♧Q    ♧K\n",
    "```\n",
    "\n",
    "A. \n",
    "```python\n",
    "i=0\n",
    "for card in cards:\n",
    "    print(card, end=\"\\t\")\n",
    "    i += 1\n",
    "    if i == 13:\n",
    "        print()\n",
    "        i=0\n",
    "```\n",
    "\n",
    "B. \n",
    "```python\n",
    "for card in cards:\n",
    "    print(card, end=\"\\t\")\n",
    "    if i == 13:\n",
    "        print()\n",
    "```\n",
    "\n",
    "C. \n",
    "```python\n",
    "i=1\n",
    "for card in cards:\n",
    "    if i != 13:\n",
    "        print(card, end=\"\\t\")\n",
    "        i += 1\n",
    "    else:\n",
    "        print(card, end=\"\\n\")\n",
    "        i=1\n",
    "```\n",
    "\n",
    "D. \n",
    "```python\n",
    "for card in cards:\n",
    "    for a in card:\n",
    "        print(a, end=\"\\t\")\n",
    "    print(\"\\n\")\n",
    "```"
   ]
  },
  {
   "cell_type": "markdown",
   "metadata": {
    "colab_type": "text",
    "id": "WC8h5LMVrLKJ"
   },
   "source": [
    "Now that a full deck of cards is created, we could use `random.choice()` to randomly draw a card. We could also use the `random.sample()` method to draw multiple cards with or without replacement."
   ]
  },
  {
   "cell_type": "code",
   "execution_count": 25,
   "metadata": {
    "colab": {
     "base_uri": "https://localhost:8080/",
     "height": 50
    },
    "colab_type": "code",
    "executionInfo": {
     "elapsed": 425,
     "status": "ok",
     "timestamp": 1539724518086,
     "user": {
      "displayName": "Jaclyn Lee",
      "photoUrl": "",
      "userId": "17525286701482268466"
     },
     "user_tz": 600
    },
    "id": "t86cZrrhq-6B",
    "outputId": "b8cd8c4e-570e-49af-addc-7c1ab6369bda"
   },
   "outputs": [
    {
     "name": "stdout",
     "output_type": "stream",
     "text": [
      "♡5\n"
     ]
    },
    {
     "data": {
      "text/plain": [
       "['♡J', '♤6', '♧A', '♧10', '♢5']"
      ]
     },
     "execution_count": 25,
     "metadata": {},
     "output_type": "execute_result"
    }
   ],
   "source": [
    "import random\n",
    "print(random.choice(cards))\n",
    "random.sample(cards, 5)"
   ]
  },
  {
   "cell_type": "markdown",
   "metadata": {
    "colab_type": "text",
    "id": "uuF10Q-3nFtl"
   },
   "source": [
    "## Summary\n",
    "---\n",
    "This chapter introduced when and how the following advanced control flows are used:\n",
    "\n",
    "* `if-else` statements in `for` loops.\n",
    "* Nested `for` loops in `for` loops.\n",
    "\n",
    "The next chapter will collate skills from all chapters in a practical section. The practical is an opportunity to practice what was learned in the past 8 chapters and to gain a better intuition for how to code in Python. In the exercises, various topics will be combined so one can get better sense for how different aspects of coding in Python work together."
   ]
  }
 ],
 "metadata": {
  "colab": {
   "collapsed_sections": [],
   "name": "8 Intro to Python: Advanced Control Structures.ipynb",
   "provenance": [],
   "version": "0.3.2"
  },
  "hide_input": false,
  "kernelspec": {
   "display_name": "Python 3",
   "language": "python",
   "name": "python3"
  },
  "language_info": {
   "codemirror_mode": {
    "name": "ipython",
    "version": 3
   },
   "file_extension": ".py",
   "mimetype": "text/x-python",
   "name": "python",
   "nbconvert_exporter": "python",
   "pygments_lexer": "ipython3",
   "version": "3.6.6"
  }
 },
 "nbformat": 4,
 "nbformat_minor": 2
}
