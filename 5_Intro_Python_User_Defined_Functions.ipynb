{
 "cells": [
  {
   "cell_type": "markdown",
   "metadata": {
    "colab_type": "text",
    "id": "vuVCCsYOdSdj"
   },
   "source": [
    "# User Defined Functions\n",
    "---\n",
    "\n",
    "The previous chapter covered importing modules. This chapter introduces how to create your own *functions*. Functions are named blocks of code, which carry out a specific task, and can take inputs and return values. In data science, it is necessary to know how to create your own functions as it is common to encounter situations where a block of code may need to be used multiple times. Defining a frequently used block of code as a function increases script readability and efficiency.  "
   ]
  },
  {
   "cell_type": "markdown",
   "metadata": {
    "colab_type": "text",
    "id": "3dPvnnQoyD3q"
   },
   "source": [
    "## Syntax\n",
    "---\n",
    "\n",
    "\n",
    "\n",
    "<img src=\"images/user_defined_functions/syntax.png\" alt=\"drawing\" style=\"width:450px;\"/>\n",
    "\n",
    "\n",
    "The function definition starts with the keyword, `def`, followed by its name and a parenthesized list of parameters your function will use. In this case, the name of the function is `fahr_to_celsius()`, and it takes a single parameter named `fahr`.\n",
    "\n",
    "The body of a function is the indented block of code that follows the definition and is run each time the function is called. The body ends when the indentation ends. In the example above, the code in the body calculates the conversion of a given temperature from Fahrenheit to Celsius.\n",
    "\n",
    "If we want the function to return something, i.e. give an output after it is called, then we use the `return` keyword followed by a return value. \n"
   ]
  },
  {
   "cell_type": "code",
   "execution_count": 0,
   "metadata": {
    "colab": {
     "base_uri": "https://localhost:8080/",
     "height": 34
    },
    "colab_type": "code",
    "executionInfo": {
     "elapsed": 602,
     "status": "ok",
     "timestamp": 1539219969281,
     "user": {
      "displayName": "Charlotte Smith",
      "photoUrl": "",
      "userId": "05194161354170586023"
     },
     "user_tz": 600
    },
    "id": "MS88kHHfLZMd",
    "outputId": "d5cc8f34-f2a1-4f0c-d8fb-eb391c209979"
   },
   "outputs": [
    {
     "data": {
      "text/plain": [
       "121.11111111111111"
      ]
     },
     "execution_count": 2,
     "metadata": {
      "tags": []
     },
     "output_type": "execute_result"
    }
   ],
   "source": [
    "def fahr_to_celsius(fahr):\n",
    "  celsius = (fahr - 32) * (5/9)\n",
    "  return celsius\n",
    "\n",
    "fahr_to_celsius(250)"
   ]
  },
  {
   "cell_type": "markdown",
   "metadata": {
    "colab_type": "text",
    "id": "hV_62kV7iPCN"
   },
   "source": [
    "### Local Variables\n",
    "\n",
    "Any variable that is defined or modified inside a function is a local variable. Local variables in functions are independent from variables outside the function, meaning that you cannot modify a local variable outside the function definition except through the return statement. The example below illustrates this."
   ]
  },
  {
   "cell_type": "markdown",
   "metadata": {},
   "source": [
    "#### Example 1\n",
    "---"
   ]
  },
  {
   "cell_type": "code",
   "execution_count": 1,
   "metadata": {},
   "outputs": [
    {
     "data": {
      "text/plain": [
       "121.11111111111111"
      ]
     },
     "execution_count": 1,
     "metadata": {},
     "output_type": "execute_result"
    }
   ],
   "source": [
    "def fahr_to_celsius(fahr):\n",
    "  celsius = (fahr - 32) * (5/9)\n",
    "  return celsius\n",
    "\n",
    "fahr_to_celsius(250)"
   ]
  },
  {
   "cell_type": "markdown",
   "metadata": {},
   "source": [
    "After using `fahr_to_celsius(250)`, the expected value of `celsius` is 121.11 degrees celsius. Let's try to add 273.15 to this `celsius`, which converts `celsius` to Kelvin."
   ]
  },
  {
   "cell_type": "code",
   "execution_count": 2,
   "metadata": {},
   "outputs": [
    {
     "ename": "NameError",
     "evalue": "name 'celsius' is not defined",
     "output_type": "error",
     "traceback": [
      "\u001b[0;31m---------------------------------------------------------------------------\u001b[0m",
      "\u001b[0;31mNameError\u001b[0m                                 Traceback (most recent call last)",
      "\u001b[0;32m<ipython-input-2-53be66c1655a>\u001b[0m in \u001b[0;36m<module>\u001b[0;34m\u001b[0m\n\u001b[0;32m----> 1\u001b[0;31m \u001b[0mcelsius\u001b[0m\u001b[0;34m+\u001b[0m\u001b[0;36m273.15\u001b[0m\u001b[0;34m\u001b[0m\u001b[0m\n\u001b[0m",
      "\u001b[0;31mNameError\u001b[0m: name 'celsius' is not defined"
     ]
    }
   ],
   "source": [
    "celsius + 273.15"
   ]
  },
  {
   "cell_type": "markdown",
   "metadata": {},
   "source": [
    "As demonstrated by the cell above, even though `celsius` was defined in the `fahr_to_celsius()` function, `celsius` was a local variable within `fahr_to_celsius`. Therefore, since `celsius` was not defined outside of `fahr_to_celsius()`, Python returned an error."
   ]
  },
  {
   "cell_type": "markdown",
   "metadata": {
    "colab_type": "text",
    "id": "5Vq96r_wlX4n"
   },
   "source": [
    "#### Example 2\n",
    "---\n",
    "This function greets the user by printing \"Hello\" plus their username in title case. `username` is a parameter, and the value \"lavagirl808\" is passed to the function. This function does not return a value, rather it simply displays the result of the procedure.\n",
    "\n",
    "Note that the difference between printing and returning a value is that we cannot save the result of a print statement into a variable."
   ]
  },
  {
   "cell_type": "code",
   "execution_count": 1,
   "metadata": {
    "colab": {
     "base_uri": "https://localhost:8080/",
     "height": 34
    },
    "colab_type": "code",
    "executionInfo": {
     "elapsed": 405,
     "status": "ok",
     "timestamp": 1539220365385,
     "user": {
      "displayName": "Charlotte Smith",
      "photoUrl": "",
      "userId": "05194161354170586023"
     },
     "user_tz": 600
    },
    "id": "lKjYSTtYnLxM",
    "outputId": "25c2b075-2915-497f-ef7a-045b58d6d64a"
   },
   "outputs": [
    {
     "name": "stdout",
     "output_type": "stream",
     "text": [
      "Hello Lavagirl808\n"
     ]
    }
   ],
   "source": [
    "def greet_user(username):\n",
    "  print(\"Hello {}\".format(username.title()))\n",
    "  \n",
    "\n",
    "greet_user(\"lavagirl808\")"
   ]
  },
  {
   "cell_type": "markdown",
   "metadata": {
    "colab_type": "text",
    "id": "v0ee0gERnade"
   },
   "source": [
    "#### Example 3\n",
    "---\n",
    "This function calculates the total cost of a bill with tax and tip."
   ]
  },
  {
   "cell_type": "code",
   "execution_count": 0,
   "metadata": {
    "colab": {
     "base_uri": "https://localhost:8080/",
     "height": 34
    },
    "colab_type": "code",
    "executionInfo": {
     "elapsed": 442,
     "status": "ok",
     "timestamp": 1547580823064,
     "user": {
      "displayName": "Jaclyn Lee",
      "photoUrl": "",
      "userId": "17525286701482268466"
     },
     "user_tz": 600
    },
    "id": "r9152eX0nb3r",
    "outputId": "0fdd6ca7-1f62-4d95-e78f-684c4f860f98"
   },
   "outputs": [
    {
     "data": {
      "text/plain": [
       "29.498112000000003"
      ]
     },
     "execution_count": 1,
     "metadata": {
      "tags": []
     },
     "output_type": "execute_result"
    }
   ],
   "source": [
    "def total_bill(bill, tax, tip):\n",
    "  total_amount = (bill * (1 + tax)) * (1 + tip)\n",
    "  return total_amount\n",
    "  \n",
    "total_bill(24.00, 0.0416, 0.18)\n",
    "  "
   ]
  },
  {
   "cell_type": "markdown",
   "metadata": {
    "colab_type": "text",
    "id": "iOh7nIO1jINV"
   },
   "source": [
    "#### Quiz 1\n",
    "\n",
    "True or False: The following two functions will always return the same value.\n",
    "\n",
    "Function 1:\n",
    "\n",
    "```python\n",
    "def present_value(future_value, interest, time_periods)\n",
    "  return future_value / (1 + interest) ** time_periods\n",
    "```\n",
    "Function 2:\n",
    "\n",
    "```python\n",
    "def present_value(future_value, interest, time_periods)\n",
    "  pv = future_value / (1 + interest) ** time_periods\n",
    "  return pv\n",
    "```"
   ]
  },
  {
   "cell_type": "markdown",
   "metadata": {
    "colab_type": "text",
    "id": "DgOTnI4I_P_j"
   },
   "source": [
    "## Default Parameters\n",
    "---\n",
    "\n",
    "You can define a *default value* for Python to use when a parameter is not specified. Default parameters are useful if you want your function to work one way most of the time, but occasionally need it to work differently. For example, if you were writing a function to convert mass to weight, you could have the default gravity be Earth's gravitational acceleration since most people want to know the weight of things on Earth but may want to know the weight of things on other planets.\n",
    "\n",
    "To define a default parameter, simply specify the default parameter in the function definition with `=`. Make sure that your default parameters come after the parameters without default values.\n",
    "\n",
    "\n",
    "<img src=\"images/user_defined_functions/default.jpg\" alt=\"drawing\" style=\"width:450px;\"/>"
   ]
  },
  {
   "cell_type": "code",
   "execution_count": 0,
   "metadata": {
    "colab": {
     "base_uri": "https://localhost:8080/",
     "height": 34
    },
    "colab_type": "code",
    "executionInfo": {
     "elapsed": 416,
     "status": "ok",
     "timestamp": 1548790325822,
     "user": {
      "displayName": "Jaclyn Lee",
      "photoUrl": "",
      "userId": "17525286701482268466"
     },
     "user_tz": 600
    },
    "id": "wSF0-BqKReG6",
    "outputId": "9b6f5cda-16d6-4322-a8e4-af988bd648b0"
   },
   "outputs": [
    {
     "data": {
      "text/plain": [
       "608.22"
      ]
     },
     "execution_count": 4,
     "metadata": {
      "tags": []
     },
     "output_type": "execute_result"
    }
   ],
   "source": [
    "def weight(mass, gravity=9.81):\n",
    "  return mass * gravity\n",
    "\n",
    "weight(62)"
   ]
  },
  {
   "cell_type": "markdown",
   "metadata": {
    "colab_type": "text",
    "id": "ezyDJfIkSNT7"
   },
   "source": [
    "Since only mass was passed to `weight()`,  the `weight()` function used the default gravity, which was 9.81 $m/s^2$. However, if we wanted to use this function to calculate the weight of a person on Mars, we would need to change gravity's default parameter to Mars' gravitational acceleration, 3.71 $m/s^2$. We will go over how to change default parameters in the next section."
   ]
  },
  {
   "cell_type": "markdown",
   "metadata": {
    "colab_type": "text",
    "id": "2WpgUqdbsHQx"
   },
   "source": [
    "#### Example 4\n",
    "---\n",
    "This function calculates the distance between two GPS points in kilometers:"
   ]
  },
  {
   "cell_type": "code",
   "execution_count": 0,
   "metadata": {
    "colab": {},
    "colab_type": "code",
    "id": "l_-0Zh1rokld"
   },
   "outputs": [],
   "source": [
    "import math\n",
    "\n",
    "#Earth_radius_km = 6371\n",
    "#Earth_radius_miles = 3959\n",
    "#Earth_radius_feet = 3959*5280\n",
    "\n",
    "def distance(lat1, lon1, lat2, lon2, earth_radius=6371):\n",
    "\n",
    "  dlat = math.radians(lat2 - lat1)\n",
    "  dlon = math.radians(lon2 - lon1)\n",
    "  \n",
    "  a = (math.sin(dlat / 2) * math.sin(dlat / 2) + math.cos(math.radians(lat1))\n",
    "       * math.cos(math.radians(lat2)) * math.sin(dlon / 2) * math.sin(dlon / 2))\n",
    "  c = 2 * math.atan2(math.sqrt(a), math.sqrt(1 - a))\n",
    "  d = earth_radius * c\n",
    "  \n",
    "  return d\n",
    "  \n"
   ]
  },
  {
   "cell_type": "markdown",
   "metadata": {
    "colab_type": "text",
    "id": "OtpNFhMdEpCp"
   },
   "source": [
    "We can use this function to calculate the distance in kilometers between Honolulu, Hawaii and Kyoto Japan."
   ]
  },
  {
   "cell_type": "code",
   "execution_count": 0,
   "metadata": {
    "colab": {
     "base_uri": "https://localhost:8080/",
     "height": 34
    },
    "colab_type": "code",
    "executionInfo": {
     "elapsed": 535,
     "status": "ok",
     "timestamp": 1548789903602,
     "user": {
      "displayName": "Jaclyn Lee",
      "photoUrl": "",
      "userId": "17525286701482268466"
     },
     "user_tz": 600
    },
    "id": "oRlAjvvdyavl",
    "outputId": "11151ed0-e9f2-465b-d3e0-edf8380935e6"
   },
   "outputs": [
    {
     "data": {
      "text/plain": [
       "6567.145591489822"
      ]
     },
     "execution_count": 2,
     "metadata": {
      "tags": []
     },
     "output_type": "execute_result"
    }
   ],
   "source": [
    "distance(21.3069, -157.858093, 34.987476, 135.759491)"
   ]
  },
  {
   "cell_type": "markdown",
   "metadata": {
    "colab_type": "text",
    "id": "FWyfL3ir_Q6L"
   },
   "source": [
    "#### Example 5\n",
    "---\n",
    "We can rewrite our function that calculates the total cost of a bill to have default parameters of 0% for tax and tip since in many countries tax is already included in the advertised price or tipping is not commonly practiced."
   ]
  },
  {
   "cell_type": "code",
   "execution_count": 1,
   "metadata": {
    "colab": {
     "base_uri": "https://localhost:8080/",
     "height": 52
    },
    "colab_type": "code",
    "executionInfo": {
     "elapsed": 433,
     "status": "ok",
     "timestamp": 1547581012509,
     "user": {
      "displayName": "Jaclyn Lee",
      "photoUrl": "",
      "userId": "17525286701482268466"
     },
     "user_tz": 600
    },
    "id": "Y4XgzHrq_RM-",
    "outputId": "7d507055-75a2-4fe3-da21-5ac88a5ad259"
   },
   "outputs": [
    {
     "name": "stdout",
     "output_type": "stream",
     "text": [
      "24.0\n"
     ]
    }
   ],
   "source": [
    "def total_bill(bill, tax=0, tip=0):\n",
    "  total_amount = (bill * (1 + tax)) * (tip + 1)\n",
    "  return total_amount\n",
    "  \n",
    "print(total_bill(24.00))"
   ]
  },
  {
   "cell_type": "markdown",
   "metadata": {},
   "source": [
    "#### Quiz 2\n",
    "---\n",
    "Which of the following functions will not compile?\n",
    "\n",
    "A. \n",
    "```python\n",
    "def present_value(future_value, interest=0, time_periods):\n",
    "  return future_value / (1 + interest) ** time_periods\n",
    "```\n",
    "B.\n",
    "```python\n",
    "def present_value(future_value, interest=0, time_periods=0):\n",
    "  return future_value / (1 + interest) ** time_periods\n",
    "```\n",
    "C.\n",
    "```python\n",
    "def present_value(future_value, time_periods, interest=0):\n",
    "  return future_value / (1 + interest) ** time_periods\n",
    "```"
   ]
  },
  {
   "cell_type": "markdown",
   "metadata": {
    "colab_type": "text",
    "id": "6mg9D96L8lwh"
   },
   "source": [
    "### Changing Default Parameters\n",
    "---\n",
    "If you want to change a default parameter, you will need to call the function using keyword parameters. To change keyword parameters, you use the `=` operator to specify the value that you want to use instead when you call the function. Thus, if we wanted to use our `weight()` function with Mars' gravitational acceleration, all we need to do is pass `gravity=3.71` to `weight()`.\n",
    "\n",
    "\n",
    "<img src=\"images/user_defined_functions/changing_default.jpg\" alt=\"drawing\" style=\"width:450px;\"/>\n",
    "\n",
    "\n",
    "You can also use keyword parameters to specify the parameters that do not have default values as well. You just need to make sure your positional parameters come before the keyword parameters. Remember that positional parameters are passing parameters to a function based on the order that they're passed. \n",
    "\n",
    "In our `weight()` function example, we can use keyword parameters for `mass` as follows.\n",
    "\n",
    "\n",
    "<img src=\"images/user_defined_functions/keyword_parameter.jpg\" alt=\"drawing\" style=\"width:450px;\"/>\n",
    "\n"
   ]
  },
  {
   "cell_type": "code",
   "execution_count": 0,
   "metadata": {
    "colab": {
     "base_uri": "https://localhost:8080/",
     "height": 52
    },
    "colab_type": "code",
    "executionInfo": {
     "elapsed": 410,
     "status": "ok",
     "timestamp": 1548790330739,
     "user": {
      "displayName": "Jaclyn Lee",
      "photoUrl": "",
      "userId": "17525286701482268466"
     },
     "user_tz": 600
    },
    "id": "BxT0y-fKF-BL",
    "outputId": "df5a1cc7-14bb-4f08-a48d-7fc2f4bafe41"
   },
   "outputs": [
    {
     "name": "stdout",
     "output_type": "stream",
     "text": [
      "230.02\n"
     ]
    },
    {
     "data": {
      "text/plain": [
       "230.02"
      ]
     },
     "execution_count": 5,
     "metadata": {
      "tags": []
     },
     "output_type": "execute_result"
    }
   ],
   "source": [
    "print(weight(62, gravity=3.71))\n",
    "weight(mass=62, gravity=3.71)"
   ]
  },
  {
   "cell_type": "markdown",
   "metadata": {
    "colab_type": "text",
    "id": "EehIisFxoGgf"
   },
   "source": [
    "#### Example 6\n",
    "---\n",
    "\n",
    "Taking our previous `distance()` function, we may wish to calculate the distance between two points in a different unit such as feet or miles instead of kilometers. To do this, we can change the default parameter, `earth_radius`, to be the radius of the Earth in feet or miles."
   ]
  },
  {
   "cell_type": "code",
   "execution_count": 0,
   "metadata": {
    "colab": {},
    "colab_type": "code",
    "id": "0dvsM4Y4oKn5"
   },
   "outputs": [],
   "source": [
    "import math\n",
    "\n",
    "# earth_radius_km = 6371\n",
    "# earth_radius_miles = 3959\n",
    "# earth_radius_feet = 3959*5280\n",
    "\n",
    "def distance(lat1, lon1, lat2, lon2, earth_radius=6371):\n",
    "  \n",
    "  dlat = math.radians(lat2 - lat1)\n",
    "  dlon = math.radians(lon2 - lon1)\n",
    "  \n",
    "  a = (math.sin(dlat / 2) * math.sin(dlat / 2) + math.cos(math.radians(lat1)) \n",
    "       * math.cos(math.radians(lat2)) * math.sin(dlon / 2) * math.sin(dlon / 2))\n",
    "  c = 2 * math.atan2(math.sqrt(a), math.sqrt(1 - a))\n",
    "  d = earth_radius * c\n",
    "  \n",
    "  return d\n",
    "  \n"
   ]
  },
  {
   "cell_type": "markdown",
   "metadata": {
    "colab_type": "text",
    "id": "IzrecuceFPuS"
   },
   "source": [
    "Here, we are calculating the distance in miles between Honlulu, Hawaii and Kyoto, Japan."
   ]
  },
  {
   "cell_type": "code",
   "execution_count": 0,
   "metadata": {
    "colab": {
     "base_uri": "https://localhost:8080/",
     "height": 34
    },
    "colab_type": "code",
    "executionInfo": {
     "elapsed": 242,
     "status": "ok",
     "timestamp": 1547580997068,
     "user": {
      "displayName": "Jaclyn Lee",
      "photoUrl": "",
      "userId": "17525286701482268466"
     },
     "user_tz": 600
    },
    "id": "A0PUTicO1wnZ",
    "outputId": "120c0427-1371-4cf8-9b5c-275dcff862e7"
   },
   "outputs": [
    {
     "data": {
      "text/plain": [
       "4080.8867362593323"
      ]
     },
     "execution_count": 5,
     "metadata": {
      "tags": []
     },
     "output_type": "execute_result"
    }
   ],
   "source": [
    "# Calculate the distance between Honolulu and Kyoto, Japan in miles\n",
    "distance(21.3069, -157.858093, 34.987476, 135.759491, earth_radius=3959)"
   ]
  },
  {
   "cell_type": "markdown",
   "metadata": {},
   "source": [
    "#### Example 7\n",
    "---\n",
    "Let's use our `total_bill()` function to find the total cost paid for a bill of 58$, 0 tax and a tip of 18%."
   ]
  },
  {
   "cell_type": "code",
   "execution_count": 2,
   "metadata": {},
   "outputs": [
    {
     "data": {
      "text/plain": [
       "68.44"
      ]
     },
     "execution_count": 2,
     "metadata": {},
     "output_type": "execute_result"
    }
   ],
   "source": [
    "total_bill(58, tip=0.18)"
   ]
  },
  {
   "cell_type": "markdown",
   "metadata": {
    "colab_type": "text",
    "id": "4nDlveEekgIU"
   },
   "source": [
    "#### Quiz 3\n",
    "---\n",
    "\n",
    "Find the weight of a 753 kg cow on the moon, which has a gravitational acceleration of 1.62 $\\text{m}/\\text{s}^\\text{2}$.\n",
    "\n",
    "<img src=\"images/user_defined_functions/cow_moon.jpg\" alt=\"drawing\" style=\"width:350px;\"/>\n",
    "\n",
    "http://worldartsme.com/the-cow-jumped-over-moon-clipart.html"
   ]
  },
  {
   "cell_type": "code",
   "execution_count": 1,
   "metadata": {},
   "outputs": [],
   "source": [
    "# Write your code here\n"
   ]
  },
  {
   "cell_type": "markdown",
   "metadata": {
    "colab_type": "text",
    "id": "wr8Se9NKw0F-"
   },
   "source": [
    "## Summary\n",
    "---\n",
    "\n",
    "This chapter, you learned how to:\n",
    "* Create a user defined function. \n",
    "* Specify default parameters in your functions. \n",
    "* Change the default parameters when you use functions.\n",
    "\n",
    "The next chapter will introduce collections, which are variables that can store many values in one location. The next chapter will also go over ordered collections and for loops, which is one of the basic control flow structures that you can use in your code.\n",
    "\n",
    "\n",
    "\n"
   ]
  },
  {
   "cell_type": "code",
   "execution_count": 0,
   "metadata": {
    "colab": {},
    "colab_type": "code",
    "id": "M_u1V2702vrI"
   },
   "outputs": [],
   "source": []
  }
 ],
 "metadata": {
  "colab": {
   "collapsed_sections": [],
   "name": "5 Into to Python: User Defined Functions.ipynb",
   "provenance": [],
   "version": "0.3.2"
  },
  "kernelspec": {
   "display_name": "Python 3",
   "language": "python",
   "name": "python3"
  },
  "language_info": {
   "codemirror_mode": {
    "name": "ipython",
    "version": 3
   },
   "file_extension": ".py",
   "mimetype": "text/x-python",
   "name": "python",
   "nbconvert_exporter": "python",
   "pygments_lexer": "ipython3",
   "version": "3.6.6"
  }
 },
 "nbformat": 4,
 "nbformat_minor": 1
}
