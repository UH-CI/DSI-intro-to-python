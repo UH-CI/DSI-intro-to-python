{
 "cells": [
  {
   "cell_type": "markdown",
   "metadata": {
    "colab_type": "text",
    "id": "60GW20WOufv9"
   },
   "source": [
    "### Exercise 1\n",
    "---\n",
    "\n",
    "i. ABO blood types are determined by the combination of alleles (different forms of a particular gene) that people inherit from their parents. Parents can either pass on an A, B, or O allele to their offspring, so every person will have two ABO alleles. `abo` is a list containing the alleles for the abo blood types. Use nested `for` loops to create a list called `bloodtypes` that contains all the different combinations of alleles, or genotypes, a person can have. Each genotype should be stored as a list. For example `bloodtypes` will contain `['A','B']` and `['A','A']` as two of its elements. Note that order does not matter in this case, so blood genotype `['A','B']` is the same as `['B','A']`. Use an `if-else` statement and `sorted()` to make sure your code does not generate duplicate genotypes. Your final `bloodtypes` list should contain 6 genotypes.\n",
    "\n",
    "\n"
   ]
  },
  {
   "cell_type": "code",
   "execution_count": 4,
   "metadata": {
    "colab": {
     "base_uri": "https://localhost:8080/",
     "height": 34
    },
    "colab_type": "code",
    "executionInfo": {
     "elapsed": 424,
     "status": "ok",
     "timestamp": 1547152202109,
     "user": {
      "displayName": "Jaclyn Lee",
      "photoUrl": "",
      "userId": "17525286701482268466"
     },
     "user_tz": 600
    },
    "id": "d5ZtrjvGzCKK",
    "outputId": "aafe3dc9-ffdc-4bfb-ab05-66475e51feb1"
   },
   "outputs": [
    {
     "name": "stdout",
     "output_type": "stream",
     "text": [
      "[['A', 'A'], ['A', 'B'], ['A', 'O'], ['B', 'B'], ['B', 'O'], ['O', 'O']]\n"
     ]
    }
   ],
   "source": [
    "# Write your code here\n",
    "\n",
    "\n",
    "abo = ['A', 'B', 'O']\n",
    "bloodtypes = []\n",
    "for blood in abo:\n",
    "  for blood2 in abo:\n",
    "    bloodtype = [blood, blood2]\n",
    "    if sorted(bloodtype) not in bloodtypes:\n",
    "      bloodtypes.append(sorted(bloodtype))\n",
    "print(bloodtypes)"
   ]
  },
  {
   "cell_type": "markdown",
   "metadata": {},
   "source": [
    "**We can take out the rhesus factor if it's too complex. Only considering ABO blood types simplifies the following problems as well.**\n",
    "\n",
    "ii. Another blood type factor that is inherited independently from ABO blood types is the rhesus factor. There are two types of rhesus factor alleles: Rh+ and Rh-. Like ABO blood types, people will inherit one rhesus factor allele from each of their parents, totalling two alleles per person. Modify your for loop to take into account the different combinations of ABO alleles and rhesus factor alleles a person can have. Like with ABO genotypes, order of the rhesus factor alleles does not matter, so make sure you do not generate duplicate genotypes."
   ]
  },
  {
   "cell_type": "code",
   "execution_count": 0,
   "metadata": {
    "colab": {
     "base_uri": "https://localhost:8080/",
     "height": 54
    },
    "colab_type": "code",
    "executionInfo": {
     "elapsed": 413,
     "status": "ok",
     "timestamp": 1547232103177,
     "user": {
      "displayName": "Jaclyn Lee",
      "photoUrl": "",
      "userId": "17525286701482268466"
     },
     "user_tz": 600
    },
    "id": "zJu-UDZMNPtS",
    "outputId": "fb3a5e33-a43d-46c8-f0c3-5ea8efea542f"
   },
   "outputs": [
    {
     "name": "stdout",
     "output_type": "stream",
     "text": [
      "[['A', 'A', 'Rh+', 'Rh+'], ['A', 'A', 'Rh+', 'Rh-'], ['A', 'A', 'Rh-', 'Rh-'], ['A', 'B', 'Rh+', 'Rh+'], ['A', 'B', 'Rh+', 'Rh-'], ['A', 'B', 'Rh-', 'Rh-'], ['A', 'O', 'Rh+', 'Rh+'], ['A', 'O', 'Rh+', 'Rh-'], ['A', 'O', 'Rh-', 'Rh-'], ['B', 'B', 'Rh+', 'Rh+'], ['B', 'B', 'Rh+', 'Rh-'], ['B', 'B', 'Rh-', 'Rh-'], ['B', 'O', 'Rh+', 'Rh+'], ['B', 'O', 'Rh+', 'Rh-'], ['B', 'O', 'Rh-', 'Rh-'], ['O', 'O', 'Rh+', 'Rh+'], ['O', 'O', 'Rh+', 'Rh-'], ['O', 'O', 'Rh-', 'Rh-']]\n"
     ]
    }
   ],
   "source": [
    "# Write your code here\n",
    "\n",
    "\n",
    "abo=['A','B','O']\n",
    "abo2=['A','B','O']\n",
    "rhesus=['Rh+','Rh-']\n",
    "rhesus2=['Rh+','Rh-']\n",
    "bloodtypes=[]\n",
    "for blood in abo:\n",
    "  for blood2 in abo2:\n",
    "    for rh in rhesus:\n",
    "      for rh2 in rhesus2:\n",
    "        bloodtype = [blood, blood2, rh, rh2]\n",
    "        if sorted(bloodtype) not in bloodtypes:\n",
    "          bloodtypes.append(sorted(bloodtype))\n",
    "print(bloodtypes)"
   ]
  },
  {
   "cell_type": "markdown",
   "metadata": {},
   "source": [
    "iii. Now write a piece of code that evaluates all possible genotypes (the list created in ii) and generates a corresponding phenotype (what is physically expressed based off of an individual's genotype) in a different list. Below is a list of genotype to phenotype rules and a table of the different genotypes and their corresponding phenotype. The phenotypes you come up with should have both the rhesus factor and ABO phenotypes. Since we want the phenotypes to correspond to the different genotypes, do not delete dupicate phenotypes.\n",
    "\n",
    "  * A and B alleles are dominant to O alleles, so O alleles will be masked by A or B alleles.\n",
    "  * If an A and  B allele are present, they will be codominant and will both be expressed.\n",
    "  * Rh+ is dominant to Rh-, so Rh+ will be expressed if both are present.\n",
    "\n",
    "\n",
    "| Genotype | Phenotype |\n",
    "|-----------------|-------------------|\n",
    "| AA| A|\n",
    "|AO| A|\n",
    "|BB| B|\n",
    "|BO| B|\n",
    "|AB|AB|\n",
    "|OO|O|\n",
    "|Rh+ Rh+| Rh+|\n",
    "|Rh+ Rh-| Rh+|\n",
    "|Rh- Rh-| Rh-|\n"
   ]
  },
  {
   "cell_type": "code",
   "execution_count": 0,
   "metadata": {
    "colab": {
     "base_uri": "https://localhost:8080/",
     "height": 336
    },
    "colab_type": "code",
    "executionInfo": {
     "elapsed": 404,
     "status": "ok",
     "timestamp": 1547232843727,
     "user": {
      "displayName": "Jaclyn Lee",
      "photoUrl": "",
      "userId": "17525286701482268466"
     },
     "user_tz": 600
    },
    "id": "Vnrc7ZHROLCM",
    "outputId": "c750bffb-e891-4b21-d9b3-ec09dff2cc4b"
   },
   "outputs": [
    {
     "data": {
      "text/plain": [
       "[['A', 'Rh+'],\n",
       " ['A', 'Rh+'],\n",
       " ['A', 'Rh-'],\n",
       " ['AB', 'Rh+'],\n",
       " ['AB', 'Rh+'],\n",
       " ['AB', 'Rh-'],\n",
       " ['A', 'Rh+'],\n",
       " ['A', 'Rh+'],\n",
       " ['A', 'Rh-'],\n",
       " ['B', 'Rh+'],\n",
       " ['B', 'Rh+'],\n",
       " ['B', 'Rh-'],\n",
       " ['B', 'Rh+'],\n",
       " ['B', 'Rh+'],\n",
       " ['B', 'Rh-'],\n",
       " ['O', 'Rh+'],\n",
       " ['O', 'Rh+'],\n",
       " ['O', 'Rh-']]"
      ]
     },
     "execution_count": 7,
     "metadata": {
      "tags": []
     },
     "output_type": "execute_result"
    }
   ],
   "source": [
    "# Write your code here\n",
    "\n",
    "\n",
    "phenotypes=[]\n",
    "for genotype in bloodtypes:\n",
    "  if ('A' in genotype) and ('B' in genotype):\n",
    "    phenotype=['AB']\n",
    "  elif 'B' in genotype:\n",
    "    phenotype=['B']\n",
    "  elif 'A' in genotype:\n",
    "    phenotype=['A']\n",
    "  else:\n",
    "    phenotype=['O']\n",
    "  if 'Rh+' in genotype:\n",
    "    phenotype.append('Rh+')\n",
    "  else:\n",
    "    phenotype.append('Rh-')\n",
    "  phenotypes.append(phenotype)\n",
    "phenotypes"
   ]
  },
  {
   "cell_type": "markdown",
   "metadata": {},
   "source": [
    "iv. How many ways can you achieve each unique phenotype? Write a piece of code that counts the number of each phenotype in the list created in iii. Which phenotypes can arise from multiple genotypes? Which one has the most?"
   ]
  },
  {
   "cell_type": "code",
   "execution_count": null,
   "metadata": {},
   "outputs": [],
   "source": [
    "# Write your code here\n",
    "\n"
   ]
  },
  {
   "cell_type": "markdown",
   "metadata": {},
   "source": [
    "v. Write a function that accepts two parent genotype in the form of a list of list of pairs of alleles (see below for an example) and returns all the possible offspring genotypes. Do not delete duplicates, as we will use the probability of offspring genotypes occuring later on.\n",
    "```\n",
    "example_parent=[['A','B'],['Rh+','Rh+']]\n",
    "```"
   ]
  },
  {
   "cell_type": "code",
   "execution_count": null,
   "metadata": {},
   "outputs": [],
   "source": [
    "# Write your code here\n",
    "\n"
   ]
  },
  {
   "cell_type": "markdown",
   "metadata": {},
   "source": [
    "vi. Building off of v, write a function that randomly selects an offspring genotype, taking into account the probability of different genotypes occuring."
   ]
  },
  {
   "cell_type": "code",
   "execution_count": null,
   "metadata": {},
   "outputs": [],
   "source": [
    "# Write your code here\n",
    "\n"
   ]
  },
  {
   "cell_type": "markdown",
   "metadata": {
    "colab": {},
    "colab_type": "code",
    "id": "S2t0doyzD4ZX"
   },
   "source": [
    "### Exercise 2\n",
    "---\n",
    "\n",
    "Every 2 seconds, someone in the US is in need of blood, but not all blood types are compatible with each other. Therefore it is important to check if a donor's blood is compatible with the person who needs a blood transfusion. There are different components of blood that can be donated, but for we will only focus on red blood cell donations. Below is some rules for who can donate blood to who.\n",
    "\n",
    "For ABO blood types:\n",
    "* Blood type A can only be given to people with blood type A or blood type AB.\n",
    "* Blood type B can only be given to people with blood type B or blood type AB.\n",
    "* Blood type O can be given to blood types A, B, AB or O.\n",
    "* Blood type AB can only be given to blood type AB.\n",
    "\n",
    "For Rhesus factor\n",
    "* Given that the rules for ABO blood types are followed, blood types that are Rh+ can only be given to those that are Rh+.\n",
    "* Given that the rules for ABO blood types are followed, blood types that are Rh- can be given to blood types that are both Rh+ and Rh-.\n",
    "\n",
    "Combining the rules for ABO blood types and the Rhesus factor, the following table summarizes who the different blood types can donate to.\n",
    "\n",
    "| Donor | Recepients |\n",
    "|-----------------|-------------------|\n",
    "| A+| A+, AB+|\n",
    "|A-| A+, A-, AB+, AB-|\n",
    "|B+| B+, AB+|\n",
    "|B-| B+, B-, AB+, AB-|\n",
    "|AB+|AB+|\n",
    "|AB-|AB+, AB-|\n",
    "|O+|A+, B+, AB+, O+|\n",
    "|O-|A+, A-, B+, B-, AB+, AB-, O+, O-|\n",
    "\n",
    "i) Write a function that takes two parameters (donor and recepient), and evaluates whether they are compatible. The function should return `True` if they are compatible, and `False` if they are not compatible.\n",
    "\n"
   ]
  },
  {
   "cell_type": "code",
   "execution_count": 26,
   "metadata": {
    "colab": {
     "base_uri": "https://localhost:8080/",
     "height": 34
    },
    "colab_type": "code",
    "executionInfo": {
     "elapsed": 383,
     "status": "ok",
     "timestamp": 1549062664393,
     "user": {
      "displayName": "Jaclyn Lee",
      "photoUrl": "",
      "userId": "17525286701482268466"
     },
     "user_tz": 600
    },
    "id": "zdo4m9kLCovM",
    "outputId": "2f464d49-bee5-4982-9667-7b8da96815c2"
   },
   "outputs": [],
   "source": [
    "# Write your code here\n",
    "\n",
    "\n",
    "def blood_test(donor, recepient):\n",
    "    if 'AB' in recepient:\n",
    "        result = True\n",
    "    elif 'O' in donor:\n",
    "        result = True\n",
    "    elif ('A' in donor) and ('A' in recepient):\n",
    "        result = True\n",
    "    elif ('B' in donor) and ('B' in recepient):\n",
    "        result = True\n",
    "    else:\n",
    "        result = False\n",
    "    if 'Rh-' in donor:\n",
    "        result = result\n",
    "    elif ('Rh+' in donor) and ('Rh+' in recepient):\n",
    "        result = result\n",
    "    else:\n",
    "        result = False\n",
    "    return result"
   ]
  },
  {
   "cell_type": "markdown",
   "metadata": {},
   "source": [
    "ii) Test your function with a donor blood type of `['A','Rh+']` and a recepient blood type of `['AB', 'Rh-']`. Your function should return `False`"
   ]
  },
  {
   "cell_type": "code",
   "execution_count": null,
   "metadata": {},
   "outputs": [],
   "source": [
    "# Write your code here\n",
    "\n"
   ]
  }
 ],
 "metadata": {
  "colab": {
   "collapsed_sections": [],
   "name": "9 Intro to Python: Practicals.ipynb",
   "provenance": [],
   "version": "0.3.2"
  },
  "kernelspec": {
   "display_name": "Python 3",
   "language": "python",
   "name": "python3"
  },
  "language_info": {
   "codemirror_mode": {
    "name": "ipython",
    "version": 3
   },
   "file_extension": ".py",
   "mimetype": "text/x-python",
   "name": "python",
   "nbconvert_exporter": "python",
   "pygments_lexer": "ipython3",
   "version": "3.6.6"
  }
 },
 "nbformat": 4,
 "nbformat_minor": 1
}
