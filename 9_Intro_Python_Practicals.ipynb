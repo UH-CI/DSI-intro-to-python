{
 "cells": [
  {
   "cell_type": "markdown",
   "metadata": {
    "colab_type": "text",
    "id": "60GW20WOufv9"
   },
   "source": [
    "### Exercise 1\n",
    "---\n",
    "\n",
    "i) ABO blood types are determined by the combination of alleles (different forms of a particular gene) that people inherit from their parents. Parents can either pass on an A, B, or O allele to their offspring, so every person will have two of either A, B, or O alleles. `abo` is a list containing the alleles for the abo blood types. \n",
    "\n",
    "Use nested `for` loops to create a list called `blood types` that contains all the different combinations of alleles, or genotypes a person can have. Each genotype should be stored as a list. \n",
    "\n",
    "For example `bloodtypes` will contain `['A','B']` and `['A','A']` as two of its elements. Note that order does not matter in this case, so blood genotype `['A','B']` is the same as `['B','A']`. \n",
    "\n",
    "Use an `if-else` statement and `sorted()` to make sure your code does not generate duplicate genotypes. Your final `bloodtypes` list should contain _six_ genotypes.\n",
    "\n",
    "\n"
   ]
  },
  {
   "cell_type": "code",
   "execution_count": 4,
   "metadata": {
    "colab": {
     "base_uri": "https://localhost:8080/",
     "height": 34
    },
    "colab_type": "code",
    "executionInfo": {
     "elapsed": 424,
     "status": "ok",
     "timestamp": 1547152202109,
     "user": {
      "displayName": "Jaclyn Lee",
      "photoUrl": "",
      "userId": "17525286701482268466"
     },
     "user_tz": 600
    },
    "id": "d5ZtrjvGzCKK",
    "outputId": "aafe3dc9-ffdc-4bfb-ab05-66475e51feb1"
   },
   "outputs": [
    {
     "name": "stdout",
     "output_type": "stream",
     "text": [
      "[['A', 'A'], ['A', 'B'], ['A', 'O'], ['B', 'B'], ['B', 'O'], ['O', 'O']]\n"
     ]
    }
   ],
   "source": [
    "# Write your code here\n",
    "\n",
    "\n",
    "abo = ['A', 'B', 'O']\n",
    "bloodtypes = []\n",
    "for blood in abo:\n",
    "  for blood2 in abo:\n",
    "    bloodtype = [blood, blood2]\n",
    "    if sorted(bloodtype) not in bloodtypes:\n",
    "      bloodtypes.append(sorted(bloodtype))\n",
    "print(bloodtypes)"
   ]
  },
  {
   "cell_type": "markdown",
   "metadata": {},
   "source": [
    "ii) Now write a piece of code that evaluates each possible genotype (the list created in the previous problem) and generates a corresponding phenotype (what is physically expressed based off of an individual's genotype) in a different list called `phenotype`. Below is a table representing the genotype and their corresponding phenotype.  Since we want the phenotypes to correspond to the different genotypes, do not delete duplicate phenotypes. For your convenience, you can use the dictionary `geno_to_pheno_dict`, which maps each of the genotypes to their associated phenotype.\n",
    "\n",
    "\n",
    "| Genotype | Phenotype |\n",
    "|-----------------|-------------------|\n",
    "| AA| A|\n",
    "|AO| A|\n",
    "|BB| B|\n",
    "|BO| B|\n",
    "|AB|AB|\n",
    "|OO|O|\n",
    "\n",
    "```python\n",
    "geno_to_pheno_dict = {\"AA\": \"A\", \"AO\": \"A\",  \"BB\": \"B\",  \"BO\": \"B\",  \"AB\": \"AB\",  \"OO\": \"O\"}\n",
    "```\n",
    "\n"
   ]
  },
  {
   "cell_type": "code",
   "execution_count": 25,
   "metadata": {
    "colab": {
     "base_uri": "https://localhost:8080/",
     "height": 336
    },
    "colab_type": "code",
    "executionInfo": {
     "elapsed": 404,
     "status": "ok",
     "timestamp": 1547232843727,
     "user": {
      "displayName": "Jaclyn Lee",
      "photoUrl": "",
      "userId": "17525286701482268466"
     },
     "user_tz": 600
    },
    "id": "Vnrc7ZHROLCM",
    "outputId": "c750bffb-e891-4b21-d9b3-ec09dff2cc4b"
   },
   "outputs": [
    {
     "data": {
      "text/plain": [
       "[['A', 'Rh+'],\n",
       " ['A', 'Rh+'],\n",
       " ['A', 'Rh-'],\n",
       " ['AB', 'Rh+'],\n",
       " ['AB', 'Rh+'],\n",
       " ['AB', 'Rh-'],\n",
       " ['A', 'Rh+'],\n",
       " ['A', 'Rh+'],\n",
       " ['A', 'Rh-'],\n",
       " ['B', 'Rh+'],\n",
       " ['B', 'Rh+'],\n",
       " ['B', 'Rh-'],\n",
       " ['B', 'Rh+'],\n",
       " ['B', 'Rh+'],\n",
       " ['B', 'Rh-'],\n",
       " ['O', 'Rh+'],\n",
       " ['O', 'Rh+'],\n",
       " ['O', 'Rh-']]"
      ]
     },
     "execution_count": 25,
     "metadata": {},
     "output_type": "execute_result"
    }
   ],
   "source": [
    "# Write your code here\n",
    "\n",
    "\n"
   ]
  },
  {
   "cell_type": "markdown",
   "metadata": {},
   "source": [
    "iii) Write a function called `progeny_genotypes` that accepts two parent genotype in the form of a list of list of pairs of alleles  and returns all the possible offspring genotypes (see below for an example). You can use similar logic to part ii) of this question, except you will be iterating over the ABO alleles and rhesus factor alleles of both parents instead of `abo` and `rhesus`. Do not delete duplicates, as we will use the probability of offspring genotypes occuring later on.\n",
    "```python\n",
    "example_parent_1 = [['A','B']]\n",
    "example_parent_2 = [['A','B']]\n",
    "progeny_genotypes(example_parent_1, example_parent_2)\n",
    "```\n",
    "The above should return the following list:\n",
    "```python\n",
    "[['A', 'A'], ['A', 'B'], ['B', 'A'], ['b', 'B']]\n",
    "```"
   ]
  },
  {
   "cell_type": "markdown",
   "metadata": {},
   "source": [
    "iv) Use the random module to simulate the phenoptypes new population of 10 individuals. The step we will use are the following:\n",
    "\n",
    "1. Select two parents randomly from the new list `bloodtypes`. You can do that using the following code snippet:\n",
    "\n",
    "```python\n",
    "    random.choices(bloodtypes, k=2)\n",
    "```\n",
    "The call above may return the list `[['A', 'B'], ['A', 'O']]`, indicating the the genotypes of the parents `['A', 'B']` and `['A', 'O']`.\n",
    "\n",
    "Recall that you need to first import the `random` library before using the snipper of code above.\n",
    "\n",
    "2. using the `progeny_genotypes` to return all possible progeny genotypes. Select only one of those possible genotype; i.e., we are only simulating one person in the population. \n",
    "\n",
    "3. Use the `geno_to_pheno_dict` to convert the selected genotype into its associate phenotype.  Store the value in a list of phenotypes called `pop_phenotypes`.\n",
    "\n",
    "4. Repeat the above 10 times, to emulate a new population of 10 individuals. "
   ]
  },
  {
   "cell_type": "code",
   "execution_count": 10,
   "metadata": {},
   "outputs": [
    {
     "data": {
      "text/plain": [
       "Counter({('A', 'Rh+'): 4,\n",
       "         ('A', 'Rh-'): 2,\n",
       "         ('AB', 'Rh+'): 2,\n",
       "         ('AB', 'Rh-'): 1,\n",
       "         ('B', 'Rh+'): 4,\n",
       "         ('B', 'Rh-'): 2,\n",
       "         ('O', 'Rh+'): 2,\n",
       "         ('O', 'Rh-'): 1})"
      ]
     },
     "execution_count": 10,
     "metadata": {},
     "output_type": "execute_result"
    }
   ],
   "source": [
    "# Write your code here\n",
    "\n"
   ]
  },
  {
   "cell_type": "code",
   "execution_count": null,
   "metadata": {},
   "outputs": [],
   "source": [
    "# Write your code here\n",
    "\n"
   ]
  },
  {
   "cell_type": "markdown",
   "metadata": {
    "colab": {},
    "colab_type": "code",
    "id": "S2t0doyzD4ZX"
   },
   "source": [
    "### Exercise 2\n",
    "---\n",
    "\n",
    "Every 2 seconds, someone in the US is in need of blood, but not all blood types are compatible with each other. Therefore it is important to check if a donor's blood is compatible with the person who needs a blood transfusion. There are different components of blood that can be donated, but for we will only focus on red blood cell donations. The table bellow summarizes compatible donors and recipients.\n",
    "\n",
    "\n",
    "| Donor | Recepients |\n",
    "|-----------------|-------------------|\n",
    "| A+| A+, AB+|\n",
    "|A-| A+, A-, AB+, AB-|\n",
    "|B+| B+, AB+|\n",
    "|B-| B+, B-, AB+, AB-|\n",
    "|AB+|AB+|\n",
    "|AB-|AB+, AB-|\n",
    "|O+|A+, B+, AB+, O+|\n",
    "|O-|A+, A-, B+, B-, AB+, AB-, O+, O-|\n",
    "\n",
    "i) Write a function called `compatibe_donors` which takes `recipients` genetype and returns the list of compatible donors. For example:\n",
    "```python\n",
    "compatibe_donors(\" A-\")\n",
    "```\n",
    "should return `[\"A-\", \"O-\"]`"
   ]
  },
  {
   "cell_type": "code",
   "execution_count": 26,
   "metadata": {
    "colab": {
     "base_uri": "https://localhost:8080/",
     "height": 34
    },
    "colab_type": "code",
    "executionInfo": {
     "elapsed": 383,
     "status": "ok",
     "timestamp": 1549062664393,
     "user": {
      "displayName": "Jaclyn Lee",
      "photoUrl": "",
      "userId": "17525286701482268466"
     },
     "user_tz": 600
    },
    "id": "zdo4m9kLCovM",
    "outputId": "2f464d49-bee5-4982-9667-7b8da96815c2"
   },
   "outputs": [],
   "source": []
  }
 ],
 "metadata": {
  "colab": {
   "collapsed_sections": [],
   "name": "9 Intro to Python: Practicals.ipynb",
   "provenance": [],
   "version": "0.3.2"
  },
  "kernelspec": {
   "display_name": "Python 3",
   "language": "python",
   "name": "python3"
  },
  "language_info": {
   "codemirror_mode": {
    "name": "ipython",
    "version": 3
   },
   "file_extension": ".py",
   "mimetype": "text/x-python",
   "name": "python",
   "nbconvert_exporter": "python",
   "pygments_lexer": "ipython3",
   "version": "3.7.3"
  }
 },
 "nbformat": 4,
 "nbformat_minor": 1
}
