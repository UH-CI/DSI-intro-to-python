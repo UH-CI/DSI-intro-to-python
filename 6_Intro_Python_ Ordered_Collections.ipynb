{
 "cells": [
  {
   "cell_type": "markdown",
   "metadata": {
    "colab_type": "text",
    "id": "6_31BtgNYPQE"
   },
   "source": [
    "# Ordered Collections\n",
    "---\n",
    "In data science, it is common to encounter data that has thousands or even millions of values, such as the ages of registered voters or past avocado prices in California. *Collections* are variables that can store many values in one place. *Ordered collections* store items in a given order, and the items within these collections are identified by their position in the collection. There are two types of ordered collections: *lists* and *tuples*. This chapter will explore how to work with lists and tuples as well as how to iterate through ordered collections. "
   ]
  },
  {
   "cell_type": "markdown",
   "metadata": {
    "colab_type": "text",
    "id": "vAPVbApxbdz3"
   },
   "source": [
    "## Lists\n",
    "---\n",
    "Lists allow one to store multiple pieces of information in one variable. For example, a list could include the five most popular dog names in New York City, the ages of kids in a kindergarten class or the record high temperatures of multiple cities across the world. Lists can contain variables of any type, including strings, numbers and other lists (more on that in following chapters). This section will explain how to create a list, index values within a list and manipulate its elements. \n"
   ]
  },
  {
   "cell_type": "markdown",
   "metadata": {
    "colab_type": "text",
    "id": "vbRQvW2o7GXX"
   },
   "source": [
    "#### Creating a list\n",
    "---\n",
    "In Python, lists are created using square brackets `[]`, and individual elements in a list are separated by commas. Similar to scalars, the entire list is assigned to a descriptive variable name.\n",
    "\n",
    "List can contain elements of different data types.  \n",
    "\n",
    "```\n",
    "mixed_data_types_list = ['one', 'five', 3, 'fourteen']\n",
    "\n",
    "integer_list = [1, 2, 3, 4, 5]\n",
    "```\n"
   ]
  },
  {
   "cell_type": "markdown",
   "metadata": {
    "colab_type": "text",
    "id": "fOIRbu1nM1hM"
   },
   "source": [
    "#### Example 1\n",
    "\n",
    "Python strings support Unicode, which is a system that encodes characters with numbers. This means that Python strings can support emojis like a thumbs up or smiley faces. Let's create a list that contain the emojis for the suits in a deck of cards."
   ]
  },
  {
   "cell_type": "code",
   "execution_count": 0,
   "metadata": {
    "colab": {
     "base_uri": "https://localhost:8080/",
     "height": 34
    },
    "colab_type": "code",
    "executionInfo": {
     "elapsed": 536,
     "status": "ok",
     "timestamp": 1539725245664,
     "user": {
      "displayName": "Jaclyn Lee",
      "photoUrl": "",
      "userId": "17525286701482268466"
     },
     "user_tz": 600
    },
    "id": "zPGIXu-bOsl7",
    "outputId": "01d71b12-dd31-4e40-ef88-32100dceda9a"
   },
   "outputs": [
    {
     "data": {
      "text/plain": [
       "['♤', '♡', '♢', '♧']"
      ]
     },
     "execution_count": 1,
     "metadata": {
      "tags": []
     },
     "output_type": "execute_result"
    }
   ],
   "source": [
    "suits = [\"♤\", \"♡\", \"♢\", \"♧\"]\n",
    "suits"
   ]
  },
  {
   "cell_type": "markdown",
   "metadata": {
    "colab_type": "text",
    "id": "xTo_6Ecd4tIg"
   },
   "source": [
    "#### Potential Quiz Question\n",
    "\n",
    "True or False: Python lists must contain only one data type."
   ]
  },
  {
   "cell_type": "markdown",
   "metadata": {
    "colab_type": "text",
    "id": "Ed9Iiz97rsla"
   },
   "source": [
    "### Indexing Elements in a List\n",
    "---\n",
    "\n",
    "#### Indexing Single Elements in a List\n",
    "\n",
    "After creating a list, it is useful to be able to refer to specific elements within the list. An element in a list can be referred to using its numbered position, which is called an index. In Python, indices are integer numbers that range **from 0 to one less than the total number of elements** in a list. For example, in our `suits` list, `\"♤\"` has an index of 0, `\"♡\"` has an index of 1, `\"♢\"` has an index of 2, and `\"♧\"` has an index of 3.\n",
    "\n",
    "Elements can also be indexed using their position relative to the end of a list by using negative numbers. The last element in a list has in index of -1 and the second to the last element in a list has an index of -2 and so on.\n",
    "\n",
    "![single_indexing_suits](images/ordered_collections/single_indexing_suits.JPG)\n",
    "\n",
    "Now that we know how to determine the indices of elements in a list, we can access elements by typing the list name followed by square brackets containing the target index. \n",
    "```\n",
    "list_name[index]\n",
    "```\n",
    "This will return the specified element to the line it was called, allowing you to perform various operations on it like saving it to another variable or printing it.\n",
    "\n",
    "\n",
    "\n"
   ]
  },
  {
   "cell_type": "markdown",
   "metadata": {
    "colab_type": "text",
    "id": "62Y0CHcqWOvP"
   },
   "source": [
    "#### Example 2\n",
    "\n",
    "Let's practice referring to elements in our `suits` list by directly printing the elements in `suits`."
   ]
  },
  {
   "cell_type": "code",
   "execution_count": 2,
   "metadata": {
    "colab": {
     "base_uri": "https://localhost:8080/",
     "height": 87
    },
    "colab_type": "code",
    "executionInfo": {
     "elapsed": 421,
     "status": "ok",
     "timestamp": 1538781579985,
     "user": {
      "displayName": "Jaclyn Lee",
      "photoUrl": "",
      "userId": "17525286701482268466"
     },
     "user_tz": 600
    },
    "id": "UYwX1FdCa8KP",
    "outputId": "8f2ab198-8f82-4774-da73-88aead6cd84f"
   },
   "outputs": [
    {
     "name": "stdout",
     "output_type": "stream",
     "text": [
      "♤\n",
      "♡\n",
      "♢\n",
      "♧\n"
     ]
    }
   ],
   "source": [
    "suits = [\"♤\", \"♡\", \"♢\", \"♧\"]\n",
    "\n",
    "print(suits[0])\n",
    "print(suits[1])\n",
    "print(suits[2])\n",
    "print(suits[3])"
   ]
  },
  {
   "cell_type": "markdown",
   "metadata": {
    "colab_type": "text",
    "id": "5COx6HWqX5SC"
   },
   "source": [
    "Now lets print the elements in `suits` again, but by assigning them to their own variables. This time we will use the negative indices."
   ]
  },
  {
   "cell_type": "code",
   "execution_count": 0,
   "metadata": {
    "colab": {
     "base_uri": "https://localhost:8080/",
     "height": 87
    },
    "colab_type": "code",
    "executionInfo": {
     "elapsed": 407,
     "status": "ok",
     "timestamp": 1538779751993,
     "user": {
      "displayName": "Jaclyn Lee",
      "photoUrl": "",
      "userId": "17525286701482268466"
     },
     "user_tz": 600
    },
    "id": "HO_DXr1TW4WZ",
    "outputId": "bc8f704a-c71b-4790-c3a2-2541eed41983"
   },
   "outputs": [
    {
     "name": "stdout",
     "output_type": "stream",
     "text": [
      "♤\n",
      "♡\n",
      "♢\n",
      "♧\n"
     ]
    }
   ],
   "source": [
    "spade = suits[-4]\n",
    "print(spade)\n",
    "\n",
    "heart = suits[-3] \n",
    "print(heart)\n",
    "\n",
    "diamond = suits[-2]\n",
    "print(diamond)\n",
    "\n",
    "club = suits[-1] \n",
    "print(club)\n"
   ]
  },
  {
   "cell_type": "markdown",
   "metadata": {},
   "source": [
    "If we try to use an index outside of the list range, Python will return an error. See below for an example of this."
   ]
  },
  {
   "cell_type": "code",
   "execution_count": 3,
   "metadata": {},
   "outputs": [
    {
     "ename": "IndexError",
     "evalue": "list index out of range",
     "output_type": "error",
     "traceback": [
      "\u001b[0;31m---------------------------------------------------------------------------\u001b[0m",
      "\u001b[0;31mIndexError\u001b[0m                                Traceback (most recent call last)",
      "\u001b[0;32m<ipython-input-3-ab9c86b59190>\u001b[0m in \u001b[0;36m<module>\u001b[0;34m\u001b[0m\n\u001b[0;32m----> 1\u001b[0;31m \u001b[0msuits\u001b[0m\u001b[0;34m[\u001b[0m\u001b[0;36m100\u001b[0m\u001b[0;34m]\u001b[0m\u001b[0;34m\u001b[0m\u001b[0m\n\u001b[0m",
      "\u001b[0;31mIndexError\u001b[0m: list index out of range"
     ]
    }
   ],
   "source": [
    "suits[100]"
   ]
  },
  {
   "cell_type": "markdown",
   "metadata": {
    "colab_type": "text",
    "id": "SYp7mscA5wf0"
   },
   "source": [
    "#### Potential Quiz Question \n",
    "\n",
    "True or False: There are at least two ways to refer to an element in a list."
   ]
  },
  {
   "cell_type": "markdown",
   "metadata": {
    "colab_type": "text",
    "id": "YqfrsSFR7FwA"
   },
   "source": [
    "#### Potential Quiz Question\n",
    "\n",
    "What are the two ways you can refer to the second element in the following list:\n",
    "```\n",
    "card_suits = ['spade', 'heart', 'diamond', 'club']\n",
    "```\n",
    "\n",
    "A.  `card_suits[2]` and `card_suits[-3]`\n",
    "\n",
    "B. `card_suits[1]` and `card_suits[-3]`\n",
    "\n",
    "C. `card_suits[1]` and `card_suits[-2]`\n",
    "\n",
    "D. `card_suits[2]` and `card_suits[-2]`\n",
    "\n",
    "\n"
   ]
  },
  {
   "cell_type": "markdown",
   "metadata": {
    "colab_type": "text",
    "id": "4nke8SybdLFF"
   },
   "source": [
    "#### Indexing a Range of Values in a List\n",
    "If you want to index more than one value in a list, you can do so by *slicing*. Slicing calls multiple values in a list by using a range of indices separated by a colon `[x:y]`.\n",
    "\n",
    "To specify a range of indices, type the first index followed by a colon, and then type last index. Python will start the slice with the first index you type but will stop at the item **right before** the second index. Therefore, the item with the second index will not be included in the slice.\n",
    "\n",
    "```\n",
    "copy_list_name = original_list_name[first_index : limit_last_index]\n",
    "```\n",
    "For example, if we wanted to index the first three values in the `suits` list, we could use:\n",
    "`suits[0:3]`\n",
    "\n",
    "\n",
    "As a convenience, Python provides shortcuts for indexing a range of values. Specifically, Python allows you to omit the first, the second or even both indices. For instance, if the first index is omitted, Python will replace the missing index with the value of 0 and copies that list from the beginning up until the last index specified. \n",
    "\n",
    "\n",
    "```\n",
    "copy_list_name = original_list_name[: limit_last_index]\n",
    "```\n",
    "\n",
    "Similarly, if the last index is left blank, Python will copy the list starting from the first index specified all the way until the last element. \n",
    "```\n",
    "copy_list_name = original_list_name[first_index:]\n",
    "```\n",
    "If only a single colon is typed inside of the square brackets, Python will copy the entire list. \n",
    "\n",
    "```\n",
    "copy_list_name = original_list_name[:]\n",
    "\n",
    "```\n",
    "\n",
    "\n",
    "If you want to copy an entire list, you could also use the `.copy()` method on the list name.\n",
    "\n",
    "```\n",
    "copy_list_name = original_list_name.copy()\n",
    "```\n",
    "\n",
    "These shortcuts are very useful for simplifying slicing syntax and are commonly used in Python code. \n",
    "\n",
    "Let's look at some examples of slicing using the `suits` list."
   ]
  },
  {
   "cell_type": "markdown",
   "metadata": {
    "colab_type": "text",
    "id": "gQhoRP9Bh57S"
   },
   "source": [
    "#### Example 3\n",
    "\n",
    "Using the `suits` list, we will demonstrate the different ways you can reference a range of values in `suits`. First we will slice the first three values in `suits` followed by the last two values. Lastly, we will show you four different ways you can slice the entire list."
   ]
  },
  {
   "cell_type": "code",
   "execution_count": 0,
   "metadata": {
    "colab": {
     "base_uri": "https://localhost:8080/",
     "height": 212
    },
    "colab_type": "code",
    "executionInfo": {
     "elapsed": 457,
     "status": "ok",
     "timestamp": 1548791017301,
     "user": {
      "displayName": "Jaclyn Lee",
      "photoUrl": "",
      "userId": "17525286701482268466"
     },
     "user_tz": 600
    },
    "id": "o8rvheyXj4Z7",
    "outputId": "c5fc1637-c7f0-446b-c2b2-e1a469a4261f"
   },
   "outputs": [
    {
     "name": "stdout",
     "output_type": "stream",
     "text": [
      "Printing the first three elements:\n",
      "['♤', '♡', '♢']\n",
      "['♤', '♡', '♢']\n",
      "Printing the last two elements:\n",
      "['♢', '♧']\n",
      "['♢', '♧']\n",
      "Referring to the entire suits list:\n",
      "['♤', '♡', '♢', '♧']\n",
      "['♤', '♡', '♢', '♧']\n",
      "['♤', '♡', '♢', '♧']\n",
      "['♤', '♡', '♢', '♧']\n"
     ]
    }
   ],
   "source": [
    "suits = [\"♤\", \"♡\", \"♢\", \"♧\"]\n",
    "\n",
    "print('Printing the first three elements:')\n",
    "print(suits[0:3])\n",
    "print(suits[:3])\n",
    "\n",
    "print('Printing the last two elements:')\n",
    "print(suits[2:4])\n",
    "print(suits[2:])\n",
    "\n",
    "print('Referring to the entire suits list:')\n",
    "print(suits[0:4])\n",
    "print(suits[:4])\n",
    "print(suits[0:])\n",
    "print(suits[:])"
   ]
  },
  {
   "cell_type": "markdown",
   "metadata": {
    "colab_type": "text",
    "id": "Bq8K3WZXk6-8"
   },
   "source": [
    "As you can see, there are multiple ways you can slice a list and achieve the same result. However, using the shortcuts will save you some effort when writing your code."
   ]
  },
  {
   "cell_type": "markdown",
   "metadata": {
    "colab_type": "text",
    "id": "FuAFIAqy9Cwg"
   },
   "source": [
    "#### Potential Quiz Question \n",
    "\n",
    "The following list shows monthly inflation rates from January 2018 to November 2018. How do you slice the first six months of data from this list?\n",
    "```\n",
    "monthly_inflation = [2.04, 2.10, 2.09, 2.13, 2.14, 2.12, 2.12, 2.10, 2.12, 2.11, 2.01]\n",
    "```\n",
    "\n",
    "A. `monthly_inflation[0:6]`\n",
    "\n",
    "B. `monthly_inflation[:6]`\n",
    "\n",
    "C. `monthly_inflation[:-6]`\n",
    "\n",
    "D. `monthly_inflation[1:6]`\n",
    "\n",
    "Data: https://fred.stlouisfed.org/series/T10YIEM\n"
   ]
  },
  {
   "cell_type": "markdown",
   "metadata": {
    "colab_type": "text",
    "id": "OLAkdUkwDAiI"
   },
   "source": [
    "#### Potential Quiz Question\n",
    "\n",
    "Type one of the ways you can copy the entire `monthly_inflation`:"
   ]
  },
  {
   "cell_type": "markdown",
   "metadata": {
    "colab_type": "text",
    "id": "ZZQHzjXCsFLf"
   },
   "source": [
    "### Manipulating Elements\n",
    "---\n",
    "When working with data, observations may change, new values might need to be added, and existing values might need to be amended or sorted. Most data is dynamic; the most popular emojis may change following a new iOS release, new kids might be entering or dropping out from a kindergarten class, the average weekly price of avocados might have skyrocketed following an avocado toast craze. Thankfully, lists are mutable collections, and can be modified after they are created. Existing elements in a list can be changed to hold a new value and Python has built in methods to adding and removing existing elements.\n",
    "\n",
    "\n"
   ]
  },
  {
   "cell_type": "markdown",
   "metadata": {
    "colab_type": "text",
    "id": "urHwzQAUdpGs"
   },
   "source": [
    "#### Changing Elements\n",
    "\n",
    "\n",
    "Changing an existing element in a list can be performed by using the assignment operator, `=`, to assign a new value to an index in the list.\n",
    "```\n",
    "list_name[index] = new value\n",
    "```"
   ]
  },
  {
   "cell_type": "markdown",
   "metadata": {
    "colab_type": "text",
    "id": "IEqtMEKQuBYq"
   },
   "source": [
    "#### Example 4\n",
    "\n",
    "According to Apple, the most used emojis in 2017 in the US are: 😂, ❤, 😭, 😍, 😘, and 🙄. Since the most used emojis can change depending on how much people use it, any of these emojis can be replaced by a new trending emoji in the future. Let's say that the smiling face with smiling eyes emoji 😊 becomes more popular than the rolling eyes emoji 🙄 and we want to change the value of the last element in our list to 😊."
   ]
  },
  {
   "cell_type": "code",
   "execution_count": 0,
   "metadata": {
    "colab": {
     "base_uri": "https://localhost:8080/",
     "height": 34
    },
    "colab_type": "code",
    "executionInfo": {
     "elapsed": 478,
     "status": "ok",
     "timestamp": 1539223003161,
     "user": {
      "displayName": "Jaclyn Lee",
      "photoUrl": "",
      "userId": "17525286701482268466"
     },
     "user_tz": 600
    },
    "id": "Qt7QSE0kwEyu",
    "outputId": "7d066e84-16f9-401b-eb48-59ef02aa1e8e"
   },
   "outputs": [
    {
     "data": {
      "text/plain": [
       "'😊'"
      ]
     },
     "execution_count": 1,
     "metadata": {
      "tags": []
     },
     "output_type": "execute_result"
    }
   ],
   "source": [
    "emojis_2017 = ['😂', '❤', '😭', '😍', '😘', '🙄']\n",
    "\n",
    "emojis_2017[-1] = '😊' \n",
    "\n",
    "emojis_2017[-1] "
   ]
  },
  {
   "cell_type": "markdown",
   "metadata": {
    "colab_type": "text",
    "id": "cUAeP6hxBRCe"
   },
   "source": [
    "#### Adding Elements\n",
    "\n",
    "Below are two methods to add new elements to a list.\n",
    "\n",
    "\n",
    "The method `append()` takes a new element as a parameter and appends it to the end of the list. \n",
    "\n",
    "\n",
    "```\n",
    "list_name.append(new element)\n",
    "```\n",
    "\n",
    "\n",
    "\n",
    "The `insert()` method adds an element to the list at a specific index, and takes the index, of the new element as the first parameter and the the new element as the second parameter. \n",
    "\n",
    "\n",
    "\n",
    "```\n",
    "list_name.insert(index, new element)\n",
    "```\n",
    "\n"
   ]
  },
  {
   "cell_type": "markdown",
   "metadata": {
    "colab_type": "text",
    "id": "LcO3Fsp7FpDj"
   },
   "source": [
    "#### Example 5\n",
    "\n",
    "Let's use the `append()` and `insert()` methods to add other popular emojis to our `emojis_2017` list. We can use `append()` to add back 🙄 to the list and `insert()` to add 🤔 as the second element."
   ]
  },
  {
   "cell_type": "code",
   "execution_count": 0,
   "metadata": {
    "colab": {
     "base_uri": "https://localhost:8080/",
     "height": 34
    },
    "colab_type": "code",
    "executionInfo": {
     "elapsed": 421,
     "status": "ok",
     "timestamp": 1548791140371,
     "user": {
      "displayName": "Jaclyn Lee",
      "photoUrl": "",
      "userId": "17525286701482268466"
     },
     "user_tz": 600
    },
    "id": "yHWTDp-W37Pj",
    "outputId": "81117f72-789d-418f-be85-8326a556896a"
   },
   "outputs": [
    {
     "data": {
      "text/plain": [
       "['😂', '🤔', '❤', '😭', '😍', '😘', '😊', '🙄']"
      ]
     },
     "execution_count": 3,
     "metadata": {
      "tags": []
     },
     "output_type": "execute_result"
    }
   ],
   "source": [
    "emojis_2017 = ['😂', '❤', '😭', '😍', '😘', '😊']\n",
    "\n",
    "emojis_2017.append('🙄') \n",
    "emojis_2017.insert(1, '🤔')\n",
    "emojis_2017"
   ]
  },
  {
   "cell_type": "markdown",
   "metadata": {
    "colab_type": "text",
    "id": "vQvkLGrBHrq5"
   },
   "source": [
    "#### Removing Elements\n",
    "\n",
    "The `pop()` method will remove an element from a list and save it to store in a different variable. This method is useful when an item is no longer needed within the list but useful to save for future reference. The pop method takes the element's index as its parameter.\n",
    "```\n",
    "new_variable = list_name.pop(index)\n",
    "\n",
    "```\n"
   ]
  },
  {
   "cell_type": "markdown",
   "metadata": {
    "colab_type": "text",
    "id": "NX0KhHnHOHau"
   },
   "source": [
    "#### Example 6\n",
    "\n",
    "This example demonstrates how to remove elements using `pop()`. The 😊 emoji will be removed using `pop()` and saved into another variable called `smiley`."
   ]
  },
  {
   "cell_type": "code",
   "execution_count": 0,
   "metadata": {
    "colab": {
     "base_uri": "https://localhost:8080/",
     "height": 52
    },
    "colab_type": "code",
    "executionInfo": {
     "elapsed": 447,
     "status": "ok",
     "timestamp": 1539225527427,
     "user": {
      "displayName": "Jaclyn Lee",
      "photoUrl": "",
      "userId": "17525286701482268466"
     },
     "user_tz": 600
    },
    "id": "ZiEbqHJvPH55",
    "outputId": "cd6298f4-b98f-48fc-b171-f1ef15e59b88"
   },
   "outputs": [
    {
     "name": "stdout",
     "output_type": "stream",
     "text": [
      "['😂', '🤔', '❤', '😭', '😍', '😘', '🙄']\n"
     ]
    },
    {
     "data": {
      "text/plain": [
       "'😊'"
      ]
     },
     "execution_count": 7,
     "metadata": {
      "tags": []
     },
     "output_type": "execute_result"
    }
   ],
   "source": [
    "emojis_2017 = ['😂', '🤔', '❤', '😭', '😍', '😘', '😊', '🙄']\n",
    "smiley = emojis_2017.pop(-2)\n",
    "print(emojis_2017)\n",
    "smiley\n"
   ]
  },
  {
   "cell_type": "markdown",
   "metadata": {
    "colab_type": "text",
    "id": "j-5dqbf9CWwx"
   },
   "source": [
    "#### Potential Quiz Question\n",
    "\n",
    "```\n",
    "monthly_inflation = [2.04, 2.10, 2.09, 2.13, 2.14, 2.12, 2.12, 2.10, 2.12, 2.11, 2.01]\n",
    "```\n",
    "Returning to our `monthly_inflation` list, December 2018's inflation rate is projected to be 1.85%. Type how you would update the `monthly_inflation` list to include 1.85 at the end of the list:\n"
   ]
  },
  {
   "cell_type": "markdown",
   "metadata": {
    "colab_type": "text",
    "id": "EcxLQVRzFA0l"
   },
   "source": [
    "#### Potential Quiz Question\n",
    "\n",
    "Let's say you want the `monthly_inflation` list to only contain officially released inflation rates. How do you remove 1.85 and save it to another variable called `forecast`?\n",
    "```\n",
    "monthly_inflation = [2.04, 2.10, 2.09, 2.13, 2.14, 2.12, 2.12, 2.10, 2.12, 2.11, 2.01, 1.85]\n",
    "```\n",
    "\n",
    "A. `forecast = monthly_inflation.pop(11)`\n",
    "\n",
    "B. `forecast = monthly_inflation.pop(1.85)`\n",
    "\n",
    "C. `forecast = monthly_inflation.pop(-1)`\n"
   ]
  },
  {
   "cell_type": "markdown",
   "metadata": {
    "colab_type": "text",
    "id": "fkjtblrHbix0"
   },
   "source": [
    "## Tuples\n",
    "---\n",
    "\n",
    "The second type of ordered collections are *tuples*. Tuples are like lists, in that they can contain multiple elements in a specific order and those elements can be of any data type. However, tuples are different than lists because tuples are immutable. Tuples are beneficial when storing data that will not change, such as the dimensions of a house or the names of the past US presidents. Additionally, if working with collaborators, storing data in a tuple can let others know that the data should not be changed.\n",
    "\n",
    "\n",
    "![tuple_example](images/ordered_collections/tuple_example.JPG)\n",
    "\n"
   ]
  },
  {
   "cell_type": "markdown",
   "metadata": {
    "colab_type": "text",
    "id": "Evk4AMiEGirM"
   },
   "source": [
    "Tuples can be created using a set of parenthesis. Like all other variables, a variable name and the assignment operator, `=`, is needed to assign a tuple to a variable. \n",
    "\n",
    "```\n",
    "tuple_name = (element_1, element_2, ...)\n",
    "```"
   ]
  },
  {
   "cell_type": "markdown",
   "metadata": {
    "colab_type": "text",
    "id": "URnAZ3rrINP3"
   },
   "source": [
    "#### Example 7\n",
    "\n",
    "Let's create a simple tuple containing four random numbers. We will use the `random` module's `randint()` function to choose a random number between 1 and 10."
   ]
  },
  {
   "cell_type": "code",
   "execution_count": 0,
   "metadata": {
    "colab": {
     "base_uri": "https://localhost:8080/",
     "height": 34
    },
    "colab_type": "code",
    "executionInfo": {
     "elapsed": 440,
     "status": "ok",
     "timestamp": 1548791332554,
     "user": {
      "displayName": "Jaclyn Lee",
      "photoUrl": "",
      "userId": "17525286701482268466"
     },
     "user_tz": 600
    },
    "id": "sVcnBsYbIYW5",
    "outputId": "3651c165-429c-4237-f0e0-e2e6029dade7"
   },
   "outputs": [
    {
     "data": {
      "text/plain": [
       "(7, 9, 1, 6)"
      ]
     },
     "execution_count": 5,
     "metadata": {
      "tags": []
     },
     "output_type": "execute_result"
    }
   ],
   "source": [
    "import random\n",
    "random_tuple = (random.randint(1, 10), random.randint(1, 10), random.randint(1, 10), random.randint(1, 10))\n",
    "random_tuple"
   ]
  },
  {
   "cell_type": "markdown",
   "metadata": {
    "colab_type": "text",
    "id": "85-JAZvvKIJ6"
   },
   "source": [
    "### Indexing Elements in a Tuple\n",
    "---\n",
    "Because tuples are a type of ordered collection, elements in tuples are indexed in the same way that elements are indexed in lists. To index an element in a tuple, type the tuple name followed by square brackets containing the element's index.\n",
    "```\n",
    "tuple_name[index]\n",
    "```\n",
    "Multiple values can also be sliced from tuples, using the same methods we used for lists. However, the `copy()` does not work on tuples.\n",
    "```\n",
    "tuple_name[first_index : limit_last_index]\n",
    "```\n",
    "The value of an element in a tuple can be assigned to another variable. However, since tuples are immutable, individual elements in a tuple cannot be removed or changed."
   ]
  },
  {
   "cell_type": "markdown",
   "metadata": {
    "colab_type": "text",
    "id": "h102JhdZHkKi"
   },
   "source": [
    "#### Example 8\n",
    "\n",
    "Let's practice indexing elements in a tuple. We will index the first element, the last element and slice the first two elements in `random_tuple`."
   ]
  },
  {
   "cell_type": "code",
   "execution_count": 0,
   "metadata": {
    "colab": {
     "base_uri": "https://localhost:8080/",
     "height": 70
    },
    "colab_type": "code",
    "executionInfo": {
     "elapsed": 589,
     "status": "ok",
     "timestamp": 1548791356868,
     "user": {
      "displayName": "Jaclyn Lee",
      "photoUrl": "",
      "userId": "17525286701482268466"
     },
     "user_tz": 600
    },
    "id": "oTvCCUoZIotR",
    "outputId": "3f10aed4-cf23-4c5b-fb65-e66ce38c09d5"
   },
   "outputs": [
    {
     "name": "stdout",
     "output_type": "stream",
     "text": [
      "7\n",
      "6\n",
      "(7, 9)\n"
     ]
    }
   ],
   "source": [
    "print(random_tuple[0])\n",
    "print(random_tuple[-1])\n",
    "print(random_tuple[:2])\n"
   ]
  },
  {
   "cell_type": "markdown",
   "metadata": {
    "colab_type": "text",
    "id": "eh6uxFLON21g"
   },
   "source": [
    "In this respect, tuples are a lot like lists, since we can use the same method to index both lists and tuples. However, tuples are immutable, so we cannot do the same manipulations we did on lists with tuples. The example below demonstrates what happens when you try to manipulate a tuple."
   ]
  },
  {
   "cell_type": "markdown",
   "metadata": {
    "colab_type": "text",
    "id": "hLA9cRh7PC3E"
   },
   "source": [
    "#### Example 9\n",
    "\n",
    "Let's try to change the first value in our tuple to a new random number and see what happens."
   ]
  },
  {
   "cell_type": "code",
   "execution_count": 0,
   "metadata": {
    "colab": {
     "base_uri": "https://localhost:8080/",
     "height": 168
    },
    "colab_type": "code",
    "executionInfo": {
     "elapsed": 402,
     "status": "error",
     "timestamp": 1539380704786,
     "user": {
      "displayName": "Jaclyn Lee",
      "photoUrl": "",
      "userId": "17525286701482268466"
     },
     "user_tz": 600
    },
    "id": "VzClKpN_PM35",
    "outputId": "022f200f-592f-4835-86d3-28ac8fedbaa5"
   },
   "outputs": [
    {
     "ename": "TypeError",
     "evalue": "ignored",
     "output_type": "error",
     "traceback": [
      "\u001b[0;31m---------------------------------------------------------------------------\u001b[0m",
      "\u001b[0;31mTypeError\u001b[0m                                 Traceback (most recent call last)",
      "\u001b[0;32m<ipython-input-8-f14a2b42e2cd>\u001b[0m in \u001b[0;36m<module>\u001b[0;34m()\u001b[0m\n\u001b[0;32m----> 1\u001b[0;31m \u001b[0mrandom_tuple\u001b[0m\u001b[0;34m[\u001b[0m\u001b[0;36m0\u001b[0m\u001b[0;34m]\u001b[0m\u001b[0;34m=\u001b[0m\u001b[0mrandom\u001b[0m\u001b[0;34m.\u001b[0m\u001b[0mrandint\u001b[0m\u001b[0;34m(\u001b[0m\u001b[0;36m1\u001b[0m\u001b[0;34m,\u001b[0m\u001b[0;36m10\u001b[0m\u001b[0;34m)\u001b[0m \u001b[0;31m# attempting to change the first value in the tuple\u001b[0m\u001b[0;34m\u001b[0m\u001b[0m\n\u001b[0m",
      "\u001b[0;31mTypeError\u001b[0m: 'tuple' object does not support item assignment"
     ]
    }
   ],
   "source": [
    "random_tuple[0] = random.randint(1, 10)"
   ]
  },
  {
   "cell_type": "markdown",
   "metadata": {
    "colab_type": "text",
    "id": "i0YyKHDsHoby"
   },
   "source": [
    "The example above shows the result of attempting to change items in a tuple. Although elements in a tuple cannot be manipulated, a tuple can be changed by redefining the entire tuple. However, this manipulation is akin to recycling an existing variable name rather than manipulating the tuple."
   ]
  },
  {
   "cell_type": "markdown",
   "metadata": {
    "colab_type": "text",
    "id": "uOd1c5LBI0Cw"
   },
   "source": [
    "#### Example 10\n",
    "\n",
    "We can assign the value of `random_tuple` to a different set of random numbers."
   ]
  },
  {
   "cell_type": "code",
   "execution_count": 0,
   "metadata": {
    "colab": {
     "base_uri": "https://localhost:8080/",
     "height": 34
    },
    "colab_type": "code",
    "executionInfo": {
     "elapsed": 443,
     "status": "ok",
     "timestamp": 1548791445863,
     "user": {
      "displayName": "Jaclyn Lee",
      "photoUrl": "",
      "userId": "17525286701482268466"
     },
     "user_tz": 600
    },
    "id": "JGKlhFbAJLNq",
    "outputId": "2f5a2332-bfc7-49bc-e736-9fd328933196"
   },
   "outputs": [
    {
     "data": {
      "text/plain": [
       "(6, 3, 10, 3)"
      ]
     },
     "execution_count": 7,
     "metadata": {
      "tags": []
     },
     "output_type": "execute_result"
    }
   ],
   "source": [
    "random_tuple = (random.randint(1, 10), random.randint(1, 10), random.randint(1, 10), random.randint(1, 10))\n",
    "random_tuple"
   ]
  },
  {
   "cell_type": "markdown",
   "metadata": {
    "colab_type": "text",
    "id": "iEXwFftBSflt"
   },
   "source": [
    "As illustrated by the two examples above, tuples cannot be modified unless the tuple name is assigned to a different tuple."
   ]
  },
  {
   "cell_type": "markdown",
   "metadata": {
    "colab_type": "text",
    "id": "YzvmCT8hHOwO"
   },
   "source": [
    "#### Potential Quiz Question\n",
    "\n",
    "How do tuples differ from lists?\n",
    "\n",
    "A. A list is an ordered collection, while a tuple is an unordered collection.\n",
    "\n",
    "B. A list is mutable, while a tuple is not.\n",
    "\n",
    "C. A list can handle elements of different data types, while a tuple can only contain elements of the same data type."
   ]
  },
  {
   "cell_type": "markdown",
   "metadata": {
    "colab_type": "text",
    "id": "-_ZyayKnILDF"
   },
   "source": [
    "#### Potential Quiz Question\n",
    "\n",
    "How you would create a tuple called `doodle_dogs` that contains these three designer dog breeds:\n",
    "* labradoodle\n",
    "* goldendoodle\n",
    "* bernedoodle\n",
    " "
   ]
  },
  {
   "cell_type": "markdown",
   "metadata": {
    "colab_type": "text",
    "id": "MgSiqhHIIvKc"
   },
   "source": [
    "#### Potential Quiz Question\n",
    "\n",
    "True or False: You can refer to elements in a tuple the same way you do with a list."
   ]
  },
  {
   "cell_type": "markdown",
   "metadata": {
    "colab_type": "text",
    "id": "7yUmMDm4JKts"
   },
   "source": [
    "#### Potential Quiz Questions \n",
    "\n",
    "True or False: You can \"change\" a tuple by redefining its variable name."
   ]
  },
  {
   "cell_type": "markdown",
   "metadata": {
    "colab_type": "text",
    "id": "2dSVaFjdyi2i"
   },
   "source": [
    "### Changing Tuples to Lists and Lists to Tuples\n",
    "---\n",
    "\n",
    "Do we need this section?\n",
    "\n",
    "\n",
    "In some cases a tuple might be needed as a list, or a list as a tuple. "
   ]
  },
  {
   "cell_type": "code",
   "execution_count": 0,
   "metadata": {
    "colab": {},
    "colab_type": "code",
    "id": "dv9KuTaCy5GW"
   },
   "outputs": [],
   "source": [
    "list(avocado_varieties)\n",
    "tuple(avocado_varieties)"
   ]
  },
  {
   "cell_type": "markdown",
   "metadata": {
    "colab_type": "text",
    "id": "-SQSIARgbmgw"
   },
   "source": [
    "## For Loops\n",
    "---\n",
    "When working with an ordered collections that contains a large number of values, manually performing a mathematical operation or a string method to each item can be tedious and opens up room for error.\n",
    "\n",
    "A `for` loop repeats a piece of code for every element in a collection or iterator and thus can be used to perform operations like performing a mathematical operation to or printing each element in a collection.\n"
   ]
  },
  {
   "cell_type": "markdown",
   "metadata": {
    "colab_type": "text",
    "id": "fpXjdGSYSNdP"
   },
   "source": [
    "### Creating a for Loop\n",
    "---\n",
    "\n",
    "The following is the basic structure of a `for` loop:\n",
    "\n",
    "```\n",
    "for element in collection_name:\n",
    "    execute something\n",
    "```\n",
    "Like with `if-else` statements, Python uses indentation to know which liens of code are within the `for` loop. The indented lines of code after '`for element in collection_name:`' should be indented with one tab.\n",
    "\n",
    "\n",
    "\n",
    "`element` is a temporary variable used to hold each element in a collection or itterator as the `for` loop executes. Any name can be chosen for this temporary variable, but using singular and plural names can help identify whether a section of code is working with a single element from the list or the entire list. Additionally, these naming conventions can help one follow the action being done on each item within the `for` loop. \n",
    "\n",
    "![for_loop_flow](images/ordered_collections/for_loop_flow_chart.jpg)\n"
   ]
  },
  {
   "cell_type": "markdown",
   "metadata": {
    "colab_type": "text",
    "id": "4nlcfKiXb1LU"
   },
   "source": [
    "#### Example 11\n",
    "---\n",
    "\n",
    "This code loops through a list of broadway shows currently playing in NYC. The `for` loop takes the first element in the list, prints the temporary variable and \" is sold out today!\", then takes the next element, checks that the element exists, and loops through all elements until there are no more and the loop ends.\n",
    "\n",
    "![broadway_for_loop](images/ordered_collections/broadway_for_loop.JPG)\n",
    "\n",
    "\n",
    "**Or this could even be an animation to show how a for loop works, that would probably be more effective than a flow chart**\n"
   ]
  },
  {
   "cell_type": "code",
   "execution_count": 0,
   "metadata": {
    "colab": {},
    "colab_type": "code",
    "id": "rM01s3CTudS_"
   },
   "outputs": [],
   "source": [
    "broadway_shows = ['The Lion King', 'Rent', 'Wicked', 'Hamilton', 'Chicago', 'Aladdin', 'Frozen']\n",
    "\n",
    "\n",
    "for show in broadway_shows:\n",
    "    print(show + \" is sold out today!\")\n",
    "  "
   ]
  },
  {
   "cell_type": "markdown",
   "metadata": {
    "colab_type": "text",
    "id": "24by6pvZfCDA"
   },
   "source": [
    "#### Example 12\n",
    "\n",
    "Let's revisit our card suit example. We can write a for loop to randomly draw from the `suits` list multiple times. In this example, the `range()` function will be used to create the iterator and the `choice()` function in the random module will be used to randomly draw suits."
   ]
  },
  {
   "cell_type": "code",
   "execution_count": 0,
   "metadata": {
    "colab": {
     "base_uri": "https://localhost:8080/",
     "height": 123
    },
    "colab_type": "code",
    "executionInfo": {
     "elapsed": 440,
     "status": "ok",
     "timestamp": 1539302231973,
     "user": {
      "displayName": "Jaclyn Lee",
      "photoUrl": "",
      "userId": "17525286701482268466"
     },
     "user_tz": 600
    },
    "id": "tsDAvwhLcHQz",
    "outputId": "d82485e9-d48a-4425-ed30-ce5b020bd0df"
   },
   "outputs": [
    {
     "name": "stdout",
     "output_type": "stream",
     "text": [
      "This is draw 1:\n",
      "♡\n",
      "This is draw 2:\n",
      "♢\n",
      "This is draw 3:\n",
      "♧\n"
     ]
    }
   ],
   "source": [
    "suits = [\"♤\", \"♡\", \"♢\", \"♧\"]\n",
    "for i in range(3):\n",
    "  print(\"This is draw \" + str(i + 1) + \":\")\n",
    "  print(random.choice(suits))"
   ]
  },
  {
   "cell_type": "markdown",
   "metadata": {
    "colab_type": "text",
    "id": "AZkUTaLF5Yrk"
   },
   "source": [
    "To fully understand what happens when Python interprets a for loop, we can *unroll* a `for` loop by writing a block of code that does the same thing as a `for` loop. Let's rewrite the example above to achieve the same output without using a `for` loop.\n",
    "\n",
    "\n"
   ]
  },
  {
   "cell_type": "code",
   "execution_count": 0,
   "metadata": {
    "colab": {
     "base_uri": "https://localhost:8080/",
     "height": 123
    },
    "colab_type": "code",
    "executionInfo": {
     "elapsed": 447,
     "status": "ok",
     "timestamp": 1539299955315,
     "user": {
      "displayName": "Jaclyn Lee",
      "photoUrl": "",
      "userId": "17525286701482268466"
     },
     "user_tz": 600
    },
    "id": "EvxWZHU57U6E",
    "outputId": "68d78305-c0fc-4e65-9996-f5501f3cb9db"
   },
   "outputs": [
    {
     "name": "stdout",
     "output_type": "stream",
     "text": [
      "This is draw 1:\n",
      "♢\n",
      "This is draw 2:\n",
      "♡\n",
      "This is draw 3:\n",
      "♧\n"
     ]
    }
   ],
   "source": [
    "i = 0\n",
    "print(\"This is draw \" + str(i + 1) + \":\")\n",
    "print(random.choice(suits))\n",
    "\n",
    "i = 1\n",
    "print(\"This is draw \" + str(i + 1) + \":\")\n",
    "print(random.choice(suits))\n",
    "\n",
    "i = 2\n",
    "print(\"This is draw \" + str(i + 1) + \":\")\n",
    "print(random.choice(suits))"
   ]
  },
  {
   "cell_type": "markdown",
   "metadata": {
    "colab_type": "text",
    "id": "0FajzIfn8riL"
   },
   "source": [
    "As shown above, when the `for` loop is executed, Python assigns the first value in `range(3)` to a temporary variable called `i`.  Since Python indexes start at 0, `i` will first be assigned to 0. For the first iteration, the `for` loop will first print `\"This is draw \" + str(i + 1) + \":\"` which translates as `\"This is draw 1:\"` since `i = 0`. Next, Python will randomly choose a suit in `suits` and print the result. \n",
    "\n",
    "The second iteration begins with Python assigning the value of `i` to the second value in `range(3)`, which is 1. Python will then print `'This is draw 2:'` and proceed to print the randomly drawn suit.\n",
    "\n",
    "This process of reassigning the value of `i` to the different values in `range(3)` and printing the different draws and suits will repeat until the last item in `range(3)` is iterated through.\n"
   ]
  },
  {
   "cell_type": "markdown",
   "metadata": {
    "colab_type": "text",
    "id": "ggI2NoRAaeOx"
   },
   "source": [
    "\n",
    "#### For Loop Exercises\n",
    "----\n",
    "Practice making for loops in the following exercises below."
   ]
  },
  {
   "cell_type": "markdown",
   "metadata": {
    "colab_type": "text",
    "id": "wt-ZOqCDNCId"
   },
   "source": [
    "#### Possible Quiz Question\n",
    "\n",
    "`visitor_expenditures_2016` is a list containing quarterly Hawaii visitor expenditures in the millions. How you would \"unroll\" the `for` loop  in the code below:\n",
    "\n",
    "```\n",
    "visitor_expenditures_2016 = [3744.7, 3958.4, 3990.4, 4059.9]\n",
    "for quarter in visitor_expenditures_2016:\n",
    "  print(quarter * 1000000)\n",
    "\n",
    "```\n",
    "\n",
    "Data Source: https://data.uhero.hawaii.edu/#/series?id=154495&sa=true&seriesCat=36"
   ]
  },
  {
   "cell_type": "code",
   "execution_count": 0,
   "metadata": {
    "colab": {},
    "colab_type": "code",
    "id": "dr3Q_5ZSLokx"
   },
   "outputs": [],
   "source": []
  },
  {
   "cell_type": "markdown",
   "metadata": {
    "colab_type": "text",
    "id": "34fFgVTSLo15"
   },
   "source": [
    "#### Possible Quiz Question\n",
    "Using the `visitor_expenditures_2016` list, write a `for` loop that creates another list with visitor expenditures in Jordanian dinars. Assume the exchange rate is 1 dinar to 1.51 US dollars.\n",
    "\n",
    "Hint: \n",
    "Remember that the values in `visitor_expenditures_2016` are in millions of US dollars.\n",
    "\n",
    "Current Exchange Rates: https://www.wellsfargo.com/foreign-exchange/currency-rates/"
   ]
  },
  {
   "cell_type": "code",
   "execution_count": 0,
   "metadata": {
    "colab": {},
    "colab_type": "code",
    "id": "iD20hQm590CR"
   },
   "outputs": [],
   "source": [
    "visitor_expenditures_2016 = [3744.7, 3958.4, 3990.4, 4059.9]"
   ]
  },
  {
   "cell_type": "markdown",
   "metadata": {
    "colab_type": "text",
    "id": "rP5ljClFbtoT"
   },
   "source": [
    "## Summary\n",
    "---\n",
    "This chapter covered:\n",
    "* Creating lists and tuples.\n",
    "* Referring to and manipulating elements in a list or tuple.\n",
    "* How to loop through lists and tuples using for loops, and how to manipulate elements as you loop through them.\n",
    "\n",
    "The next section will introduce dictionaries, which is a type of unordered collection  and advance data structures."
   ]
  },
  {
   "cell_type": "code",
   "execution_count": 0,
   "metadata": {
    "colab": {},
    "colab_type": "code",
    "id": "3x0FKRa8R_Tf"
   },
   "outputs": [],
   "source": []
  }
 ],
 "metadata": {
  "colab": {
   "collapsed_sections": [],
   "name": "6 Intro to Python: Ordered Collections.ipynb",
   "provenance": [],
   "version": "0.3.2"
  },
  "kernelspec": {
   "display_name": "Python 3",
   "language": "python",
   "name": "python3"
  },
  "language_info": {
   "codemirror_mode": {
    "name": "ipython",
    "version": 3
   },
   "file_extension": ".py",
   "mimetype": "text/x-python",
   "name": "python",
   "nbconvert_exporter": "python",
   "pygments_lexer": "ipython3",
   "version": "3.6.6"
  }
 },
 "nbformat": 4,
 "nbformat_minor": 1
}
