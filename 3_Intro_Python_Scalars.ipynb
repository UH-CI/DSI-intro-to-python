{
 "cells": [
  {
   "cell_type": "code",
   "execution_count": 1,
   "metadata": {},
   "outputs": [
    {
     "data": {
      "text/html": [
       "\n",
       "\t<script>\n",
       "\t\t(() => {\n",
       "\t\t\tlet script = document.createElement(\"script\");\n",
       "\t\t\tscript.src = \"nxbook/jupyter/initialize.js\";\n",
       "\t\t\tdocument.head.appendChild(script);\n",
       "\t\t})();\n",
       "\t</script>\n",
       "\t"
      ],
      "text/plain": [
       "<IPython.core.display.HTML object>"
      ]
     },
     "metadata": {},
     "output_type": "display_data"
    }
   ],
   "source": [
    "from NxBook.jupyter.initialize import *\n",
    "initialize_nxbook()"
   ]
  },
  {
   "cell_type": "code",
   "execution_count": null,
   "metadata": {},
   "outputs": [],
   "source": [
    "email = ''\n",
    "auth_token = get_auth_token(email)"
   ]
  },
  {
   "cell_type": "markdown",
   "metadata": {
    "colab_type": "text",
    "id": "agpkDaGtMVFH"
   },
   "source": [
    "\n",
    "# Scalars\n",
    "---\n",
    "\n",
    "In the previous chapter, you learned about simple statements in Python, including how to assign values to variables. This section will further explore variables, by discussing the different data types that they can contain and operations you can perform on them. \n",
    "\n",
    "In Python, variables that contain a single value are referred to as scalars. Scalar variables can contain numeric values, strings (text), or Booleans (`True` or `False`).\n",
    " "
   ]
  },
  {
   "cell_type": "markdown",
   "metadata": {
    "colab_type": "text",
    "id": "6ZVScK27yrEw"
   },
   "source": [
    "## Numeric Scalars\n",
    "---\n",
    "\n",
    "The previous section dealt with numeric data types. Numeric scalars are good for storing quantitative information that consists of single values. The two types of numeric scalars that we will cover are integers and floats.  "
   ]
  },
  {
   "cell_type": "markdown",
   "metadata": {
    "colab_type": "text",
    "id": "u57nVX1bMPnY"
   },
   "source": [
    "### Integers\n",
    "---\n",
    "\n",
    "*Integers* are positive or negative whole numbers that do not have a decimal point. \n",
    "\n",
    "\n",
    "<img src=\"images/scalars/integers.png\" alt=\"drawing\" style=\"width:450px;\"/>\n",
    "\n",
    "\n",
    "\n"
   ]
  },
  {
   "cell_type": "markdown",
   "metadata": {
    "colab_type": "text",
    "id": "2JdCY2SitSBE"
   },
   "source": [
    "#### Example 1\n",
    "\n",
    "The age of a victim of a shark encounter in New Zealand is best represented using an integer. We can store the victim's age in a variable called `nz_victim_age`."
   ]
  },
  {
   "cell_type": "code",
   "execution_count": null,
   "metadata": {
    "colab": {
     "base_uri": "https://localhost:8080/",
     "height": 34
    },
    "colab_type": "code",
    "executionInfo": {
     "elapsed": 397,
     "status": "ok",
     "timestamp": 1538713082325,
     "user": {
      "displayName": "Charlotte Smith",
      "photoUrl": "",
      "userId": "05194161354170586023"
     },
     "user_tz": 600
    },
    "id": "qBhrM4h-MPnZ",
    "outputId": "69e0be5e-4423-4639-89c0-4f1463d31236"
   },
   "outputs": [
    {
     "name": "stdout",
     "output_type": "stream",
     "text": [
      "39\n"
     ]
    }
   ],
   "source": [
    "nz_victim_age = 39\n",
    "print(nz_victim_age)"
   ]
  },
  {
   "cell_type": "markdown",
   "metadata": {
    "colab_type": "text",
    "id": "-8xOt6iYMPng"
   },
   "source": [
    "### Floats\n",
    "---\n",
    "\n",
    "The previous chapter also had an example of a numeric variable that wasn't a whole number. Numeric values that contain decimal points are called *floats*.\n",
    "\n",
    "<img src=\"images/scalars/floats.png\" alt=\"drawing\" style=\"width:450px;\"/>\n",
    "\n",
    "The following are all examples of floats:\n",
    "\n",
    "\n",
    "* 0.000009678\n",
    "* 2.0\n",
    "* 121313.5\n",
    "* 33.45\n",
    "\n"
   ]
  },
  {
   "cell_type": "markdown",
   "metadata": {
    "colab_type": "text",
    "id": "1bjA3dvfrnkY"
   },
   "source": [
    "#### Example 2 \n",
    "\n",
    "In this example, we assign a float to a variable. In\n",
    "this case, the variable, `aus_shark_size` contains a shark's length in meters (this is an Aussie shark ...  they use the metric system, Mate!). \n",
    "\n",
    "<img src=\"images/scalars/aus_shark_size.png\" alt=\"drawing\" style=\"width:450px;\"/>"
   ]
  },
  {
   "cell_type": "code",
   "execution_count": null,
   "metadata": {
    "colab": {},
    "colab_type": "code",
    "id": "D-OBLx9PrwYm"
   },
   "outputs": [],
   "source": [
    "aus_shark_size = 3.5"
   ]
  },
  {
   "cell_type": "markdown",
   "metadata": {
    "colab_type": "text",
    "id": "oyxvt1_uyY4n"
   },
   "source": [
    "#### Numeric Scalar Quizzes\n",
    "---\n",
    "Practice assigning numeric scalars to variables by completing the quizes below."
   ]
  },
  {
   "cell_type": "markdown",
   "metadata": {
    "colab_type": "text",
    "id": "X1L1BNahzlLb"
   },
   "source": [
    "#### Quiz 1\n",
    "\n",
    "Create a variable called `aus_victim_age` that contains the age of a 28 year old victim of shark encounter. "
   ]
  },
  {
   "cell_type": "code",
   "execution_count": null,
   "metadata": {
    "colab": {},
    "colab_type": "code",
    "id": "cJKGXCv_0KfA"
   },
   "outputs": [],
   "source": [
    "# Quiz 1"
   ]
  },
  {
   "cell_type": "markdown",
   "metadata": {
    "colab_type": "text",
    "id": "h_ZcCv8nr0Ho"
   },
   "source": [
    "#### Quiz 2\n",
    "\n",
    "Try writing a statement to assign a New Zealand shark's length of 1.5 meters to the variable `nz_shark_size`."
   ]
  },
  {
   "cell_type": "code",
   "execution_count": null,
   "metadata": {
    "colab": {},
    "colab_type": "code",
    "id": "-G0HYFg3MPnh"
   },
   "outputs": [],
   "source": [
    "# Quiz 2\n",
    "\n"
   ]
  },
  {
   "cell_type": "markdown",
   "metadata": {
    "colab_type": "text",
    "id": "J-fqsiOChoiu"
   },
   "source": [
    "## Strings\n",
    "---\n",
    "\n",
    "*Strings* are series of characters that occur on the same line and contained within double quotes (`\" \"`) or single quotes (`' '`). Strings may contain letters, digits, or even characters like %.  The examples below provides the basic format of a string using double quotes; you can also use single quotes if you want to, as long as you remain consistent. \n",
    "\n",
    "\n",
    "```python\n",
    "variable_name = \"This is a string\"\n",
    "```"
   ]
  },
  {
   "cell_type": "markdown",
   "metadata": {
    "colab_type": "text",
    "id": "Gue7hfMS4DKB"
   },
   "source": [
    "\n",
    "\n",
    "See the following examples below for strings that store data about the location, injuries, and victim demographics of shark encounters.\n",
    "\n"
   ]
  },
  {
   "cell_type": "markdown",
   "metadata": {
    "colab_type": "text",
    "id": "dy9Jx5pJpLlm"
   },
   "source": [
    "#### Example 3\n",
    "\n",
    "We wish to create a statement to assign a string variable that holds the activity of a victim before a shark encounter. \n",
    "\n",
    "\n",
    "<img src=\"images/scalars/aus_activity.png\" alt=\"drawing\" style=\"width:450px;\"/>\n",
    "\n",
    "We might write:"
   ]
  },
  {
   "cell_type": "code",
   "execution_count": null,
   "metadata": {
    "colab": {
     "base_uri": "https://localhost:8080/",
     "height": 34
    },
    "colab_type": "code",
    "executionInfo": {
     "elapsed": 441,
     "status": "ok",
     "timestamp": 1538713621215,
     "user": {
      "displayName": "Charlotte Smith",
      "photoUrl": "",
      "userId": "05194161354170586023"
     },
     "user_tz": 600
    },
    "id": "E7-zb2nes5Vu",
    "outputId": "5c075820-9a38-4e14-b6d0-8df2bfb045aa"
   },
   "outputs": [
    {
     "name": "stdout",
     "output_type": "stream",
     "text": [
      "Free Diving\n"
     ]
    }
   ],
   "source": [
    "aus_activity = \"Free Diving\"\n",
    "\n",
    "print(aus_activity)"
   ]
  },
  {
   "cell_type": "markdown",
   "metadata": {
    "colab_type": "text",
    "id": "oJ2I6Tztt0Ud"
   },
   "source": [
    "We can similarly assign shark species to variables for the New Zealand and Australian Sharks involved in two encounters."
   ]
  },
  {
   "cell_type": "code",
   "execution_count": null,
   "metadata": {
    "colab": {},
    "colab_type": "code",
    "id": "hWD1LXPStyWZ"
   },
   "outputs": [],
   "source": [
    "aus_species = \"White Shark\"\n",
    "\n",
    "nz_species = \"Mako Shark\""
   ]
  },
  {
   "cell_type": "markdown",
   "metadata": {
    "colab_type": "text",
    "id": "a39WUnieqZqC"
   },
   "source": [
    "#### Example 4\n",
    "\n",
    "Strings can also contain digits. If we wanted to create a variable to store the date of the Australian shark encounter on 24-April-2018, we could write:\n",
    "\n",
    "<img src=\"images/scalars/aus_encounter_date.png\" alt=\"drawing\" style=\"width:500px;\"/>\n",
    "\n",
    "\n",
    "\n",
    "\n"
   ]
  },
  {
   "cell_type": "code",
   "execution_count": null,
   "metadata": {
    "colab": {
     "base_uri": "https://localhost:8080/",
     "height": 34
    },
    "colab_type": "code",
    "executionInfo": {
     "elapsed": 557,
     "status": "ok",
     "timestamp": 1533065431163,
     "user": {
      "displayName": "Jaclyn Lee",
      "photoUrl": "https://lh3.googleusercontent.com/a/default-user=s128",
      "userId": "110799279658242149847"
     },
     "user_tz": 600
    },
    "id": "5MnXSqY9uvgF",
    "outputId": "427862a8-d6f4-4d50-e5d0-f3f404c5bbde"
   },
   "outputs": [
    {
     "name": "stdout",
     "output_type": "stream",
     "text": [
      "24-Apr-2018\n"
     ]
    }
   ],
   "source": [
    "aus_attack_date = '24-Apr-2018'\n",
    "print(aus_attack_date)"
   ]
  },
  {
   "cell_type": "markdown",
   "metadata": {
    "colab_type": "text",
    "id": "h042YQXfunuB"
   },
   "source": [
    "### Single Versus Double Quotes\n",
    "\n",
    "In the previous examples, it didn't matter whether single or double quotes were used to create the string. However, there may be cases where you would need to use one over the other. If you want your string to contain a single quote like an apostrophe, you would need to use double quotes to contain your string, otherwise the single quote would be erroneously interpreted as a premature end of your string. Likewise, and for the same reason, if you want to use double quotes within your string, you need to use single quotes to contain your string.\n",
    "\n",
    "\n",
    "<img src=\"images/scalars/inner_outer_quotes.jpg\" alt=\"drawing\" style=\"width:500px;\"/>"
   ]
  },
  {
   "cell_type": "markdown",
   "metadata": {
    "colab_type": "text",
    "id": "MYdQWCfd8YZw"
   },
   "source": [
    "#### Example 5\n",
    "\n",
    "For example, let's say that we want to store the following police statement in a string: \n",
    "\n",
    "Officer Brown said \"There was no injury, however the surfboard was bitten\" "
   ]
  },
  {
   "cell_type": "code",
   "execution_count": null,
   "metadata": {
    "colab": {
     "base_uri": "https://localhost:8080/",
     "height": 34
    },
    "colab_type": "code",
    "executionInfo": {
     "elapsed": 691,
     "status": "ok",
     "timestamp": 1533065431958,
     "user": {
      "displayName": "Jaclyn Lee",
      "photoUrl": "https://lh3.googleusercontent.com/a/default-user=s128",
      "userId": "110799279658242149847"
     },
     "user_tz": 600
    },
    "id": "uHr6ZLPMMPnS",
    "outputId": "891feef5-1ef4-48ce-c779-590c569b7505"
   },
   "outputs": [
    {
     "name": "stdout",
     "output_type": "stream",
     "text": [
      "Officer Brown said \"There was no injury, however the surfboard was bitten\" \n"
     ]
    }
   ],
   "source": [
    "aus_police_statement = 'Officer Brown said \"There was no injury, however the surfboard was bitten\" '\n",
    "\n",
    "print(aus_police_statement)"
   ]
  },
  {
   "cell_type": "markdown",
   "metadata": {
    "colab_type": "text",
    "id": "h0c_cUrl8lDU"
   },
   "source": [
    "#### String Quizzes\n",
    "---\n",
    "Try the following quizzes to practice creating strings and assigning them to variables."
   ]
  },
  {
   "cell_type": "markdown",
   "metadata": {
    "colab_type": "text",
    "id": "J8E9uIa2qk1-"
   },
   "source": [
    "#### Quiz 3\n",
    "Write a statement containing a variable label and value to describe the activity the New Zealander was doing when they encountered a shark, if they were lobster fishing.\n",
    "\n",
    "\n",
    "\n"
   ]
  },
  {
   "cell_type": "code",
   "execution_count": null,
   "metadata": {
    "colab": {},
    "colab_type": "code",
    "id": "q9Y7V9v0rEk5"
   },
   "outputs": [],
   "source": [
    "# Quiz 3\n"
   ]
  },
  {
   "cell_type": "markdown",
   "metadata": {
    "colab_type": "text",
    "id": "sTUqGabiqRxQ"
   },
   "source": [
    "#### Quiz 4\n",
    "Write a statement that contains the date of the New Zealand shark encounter that occurred on 13-Mar-2016 :"
   ]
  },
  {
   "cell_type": "code",
   "execution_count": null,
   "metadata": {
    "colab": {},
    "colab_type": "code",
    "id": "bOV3QhC6qcA1"
   },
   "outputs": [],
   "source": [
    "# Quiz 4"
   ]
  },
  {
   "cell_type": "markdown",
   "metadata": {
    "colab_type": "text",
    "id": "IDZIa5thIyqr"
   },
   "source": [
    "### String Manipulations\n",
    "---"
   ]
  },
  {
   "cell_type": "markdown",
   "metadata": {
    "colab_type": "text",
    "id": "MLulj8lEQi4E"
   },
   "source": [
    "#### String Methods\n",
    "\n",
    "A *method* is like a function that can be called on a variable using the dot notation. The details on the difference between functions and methods are not important at this point. To use a method, you first type the name of the variable you are manipulating, followed by a period (`.`), the name of the method, then a set of parenthesis.\n",
    "\n",
    "```python\n",
    "variable_name.method_name()\n",
    "```\n",
    "As with functions, some methods also have parameters that can be passed within the parentheses to modify their behavior.\n",
    "\n",
    "Three useful methods that can be applied to strings are:\n",
    "* `title()`\n",
    "* `upper()`\n",
    "* `lower()` \n",
    "\n",
    "The `title()` method changes the string so that the first letter in each word in the string is capitalized while the rest is lowercase. The `upper()` and `lower()`  methods capitalize and uncapitalize the whole string, respectively. See the example below to see how they work."
   ]
  },
  {
   "cell_type": "markdown",
   "metadata": {
    "colab_type": "text",
    "id": "XLjRUea2yKuR"
   },
   "source": [
    "#### Example 6\n",
    "\n",
    "The australian shark attack activity is printed after using the `title()`, `upper()` and `lower()` method."
   ]
  },
  {
   "cell_type": "code",
   "execution_count": null,
   "metadata": {
    "colab": {
     "base_uri": "https://localhost:8080/",
     "height": 68
    },
    "colab_type": "code",
    "executionInfo": {
     "elapsed": 388,
     "status": "ok",
     "timestamp": 1533065434593,
     "user": {
      "displayName": "Jaclyn Lee",
      "photoUrl": "https://lh3.googleusercontent.com/a/default-user=s128",
      "userId": "110799279658242149847"
     },
     "user_tz": 600
    },
    "id": "ZOyDY4HEyW2g",
    "outputId": "9c16c0eb-3bc0-4532-f032-458c761f4f5c"
   },
   "outputs": [
    {
     "name": "stdout",
     "output_type": "stream",
     "text": [
      "Free Diving\n",
      "FREE DIVING\n",
      "free diving\n"
     ]
    }
   ],
   "source": [
    "\n",
    "print(aus_activity.title())\n",
    "\n",
    "print(aus_activity.upper())\n",
    "\n",
    "print(aus_activity.lower())"
   ]
  },
  {
   "cell_type": "markdown",
   "metadata": {
    "colab_type": "text",
    "id": "Aer4DifWUIy0"
   },
   "source": [
    "#### String Concatenation\n",
    "\n",
    "String concatenation is the process of combining or adding together strings using the `+` operator. \n",
    "\n",
    "Strings can also be concatenated directly without being assigned to a variable:\n",
    "\n",
    "\n",
    "<img src=\"images/scalars/string_concat_2.png\" alt=\"drawing\" style=\"width:450px;\"/>"
   ]
  },
  {
   "cell_type": "code",
   "execution_count": null,
   "metadata": {
    "colab": {
     "base_uri": "https://localhost:8080/",
     "height": 34
    },
    "colab_type": "code",
    "executionInfo": {
     "elapsed": 364,
     "status": "ok",
     "timestamp": 1538711868883,
     "user": {
      "displayName": "Charlotte Smith",
      "photoUrl": "",
      "userId": "05194161354170586023"
     },
     "user_tz": 600
    },
    "id": "tmRavdkRXzl4",
    "outputId": "124add17-2122-4e70-d41e-f6e9fafadb78"
   },
   "outputs": [
    {
     "name": "stdout",
     "output_type": "stream",
     "text": [
      "Martin Islet, Australia\n"
     ]
    }
   ],
   "source": [
    "print('Martin Islet,' + ' ' + 'Australia')"
   ]
  },
  {
   "cell_type": "markdown",
   "metadata": {
    "colab_type": "text",
    "id": "RWcgFfO0b7Zf"
   },
   "source": [
    "or concatenated by adding the variables that contain them. See example below."
   ]
  },
  {
   "cell_type": "markdown",
   "metadata": {
    "colab_type": "text",
    "id": "KJ36D2h-XJL3"
   },
   "source": [
    "#### Example 7\n",
    "\n",
    "The following contains an example of string concatenation performed on variables containing strings.\n",
    "\n",
    "\n",
    "<img src=\"images/scalars/string_concat_1.JPG\" alt=\"drawing\" style=\"width:450px;\"/>"
   ]
  },
  {
   "cell_type": "code",
   "execution_count": null,
   "metadata": {
    "colab": {
     "base_uri": "https://localhost:8080/",
     "height": 34
    },
    "colab_type": "code",
    "executionInfo": {
     "elapsed": 680,
     "status": "ok",
     "timestamp": 1533065435342,
     "user": {
      "displayName": "Jaclyn Lee",
      "photoUrl": "https://lh3.googleusercontent.com/a/default-user=s128",
      "userId": "110799279658242149847"
     },
     "user_tz": 600
    },
    "id": "7f5Q4NQp2TPf",
    "outputId": "6955e0ca-f456-4df3-dae8-1b7cb8737432",
    "scrolled": true
   },
   "outputs": [
    {
     "name": "stdout",
     "output_type": "stream",
     "text": [
      "Martin Islet, Australia\n"
     ]
    }
   ],
   "source": [
    "country = 'Australia'\n",
    "location = 'Martin Islet'\n",
    "complete_encounter_location = location + \",\" + \" \" + country\n",
    "print(complete_encounter_location)"
   ]
  },
  {
   "cell_type": "markdown",
   "metadata": {},
   "source": [
    "Strings and numeric data types can also be concatenated using the `format()` method. The `format()` method deliniates fields for replacement using curly braces(`{}`). The values that replace the curly braces are the parameters in the parenthesis of the `format()` method. When there are multiple replacement fields, `format()` will replace them in the order that the values appear in `format()`'s parenthesis. See below for an example."
   ]
  },
  {
   "cell_type": "code",
   "execution_count": 1,
   "metadata": {},
   "outputs": [
    {
     "name": "stdout",
     "output_type": "stream",
     "text": [
      "Martin Islet, Australia\n"
     ]
    }
   ],
   "source": [
    "country = 'Australia'\n",
    "location = 'Martin Islet'\n",
    "complete_encounter_location = \"{}, {}\".format(location, country)\n",
    "print(complete_encounter_location)"
   ]
  },
  {
   "cell_type": "markdown",
   "metadata": {
    "colab_type": "text",
    "id": "qdzlRT0CbAJ_"
   },
   "source": [
    "#### String Manipulation Quizzes\n",
    "---\n",
    "Try the following string quizzes on your own.\n"
   ]
  },
  {
   "cell_type": "markdown",
   "metadata": {
    "colab_type": "text",
    "id": "DX0_TdATbQXJ"
   },
   "source": [
    "#### Quiz 5\n",
    "\n",
    "What method changes a string from lowercase to title case?"
   ]
  },
  {
   "cell_type": "code",
   "execution_count": null,
   "metadata": {
    "colab": {},
    "colab_type": "code",
    "id": "wm06NxJVbQxJ"
   },
   "outputs": [],
   "source": [
    "# Quiz 5"
   ]
  },
  {
   "cell_type": "markdown",
   "metadata": {
    "colab_type": "text",
    "id": "nht_rCJFbQ8B"
   },
   "source": [
    "#### Quiz 6\n",
    "Change the string \"I went swimming\" to uppercase:"
   ]
  },
  {
   "cell_type": "code",
   "execution_count": null,
   "metadata": {
    "colab": {
     "base_uri": "https://localhost:8080/",
     "height": 34
    },
    "colab_type": "code",
    "executionInfo": {
     "elapsed": 614,
     "status": "ok",
     "timestamp": 1544057577881,
     "user": {
      "displayName": "Charlotte Smith",
      "photoUrl": "",
      "userId": "05194161354170586023"
     },
     "user_tz": 600
    },
    "id": "2a_Hj6aNbRJZ",
    "outputId": "459ebadd-d4c4-42a4-9ef8-b730c9ade685"
   },
   "outputs": [
    {
     "name": "stdout",
     "output_type": "stream",
     "text": [
      "I WENT SWIMMING\n"
     ]
    }
   ],
   "source": [
    "# Quiz 6\n",
    "print(\"I went swimming\".METHOD())"
   ]
  },
  {
   "cell_type": "markdown",
   "metadata": {
    "colab_type": "text",
    "id": "QYjiPZKhIqeB"
   },
   "source": [
    "## Booleans\n",
    "---\n",
    "One vital data type in many programming languages is *Booleans*. Booleans are data types that evaluate to either `True` or `False`. Booleans are important because they play key roles in controlling the flow of programs, which we will cover in this and following chapters. "
   ]
  },
  {
   "cell_type": "markdown",
   "metadata": {
    "colab_type": "text",
    "id": "FhgVm4mSMPnm"
   },
   "source": [
    "### Assigning Boolean Variables\n",
    "\n",
    "You can directly assign a Boolean value to a variable like how you would assign a number or string to a variable. You just need a variable name, the assignment operator (`=`), and `True` or `False`. Quotes are not used around the True or False since this is not a string.\n",
    "\n",
    "\n",
    "\n"
   ]
  },
  {
   "cell_type": "markdown",
   "metadata": {
    "colab_type": "text",
    "id": "x5QsqtTGa6OS"
   },
   "source": [
    "#### Example 8\n",
    "\n",
    "For example, if we wanted to create a variable to represent whether or not the shark encounter in Australia was fatal, we could write the following statement:\n",
    "\n",
    "\n",
    "<img src=\"images/scalars/aus_encounter_fatality.png\" alt=\"drawing\" style=\"width:550px;\"/>"
   ]
  },
  {
   "cell_type": "code",
   "execution_count": null,
   "metadata": {
    "colab": {},
    "colab_type": "code",
    "id": "tKWCqYvoMPno"
   },
   "outputs": [],
   "source": [
    "aus_encounter_fatality = False"
   ]
  },
  {
   "cell_type": "code",
   "execution_count": null,
   "metadata": {
    "colab": {
     "base_uri": "https://localhost:8080/",
     "height": 34
    },
    "colab_type": "code",
    "executionInfo": {
     "elapsed": 509,
     "status": "ok",
     "timestamp": 1533065437761,
     "user": {
      "displayName": "Jaclyn Lee",
      "photoUrl": "https://lh3.googleusercontent.com/a/default-user=s128",
      "userId": "110799279658242149847"
     },
     "user_tz": 600
    },
    "id": "O-IdBBuSMPnq",
    "outputId": "de5b44d1-c2fc-433c-825e-cb9cbc6130a8"
   },
   "outputs": [
    {
     "name": "stdout",
     "output_type": "stream",
     "text": [
      "False\n"
     ]
    }
   ],
   "source": [
    "print(aus_encounter_fatality)"
   ]
  },
  {
   "cell_type": "markdown",
   "metadata": {
    "colab_type": "text",
    "id": "H1_ZyoIVw8g2"
   },
   "source": [
    "Notice that Booleans `True` and `False` are capitalized, otherwise Python will not recognize these as reserved keywords. The example below demonstrates what happens when you don't capitalize `True` or `False`."
   ]
  },
  {
   "cell_type": "markdown",
   "metadata": {
    "colab_type": "text",
    "id": "xxgNjLhtb61_"
   },
   "source": [
    "#### Example 9\n",
    "\n",
    "If you run the cell below, you'll notice that lowercase `true` returns an error because Python thinks it is a variable that has not yet been defined."
   ]
  },
  {
   "cell_type": "code",
   "execution_count": null,
   "metadata": {
    "colab": {
     "base_uri": "https://localhost:8080/",
     "height": 181
    },
    "colab_type": "code",
    "executionInfo": {
     "elapsed": 616,
     "status": "error",
     "timestamp": 1538710305632,
     "user": {
      "displayName": "Charlotte Smith",
      "photoUrl": "",
      "userId": "05194161354170586023"
     },
     "user_tz": 600
    },
    "id": "NTCWSu02MPnv",
    "outputId": "5445c053-b523-443d-b18e-6161242828f1"
   },
   "outputs": [
    {
     "ename": "NameError",
     "evalue": "ignored",
     "output_type": "error",
     "traceback": [
      "\u001b[0;31m---------------------------------------------------------------------------\u001b[0m",
      "\u001b[0;31mNameError\u001b[0m                                 Traceback (most recent call last)",
      "\u001b[0;32m<ipython-input-1-ae19a94adaaf>\u001b[0m in \u001b[0;36m<module>\u001b[0;34m()\u001b[0m\n\u001b[0;32m----> 1\u001b[0;31m \u001b[0mnz_attack_fatality\u001b[0m \u001b[0;34m=\u001b[0m \u001b[0mtrue\u001b[0m\u001b[0;34m\u001b[0m\u001b[0m\n\u001b[0m\u001b[1;32m      2\u001b[0m \u001b[0mprint\u001b[0m\u001b[0;34m(\u001b[0m\u001b[0mnz_attack_fatality\u001b[0m\u001b[0;34m)\u001b[0m\u001b[0;34m\u001b[0m\u001b[0m\n",
      "\u001b[0;31mNameError\u001b[0m: name 'true' is not defined"
     ]
    }
   ],
   "source": [
    "nz_encounter_fatality = true\n",
    "print(nz_encounter_fatality)"
   ]
  },
  {
   "cell_type": "markdown",
   "metadata": {
    "colab_type": "text",
    "id": "-hYMm6-8KIbk"
   },
   "source": [
    "## Operations on Scalars: if-else Statements\n",
    "---\n",
    "`if-else` statements determine whether a block of code gets executed. For example, before you authorize a customer's transaction you could check their balance to assess whether they have sufficient funds. `if` the answer is `True`, then you can execute the transaction, `else` you could display a relevant message. Before we delve into the specifics of `if-else` statements, you need to understand conditional tests and how they work."
   ]
  },
  {
   "cell_type": "markdown",
   "metadata": {
    "colab_type": "text",
    "id": "jjy95eYhKyVL"
   },
   "source": [
    "### Conditional Tests\n",
    "---\n",
    "`if-else` uses *arithmetic logic operators* to evaluate whether a statement is `True` or `False`. The following is a table of arithmetic logic operators.\n",
    "\n",
    "| Arithmetic Logic Operator | Mathematical Symbol | Python Notation |\n",
    "|-----------------------------------|-------------------------------------|----------------------------|\n",
    "|Equals                           | =                                      |==                           |\n",
    "|Not Equal                      | ≠                                     | !=                          |\n",
    "| Greater Than                | >                                     | >                           |\n",
    "| Less Than                     |  <                                     |<                            |\n",
    "| Greater Than or Equal to | ≥                                | >=                         |\n",
    "| Less Than or Equal to | ≤                                     | <=                         |\n",
    "\n",
    "The following are examples of simple conditional tests."
   ]
  },
  {
   "cell_type": "markdown",
   "metadata": {
    "colab_type": "text",
    "id": "xuFbZadJlvZa"
   },
   "source": [
    "#### Example 10\n",
    "\n",
    "In this example, we use a boolean expression to check if the age of the New Zealand shark victim was greater than 10 years old. Python will return a Boolean `True` or `False`, depending if the condition is met."
   ]
  },
  {
   "cell_type": "code",
   "execution_count": null,
   "metadata": {
    "colab": {
     "base_uri": "https://localhost:8080/",
     "height": 34
    },
    "colab_type": "code",
    "executionInfo": {
     "elapsed": 409,
     "status": "ok",
     "timestamp": 1538713095402,
     "user": {
      "displayName": "Charlotte Smith",
      "photoUrl": "",
      "userId": "05194161354170586023"
     },
     "user_tz": 600
    },
    "id": "CMg68FCHbkcl",
    "outputId": "9924e6ea-7910-417b-d42c-39b13514df93"
   },
   "outputs": [
    {
     "data": {
      "text/plain": [
       "True"
      ]
     },
     "execution_count": 6,
     "metadata": {
      "tags": []
     },
     "output_type": "execute_result"
    }
   ],
   "source": [
    "nz_victim_age > 10"
   ]
  },
  {
   "cell_type": "markdown",
   "metadata": {
    "colab_type": "text",
    "id": "rsldNFdEl4fF"
   },
   "source": [
    "#### Example 11\n",
    "\n",
    "In this example, we use a Boolean expression to see if the species of the New Zealand shark attack was a Mako Shark. Since we are testing for equality we use two equal signs (`==`), rather than a single one, which, as we know, is an assignment operator."
   ]
  },
  {
   "cell_type": "code",
   "execution_count": null,
   "metadata": {
    "colab": {
     "base_uri": "https://localhost:8080/",
     "height": 34
    },
    "colab_type": "code",
    "executionInfo": {
     "elapsed": 377,
     "status": "ok",
     "timestamp": 1538713323878,
     "user": {
      "displayName": "Charlotte Smith",
      "photoUrl": "",
      "userId": "05194161354170586023"
     },
     "user_tz": 600
    },
    "id": "IaIBgBjtdLov",
    "outputId": "6a86b1f9-dc81-4d1e-dbeb-d6a45e90673c"
   },
   "outputs": [
    {
     "data": {
      "text/plain": [
       "True"
      ]
     },
     "execution_count": 9,
     "metadata": {
      "tags": []
     },
     "output_type": "execute_result"
    }
   ],
   "source": [
    "nz_species == \"Mako Shark\"\n"
   ]
  },
  {
   "cell_type": "markdown",
   "metadata": {
    "colab_type": "text",
    "id": "reWFLBNdhpH5"
   },
   "source": [
    "Note that case of the string matters when performing a Boolean conditional test. Let us see what happens if the cases of the strings do not match.\n"
   ]
  },
  {
   "cell_type": "code",
   "execution_count": null,
   "metadata": {
    "colab": {
     "base_uri": "https://localhost:8080/",
     "height": 34
    },
    "colab_type": "code",
    "executionInfo": {
     "elapsed": 368,
     "status": "ok",
     "timestamp": 1538713364505,
     "user": {
      "displayName": "Charlotte Smith",
      "photoUrl": "",
      "userId": "05194161354170586023"
     },
     "user_tz": 600
    },
    "id": "c9tuTFrpdhRP",
    "outputId": "14a85b36-0b99-49a2-db60-573bede66a91"
   },
   "outputs": [
    {
     "data": {
      "text/plain": [
       "False"
      ]
     },
     "execution_count": 11,
     "metadata": {
      "tags": []
     },
     "output_type": "execute_result"
    }
   ],
   "source": [
    "nz_species == \"mako Shark\""
   ]
  },
  {
   "cell_type": "markdown",
   "metadata": {
    "colab_type": "text",
    "id": "egmvWq9Oqto_"
   },
   "source": [
    "#### Conditional Test Quizzes\n",
    "---\n",
    "Which of the following conditional tests will evaluate to True or False?"
   ]
  },
  {
   "cell_type": "markdown",
   "metadata": {
    "colab_type": "text",
    "id": "rdvzQadBq-cY"
   },
   "source": [
    "#### Quiz 7\n",
    "\n",
    "Was the size of the New Zealand shark greater than or equal to five meters?"
   ]
  },
  {
   "cell_type": "code",
   "execution_count": null,
   "metadata": {
    "colab": {
     "base_uri": "https://localhost:8080/",
     "height": 34
    },
    "colab_type": "code",
    "executionInfo": {
     "elapsed": 497,
     "status": "ok",
     "timestamp": 1538713478382,
     "user": {
      "displayName": "Charlotte Smith",
      "photoUrl": "",
      "userId": "05194161354170586023"
     },
     "user_tz": 600
    },
    "id": "htYe71-tduBz",
    "outputId": "fb31c447-ac60-4455-b5a1-a875f9ffb256"
   },
   "outputs": [
    {
     "data": {
      "text/plain": [
       "False"
      ]
     },
     "execution_count": 13,
     "metadata": {
      "tags": []
     },
     "output_type": "execute_result"
    }
   ],
   "source": [
    "# Quiz 7\n",
    "#Run this code cell to see if your guess matches the correct answer!\n",
    "nz_shark_size >= 5"
   ]
  },
  {
   "cell_type": "markdown",
   "metadata": {
    "colab_type": "text",
    "id": "7VQ6CHxWi6Ht"
   },
   "source": [
    "#### Quiz 8\n",
    "\n",
    "Was the Australian shark encounter victim spear fishing when attacked?"
   ]
  },
  {
   "cell_type": "code",
   "execution_count": 1,
   "metadata": {
    "colab": {
     "base_uri": "https://localhost:8080/",
     "height": 34
    },
    "colab_type": "code",
    "executionInfo": {
     "elapsed": 413,
     "status": "ok",
     "timestamp": 1538713631374,
     "user": {
      "displayName": "Charlotte Smith",
      "photoUrl": "",
      "userId": "05194161354170586023"
     },
     "user_tz": 600
    },
    "id": "fcHd0leLecmu",
    "outputId": "3dda88a1-2ecb-45ec-8d9c-c0541733b4a9"
   },
   "outputs": [
    {
     "ename": "NameError",
     "evalue": "name 'aus_activity' is not defined",
     "output_type": "error",
     "traceback": [
      "\u001b[0;31m---------------------------------------------------------------------------\u001b[0m",
      "\u001b[0;31mNameError\u001b[0m                                 Traceback (most recent call last)",
      "\u001b[0;32m<ipython-input-1-2c96acfa607c>\u001b[0m in \u001b[0;36m<module>\u001b[0;34m\u001b[0m\n\u001b[1;32m      2\u001b[0m \u001b[0;31m#Run this code cell to see if your guess matches the correct answer!\u001b[0m\u001b[0;34m\u001b[0m\u001b[0;34m\u001b[0m\u001b[0m\n\u001b[1;32m      3\u001b[0m \u001b[0;34m\u001b[0m\u001b[0m\n\u001b[0;32m----> 4\u001b[0;31m \u001b[0maus_activity\u001b[0m \u001b[0;34m==\u001b[0m \u001b[0;34m\"Spear Fishing\"\u001b[0m\u001b[0;34m\u001b[0m\u001b[0m\n\u001b[0m",
      "\u001b[0;31mNameError\u001b[0m: name 'aus_activity' is not defined"
     ]
    }
   ],
   "source": [
    "# Quiz 8\n",
    "#Run this code cell to see if your guess matches the correct answer!\n",
    "\n",
    "aus_activity == \"Spear Fishing\""
   ]
  },
  {
   "cell_type": "markdown",
   "metadata": {
    "colab_type": "text",
    "id": "02taAvRud97W"
   },
   "source": [
    "### `if-else` Statement Structure\n",
    "---\n",
    "Below is the basic structure of an `if-else` statement. Indentation is important in `if-else` statements, and lines after `if` and `else` should be indented -- best practice suggests using four spaces. All indented lines of code after `if` will be executed if the conditional test evaluates to `True`; otherwise, the indented lines of code after else will be executed. The `else` clause specifies an alternative set of instructions, if the conditions set in the `if` statement were not met.\n",
    "\n",
    "```python\n",
    "if conditional test:\n",
    "      execute something\n",
    "else:\n",
    "      execute something\n",
    "```\n",
    "\n"
   ]
  },
  {
   "cell_type": "markdown",
   "metadata": {
    "colab_type": "text",
    "id": "yLPmJfh20mjd"
   },
   "source": [
    "#### Example 12\n",
    "\n",
    "For example, we could categorize the shark into a small or large shark catgeory by creating a conditional test for its length. We can test if the shark in the New Zealand shark encounter was greater than 2 meters, and to print 'Large Shark', if this condition was met, or to print 'Small Shark' if this condition was not met.\n",
    "\n",
    "\n",
    "<img src=\"images/scalars/if_else_shark.JPG\" alt=\"drawing\" style=\"width:550px;\"/>\n"
   ]
  },
  {
   "cell_type": "code",
   "execution_count": null,
   "metadata": {
    "colab": {
     "base_uri": "https://localhost:8080/",
     "height": 34
    },
    "colab_type": "code",
    "executionInfo": {
     "elapsed": 413,
     "status": "ok",
     "timestamp": 1532983695040,
     "user": {
      "displayName": "Charlotte Smith",
      "photoUrl": "https://lh3.googleusercontent.com/a/default-user=s128",
      "userId": "107833990234992277419"
     },
     "user_tz": 600
    },
    "id": "hrbLgQl3MPnx",
    "outputId": "34c7e921-1f53-4926-f7e5-854491e48783"
   },
   "outputs": [
    {
     "name": "stdout",
     "output_type": "stream",
     "text": [
      "Small shark\n"
     ]
    }
   ],
   "source": [
    "nz_shark_size = 1.5\n",
    "\n",
    "if nz_shark_size > 2.0:\n",
    "    print('Large Shark')\n",
    "else:\n",
    "    print('Small Shark')"
   ]
  },
  {
   "cell_type": "markdown",
   "metadata": {
    "colab_type": "text",
    "id": "bSf_l8VBqM3G"
   },
   "source": [
    "#### `if-else` Quiz\n",
    "---\n",
    "Now try writing your own `if-else` statement in Quiz 10 below"
   ]
  },
  {
   "cell_type": "markdown",
   "metadata": {
    "colab_type": "text",
    "id": "nvBb8N6txQAC"
   },
   "source": [
    "#### Quiz 9\n",
    "\n",
    "Write your own `if-else` statement to test whether the age of the New Zealand shark encounter victim was greater than 18; if they are older than 18 years, print 'adult', otherwise print 'juvenile':"
   ]
  },
  {
   "cell_type": "code",
   "execution_count": null,
   "metadata": {
    "colab": {
     "base_uri": "https://localhost:8080/",
     "height": 34
    },
    "colab_type": "code",
    "executionInfo": {
     "elapsed": 433,
     "status": "ok",
     "timestamp": 1532983696730,
     "user": {
      "displayName": "Charlotte Smith",
      "photoUrl": "https://lh3.googleusercontent.com/a/default-user=s128",
      "userId": "107833990234992277419"
     },
     "user_tz": 600
    },
    "id": "JY2bHtJ1xnLG",
    "outputId": "e88b8322-f070-41b6-ac56-86e282a57937"
   },
   "outputs": [
    {
     "name": "stdout",
     "output_type": "stream",
     "text": [
      "tasty\n"
     ]
    }
   ],
   "source": [
    "# Quiz 9\n",
    "if nz_victim_age < 18:\n",
    "  print('')\n",
    "else: \n",
    "  print('')"
   ]
  },
  {
   "cell_type": "markdown",
   "metadata": {
    "colab_type": "text",
    "id": "SGcdweVmKeA9"
   },
   "source": [
    "### `if-elif-else`\n",
    "---\n",
    "\n",
    "`elif` blocks are used in an `if-else` statement to test for additional conditions. The basic structure for an if-elif-else block is provided below. Although this example includes only one `elif` block, other  blocks can be added as needed.\n",
    "\n",
    "```python\n",
    "if conditional test:\n",
    "      execute something\n",
    "elif different condition:\n",
    "      execute something\n",
    "else:\n",
    "      execute something\n",
    "```"
   ]
  },
  {
   "cell_type": "markdown",
   "metadata": {
    "colab_type": "text",
    "id": "7Qdl1RNn5E08"
   },
   "source": [
    "#### Example 12\n",
    "\n",
    "\n",
    "\n",
    "The example below provides a situation that requires testing two conditions and computing a value depending the result test. Spefically, we will compute the weight of a shark either in tons, kilograms of pounds, depending on an indicator `selection` varible. The approach we will use is illustrated in the diagram below:\n",
    "\n",
    "\n",
    "<img src=\"images/scalars/if_elif_else_shark.jpg\" alt=\"drawing\" style=\"width:550px;\"/>\n",
    "\n",
    "\n",
    "\n",
    "\n"
   ]
  },
  {
   "cell_type": "code",
   "execution_count": null,
   "metadata": {
    "colab": {
     "base_uri": "https://localhost:8080/",
     "height": 34
    },
    "colab_type": "code",
    "executionInfo": {
     "elapsed": 386,
     "status": "ok",
     "timestamp": 1547861888164,
     "user": {
      "displayName": "Mahdi Belcaid",
      "photoUrl": "",
      "userId": "04817344393223947441"
     },
     "user_tz": 600
    },
    "id": "qolKUwVDuTY8",
    "outputId": "baa4cb5e-2f79-46f5-bf82-edd6bdd1dd09"
   },
   "outputs": [
    {
     "name": "stdout",
     "output_type": "stream",
     "text": [
      "11000.0\n"
     ]
    }
   ],
   "source": [
    "selection = \"kilograms\"\n",
    "weight_pounds = 5000\n",
    "\n",
    "\n",
    "if selection == \"kilograms\":\n",
    "  print(weight_pounds * 2.2)   \n",
    "elif selection == \"tons\":\n",
    "  print(weight_pounds * 2.2 / 100 )   \n",
    "else:\n",
    "  print(weight_pounds)\n",
    "  "
   ]
  },
  {
   "cell_type": "markdown",
   "metadata": {
    "colab_type": "text",
    "id": "nM6TxvP0wiCa"
   },
   "source": [
    "You can change the value of the variable `selection` above and see how that affects the statement executed. Note that the code above assume that variable `selection` contains one of the three valid options: \"kilograms\", \"tons\", \"pounds\". This is unreasonable since one can set the variable `selection` to any text, including options that have not account for. Therefore, it is better to specifically test that the variable contains a valid option and to handle the case where it does in the `else` statement. This is illustrated in the diagram  below. As a test in the Python code below, we intentionally set  the `selection` variable to \"grams\" and see that error message is printed, since none of the other branches evaluate to `True`.\n",
    "\n",
    "\n",
    "<img src=\"images/scalars/if_elif_elif_else_shark.jpg\" alt=\"drawing\" style=\"width:550px;\"/>"
   ]
  },
  {
   "cell_type": "code",
   "execution_count": null,
   "metadata": {
    "colab": {
     "base_uri": "https://localhost:8080/",
     "height": 34
    },
    "colab_type": "code",
    "executionInfo": {
     "elapsed": 409,
     "status": "ok",
     "timestamp": 1547862395757,
     "user": {
      "displayName": "Mahdi Belcaid",
      "photoUrl": "",
      "userId": "04817344393223947441"
     },
     "user_tz": 600
    },
    "id": "q6tECHD_xlFU",
    "outputId": "a6b2250e-e3dc-4a78-cf0a-9ea4c9cd886f"
   },
   "outputs": [
    {
     "name": "stdout",
     "output_type": "stream",
     "text": [
      "The selectin is not Valid, please provide a selection  that is either \"pounds\", \"kilograms\" or \"Tons\" \n"
     ]
    }
   ],
   "source": [
    "selection = \"grams\"\n",
    "weight_pounds = 5000\n",
    "\n",
    "\n",
    "if selection == \"kilograms\":\n",
    "  print(weight_pounds * 2.2)   \n",
    "elif selection == \"tons\":\n",
    "  print(weight_pounds * 2.2 / 100 )   \n",
    "elif selection == \"pound\":\n",
    "  print(weight_pounds)   \n",
    "else:\n",
    "  print('The selection is not Valid, please provide a selection  that is either \"pounds\", \"kilograms\" or \"tons\" ')\n",
    "  "
   ]
  },
  {
   "cell_type": "markdown",
   "metadata": {
    "colab_type": "text",
    "id": "9C_ZOVBC2LpD"
   },
   "source": [
    "#### if elif else Quiz\n",
    "---\n",
    "Write your own `if-elif-else` chain by following the directions for Quiz 10."
   ]
  },
  {
   "cell_type": "markdown",
   "metadata": {
    "colab_type": "text",
    "id": "0PlHtljB2cI2"
   },
   "source": [
    "#### Quiz 10\n",
    "\n",
    "Given the code below, which statement would be printed?\n"
   ]
  },
  {
   "cell_type": "code",
   "execution_count": 2,
   "metadata": {
    "colab": {
     "base_uri": "https://localhost:8080/",
     "height": 34
    },
    "colab_type": "code",
    "executionInfo": {
     "elapsed": 451,
     "status": "ok",
     "timestamp": 1548800859904,
     "user": {
      "displayName": "Jaclyn Lee",
      "photoUrl": "",
      "userId": "17525286701482268466"
     },
     "user_tz": 600
    },
    "id": "6PyDgZm52cmL",
    "outputId": "9b5f0e96-b2c8-4036-883c-7af89c6c9289"
   },
   "outputs": [
    {
     "name": "stdout",
     "output_type": "stream",
     "text": [
      "fast swimmer\n"
     ]
    }
   ],
   "source": [
    "# Quiz 11\n",
    "nz_species = 'Mako Shark'\n",
    "\n",
    "if nz_species == 'Tiger Shark':\n",
    "  print(\"average speed swimmer\")\n",
    "elif nz_species =='Mako Shark':\n",
    "  print('fast swimmer')\n",
    "else: \n",
    "  print(\"behavior unknown\")"
   ]
  },
  {
   "cell_type": "markdown",
   "metadata": {
    "colab_type": "text",
    "id": "BNtTKy6rK9Ic"
   },
   "source": [
    "### Boolean Logic Operators\n",
    "---\n",
    "Simple conditional tests can be combined into more complex expressions using the boolean logic operators, `and` and `or`, and by using `not` for negating conditions."
   ]
  },
  {
   "cell_type": "markdown",
   "metadata": {
    "colab_type": "text",
    "id": "LZ7pBJuRz3TR"
   },
   "source": [
    "#### The Logical `and` operator\n",
    "The Logical `and` operator is used to combine two conditions, and evaluates to `True` only when both conditions are True. "
   ]
  },
  {
   "cell_type": "markdown",
   "metadata": {
    "colab_type": "text",
    "id": "Ulbj46RvzhM-"
   },
   "source": [
    "#### Example 13\n",
    "\n",
    "Here, we try to test if both of these conditions are True :\n",
    "* The Australian shark speices is a White Shark.\n",
    "\n",
    "* The size of the shark is greater than 3 meters.\n",
    "\n",
    "If both of those conditions are met, we print out \"Adult Shark\". If one or neither of these conditions is met, we print out \"Juvenile Shark\"."
   ]
  },
  {
   "cell_type": "code",
   "execution_count": 4,
   "metadata": {
    "colab": {
     "base_uri": "https://localhost:8080/",
     "height": 34
    },
    "colab_type": "code",
    "executionInfo": {
     "elapsed": 456,
     "status": "ok",
     "timestamp": 1548800971800,
     "user": {
      "displayName": "Jaclyn Lee",
      "photoUrl": "",
      "userId": "17525286701482268466"
     },
     "user_tz": 600
    },
    "id": "K4E7lDxIzOgj",
    "outputId": "ff056f23-35e8-46bb-8089-d39786192b67"
   },
   "outputs": [
    {
     "name": "stdout",
     "output_type": "stream",
     "text": [
      "Adult Shark\n"
     ]
    }
   ],
   "source": [
    "aus_species = \"White Shark\"\n",
    "aus_shark_size = 3.5\n",
    "if aus_species == \"White Shark\" and aus_shark_size > 3.0:\n",
    "  print(\"Adult Shark\")\n",
    "else: \n",
    "  print('Juvenile Shark')"
   ]
  },
  {
   "cell_type": "markdown",
   "metadata": {
    "colab_type": "text",
    "id": "-sO_LxSPz7bx"
   },
   "source": [
    "#### The Logical `or` Operator\n",
    "The Logical `or` operator is used to combine two conditions, and evaluates to `True` if one or both conditions are true. \n",
    "\n"
   ]
  },
  {
   "cell_type": "markdown",
   "metadata": {
    "colab_type": "text",
    "id": "I6ZrCZY_0GQD"
   },
   "source": [
    "#### Example 14\n",
    "\n",
    "Here, we check to see if the shark species in Australia:\n",
    "* is a Mako Shark\n",
    "* is over 3 meters in length\n",
    "\n",
    "If either of these conditions are met, or both conditions are met, this would imply that this shark has a strong bite."
   ]
  },
  {
   "cell_type": "code",
   "execution_count": 5,
   "metadata": {
    "colab": {
     "base_uri": "https://localhost:8080/",
     "height": 34
    },
    "colab_type": "code",
    "executionInfo": {
     "elapsed": 508,
     "status": "ok",
     "timestamp": 1548801064717,
     "user": {
      "displayName": "Jaclyn Lee",
      "photoUrl": "",
      "userId": "17525286701482268466"
     },
     "user_tz": 600
    },
    "id": "X8t4lHkoz9zv",
    "outputId": "cd722f2e-e199-4456-c220-6c08e447f77e"
   },
   "outputs": [
    {
     "name": "stdout",
     "output_type": "stream",
     "text": [
      "Strong bite\n"
     ]
    }
   ],
   "source": [
    "nz_shark_size = 1.5\n",
    "nz_species = 'Mako Shark'\n",
    "\n",
    "if nz_species == \"Mako Shark\" or nz_shark_size > 3.0:\n",
    "  print('Strong bite')\n",
    "else: print('Average bite')"
   ]
  },
  {
   "cell_type": "markdown",
   "metadata": {
    "colab_type": "text",
    "id": "vZV7i3T9z-5I"
   },
   "source": [
    "#### The Logical `not` Operator\n",
    "The `not` operator is used to test whether the opposite of a condition is `True`. For instance, we may want to check to see if the activity that the activity the victim was partaking in was NOT on land, in which case we could use the code below.\n",
    "  "
   ]
  },
  {
   "cell_type": "markdown",
   "metadata": {
    "colab_type": "text",
    "id": "rnDywMm31cS2"
   },
   "source": [
    "#### Example 15\n",
    "\n"
   ]
  },
  {
   "cell_type": "code",
   "execution_count": null,
   "metadata": {
    "colab": {
     "base_uri": "https://localhost:8080/",
     "height": 34
    },
    "colab_type": "code",
    "executionInfo": {
     "elapsed": 400,
     "status": "ok",
     "timestamp": 1532985058387,
     "user": {
      "displayName": "Charlotte Smith",
      "photoUrl": "https://lh3.googleusercontent.com/a/default-user=s128",
      "userId": "107833990234992277419"
     },
     "user_tz": 600
    },
    "id": "3N6dIber_1uZ",
    "outputId": "23be68c3-a557-400a-f80d-bbb04d809200"
   },
   "outputs": [
    {
     "name": "stdout",
     "output_type": "stream",
     "text": [
      "Ocean activity\n"
     ]
    }
   ],
   "source": [
    "aus_activity = \"Free Diving\"\n",
    "if aus_activity is not \"Walking\":\n",
    "  print(\"Ocean activity\")\n",
    "else:\n",
    "  print(\"Land activity\")"
   ]
  },
  {
   "cell_type": "markdown",
   "metadata": {
    "colab_type": "text",
    "id": "jzWU-YnU1pEL"
   },
   "source": [
    "#### Boolean Comparison Operators Quizzes\n",
    "---\n",
    "Try working with logical operators `and`, `or` and `not` on your own in these following quizzes.\n",
    "\n",
    "\n",
    "\n"
   ]
  },
  {
   "cell_type": "markdown",
   "metadata": {
    "colab_type": "text",
    "id": "DfdJhfTf13ZI"
   },
   "source": [
    "#### Quiz 11\n",
    "\n",
    "What logical operator is used to test if at least one of the conditional tests evaluates to `True`?\n"
   ]
  },
  {
   "cell_type": "code",
   "execution_count": null,
   "metadata": {
    "colab": {},
    "colab_type": "code",
    "id": "2FISD5Q713s0"
   },
   "outputs": [],
   "source": [
    "# Quiz 11"
   ]
  },
  {
   "cell_type": "markdown",
   "metadata": {
    "colab_type": "text",
    "id": "OY9w7-hY1334"
   },
   "source": [
    "#### Quiz 12\n",
    "\n",
    "True or false, logical operator `not` tests whether a condition is met?"
   ]
  },
  {
   "cell_type": "code",
   "execution_count": 2,
   "metadata": {
    "colab": {},
    "colab_type": "code",
    "id": "H9mACGa314Bf"
   },
   "outputs": [
    {
     "data": {
      "text/html": [
       "<nxbook-question notebook module-id=\"intro_to_python\" question-id=\"ysZfUGLsmRjq7NhZHwjB\" user-id=\"\" token=\"\"></nxbook-question>"
      ],
      "text/plain": [
       "<IPython.core.display.HTML object>"
      ]
     },
     "execution_count": 2,
     "metadata": {},
     "output_type": "execute_result"
    }
   ],
   "source": [
    "nxbookShowQuestion(module_id=\"intro_to_python\", question_id=\"ysZfUGLsmRjq7NhZHwjB\")"
   ]
  },
  {
   "cell_type": "markdown",
   "metadata": {
    "colab_type": "text",
    "id": "K9aABqpQ14L1"
   },
   "source": [
    "#### Quiz 13\n",
    "\n",
    "Use logical operator `and` to test if both of these conditions are met:\n",
    "\n",
    "*   flippers are greater than 4\n",
    "*   tails are equal to 1\n",
    "\n"
   ]
  },
  {
   "cell_type": "code",
   "execution_count": null,
   "metadata": {
    "colab": {
     "base_uri": "https://localhost:8080/",
     "height": 130
    },
    "colab_type": "code",
    "executionInfo": {
     "elapsed": 646,
     "status": "error",
     "timestamp": 1544059068647,
     "user": {
      "displayName": "Charlotte Smith",
      "photoUrl": "",
      "userId": "05194161354170586023"
     },
     "user_tz": 600
    },
    "id": "2LL_xirX14Vs",
    "outputId": "47abc733-24da-4fae-d97d-5721e745b1ab"
   },
   "outputs": [
    {
     "ename": "SyntaxError",
     "evalue": "ignored",
     "output_type": "error",
     "traceback": [
      "\u001b[0;36m  File \u001b[0;32m\"<ipython-input-3-08c6f0bdb9f5>\"\u001b[0;36m, line \u001b[0;32m6\u001b[0m\n\u001b[0;31m    if flippers 'CONDITIONAL HERE' 4 and tails 'CONDITIONAL HERE':;\u001b[0m\n\u001b[0m                                 ^\u001b[0m\n\u001b[0;31mSyntaxError\u001b[0m\u001b[0;31m:\u001b[0m invalid syntax\n"
     ]
    }
   ],
   "source": [
    "# Quiz 13\n",
    "\n",
    "flippers = 3\n",
    "\n",
    "tails = 0\n",
    "\n",
    "if flippers 'CONDITIONAL HERE' 4 and tails 'CONDITIONAL HERE':\n",
    "  print('This is a whale!')\n",
    "else:\n",
    "  print('This is some other sea creature')"
   ]
  },
  {
   "cell_type": "markdown",
   "metadata": {
    "colab_type": "text",
    "id": "t1cKqUxFGwKO"
   },
   "source": [
    "## Summary:\n",
    "---\n",
    "In this chapter, you learned about:\n",
    "* The different types of scalars including integers, floats, strings, and booleans. \n",
    "* Boolean statements and if else statements\n",
    "\n",
    "The next chapter will go over how to use pre-written Python variables and functions. You will learn about modules and how to use the functionalities stored in them.\n",
    "\n"
   ]
  }
 ],
 "metadata": {
  "colab": {
   "collapsed_sections": [],
   "name": "3. Intro to Python: Scalars.ipynb",
   "provenance": [],
   "version": "0.3.2"
  },
  "kernelspec": {
   "display_name": "Python 3",
   "language": "python",
   "name": "python3"
  },
  "language_info": {
   "codemirror_mode": {
    "name": "ipython",
    "version": 3
   },
   "file_extension": ".py",
   "mimetype": "text/x-python",
   "name": "python",
   "nbconvert_exporter": "python",
   "pygments_lexer": "ipython3",
   "version": "3.6.6"
  }
 },
 "nbformat": 4,
 "nbformat_minor": 2
}
