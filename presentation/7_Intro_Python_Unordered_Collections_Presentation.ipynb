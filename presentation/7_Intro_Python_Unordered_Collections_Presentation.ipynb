{
 "cells": [
  {
   "cell_type": "markdown",
   "metadata": {
    "colab_type": "text",
    "id": "macZLbAtN9K-",
    "slideshow": {
     "slide_type": "slide"
    }
   },
   "source": [
    "# Unordered Collections\n",
    "---\n",
    "\n",
    "* In addition to the ordered collections, Python offers another category of data structures to group data, which does not keep track of the items' order of insertion.  \n",
    "* One of the most valuable such data structures is the *dictionary*, which contains a set of unordered items, each of which is made up of a key and a value. \n",
    "* It is helpful to think of this as a *traditional* dictionary, which also holds keys, i.e., the words, and values, i.e., their definitions.\n"
   ]
  },
  {
   "cell_type": "markdown",
   "metadata": {
    "colab_type": "text",
    "id": "sz25DzjGN9K-",
    "slideshow": {
     "slide_type": "slide"
    }
   },
   "source": [
    "## Dictionaries\n",
    "---\n",
    "\n",
    "* As discussed before, dictionaries are unordered collections of items that contain a *unique* key and associated value. \n",
    "* The dictionary data structure arises frequently in everyday life: think of an exam grade book. Each of the entries in the grade book is an item that may consist of the student ids as keys, and their grades as values.\n"
   ]
  },
  {
   "cell_type": "markdown",
   "metadata": {
    "colab_type": "text",
    "id": "pmsWNQSON9K8",
    "slideshow": {
     "slide_type": "slide"
    }
   },
   "source": [
    "### Creating Dictionaries\n",
    "---\n",
    "\n",
    "* Dictionaries are defined using curly brackets (`{}`), and their items are separated by commas (`,`). The items, or the sets of keys and values, are separated by colons (`:`).\n",
    "\n",
    "* For example, to build a dictionary called `gradebook` of 3 elements that contains 3 student IDs (`v_sarah_1999`, `k_john_1998`, `h_jenny_1997`) and their respective grades (`A+`, `A-`, `A`), we would use the following syntax.\n",
    "\n",
    "<img src=\"images/unordered_collections/dictionary.JPG\" alt=\"drawing\" style=\"width:650px;\"/>"
   ]
  },
  {
   "cell_type": "markdown",
   "metadata": {
    "colab_type": "text",
    "id": "Z7fGTbpjN9Kz",
    "slideshow": {
     "slide_type": "slide"
    }
   },
   "source": [
    "### Accessing Elements using Keys\n",
    "---\n",
    "* Dictionaries do not have an inherent order, and, therefore, no indices can be used to index the contained items. \n",
    "* Instead, dictionaries uses its keys to locate values associate with them. \n",
    "* This is similar to how you would use a real dictionary; you look up the word to find the definitions. Similarly, you can look up a student's grade using their student id.\n",
    "\n",
    "* Just like the list indexing, we can access the value associated with the key using the brackets notation, but instead of providing an index, we provide the key.\n",
    "\n",
    "\n",
    "```python\n",
    "dictionary_name[key_1]\n",
    "```\n"
   ]
  },
  {
   "cell_type": "markdown",
   "metadata": {
    "colab_type": "text",
    "id": "OhKL_4-fN9Kz",
    "slideshow": {
     "slide_type": "slide"
    }
   },
   "source": [
    "### Example\n",
    "---\n",
    "* We can print `\"v_sarah_1999\"`'s grade from `gradebook` as shown below.\n"
   ]
  },
  {
   "cell_type": "code",
   "execution_count": 2,
   "metadata": {
    "slideshow": {
     "slide_type": "skip"
    }
   },
   "outputs": [],
   "source": [
    "gradebook = {\"v_sarah_1999\" : \"A+\", \"k_john_1998\" : \"A-\", \"h_jenny_1997\": \"A\"}"
   ]
  },
  {
   "cell_type": "code",
   "execution_count": 2,
   "metadata": {
    "colab": {},
    "colab_type": "code",
    "id": "kyxoQy0NN9Kw",
    "slideshow": {
     "slide_type": "fragment"
    }
   },
   "outputs": [
    {
     "name": "stdout",
     "output_type": "stream",
     "text": [
      "A+\n"
     ]
    }
   ],
   "source": [
    "print(gradebook[\"v_sarah_1999\"])"
   ]
  },
  {
   "cell_type": "markdown",
   "metadata": {
    "colab_type": "text",
    "id": "bW4LcLgoN9Kw",
    "slideshow": {
     "slide_type": "slide"
    }
   },
   "source": [
    "### Quiz\n",
    "---\n",
    "\n",
    "Which one of the solutions below returns from the dictionary `ghg_2014` India's greenhouse gas emissions (numbers are in thousands of metric tons of carbon)?\n",
    "\n",
    "```Python\n",
    "ghg_2014 = {'china' : 2806634, 'united states of america' : 1432855, 'india' : 610411, 'russian federation' : 465052, 'japan' : 331074}\n",
    "```\n",
    "\n",
    "A. `ghg_2014[3]`\n",
    "\n",
    "B. `ghg_2014[2]`\n",
    "\n",
    "C. `ghg_2014['india']`\n",
    "\n",
    "D. `ghg_2014[india]`\n",
    "\n"
   ]
  },
  {
   "cell_type": "markdown",
   "metadata": {
    "colab_type": "text",
    "id": "vwPpBjs2N9Kc",
    "slideshow": {
     "slide_type": "slide"
    }
   },
   "source": [
    "### Iterating Through Dictionaries\n",
    "---\n",
    "\n",
    "* Like with lists and tuples, dictionaries can be used as an iterator for `for` loops. \n",
    "* The dictionary's keys, values or key-value pairs can be used as iterators. \n",
    "* The order of items in a dictionary is \"random\", and as such, the order in which the items are processed is also random."
   ]
  },
  {
   "cell_type": "markdown",
   "metadata": {
    "colab_type": "text",
    "id": "FqKFcVFkN9KW",
    "slideshow": {
     "slide_type": "slide"
    }
   },
   "source": [
    "#### Accessing the Data stored a Dictionary\n",
    "---\n",
    "* Dictionaries have three useful methods to return the data stores in the dictionary. These methods are:\n",
    "\n",
    "    1-`keys()` which returns all the keys in the dictionary \n",
    "\n",
    "    2-`values()` which returns all the values in the dictionary \n",
    "\n",
    "    3-`items()` which returns all the items (key/value pairs) in the dictionary \n",
    "\n",
    "\n",
    "* All three methods return `iterators`, which can therefore be used in `for` loops. "
   ]
  },
  {
   "cell_type": "markdown",
   "metadata": {
    "slideshow": {
     "slide_type": "slide"
    }
   },
   "source": [
    "### Example\n",
    "---\n",
    "* In this example, we will go over looping through the keys, values and key/value pairs in the `ghg_2014` dictionary."
   ]
  },
  {
   "cell_type": "code",
   "execution_count": 3,
   "metadata": {
    "slideshow": {
     "slide_type": "skip"
    }
   },
   "outputs": [],
   "source": [
    "ghg_2014 = {'china' : 2806634, 'united states of america' : 1432855, 'india' : 610411, 'russian federation' : 465052, 'japan' : 331074}"
   ]
  },
  {
   "cell_type": "code",
   "execution_count": 4,
   "metadata": {
    "slideshow": {
     "slide_type": "fragment"
    }
   },
   "outputs": [
    {
     "name": "stdout",
     "output_type": "stream",
     "text": [
      "The greenhouse gas emission dictionary's keys are:\n",
      "China\n",
      "United States Of America\n",
      "India\n",
      "Russian Federation\n",
      "Japan\n"
     ]
    }
   ],
   "source": [
    "print(\"The greenhouse gas emission dictionary's keys are:\")\n",
    "for country in ghg_2014.keys():\n",
    "    print(country.title())"
   ]
  },
  {
   "cell_type": "code",
   "execution_count": 5,
   "metadata": {
    "slideshow": {
     "slide_type": "fragment"
    }
   },
   "outputs": [
    {
     "name": "stdout",
     "output_type": "stream",
     "text": [
      "The greenhouse gas emission dictionary's values are:\n",
      "2806634\n",
      "1432855\n",
      "610411\n",
      "465052\n",
      "331074\n"
     ]
    }
   ],
   "source": [
    "print(\"The greenhouse gas emission dictionary's values are:\")\n",
    "for ghg in ghg_2014.values():\n",
    "    print(ghg)"
   ]
  },
  {
   "cell_type": "code",
   "execution_count": 6,
   "metadata": {
    "slideshow": {
     "slide_type": "fragment"
    }
   },
   "outputs": [
    {
     "name": "stdout",
     "output_type": "stream",
     "text": [
      "The greenhouse gas emision dictionary's items are:\n",
      "china: 2806634\n",
      "united states of america: 1432855\n",
      "india: 610411\n",
      "russian federation: 465052\n",
      "japan: 331074\n"
     ]
    }
   ],
   "source": [
    "print(\"The greenhouse gas emision dictionary's items are:\")\n",
    "for country, ghg in ghg_2014.items():\n",
    "    print(\"{}: {}\".format(country, ghg))"
   ]
  },
  {
   "cell_type": "markdown",
   "metadata": {
    "slideshow": {
     "slide_type": "slide"
    }
   },
   "source": [
    "### Quiz\n",
    "---\n",
    "Which of the following pieces of code only prints the grades of each student in `gradebook`?\n",
    "\n",
    "A.\n",
    "```python\n",
    "for grade in gradebook:\n",
    "    print(grade)\n",
    "```\n",
    "B.\n",
    "```python\n",
    "for grade in gradebook.values():\n",
    "    print(grade)\n",
    "```\n",
    "C.\n",
    "```python\n",
    "for grade, student in gradebook.items():\n",
    "    print(grade)\n",
    "```"
   ]
  },
  {
   "cell_type": "markdown",
   "metadata": {
    "colab_type": "text",
    "id": "oCkFyCTzDrM3",
    "slideshow": {
     "slide_type": "slide"
    }
   },
   "source": [
    "## Advanced Data Structures\n",
    "---\n",
    "* Advanced data structures are essentially nested collections, which involve placing a collection within another collection. \n",
    "* For example, one can create a list of lists, a dictionary of dictionaries, a list of dictionaries, a dictionary of tuples and so on. \n",
    "* There are two ways to nest collections:\n",
    "    * The first is to directly define everything in one assignment statement.\n",
    "    * The second method involves building the collections separately and then combining the variables to build a nested collection."
   ]
  },
  {
   "cell_type": "markdown",
   "metadata": {
    "colab_type": "text",
    "id": "vZchFsp1Cbky",
    "slideshow": {
     "slide_type": "slide"
    }
   },
   "source": [
    "### Example\n",
    "---\n",
    "\n",
    "* We can create a list of tuples containing monuments on Oahu and their GPS coordinates.\n"
   ]
  },
  {
   "cell_type": "code",
   "execution_count": null,
   "metadata": {
    "colab": {
     "base_uri": "https://localhost:8080/",
     "height": 70
    },
    "colab_type": "code",
    "executionInfo": {
     "elapsed": 653,
     "status": "ok",
     "timestamp": 1547080518070,
     "user": {
      "displayName": "Jaclyn Lee",
      "photoUrl": "",
      "userId": "17525286701482268466"
     },
     "user_tz": 600
    },
    "id": "jvQNkx5xCozZ",
    "outputId": "f360cbeb-282c-4f14-958e-ff37a9c21d14",
    "slideshow": {
     "slide_type": "fragment"
    }
   },
   "outputs": [
    {
     "data": {
      "text/plain": [
       "[('USS Arizona', \"N21°18'\", \"W157°57'\"),\n",
       " ('Iolani Palace', \"N21°18'\", \"W157°51'\"),\n",
       " ('Diamond Head', \"N21°15'\", \"W157°48'\")]"
      ]
     },
     "execution_count": 1,
     "metadata": {
      "tags": []
     },
     "output_type": "execute_result"
    }
   ],
   "source": [
    "monuments = [('USS Arizona', \"N21°18'\", \"W157°57'\"),\n",
    "             (\"Iolani Palace\", \"N21°18'\", \"W157°51'\"),\n",
    "             (\"Diamond Head\", \"N21°15'\", \"W157°48'\")]\n",
    "monuments"
   ]
  },
  {
   "cell_type": "markdown",
   "metadata": {
    "colab_type": "text",
    "id": "ShLa2wwfCqbB",
    "slideshow": {
     "slide_type": "subslide"
    }
   },
   "source": [
    "* We will categorize the colleges in the Big West Athletic Conference into their respective university systems. All of this information will be organized within a dictionary."
   ]
  },
  {
   "cell_type": "code",
   "execution_count": null,
   "metadata": {
    "colab": {
     "base_uri": "https://localhost:8080/",
     "height": 54
    },
    "colab_type": "code",
    "executionInfo": {
     "elapsed": 443,
     "status": "ok",
     "timestamp": 1547080530696,
     "user": {
      "displayName": "Jaclyn Lee",
      "photoUrl": "",
      "userId": "17525286701482268466"
     },
     "user_tz": 600
    },
    "id": "KggfVqyPDDo9",
    "outputId": "61dc6be8-ef82-426d-fb5e-8afa080ff6a5",
    "slideshow": {
     "slide_type": "fragment"
    }
   },
   "outputs": [
    {
     "name": "stdout",
     "output_type": "stream",
     "text": [
      "{'CSU': ['cal poly', 'csuf', 'csun', 'long beach state'], 'UH': ['uhm'], 'UC': ['uc davis', 'uc irvine', 'uc riverside', 'uc santa barbara']}\n"
     ]
    }
   ],
   "source": [
    "csu = ['cal poly', 'csuf', 'csun', 'long beach state']\n",
    "uh = ['uhm']\n",
    "uc = ['uc davis', 'uc irvine', 'uc riverside', 'uc santa barbara']\n",
    "\n",
    "big_west = {'CSU' : csu, 'UH' : uh, 'UC' : uc}\n",
    "\n",
    "print(big_west)"
   ]
  },
  {
   "cell_type": "markdown",
   "metadata": {
    "colab_type": "text",
    "id": "NcVrTKVMDUJf",
    "slideshow": {
     "slide_type": "slide"
    }
   },
   "source": [
    "### Indexing Elements in Nested Collections\n",
    "---\n",
    "\n",
    "* You still use indices to refer to items in lists and tuples and keys to refer to items in dictionaries. \n",
    "* The difference is that you use an additional set of square brackets (with an index or key) to access items in sub collections. \n",
    "    * The index or key in the first square brackets will refer to the nested collections within the main collection as a whole. \n",
    "    * The second set of square brackets will refer to an item within the nested collection that the first square brackets specified.\n",
    "# Add anotated picture here"
   ]
  },
  {
   "cell_type": "markdown",
   "metadata": {
    "colab_type": "text",
    "id": "ZbeK9z6vGjXY",
    "slideshow": {
     "slide_type": "slide"
    }
   },
   "source": [
    "### Example\n",
    "---\n",
    "* Let's use the nested collections in the examples above to demonstrate how we can access elements in nested collections."
   ]
  },
  {
   "cell_type": "code",
   "execution_count": 2,
   "metadata": {
    "colab": {
     "base_uri": "https://localhost:8080/",
     "height": 158
    },
    "colab_type": "code",
    "executionInfo": {
     "elapsed": 415,
     "status": "ok",
     "timestamp": 1547080537529,
     "user": {
      "displayName": "Jaclyn Lee",
      "photoUrl": "",
      "userId": "17525286701482268466"
     },
     "user_tz": 600
    },
    "id": "tCWQjlw6EcPu",
    "outputId": "13a58ce6-522c-48d5-9c3b-8565d6bf9058",
    "slideshow": {
     "slide_type": "fragment"
    }
   },
   "outputs": [
    {
     "name": "stdout",
     "output_type": "stream",
     "text": [
      "This is the third element in the monuments list: ('Diamond Head', \"N21°15'\", \"W157°48'\")\n",
      "This is the second item in the second tuple in the monuments list: N21°18'\n",
      "This is the item under \"UC\": ['uc davis', 'uc irvine', 'uc riverside', 'uc santa barbara']\n",
      "This is the last item in the \"UC\" list: uc santa barbara\n"
     ]
    }
   ],
   "source": [
    "print(\"This is the third element in the monuments list: {}\".format(monuments[2]))\n",
    "\n",
    "print(\"This is the second item in the second tuple in the monuments list: {}\".format(monuments[1][1]))\n",
    "\n",
    "print('This is the item under \"UC\": {}'.format(big_west[\"UC\"]))\n",
    "\n",
    "print('This is the last item in the \"UC\" list: {}'.format(big_west[\"UC\"][-1]))"
   ]
  },
  {
   "cell_type": "markdown",
   "metadata": {
    "colab_type": "text",
    "id": "viIoUYuuoC5R",
    "slideshow": {
     "slide_type": "fragment"
    }
   },
   "source": [
    "* Using only one index or key allows you to refer to one of the nested collections, but using two indices or keys allows you to access an item within the nested collection. \n",
    "\n",
    "* How do you think you would refer to individual items in three levels of nested collections (for example a list within a list within a list)?"
   ]
  },
  {
   "cell_type": "markdown",
   "metadata": {
    "colab_type": "text",
    "id": "CZP9PtWAL_JW",
    "slideshow": {
     "slide_type": "slide"
    }
   },
   "source": [
    "### Quiz\n",
    "---\n",
    "\n",
    "Which of the following advance control structure combinations won't work?\n",
    "\n",
    "A. Nesting dictionaries inside of a list.\n",
    "\n",
    "B. Using lists as keys and values in a dictionary.\n",
    "\n",
    "C. Using tuples as keys and values in a dictionary.\n",
    "\n",
    "D. Nesting lists as values in dictionaries that are nested in a tuple."
   ]
  },
  {
   "cell_type": "markdown",
   "metadata": {
    "slideshow": {
     "slide_type": "slide"
    }
   },
   "source": [
    "### Quiz\n",
    "---\n",
    "How do you index the second element in the third tuple (18221.299) in the nested collection below?\n",
    "```python\n",
    "quarterly_us_gdp = [(16569.591, 16637.926, 16848.748, 17083.137),\n",
    "       (17102.932, 17425.766, 17719.836, 17838.454),\n",
    "       (17970.422, 18221.299, 18331.093, 18354.372),\n",
    "       (18409.13, 18640.732, 18799.648, 18979.245),\n",
    "       (19162.55, 19359.123, 19588.074, 19831.829)]\n",
    "\n",
    "```\n",
    "A.\n",
    "```python\n",
    "quarterly_us_gdp[2][3]\n",
    "```\n",
    "B.\n",
    "```python\n",
    "quarterly_us_gdp[-3][-2]\n",
    "```\n",
    "C.\n",
    "```python\n",
    "quarterly_us_gdp[-3][-3]\n",
    "```\n",
    "D.\n",
    "```python\n",
    "quarterly_us_gdp[2][1]\n",
    "```"
   ]
  },
  {
   "cell_type": "markdown",
   "metadata": {
    "colab_type": "text",
    "id": "p2LK0xLoN9J7",
    "slideshow": {
     "slide_type": "slide"
    }
   },
   "source": [
    "## Summary\n",
    "---\n",
    "This section covered:\n",
    "* Creating dictionaries\n",
    "* Referring to values within a dictionary\n",
    "* How to loop through a dictionary.\n",
    "* How to create and work with advance data structures. \n",
    "\n",
    "The next section will cover advance control structures that use different combinations of `if-else` statements and `for` loops."
   ]
  }
 ],
 "metadata": {
  "celltoolbar": "Slideshow",
  "colab": {
   "collapsed_sections": [],
   "name": "7 Intro to Python: Unordered Collections",
   "provenance": [],
   "version": "0.3.2"
  },
  "hide_input": false,
  "kernelspec": {
   "display_name": "Python 3",
   "language": "python",
   "name": "python3"
  },
  "language_info": {
   "codemirror_mode": {
    "name": "ipython",
    "version": 3
   },
   "file_extension": ".py",
   "mimetype": "text/x-python",
   "name": "python",
   "nbconvert_exporter": "python",
   "pygments_lexer": "ipython3",
   "version": "3.6.4"
  }
 },
 "nbformat": 4,
 "nbformat_minor": 2
}
