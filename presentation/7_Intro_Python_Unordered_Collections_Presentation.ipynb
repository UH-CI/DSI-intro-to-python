{
 "cells": [
  {
   "cell_type": "code",
   "execution_count": 1,
   "metadata": {
    "slideshow": {
     "slide_type": "skip"
    }
   },
   "outputs": [
    {
     "data": {
      "text/html": [
       "<style>\n",
       "    @font-face {\n",
       "        font-family: \"Computer Modern\";\n",
       "        src: url('http://9dbb143991406a7c655e-aa5fcb0a5a4ec34cff238a2d56ca4144.r56.cf5.rackcdn.com/cmunss.otf');\n",
       "    }\n",
       "    @font-face {\n",
       "        font-family: \"Computer Modern\";\n",
       "        font-weight: bold;\n",
       "        src: url('http://9dbb143991406a7c655e-aa5fcb0a5a4ec34cff238a2d56ca4144.r56.cf5.rackcdn.com/cmunsx.otf');\n",
       "    }\n",
       "    @font-face {\n",
       "        font-family: \"Computer Modern\";\n",
       "        font-style: oblique;\n",
       "        src: url('http://9dbb143991406a7c655e-aa5fcb0a5a4ec34cff238a2d56ca4144.r56.cf5.rackcdn.com/cmunsi.otf');\n",
       "    }\n",
       "    @font-face {\n",
       "        font-family: \"Computer Modern\";\n",
       "        font-weight: bold;\n",
       "        font-style: oblique;\n",
       "        src: url('http://9dbb143991406a7c655e-aa5fcb0a5a4ec34cff238a2d56ca4144.r56.cf5.rackcdn.com/cmunso.otf');\n",
       "    }\n",
       "    div.cell{\n",
       "        width:900px;\n",
       "        margin-left:5% !important;\n",
       "        margin-right:auto;\n",
       "    }\n",
       "    h1 {\n",
       "        font-family: Helvetica, serif;\n",
       "    }\n",
       "    h4{\n",
       "        margin-top:12px;\n",
       "        margin-bottom: 3px;\n",
       "       }\n",
       "    div.text_cell_render{\n",
       "        font-family: Computer Modern, \"Helvetica Neue\", Arial, Helvetica, Geneva, sans-serif;\n",
       "        line-height: 145%;\n",
       "        font-size: 130%;\n",
       "        width:800px;\n",
       "        margin-left:auto;\n",
       "        margin-right:auto;\n",
       "    }\n",
       "    .CodeMirror{\n",
       "            font-family: \"Source Code Pro\", source-code-pro,Consolas, monospace;\n",
       "    }\n",
       "    .prompt{\n",
       "        display: None;\n",
       "    }\n",
       "    .text_cell_render h5 {\n",
       "        font-weight: 300;\n",
       "        font-size: 26pt;\n",
       "        color: #4057A1;\n",
       "        font-style: italic;\n",
       "        margin-bottom: .5em;\n",
       "        margin-top: 0.5em;\n",
       "        display: block;\n",
       "    }\n",
       "    \n",
       "    .warning{\n",
       "        color: rgb( 240, 20, 20 )\n",
       "        }  \n",
       "</style>\n",
       "<script>\n",
       "    MathJax.Hub.Config({\n",
       "                        TeX: {\n",
       "                           extensions: [\"AMSmath.js\"]\n",
       "                           },\n",
       "                tex2jax: {\n",
       "                    inlineMath: [ ['$','$'], [\"\\\\(\",\"\\\\)\"] ],\n",
       "                    displayMath: [ ['$$','$$'], [\"\\\\[\",\"\\\\]\"] ]\n",
       "                },\n",
       "                displayAlign: 'center', // Change this to 'center' to center equations.\n",
       "                \"HTML-CSS\": {\n",
       "                    styles: {'.MathJax_Display': {\"margin\": 4}}\n",
       "                }\n",
       "        });\n",
       "</script>\n"
      ],
      "text/plain": [
       "<IPython.core.display.HTML object>"
      ]
     },
     "execution_count": 1,
     "metadata": {},
     "output_type": "execute_result"
    }
   ],
   "source": [
    "from IPython.core.display import HTML\n",
    "\n",
    "def set_css_style(css_file_path):\n",
    "    \"\"\"\n",
    "    Read the custom CSS file and load it into Jupyter.\n",
    "    Pass the file path to the CSS file.\n",
    "    \"\"\"\n",
    "    styles = open(css_file_path, \"r\").read()\n",
    "    return HTML(styles)\n",
    "\n",
    "set_css_style('styles/custom.css')"
   ]
  },
  {
   "cell_type": "markdown",
   "metadata": {
    "colab_type": "text",
    "id": "macZLbAtN9K-",
    "slideshow": {
     "slide_type": "slide"
    }
   },
   "source": [
    "# Unordered Collections\n",
    "---\n",
    "\n",
    "* Unordered collections* are set of objects where the order is not important.\n",
    "\n",
    "\n",
    "\n",
    "* The most commonly used such collections are dictionaries.\n"
   ]
  },
  {
   "cell_type": "markdown",
   "metadata": {
    "colab_type": "text",
    "id": "sz25DzjGN9K-",
    "slideshow": {
     "slide_type": "slide"
    }
   },
   "source": [
    "## Dictionaries\n",
    "---\n",
    "\n",
    "* Dictionaries are unordered collections.\n",
    "\n",
    "\n",
    "\n",
    "* Each item in a dictionary consists of a *unique* key and an associated value. \n",
    "    \n",
    "    \n",
    "* Similar to traditional (physical) dictionaries.\n",
    "\n",
    "  * The words are keys and definitions are the values.\n",
    "\n"
   ]
  },
  {
   "cell_type": "markdown",
   "metadata": {
    "colab_type": "text",
    "id": "pmsWNQSON9K8",
    "slideshow": {
     "slide_type": "slide"
    }
   },
   "source": [
    "### Creating Dictionaries\n",
    "---\n",
    "\n",
    "* Dictionaries are: \n",
    "    * Defined using curly brackets (`{}`).\n",
    "    * Items are separated by commas (`,`).\n",
    "    * Keys and values, are separated by colons (`:`).\n",
    "\n",
    "\n",
    "* For example, below is a representation of `gradebook` dictionary where:\n",
    "    * users (`v_sarah_1999`, `k_john_1998`, `h_jenny_1997`) are the keys.\n",
    "    * the corresponding grades (`A+`, `A-`, `A`) as the values.\n",
    "\n",
    "\n",
    "<img src=\"images/unordered_collections/dictionary.JPG\" alt=\"drawing\" style=\"width:650px;\"/>"
   ]
  },
  {
   "cell_type": "markdown",
   "metadata": {
    "colab_type": "text",
    "id": "Z7fGTbpjN9Kz",
    "slideshow": {
     "slide_type": "slide"
    }
   },
   "source": [
    "### Accessing Elements using Keys\n",
    "---\n",
    "* Dictionaries do not use indices to access the contained items. \n",
    "  * Recall, they have no inherent order.\n",
    "\n",
    "* Instead, dictionaries use keys to locate values. \n",
    "        * We access the value associated with the key using the brackets notation.\n",
    "\n",
    "\n",
    "```python\n",
    "dictionary_name[key_1]\n",
    "```\n",
    "\n",
    "\n",
    "\n",
    "\n"
   ]
  },
  {
   "cell_type": "markdown",
   "metadata": {
    "colab_type": "text",
    "id": "OhKL_4-fN9Kz",
    "slideshow": {
     "slide_type": "slide"
    }
   },
   "source": [
    "### Example\n",
    "---\n",
    "* We can print `\"v_sarah_1999\"`'s grade from `gradebook` as shown below.\n"
   ]
  },
  {
   "cell_type": "code",
   "execution_count": 2,
   "metadata": {
    "colab": {},
    "colab_type": "code",
    "id": "kyxoQy0NN9Kw",
    "slideshow": {
     "slide_type": "fragment"
    }
   },
   "outputs": [
    {
     "name": "stdout",
     "output_type": "stream",
     "text": [
      "A+\n"
     ]
    }
   ],
   "source": [
    "gradebook = {\"v_sarah_1999\" : \"A+\", \"k_john_1998\" : \"A-\", \"h_jenny_1997\": \"A\"}\n",
    "\n",
    "print(gradebook[\"v_sarah_1999\"])"
   ]
  },
  {
   "cell_type": "markdown",
   "metadata": {
    "colab_type": "text",
    "id": "bW4LcLgoN9Kw",
    "slideshow": {
     "slide_type": "slide"
    }
   },
   "source": [
    "### Quiz\n",
    "---\n",
    "\n",
    "Which one of the solutions below returns from the dictionary `ghg_2014` India's greenhouse gas emissions (numbers are in thousands of metric tons of carbon)?\n",
    "\n",
    "```Python\n",
    "ghg_2014 = {'china' : 2806634, 'united states of america' : 1432855, 'india' : 610411, 'russian federation' : 465052, 'japan' : 331074}\n",
    "```\n",
    "\n",
    "A. `ghg_2014[\"india\"]`\n",
    "\n",
    "B. `ghg_2014[2]`\n",
    "\n",
    "C. `ghg_2014['india']`\n",
    "\n",
    "D. `ghg_2014[india]`\n",
    "\n"
   ]
  },
  {
   "cell_type": "markdown",
   "metadata": {
    "colab_type": "text",
    "id": "vwPpBjs2N9Kc",
    "slideshow": {
     "slide_type": "slide"
    }
   },
   "source": [
    "### Iterating Through Dictionaries\n",
    "---\n",
    "\n",
    "* Dictionaries are collections.\n",
    "  * The lists of keys, values or key-value pairs are also collections.\n",
    "  * Those can be used as iterators for `for` loops. \n",
    "\n",
    "\n",
    "* The order in which the items are processed; i.e., added to the list, is unpredictable."
   ]
  },
  {
   "cell_type": "markdown",
   "metadata": {
    "colab_type": "text",
    "id": "FqKFcVFkN9KW",
    "slideshow": {
     "slide_type": "slide"
    }
   },
   "source": [
    "#### Accessing the Data stored a Dictionary\n",
    "---\n",
    "* Dictionaries have three useful methods:\n",
    "\n",
    "    1-`keys()`:  returns all the keys in the dictionary.\n",
    "\n",
    "    2-`values()`: returns all the values in the dictionary.\n",
    "\n",
    "    3-`items()`: returns all the items (key/value pairs) in the dictionary. \n",
    "\n",
    "\n",
    "* All three methods return `iterators`, which can therefore be used in `for` loops. "
   ]
  },
  {
   "cell_type": "markdown",
   "metadata": {
    "slideshow": {
     "slide_type": "slide"
    }
   },
   "source": [
    "### Example\n",
    "---\n",
    "* In this example, we will go over looping through the keys, values and key/value pairs in the `ghg_2014` dictionary."
   ]
  },
  {
   "cell_type": "code",
   "execution_count": 4,
   "metadata": {
    "slideshow": {
     "slide_type": "skip"
    }
   },
   "outputs": [],
   "source": [
    "ghg_2014 = {'china' : 2806634, 'united states of america' : 1432855, 'india' : 610411, 'russian federation' : 465052, 'japan' : 331074}"
   ]
  },
  {
   "cell_type": "code",
   "execution_count": 5,
   "metadata": {
    "slideshow": {
     "slide_type": "fragment"
    }
   },
   "outputs": [
    {
     "name": "stdout",
     "output_type": "stream",
     "text": [
      "The greenhouse gas emission dictionary's keys are:\n",
      "china\n",
      "united states of america\n",
      "india\n",
      "russian federation\n",
      "japan\n"
     ]
    }
   ],
   "source": [
    "print(\"The greenhouse gas emission dictionary's keys are:\")\n",
    "for country in ghg_2014.keys():\n",
    "    print(country)"
   ]
  },
  {
   "cell_type": "code",
   "execution_count": 6,
   "metadata": {
    "slideshow": {
     "slide_type": "fragment"
    }
   },
   "outputs": [
    {
     "name": "stdout",
     "output_type": "stream",
     "text": [
      "The greenhouse gas emission dictionary's values are:\n",
      "2806634\n",
      "1432855\n",
      "610411\n",
      "465052\n",
      "331074\n"
     ]
    }
   ],
   "source": [
    "print(\"The greenhouse gas emission dictionary's values are:\")\n",
    "for ghg in ghg_2014.values():\n",
    "    print(ghg)"
   ]
  },
  {
   "cell_type": "code",
   "execution_count": 10,
   "metadata": {
    "slideshow": {
     "slide_type": "fragment"
    }
   },
   "outputs": [
    {
     "name": "stdout",
     "output_type": "stream",
     "text": [
      "The greenhouse gas emision dictionary's items are:\n",
      "china: 2806634 \n",
      "united states of america: 1432855 \n",
      "india: 610411 \n",
      "russian federation: 465052 \n",
      "japan: 331074 \n"
     ]
    }
   ],
   "source": [
    "print(\"The greenhouse gas emision dictionary's items are:\")\n",
    "\n",
    "for country, ghg in ghg_2014.items():\n",
    "    print(\"{}: {} \".format(country, ghg))\n"
   ]
  },
  {
   "cell_type": "markdown",
   "metadata": {
    "slideshow": {
     "slide_type": "slide"
    }
   },
   "source": [
    "### Quiz\n",
    "---\n",
    "Which of the following pieces of code only prints the grades of each student in `gradebook`?\n",
    "\n",
    "A.\n",
    "```python\n",
    "for grade in gradebook:\n",
    "    print(grade)\n",
    "```\n",
    "B.\n",
    "```python\n",
    "for grade in gradebook.values():\n",
    "    print(grade)\n",
    "```\n",
    "C.\n",
    "```python\n",
    "for grade, student in gradebook.items():\n",
    "    print(grade)\n",
    "```"
   ]
  },
  {
   "cell_type": "markdown",
   "metadata": {
    "colab_type": "text",
    "id": "oCkFyCTzDrM3",
    "slideshow": {
     "slide_type": "slide"
    }
   },
   "source": [
    "## Advanced Data Structures\n",
    "---\n",
    "* Nested collections are advanced data structures that provide flexibility in organizing complex data.\n",
    "\n",
    "\n",
    "* One can create:\n",
    "    * A list of lists.\n",
    "    * A list of dictionaries.\n",
    "    * A dictionary of tuples. \n",
    "    * etc.\n",
    "    \n",
    "    \n",
    "* There are two ways to nest collections:\n",
    "    * Manually define the data structure in an assignment.\n",
    "    \n",
    "    * Build sub-collections separately then programmatically combine them."
   ]
  },
  {
   "cell_type": "markdown",
   "metadata": {
    "colab_type": "text",
    "id": "vZchFsp1Cbky",
    "slideshow": {
     "slide_type": "slide"
    }
   },
   "source": [
    "### Example: Manually Build the Data Structure\n",
    "---\n",
    "\n",
    "* We can create a list of tuples containing monuments on Oahu and their GPS coordinates.\n"
   ]
  },
  {
   "cell_type": "code",
   "execution_count": 13,
   "metadata": {
    "colab": {
     "base_uri": "https://localhost:8080/",
     "height": 70
    },
    "colab_type": "code",
    "executionInfo": {
     "elapsed": 653,
     "status": "ok",
     "timestamp": 1547080518070,
     "user": {
      "displayName": "Jaclyn Lee",
      "photoUrl": "",
      "userId": "17525286701482268466"
     },
     "user_tz": 600
    },
    "id": "jvQNkx5xCozZ",
    "outputId": "f360cbeb-282c-4f14-958e-ff37a9c21d14",
    "slideshow": {
     "slide_type": "fragment"
    }
   },
   "outputs": [
    {
     "data": {
      "text/plain": [
       "[('USS Arizona', \"N21°18'\", \"W157°57'\"),\n",
       " ('Iolani Palace', \"N21°18'\", \"W157°51'\"),\n",
       " ('Diamond Head', \"N21°15'\", \"W157°48'\")]"
      ]
     },
     "execution_count": 13,
     "metadata": {},
     "output_type": "execute_result"
    }
   ],
   "source": [
    "monuments = [('USS Arizona', \"N21°18'\", \"W157°57'\"),\n",
    "             (\"Iolani Palace\", \"N21°18'\", \"W157°51'\"),\n",
    "             (\"Diamond Head\", \"N21°15'\", \"W157°48'\")]\n",
    "monuments"
   ]
  },
  {
   "cell_type": "markdown",
   "metadata": {
    "colab_type": "text",
    "id": "ShLa2wwfCqbB",
    "slideshow": {
     "slide_type": "slide"
    }
   },
   "source": [
    "### Example:  Programmatically Generate the Data Structure\n",
    "---\n",
    "* We will categorize the colleges in the Big West Athletic Conference into their respective university systems.\n",
    "\n",
    "```python\n",
    "csu = ['cal poly', 'csuf', 'csun', 'long beach state']\n",
    "uh = ['uhm']\n",
    "uc = ['uc davis', 'uc irvine', 'uc riverside', 'uc santa barbara']\n",
    "```\n",
    "\n",
    "* All of this information will be organized within a dictionary."
   ]
  },
  {
   "cell_type": "code",
   "execution_count": 11,
   "metadata": {
    "colab": {
     "base_uri": "https://localhost:8080/",
     "height": 54
    },
    "colab_type": "code",
    "executionInfo": {
     "elapsed": 443,
     "status": "ok",
     "timestamp": 1547080530696,
     "user": {
      "displayName": "Jaclyn Lee",
      "photoUrl": "",
      "userId": "17525286701482268466"
     },
     "user_tz": 600
    },
    "id": "KggfVqyPDDo9",
    "outputId": "61dc6be8-ef82-426d-fb5e-8afa080ff6a5",
    "slideshow": {
     "slide_type": "fragment"
    }
   },
   "outputs": [
    {
     "name": "stdout",
     "output_type": "stream",
     "text": [
      "{'CSU': ['cal poly', 'csuf', 'csun', 'long beach state'], 'UH': ['uhm'], 'UC': ['uc davis', 'uc irvine', 'uc riverside', 'uc santa barbara']}\n"
     ]
    }
   ],
   "source": [
    "csu = ['cal poly', 'csuf', 'csun', 'long beach state']\n",
    "uh = ['uhm']\n",
    "uc = ['uc davis', 'uc irvine', 'uc riverside', 'uc santa barbara']\n",
    "\n",
    "big_west = {'CSU' : csu, 'UH' : uh, 'UC' : uc}\n",
    "\n",
    "print(big_west)"
   ]
  },
  {
   "cell_type": "markdown",
   "metadata": {
    "colab_type": "text",
    "id": "NcVrTKVMDUJf",
    "slideshow": {
     "slide_type": "slide"
    }
   },
   "source": [
    "### Indexing Elements in Nested Collections\n",
    "---\n",
    "\n",
    "* We index based on the value we are indexing in.\n",
    "  * Using integers with lists and tuples and keys for dictionaries. \n",
    "\n",
    "\n",
    "* Use an additional set of square brackets (with an index or key) to access items in sub-collections.\n",
    "    * each pair of square brackets indicate one hierarchical level\n",
    " \n",
    "<img src=\"images/unordered_collections/advance_data_index.png\" alt=\"drawing\" style=\"width:500px;\"/>"
   ]
  },
  {
   "cell_type": "markdown",
   "metadata": {
    "colab_type": "text",
    "id": "ZbeK9z6vGjXY",
    "slideshow": {
     "slide_type": "slide"
    }
   },
   "source": [
    "### Example 1\n",
    "---\n",
    "* Let's use the nested collections in the examples above to demonstrate how we can access elements in nested collections.\n",
    "\n",
    "```python\n",
    "monuments = [('USS Arizona', \"N21°18'\", \"W157°57'\"),\n",
    "             (\"Iolani Palace\", \"N21°18'\", \"W157°51'\"),\n",
    "             (\"Diamond Head\", \"N21°15'\", \"W157°48'\")]\n",
    "```"
   ]
  },
  {
   "cell_type": "code",
   "execution_count": 14,
   "metadata": {
    "colab": {
     "base_uri": "https://localhost:8080/",
     "height": 158
    },
    "colab_type": "code",
    "executionInfo": {
     "elapsed": 415,
     "status": "ok",
     "timestamp": 1547080537529,
     "user": {
      "displayName": "Jaclyn Lee",
      "photoUrl": "",
      "userId": "17525286701482268466"
     },
     "user_tz": 600
    },
    "id": "tCWQjlw6EcPu",
    "outputId": "13a58ce6-522c-48d5-9c3b-8565d6bf9058",
    "slideshow": {
     "slide_type": "fragment"
    }
   },
   "outputs": [
    {
     "name": "stdout",
     "output_type": "stream",
     "text": [
      "('Diamond Head', \"N21°15'\", \"W157°48'\")\n",
      "N21°15'\n",
      "['uc davis', 'uc irvine', 'uc riverside', 'uc santa barbara']\n",
      "uc santa barbara\n"
     ]
    }
   ],
   "source": [
    "\n",
    "print(monuments[2])\n",
    "\n"
   ]
  },
  {
   "cell_type": "code",
   "execution_count": 16,
   "metadata": {
    "slideshow": {
     "slide_type": "slide"
    }
   },
   "outputs": [
    {
     "name": "stdout",
     "output_type": "stream",
     "text": [
      "N21°15'\n"
     ]
    }
   ],
   "source": [
    "print(monuments[2][1])\n"
   ]
  },
  {
   "cell_type": "markdown",
   "metadata": {},
   "source": [
    "### Example 2\n",
    "\n",
    "```python\n",
    "big_west = {\n",
    "    'CSU': ['cal poly', 'csuf', 'csun', 'long beach state'], \n",
    "    'UH': ['uhm'], \n",
    "    'UC': ['uc davis', 'uc irvine', 'uc riverside', 'uc santa barbara']\n",
    "}\n",
    "\n",
    "print(big_west[\"UC\"])\n",
    "\n",
    "```\n",
    "\n",
    "* prints \n",
    "```python\n",
    "['uc davis', 'uc irvine', 'uc riverside', 'uc santa barbara']\n",
    "```"
   ]
  },
  {
   "cell_type": "code",
   "execution_count": 18,
   "metadata": {
    "slideshow": {
     "slide_type": "slide"
    }
   },
   "outputs": [
    {
     "name": "stdout",
     "output_type": "stream",
     "text": [
      "['uc davis', 'uc irvine', 'uc riverside', 'uc santa barbara']\n"
     ]
    }
   ],
   "source": [
    "\n",
    "print(big_west[\"UC\"])\n",
    "\n"
   ]
  },
  {
   "cell_type": "code",
   "execution_count": 19,
   "metadata": {
    "slideshow": {
     "slide_type": "slide"
    }
   },
   "outputs": [
    {
     "name": "stdout",
     "output_type": "stream",
     "text": [
      "uc santa barbara\n"
     ]
    }
   ],
   "source": [
    "print(big_west[\"UC\"][-1])"
   ]
  },
  {
   "cell_type": "markdown",
   "metadata": {
    "colab_type": "text",
    "id": "viIoUYuuoC5R",
    "slideshow": {
     "slide_type": "slide"
    }
   },
   "source": [
    "### Nested Collections\n",
    "\n",
    "\n",
    "* Using only one index or key allows you to refer to one of the nested collections\n",
    "\n",
    "\n",
    "* Using two indices or keys allow you to access an item within the nested collection. \n",
    "\n",
    "  * Using additional indexes allows you to delve deeper into the collection\n",
    "\n"
   ]
  },
  {
   "cell_type": "markdown",
   "metadata": {
    "colab_type": "text",
    "id": "CZP9PtWAL_JW",
    "slideshow": {
     "slide_type": "slide"
    }
   },
   "source": [
    "### Quiz\n",
    "---\n",
    "\n",
    "Which of the following advance control structure combinations won't work?\n",
    "\n",
    "A. Nesting dictionaries inside of a list.\n",
    "\n",
    "B. Using lists as keys and values in a dictionary.\n",
    "\n",
    "C. Using tuples as keys and values in a dictionary.\n",
    "\n",
    "D. Nesting lists as values in dictionaries that are nested in a tuple."
   ]
  },
  {
   "cell_type": "markdown",
   "metadata": {
    "slideshow": {
     "slide_type": "slide"
    }
   },
   "source": [
    "### Quiz\n",
    "---\n",
    "How do you index the second element in the third tuple (18221.299) in the nested collection below?\n",
    "```python\n",
    "quarterly_us_gdp = [(16569.591, 16637.926, 16848.748, 17083.137),\n",
    "       (17102.932, 17425.766, 17719.836, 17838.454),\n",
    "       (17970.422, 18221.299, 18331.093, 18354.372),\n",
    "       (18409.13, 18640.732, 18799.648, 18979.245),\n",
    "       (19162.55, 19359.123, 19588.074, 19831.829)]\n",
    "\n",
    "```\n",
    "A.\n",
    "```python\n",
    "quarterly_us_gdp[2][3]\n",
    "```\n",
    "B.\n",
    "```python\n",
    "quarterly_us_gdp[-3][-2]\n",
    "```\n",
    "C.\n",
    "```python\n",
    "quarterly_us_gdp[-3][-3]\n",
    "```\n",
    "D.\n",
    "```python\n",
    "quarterly_us_gdp[2][1]\n",
    "```"
   ]
  },
  {
   "cell_type": "markdown",
   "metadata": {
    "colab_type": "text",
    "id": "p2LK0xLoN9J7",
    "slideshow": {
     "slide_type": "slide"
    }
   },
   "source": [
    "## Summary\n",
    "---\n",
    "This section covered:\n",
    "* Creating dictionaries\n",
    "* Referring to values within a dictionary\n",
    "* How to loop through a dictionary.\n",
    "* How to create and work with advance data structures. \n"
   ]
  }
 ],
 "metadata": {
  "celltoolbar": "Slideshow",
  "colab": {
   "collapsed_sections": [],
   "name": "7 Intro to Python: Unordered Collections",
   "provenance": [],
   "version": "0.3.2"
  },
  "hide_input": false,
  "kernelspec": {
   "display_name": "Python 3",
   "language": "python",
   "name": "python3"
  },
  "language_info": {
   "codemirror_mode": {
    "name": "ipython",
    "version": 3
   },
   "file_extension": ".py",
   "mimetype": "text/x-python",
   "name": "python",
   "nbconvert_exporter": "python",
   "pygments_lexer": "ipython3",
   "version": "3.7.3"
  }
 },
 "nbformat": 4,
 "nbformat_minor": 2
}
