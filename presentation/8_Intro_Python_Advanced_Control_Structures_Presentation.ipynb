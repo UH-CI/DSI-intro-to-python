{
 "cells": [
  {
   "cell_type": "code",
   "execution_count": 1,
   "metadata": {
    "slideshow": {
     "slide_type": "skip"
    }
   },
   "outputs": [
    {
     "data": {
      "text/html": [
       "<style>\n",
       "    @font-face {\n",
       "        font-family: \"Computer Modern\";\n",
       "        src: url('http://9dbb143991406a7c655e-aa5fcb0a5a4ec34cff238a2d56ca4144.r56.cf5.rackcdn.com/cmunss.otf');\n",
       "    }\n",
       "    @font-face {\n",
       "        font-family: \"Computer Modern\";\n",
       "        font-weight: bold;\n",
       "        src: url('http://9dbb143991406a7c655e-aa5fcb0a5a4ec34cff238a2d56ca4144.r56.cf5.rackcdn.com/cmunsx.otf');\n",
       "    }\n",
       "    @font-face {\n",
       "        font-family: \"Computer Modern\";\n",
       "        font-style: oblique;\n",
       "        src: url('http://9dbb143991406a7c655e-aa5fcb0a5a4ec34cff238a2d56ca4144.r56.cf5.rackcdn.com/cmunsi.otf');\n",
       "    }\n",
       "    @font-face {\n",
       "        font-family: \"Computer Modern\";\n",
       "        font-weight: bold;\n",
       "        font-style: oblique;\n",
       "        src: url('http://9dbb143991406a7c655e-aa5fcb0a5a4ec34cff238a2d56ca4144.r56.cf5.rackcdn.com/cmunso.otf');\n",
       "    }\n",
       "    div.cell{\n",
       "        width:900px;\n",
       "        margin-left:5% !important;\n",
       "        margin-right:auto;\n",
       "    }\n",
       "    h1 {\n",
       "        font-family: Helvetica, serif;\n",
       "    }\n",
       "    h4{\n",
       "        margin-top:12px;\n",
       "        margin-bottom: 3px;\n",
       "       }\n",
       "    div.text_cell_render{\n",
       "        font-family: Computer Modern, \"Helvetica Neue\", Arial, Helvetica, Geneva, sans-serif;\n",
       "        line-height: 145%;\n",
       "        font-size: 130%;\n",
       "        width:800px;\n",
       "        margin-left:auto;\n",
       "        margin-right:auto;\n",
       "    }\n",
       "    .CodeMirror{\n",
       "            font-family: \"Source Code Pro\", source-code-pro,Consolas, monospace;\n",
       "    }\n",
       "    .prompt{\n",
       "        display: None;\n",
       "    }\n",
       "    .text_cell_render h5 {\n",
       "        font-weight: 300;\n",
       "        font-size: 26pt;\n",
       "        color: #4057A1;\n",
       "        font-style: italic;\n",
       "        margin-bottom: .5em;\n",
       "        margin-top: 0.5em;\n",
       "        display: block;\n",
       "    }\n",
       "    \n",
       "    .warning{\n",
       "        color: rgb( 240, 20, 20 )\n",
       "        }  \n",
       "</style>\n",
       "<script>\n",
       "    MathJax.Hub.Config({\n",
       "                        TeX: {\n",
       "                           extensions: [\"AMSmath.js\"]\n",
       "                           },\n",
       "                tex2jax: {\n",
       "                    inlineMath: [ ['$','$'], [\"\\\\(\",\"\\\\)\"] ],\n",
       "                    displayMath: [ ['$$','$$'], [\"\\\\[\",\"\\\\]\"] ]\n",
       "                },\n",
       "                displayAlign: 'center', // Change this to 'center' to center equations.\n",
       "                \"HTML-CSS\": {\n",
       "                    styles: {'.MathJax_Display': {\"margin\": 4}}\n",
       "                }\n",
       "        });\n",
       "</script>\n"
      ],
      "text/plain": [
       "<IPython.core.display.HTML object>"
      ]
     },
     "execution_count": 1,
     "metadata": {},
     "output_type": "execute_result"
    }
   ],
   "source": [
    "from IPython.core.display import HTML\n",
    "\n",
    "def set_css_style(css_file_path):\n",
    "    \"\"\"\n",
    "    Read the custom CSS file and load it into Jupyter.\n",
    "    Pass the file path to the CSS file.\n",
    "    \"\"\"\n",
    "    styles = open(css_file_path, \"r\").read()\n",
    "    return HTML(styles)\n",
    "\n",
    "set_css_style('styles/custom.css')"
   ]
  },
  {
   "cell_type": "markdown",
   "metadata": {
    "colab_type": "text",
    "id": "kj6UPZUylhel",
    "slideshow": {
     "slide_type": "slide"
    }
   },
   "source": [
    "# Advanced Control Structures\n",
    "---\n",
    "\n",
    "* This section introduces advanced control structures:\n",
    "    * *`if-else` statements nested in `for` loops*\n",
    "    * *`for` loops nested in `for` loops*. "
   ]
  },
  {
   "cell_type": "markdown",
   "metadata": {
    "colab_type": "text",
    "id": "aqFeHz31mNTL",
    "slideshow": {
     "slide_type": "slide"
    }
   },
   "source": [
    "## Nested `if-else` statements in `for` loops\n",
    "---\n",
    "\n",
    "* The `for` loop is used to iterate through a collection.\n",
    "\n",
    "\n",
    "* The nested `if-else` statement will execute a certain task if a condition is met.\n",
    "\n",
    "\n",
    "* This can be used for iterating over a list of elements and filtering the elements based upon some condition."
   ]
  },
  {
   "cell_type": "markdown",
   "metadata": {
    "slideshow": {
     "slide_type": "slide"
    }
   },
   "source": [
    "* For example:\n",
    "```python\n",
    "youtube_views = [('G7PydoX_WNQ', 31230), ('P81i66_tLlU' , 184961), ('VgEbcQxFUu8', 1139112)]\n",
    "for video in youtube_views:\n",
    "    if video[1] > 100000:\n",
    "        print(video[0])\n",
    "```\n",
    "* can be visualized like this:\n",
    "<img src=\"images/advanced_control_structure/nested_if_for_1.jpg\" alt=\"drawing\" style=\"width:650px;\"/>"
   ]
  },
  {
   "cell_type": "markdown",
   "metadata": {
    "colab_type": "text",
    "id": "TuBKUcOa7GtC",
    "slideshow": {
     "slide_type": "slide"
    }
   },
   "source": [
    "### Example\n",
    "---\n",
    "* Let's \"unroll\" our `youtube_views` example by writing the code without using a `for` loop."
   ]
  },
  {
   "cell_type": "code",
   "execution_count": null,
   "metadata": {
    "colab": {
     "base_uri": "https://localhost:8080/",
     "height": 50
    },
    "colab_type": "code",
    "executionInfo": {
     "elapsed": 720,
     "status": "ok",
     "timestamp": 1538687807317,
     "user": {
      "displayName": "Jaclyn Lee",
      "photoUrl": "",
      "userId": "17525286701482268466"
     },
     "user_tz": 600
    },
    "id": "Lkokku8S7tcr",
    "outputId": "704e5961-620a-438a-ad59-334669f33913",
    "slideshow": {
     "slide_type": "fragment"
    }
   },
   "outputs": [
    {
     "name": "stdout",
     "output_type": "stream",
     "text": [
      "P81i66_tLlU\n",
      "VgEbcQxFUu8\n"
     ]
    }
   ],
   "source": [
    "youtube_views = [('G7PydoX_WNQ', 31230), ('P81i66_tLlU', 184961), ('VgEbcQxFUu8', 1139112)]\n",
    "\n",
    "#iteration 1:\n",
    "video = youtube_views[0]\n",
    "if video[1] > 100000:\n",
    "  print(video[0])\n",
    "\n",
    "#iteration 2:\n",
    "video = youtube_views[1]\n",
    "if video[1] > 100000:\n",
    "  print(video[0])\n",
    "  \n",
    "#iteration 3:\n",
    "video = youtube_views[2]\n",
    "if video[1] > 100000:\n",
    "  print(video[0])"
   ]
  },
  {
   "cell_type": "markdown",
   "metadata": {
    "colab_type": "text",
    "id": "v-7iQp0B8MS0",
    "slideshow": {
     "slide_type": "fragment"
    }
   },
   "source": [
    "* Here, a temporary variable called `video` is used to sequentially store the tuples in `youtube_views`.\n",
    "\n",
    "\n",
    "* An `if-else` statement prints the youtube id if the second value in `video` is greater than 100,000.\n",
    "\n",
    "\n",
    "* This process repeats until all elements in `youtube_views` have been iterated over."
   ]
  },
  {
   "cell_type": "markdown",
   "metadata": {
    "colab_type": "text",
    "id": "OLxmFaNIWu5r",
    "slideshow": {
     "slide_type": "slide"
    }
   },
   "source": [
    "### Quiz\n",
    "---\n",
    "\n",
    "How many countries will be printed?\n",
    "```python\n",
    "ghg_2014 = {'china' : 2806634, 'united states of america' : 1432855, 'india' : 610411, 'russian federation' : 465052, 'japan' : 331074}\n",
    "\n",
    "for country, emission in ghg_2014.items():\n",
    "  if emission > 500000:\n",
    "    print(country)\n",
    "\n",
    "```\n",
    "A. 0\n",
    "\n",
    "B. 1\n",
    "\n",
    "C. 2\n",
    "\n",
    "D. 3\n",
    "\n",
    "E. 4\n"
   ]
  },
  {
   "cell_type": "markdown",
   "metadata": {
    "colab_type": "text",
    "id": "E-0kCkWwmVyB",
    "slideshow": {
     "slide_type": "slide"
    }
   },
   "source": [
    "## Nested `for` loops\n",
    "---\n",
    "\n",
    "* Nested `for` loops: `for` loops that occur within other `for` loops.\n",
    "\n",
    "\n",
    "```\n",
    "for first_iterating_variable in outer_loop:\n",
    "    do something\n",
    "    for second_iterating_variable in nested_loop:\n",
    "        do something\n",
    " ```\n",
    "* Python will execute the outer loop's first iteration.\n",
    "\n",
    "\n",
    "* The inner `for` loop will be triggered, and run to completion. \n",
    "\n",
    "\n",
    "* Python will return to the outer loop to repeat the process until the outer loop iterates to completion."
   ]
  },
  {
   "cell_type": "markdown",
   "metadata": {
    "colab_type": "text",
    "id": "xRMc78oqzI2p",
    "slideshow": {
     "slide_type": "slide"
    }
   },
   "source": [
    "### Example\n",
    "---\n",
    "\n",
    "* Consider two lists, one of which contains the numbers 1 through 3 and the other of which contains the strings `'circle'`, `'triangle'`, `'square'`. \n",
    "\n",
    "\n",
    "* How can one print the numbers 1 through 3 and print all of the strings for each number?\n"
   ]
  },
  {
   "cell_type": "code",
   "execution_count": 1,
   "metadata": {
    "colab": {
     "base_uri": "https://localhost:8080/",
     "height": 221
    },
    "colab_type": "code",
    "executionInfo": {
     "elapsed": 415,
     "status": "ok",
     "timestamp": 1538015699480,
     "user": {
      "displayName": "Charlotte Smith",
      "photoUrl": "",
      "userId": "05194161354170586023"
     },
     "user_tz": 600
    },
    "id": "M5NcGvCnxRhK",
    "outputId": "0795a8e8-e0aa-4072-c26f-32e4d2d1a217",
    "slideshow": {
     "slide_type": "fragment"
    }
   },
   "outputs": [
    {
     "name": "stdout",
     "output_type": "stream",
     "text": [
      "1\n",
      "circle\n",
      "triangle\n",
      "square\n",
      "2\n",
      "circle\n",
      "triangle\n",
      "square\n",
      "3\n",
      "circle\n",
      "triangle\n",
      "square\n"
     ]
    }
   ],
   "source": [
    "numbers = [1, 2, 3]\n",
    "shapes = ['circle', 'triangle', 'square']\n",
    "\n",
    "for number in numbers:\n",
    "    print(number)\n",
    "    for shape in shapes:\n",
    "        print(shape)"
   ]
  },
  {
   "cell_type": "markdown",
   "metadata": {
    "slideshow": {
     "slide_type": "slide"
    }
   },
   "source": [
    "### Quiz\n",
    "---\n",
    "For the following piece of code, how many times will the outer for loop iterate (`for suit in suits:`)?\n",
    "```python\n",
    "suits = [\"♤\", \"♡\", \"♢\", \"♧\"]\n",
    "card_numbers = ['A', '2', '3', '4', '5', '6', '7', '8', '9', '10', 'J', 'Q', 'K']\n",
    "cards = []\n",
    "for suit in suits:\n",
    "  for number in card_numbers:\n",
    "    card = suit + number\n",
    "    cards.append(card)\n",
    "```\n",
    "A. 1\n",
    "\n",
    "B. 2\n",
    "\n",
    "C. 3\n",
    "\n",
    "D. 4"
   ]
  },
  {
   "cell_type": "markdown",
   "metadata": {
    "colab_type": "text",
    "id": "uuF10Q-3nFtl",
    "slideshow": {
     "slide_type": "slide"
    }
   },
   "source": [
    "## Summary\n",
    "---\n",
    "This chapter introduced when and how the following advanced control flows are used:\n",
    "\n",
    "* `if-else` statements in `for` loops.\n",
    "* Nested `for` loops in `for` loops."
   ]
  }
 ],
 "metadata": {
  "celltoolbar": "Slideshow",
  "colab": {
   "collapsed_sections": [],
   "name": "8 Intro to Python: Advanced Control Structures.ipynb",
   "provenance": [],
   "version": "0.3.2"
  },
  "kernelspec": {
   "display_name": "Python 3",
   "language": "python",
   "name": "python3"
  },
  "language_info": {
   "codemirror_mode": {
    "name": "ipython",
    "version": 3
   },
   "file_extension": ".py",
   "mimetype": "text/x-python",
   "name": "python",
   "nbconvert_exporter": "python",
   "pygments_lexer": "ipython3",
   "version": "3.6.6"
  }
 },
 "nbformat": 4,
 "nbformat_minor": 2
}
