{
 "cells": [
  {
   "cell_type": "markdown",
   "metadata": {
    "colab_type": "text",
    "id": "B91WbOnblKXe",
    "slideshow": {
     "slide_type": "slide"
    }
   },
   "source": [
    "# Modules\n",
    "---\n",
    "\n",
    "* Modules are Python files that contain functionality, which can be readily used. \n",
    "* There are plenty of pre-existing and well documented modules that apply to very broad topics, from astronomy to  economics or marketing.\n"
   ]
  },
  {
   "cell_type": "markdown",
   "metadata": {
    "colab_type": "text",
    "id": "sC4jKn1YiXF_",
    "slideshow": {
     "slide_type": "slide"
    }
   },
   "source": [
    "## Packages\n",
    "---\n",
    "\n",
    "* Modules are organized into packages, also known as libraries.\n",
    "* Domain-specific packages need to be downloaded and installed manually.  \n",
    "* The Anaconda distribution of Python already comes with many commonly used packages."
   ]
  },
  {
   "cell_type": "markdown",
   "metadata": {
    "slideshow": {
     "slide_type": "slide"
    }
   },
   "source": [
    "**Insert instructions for how to install a new package using anaconda**"
   ]
  },
  {
   "cell_type": "markdown",
   "metadata": {
    "colab_type": "text",
    "id": "w3jAYu9p_3Rk",
    "slideshow": {
     "slide_type": "slide"
    }
   },
   "source": [
    "## Importing Modules\n",
    "---\n",
    "\n",
    "* The following imports all functionalities in a module.\n",
    "\n",
    "```python\n",
    "import module_name\n",
    "```"
   ]
  },
  {
   "cell_type": "markdown",
   "metadata": {
    "colab_type": "text",
    "id": "aHFJhnkduBAe",
    "slideshow": {
     "slide_type": "slide"
    }
   },
   "source": [
    "### Example\n",
    "---\n",
    "\n",
    "* For example, to import all the functionalities in the `math` module, we can do the following:\n",
    "\n",
    "\n"
   ]
  },
  {
   "cell_type": "code",
   "execution_count": 0,
   "metadata": {
    "colab": {},
    "colab_type": "code",
    "id": "xYRTMgNxp4Ot",
    "slideshow": {
     "slide_type": "fragment"
    }
   },
   "outputs": [],
   "source": [
    "import math"
   ]
  },
  {
   "cell_type": "markdown",
   "metadata": {
    "colab_type": "text",
    "id": "PcEG7O-op9Mx",
    "slideshow": {
     "slide_type": "slide"
    }
   },
   "source": [
    "* To access and use a functionality from this module, we use the syntax below.\n",
    "\n",
    "```python\n",
    "module_name.functionality_name\n",
    "```\n"
   ]
  },
  {
   "cell_type": "markdown",
   "metadata": {
    "slideshow": {
     "slide_type": "slide"
    }
   },
   "source": [
    "### Example\n",
    "---\n",
    "* `math.pi` will give us the value of the number $\\pi$, which can be used to calculate the area of a circle with a radius, $r$, of 5 inches."
   ]
  },
  {
   "cell_type": "code",
   "execution_count": 0,
   "metadata": {
    "colab": {
     "base_uri": "https://localhost:8080/",
     "height": 186
    },
    "colab_type": "code",
    "executionInfo": {
     "elapsed": 536,
     "status": "error",
     "timestamp": 1547581816107,
     "user": {
      "displayName": "Jaclyn Lee",
      "photoUrl": "",
      "userId": "17525286701482268466"
     },
     "user_tz": 600
    },
    "id": "LU2dBrNfqz3z",
    "outputId": "4d026be8-fd7b-46c4-a65f-bb1601bf4994",
    "slideshow": {
     "slide_type": "fragment"
    }
   },
   "outputs": [
    {
     "ename": "NameError",
     "evalue": "ignored",
     "output_type": "error",
     "traceback": [
      "\u001b[0;31m---------------------------------------------------------------------------\u001b[0m",
      "\u001b[0;31mNameError\u001b[0m                                 Traceback (most recent call last)",
      "\u001b[0;32m<ipython-input-1-d031c1935287>\u001b[0m in \u001b[0;36m<module>\u001b[0;34m()\u001b[0m\n\u001b[0;32m----> 1\u001b[0;31m \u001b[0marea\u001b[0m\u001b[0;34m=\u001b[0m\u001b[0mmath\u001b[0m\u001b[0;34m.\u001b[0m\u001b[0mpi\u001b[0m\u001b[0;34m*\u001b[0m\u001b[0;36m5\u001b[0m\u001b[0;34m**\u001b[0m\u001b[0;36m2\u001b[0m\u001b[0;34m\u001b[0m\u001b[0;34m\u001b[0m\u001b[0m\n\u001b[0m\u001b[1;32m      2\u001b[0m \u001b[0marea\u001b[0m\u001b[0;34m\u001b[0m\u001b[0;34m\u001b[0m\u001b[0m\n",
      "\u001b[0;31mNameError\u001b[0m: name 'math' is not defined"
     ]
    }
   ],
   "source": [
    "area = math.pi * 5 ** 2\n",
    "area"
   ]
  },
  {
   "cell_type": "markdown",
   "metadata": {
    "slideshow": {
     "slide_type": "slide"
    }
   },
   "source": [
    "### Quiz\n",
    "---\n",
    "How would you print the speed of light, `c` from `scipy.constants`?\n",
    "\n",
    "A.\n",
    "```python\n",
    "print(scipy.constants.c)\n",
    "```\n",
    "B.\n",
    "```python\n",
    "import scipy.constants\n",
    "c\n",
    "```\n",
    "C.\n",
    "```python\n",
    "import scipy.constants\n",
    "print(scipy.constants.c)\n",
    "```\n",
    "D.\n",
    "```python\n",
    "import scipy.constants\n",
    "scipy.constants.c\n",
    "```"
   ]
  },
  {
   "cell_type": "markdown",
   "metadata": {
    "colab_type": "text",
    "id": "5LyhLHnq-7c3",
    "slideshow": {
     "slide_type": "slide"
    }
   },
   "source": [
    "## Functions in Modules\n",
    "---\n",
    "* The most valuable aspect of a module is the functions it includes. \n",
    "* We have used functions before, for example `print()`. \n",
    "* Here, we will discuss the topic further and will continue to view functions as a black box. \n",
    "\n",
    "![black_box](images/importing_modules/black_box.JPG)\n"
   ]
  },
  {
   "cell_type": "markdown",
   "metadata": {
    "colab_type": "text",
    "id": "BuLIaji0_jwZ"
   },
   "source": [
    "### Calling Functions\n",
    "---\n",
    "\n",
    "* We *call* a function by adopting the same syntax we used earlier with `print()`.\n",
    "\n",
    "```python\n",
    "function_name()\n",
    "```\n",
    "\n",
    "* While some functions are self sufficient, some functions require input to operate on.\n",
    "* In fact, some functions may require multiple inputs, or *parameters* as they are callled. \n",
    "* Parameters are passed to function inside the parentheses and are separated using commas.\n",
    "\n",
    "```python\n",
    "function_name(parameter_1, ... )\n",
    "```\n",
    "\n",
    "* Python matches parameters based on their positions, so the order that you pass the parameters to the function matter.\n",
    "* We need to prefix functions defined in a module by the module name or its alias.\n",
    "\n",
    "```python\n",
    "module_name.function_name(parameters)\n",
    "```\n"
   ]
  },
  {
   "cell_type": "markdown",
   "metadata": {
    "colab_type": "text",
    "id": "e66-4U_LNeMa",
    "slideshow": {
     "slide_type": "slide"
    }
   },
   "source": [
    "### Example\n",
    "----\n",
    "\n",
    "* We can compute the square root of the value 225 using the function `sqrt()` from the `math` module."
   ]
  },
  {
   "cell_type": "code",
   "execution_count": 0,
   "metadata": {
    "colab": {
     "base_uri": "https://localhost:8080/",
     "height": 208
    },
    "colab_type": "code",
    "executionInfo": {
     "elapsed": 598,
     "status": "error",
     "timestamp": 1548461250498,
     "user": {
      "displayName": "Mahdi Belcaid",
      "photoUrl": "",
      "userId": "04817344393223947441"
     },
     "user_tz": 600
    },
    "id": "lyDHVSpNydFp",
    "outputId": "aa12d4da-433f-4716-faa7-6501411bf17e",
    "scrolled": true,
    "slideshow": {
     "slide_type": "fragment"
    }
   },
   "outputs": [
    {
     "ename": "NameError",
     "evalue": "ignored",
     "output_type": "error",
     "traceback": [
      "\u001b[0;31m---------------------------------------------------------------------------\u001b[0m",
      "\u001b[0;31mNameError\u001b[0m                                 Traceback (most recent call last)",
      "\u001b[0;32m<ipython-input-3-df38769ff89a>\u001b[0m in \u001b[0;36m<module>\u001b[0;34m()\u001b[0m\n\u001b[0;32m----> 1\u001b[0;31m \u001b[0mmath\u001b[0m\u001b[0;34m.\u001b[0m\u001b[0msqrt\u001b[0m\u001b[0;34m(\u001b[0m\u001b[0;36m225\u001b[0m\u001b[0;34m)\u001b[0m\u001b[0;34m\u001b[0m\u001b[0;34m\u001b[0m\u001b[0m\n\u001b[0m\u001b[1;32m      2\u001b[0m \u001b[0;31m# or, if you aliased  math as m\u001b[0m\u001b[0;34m\u001b[0m\u001b[0;34m\u001b[0m\u001b[0;34m\u001b[0m\u001b[0m\n\u001b[1;32m      3\u001b[0m \u001b[0;31m# m.sqrt(225)\u001b[0m\u001b[0;34m\u001b[0m\u001b[0;34m\u001b[0m\u001b[0;34m\u001b[0m\u001b[0m\n",
      "\u001b[0;31mNameError\u001b[0m: name 'math' is not defined"
     ]
    }
   ],
   "source": [
    "import math\n",
    "math.sqrt(225)"
   ]
  },
  {
   "cell_type": "markdown",
   "metadata": {
    "colab_type": "text",
    "id": "VH8eS1403sh5",
    "slideshow": {
     "slide_type": "slide"
    }
   },
   "source": [
    "### Example 5\n",
    "---\n",
    "* The `round()` function will round a float number to a specified number of decimal points. \n",
    "* `round()` will take two parameters:\n",
    "    * The first is the float number that you're trying to round.\n",
    "    * The second parameter is the number of decimal places you are rounding to. \n",
    "\n",
    "\n"
   ]
  },
  {
   "cell_type": "code",
   "execution_count": 0,
   "metadata": {
    "colab": {
     "base_uri": "https://localhost:8080/",
     "height": 34
    },
    "colab_type": "code",
    "executionInfo": {
     "elapsed": 559,
     "status": "ok",
     "timestamp": 1547676770479,
     "user": {
      "displayName": "Jaclyn Lee",
      "photoUrl": "",
      "userId": "17525286701482268466"
     },
     "user_tz": 600
    },
    "id": "R6GHMQ3k1S_s",
    "outputId": "4c0d2733-40d9-40c6-aa0c-24bdd9ea8400",
    "slideshow": {
     "slide_type": "fragment"
    }
   },
   "outputs": [
    {
     "data": {
      "text/plain": [
       "123.79"
      ]
     },
     "execution_count": 1,
     "metadata": {
      "tags": []
     },
     "output_type": "execute_result"
    }
   ],
   "source": [
    "round(123.7897917498714094, 3)"
   ]
  },
  {
   "cell_type": "markdown",
   "metadata": {
    "colab_type": "text",
    "id": "sF8bvI475Sz1",
    "slideshow": {
     "slide_type": "slide"
    }
   },
   "source": [
    "* However, if we mistakenly put 3 first and then 123.7897917498714094, we will get an error."
   ]
  },
  {
   "cell_type": "code",
   "execution_count": 0,
   "metadata": {
    "colab": {
     "base_uri": "https://localhost:8080/",
     "height": 168
    },
    "colab_type": "code",
    "executionInfo": {
     "elapsed": 422,
     "status": "error",
     "timestamp": 1539302969802,
     "user": {
      "displayName": "Jaclyn Lee",
      "photoUrl": "",
      "userId": "17525286701482268466"
     },
     "user_tz": 600
    },
    "id": "NsLeMJSp10Bl",
    "outputId": "21de36e2-08d6-48b4-d101-581c370b45c6",
    "slideshow": {
     "slide_type": "fragment"
    }
   },
   "outputs": [
    {
     "ename": "TypeError",
     "evalue": "ignored",
     "output_type": "error",
     "traceback": [
      "\u001b[0;31m---------------------------------------------------------------------------\u001b[0m",
      "\u001b[0;31mTypeError\u001b[0m                                 Traceback (most recent call last)",
      "\u001b[0;32m<ipython-input-3-a45eadc6fa3d>\u001b[0m in \u001b[0;36m<module>\u001b[0;34m()\u001b[0m\n\u001b[0;32m----> 1\u001b[0;31m \u001b[0mround\u001b[0m\u001b[0;34m(\u001b[0m\u001b[0;36m3\u001b[0m\u001b[0;34m,\u001b[0m \u001b[0;36m123.7897917498714094\u001b[0m\u001b[0;34m)\u001b[0m\u001b[0;34m\u001b[0m\u001b[0m\n\u001b[0m",
      "\u001b[0;31mTypeError\u001b[0m: 'float' object cannot be interpreted as an integer"
     ]
    }
   ],
   "source": [
    "round(3, 123.7897917498714094)"
   ]
  },
  {
   "cell_type": "markdown",
   "metadata": {
    "colab_type": "text",
    "id": "U_enL1-r3qXm",
    "slideshow": {
     "slide_type": "slide"
    }
   },
   "source": [
    "* Use the `help()` function or look up the function's documentation to find out what order the parameters should be in."
   ]
  },
  {
   "cell_type": "code",
   "execution_count": 0,
   "metadata": {
    "colab": {
     "base_uri": "https://localhost:8080/",
     "height": 163
    },
    "colab_type": "code",
    "executionInfo": {
     "elapsed": 732,
     "status": "ok",
     "timestamp": 1548461904107,
     "user": {
      "displayName": "Charles Dickens",
      "photoUrl": "https://lh6.googleusercontent.com/-LyFY-SmW2Wk/AAAAAAAAAAI/AAAAAAAAAJc/aBlebAB4Y_M/s64/photo.jpg",
      "userId": "12322745199515603574"
     },
     "user_tz": 600
    },
    "id": "HsomV4IchVQx",
    "outputId": "14c50e73-a953-40e0-ae51-5a3e3889a236",
    "slideshow": {
     "slide_type": "fragment"
    }
   },
   "outputs": [
    {
     "name": "stdout",
     "output_type": "stream",
     "text": [
      "Help on built-in function round in module builtins:\n",
      "\n",
      "round(...)\n",
      "    round(number[, ndigits]) -> number\n",
      "    \n",
      "    Round a number to a given precision in decimal digits (default 0 digits).\n",
      "    This returns an int when called with one argument, otherwise the\n",
      "    same type as the number. ndigits may be negative.\n",
      "\n"
     ]
    }
   ],
   "source": [
    "help(round)"
   ]
  },
  {
   "cell_type": "markdown",
   "metadata": {
    "colab_type": "text",
    "id": "OgIZDM3ORQh6",
    "slideshow": {
     "slide_type": "slide"
    }
   },
   "source": [
    "### Quiz\n",
    "---\n",
    "If you imported the math module with the following code:\n",
    "```python\n",
    "import math\n",
    "```\n",
    "How can you use the `remainder()` function to find the remainder of 47 divided by 17?\n",
    "\n",
    "A. `remainder(47, 17)`\n",
    "\n",
    "B. `math.remainder(47: 17)`\n",
    "\n",
    "C. `math.remainder(47, 17)`\n",
    "\n",
    "D. `m.remainder(47, 17)`\n",
    "\n",
    "E. `m.remainder(47; 47)`"
   ]
  },
  {
   "cell_type": "markdown",
   "metadata": {
    "colab_type": "text",
    "id": "Tu6flVeF8f0O",
    "slideshow": {
     "slide_type": "slide"
    }
   },
   "source": [
    "## Summary\n",
    "---\n",
    "\n",
    "By now you should be able to:\n",
    "* Install packages from open source.\n",
    "* Import modules into programs.\n",
    "* Import a module using an alias.\n",
    "* Import single constants or functions from a module.\n",
    "* Use functions that take multiple parameters.\n",
    "\n",
    "\n",
    "The next chapter will go over how to create user-defined functions. We will go over the basic syntax of a function and relate it to how you can write your own functions. Being able to create user-defined functions can save you time and will increase the readability of your code."
   ]
  }
 ],
 "metadata": {
  "celltoolbar": "Slideshow",
  "colab": {
   "collapsed_sections": [],
   "name": "4 Intro to Python: Importing Modules.ipynb",
   "provenance": [],
   "toc_visible": true,
   "version": "0.3.2"
  },
  "kernelspec": {
   "display_name": "Python 3",
   "language": "python",
   "name": "python3"
  },
  "language_info": {
   "codemirror_mode": {
    "name": "ipython",
    "version": 3
   },
   "file_extension": ".py",
   "mimetype": "text/x-python",
   "name": "python",
   "nbconvert_exporter": "python",
   "pygments_lexer": "ipython3",
   "version": "3.6.6"
  }
 },
 "nbformat": 4,
 "nbformat_minor": 1
}
