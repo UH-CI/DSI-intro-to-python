{
 "cells": [
  {
   "cell_type": "markdown",
   "metadata": {
    "colab_type": "text",
    "id": "6_31BtgNYPQE"
   },
   "source": [
    "# Ordered Collections\n",
    "---\n",
    "* *Collections* are variables that can store many values in one place. \n",
    "* *Ordered collections* store items in a given order, and the items within these collections are identified by their position in the collection. \n",
    "* There are two types of ordered collections: *lists* and *tuples*.  "
   ]
  },
  {
   "cell_type": "markdown",
   "metadata": {
    "colab_type": "text",
    "id": "vAPVbApxbdz3"
   },
   "source": [
    "## Lists\n",
    "---\n",
    "* Lists are mutable collections that allow one to store multiple pieces of information in one variable. \n",
    "* They can contain variables of any type, including strings, numbers and other lists.\n",
    "* For example, a list could include the five most popular dog names in New York City, the ages of kids in a kindergarten class or the record high temperatures of multiple cities across the world and so on. \n",
    " \n"
   ]
  },
  {
   "cell_type": "markdown",
   "metadata": {
    "colab_type": "text",
    "id": "vbRQvW2o7GXX"
   },
   "source": [
    "#### Creating a list\n",
    "---\n",
    "* Lists are created using square brackets (`[]`)\n",
    "* individual elements in a list are separated by commas (`,`).  \n",
    "\n",
    "```python\n",
    "mixed_data_types_list = ['one', 'five', 3, 'fourteen']\n",
    "\n",
    "integer_list = [1, 2, 3, 4, 5]\n",
    "\n",
    "suits = [\"♤\", \"♡\", \"♢\", \"♧\"]\n",
    "```\n"
   ]
  },
  {
   "cell_type": "markdown",
   "metadata": {
    "colab_type": "text",
    "id": "Ed9Iiz97rsla"
   },
   "source": [
    "### Indexing Elements in a List\n",
    "---\n",
    "\n",
    "#### Indexing Single Elements in a List\n",
    "\n",
    "* An element in a list can be referred to using its numbered position, which is called an index.\n",
    "* Indices are integer numbers that range **from 0 to one less than the total number of elements** in a list. \n",
    "* For example, in our `suits` list, `\"♤\"` has an index of 0, `\"♡\"` has an index of 1, `\"♢\"` has an index of 2, and `\"♧\"` has an index of 3.\n",
    "\n",
    "* Elements can also be indexed using their position relative to the end of a list by using negative numbers. \n",
    "* The last element in a list has in index of -1 and the second to the last element in a list has an index of -2 and so on.\n",
    "\n",
    "<!-- ![single_indexing_suits](images/ordered_collections/single_indexing_suits.JPG) -->\n",
    "\n",
    "<img src=\"images/ordered_collections/single_indexing_suits.JPG\" alt=\"drawing\" style=\"width:500px;\"/>\n",
    "* We can access elements by typing the list name followed by using the following syntax. \n",
    "\n",
    "```python\n",
    "list_name[index]\n",
    "```\n",
    "* This will return the specified element to the line it was called.\n",
    "\n",
    "\n"
   ]
  },
  {
   "cell_type": "markdown",
   "metadata": {
    "colab_type": "text",
    "id": "62Y0CHcqWOvP"
   },
   "source": [
    "### Example\n",
    "---\n",
    "* We can refer to elements in our `suits` list using positive indices."
   ]
  },
  {
   "cell_type": "code",
   "execution_count": 1,
   "metadata": {
    "colab": {
     "base_uri": "https://localhost:8080/",
     "height": 87
    },
    "colab_type": "code",
    "executionInfo": {
     "elapsed": 421,
     "status": "ok",
     "timestamp": 1538781579985,
     "user": {
      "displayName": "Jaclyn Lee",
      "photoUrl": "",
      "userId": "17525286701482268466"
     },
     "user_tz": 600
    },
    "id": "UYwX1FdCa8KP",
    "outputId": "8f2ab198-8f82-4774-da73-88aead6cd84f"
   },
   "outputs": [
    {
     "name": "stdout",
     "output_type": "stream",
     "text": [
      "♤\n",
      "♡\n",
      "♢\n",
      "♧\n"
     ]
    }
   ],
   "source": [
    "suits = [\"♤\", \"♡\", \"♢\", \"♧\"]\n",
    "\n",
    "print(suits[0])\n",
    "print(suits[1])\n",
    "print(suits[2])\n",
    "print(suits[3])"
   ]
  },
  {
   "cell_type": "markdown",
   "metadata": {
    "colab_type": "text",
    "id": "5COx6HWqX5SC"
   },
   "source": [
    "* We can also print the elements in `suits` again, but by using negative indices and assigning them to their own variables."
   ]
  },
  {
   "cell_type": "code",
   "execution_count": 4,
   "metadata": {
    "colab": {
     "base_uri": "https://localhost:8080/",
     "height": 87
    },
    "colab_type": "code",
    "executionInfo": {
     "elapsed": 407,
     "status": "ok",
     "timestamp": 1538779751993,
     "user": {
      "displayName": "Jaclyn Lee",
      "photoUrl": "",
      "userId": "17525286701482268466"
     },
     "user_tz": 600
    },
    "id": "HO_DXr1TW4WZ",
    "outputId": "bc8f704a-c71b-4790-c3a2-2541eed41983"
   },
   "outputs": [
    {
     "name": "stdout",
     "output_type": "stream",
     "text": [
      "♤\n",
      "♡\n",
      "♢\n",
      "♧\n"
     ]
    }
   ],
   "source": [
    "spade = suits[-4]\n",
    "print(spade)\n",
    "\n",
    "heart = suits[-3] \n",
    "print(heart)\n",
    "\n",
    "diamond = suits[-2]\n",
    "print(diamond)\n",
    "\n",
    "club = suits[-1] \n",
    "print(club)\n"
   ]
  },
  {
   "cell_type": "markdown",
   "metadata": {
    "colab_type": "text",
    "id": "YqfrsSFR7FwA",
    "slideshow": {
     "slide_type": "slide"
    }
   },
   "source": [
    "### Quiz\n",
    "---\n",
    "\n",
    "What are the two ways you can refer to the second element in the following list:\n",
    "```python\n",
    "card_suits = ['spade', 'heart', 'diamond', 'club']\n",
    "```\n",
    "\n",
    "A.  `card_suits[2]` and `card_suits[-3]`\n",
    "\n",
    "B. `card_suits[1]` and `card_suits[-3]`\n",
    "\n",
    "C. `card_suits[1]` and `card_suits[-2]`\n",
    "\n",
    "D. `card_suits[2]` and `card_suits[-2]`\n",
    "\n",
    "\n"
   ]
  },
  {
   "cell_type": "markdown",
   "metadata": {
    "colab_type": "text",
    "id": "4nke8SybdLFF",
    "slideshow": {
     "slide_type": "slide"
    }
   },
   "source": [
    "#### Indexing a Range of Values in a List\n",
    "\n",
    "* Multiple elements of a list can referenced at once using *slicing*. An array slice is a subset of consecutive elements of an array. \n",
    "\n",
    "* A slice is typically specified using the `[x:y]` syntax.\n",
    "* `x` is the position of the first desired elements of the slice\n",
    "* `y` is the end element, which will not be included in the slice."
   ]
  },
  {
   "cell_type": "markdown",
   "metadata": {
    "slideshow": {
     "slide_type": "slide"
    }
   },
   "source": [
    "* For example, if we wanted to index the first three values in the `suits` list, we could use:"
   ]
  },
  {
   "cell_type": "code",
   "execution_count": 2,
   "metadata": {
    "slideshow": {
     "slide_type": "fragment"
    }
   },
   "outputs": [
    {
     "data": {
      "text/plain": [
       "['♤', '♡', '♢']"
      ]
     },
     "execution_count": 2,
     "metadata": {},
     "output_type": "execute_result"
    }
   ],
   "source": [
    "suits[0:3]"
   ]
  },
  {
   "cell_type": "markdown",
   "metadata": {
    "slideshow": {
     "slide_type": "fragment"
    }
   },
   "source": [
    "* From the notation above, we see that the element 0 (\"♤\") will be included in the slice, whereas the element \"♧\" will not be included. Thus, the slice comprises of \"♤\", \"♡\", \"♢\"."
   ]
  },
  {
   "cell_type": "markdown",
   "metadata": {
    "slideshow": {
     "slide_type": "slide"
    }
   },
   "source": [
    "* There are shortcuts for indexing a range of values and omitting the first, the second or even both indices. \n",
    "* For instance, if the first index is omitted, Python will assume that it's 0,\n",
    "\n",
    "\n",
    "```python\n",
    "copy_list_name = original_list_name[: limit_last_index]\n",
    "```\n",
    "\n",
    "* Similarly, by leaving the second index blank, Python will copy the list starting from the first index specified all the way until (and this time including) the last element of the array. \n",
    "\n",
    "```python\n",
    "copy_list_name = original_list_name[first_index:]\n",
    "```\n",
    "\n",
    "* Lastly, a single colon without indexes instructs Python to copy the entire list. \n",
    "\n",
    "```python\n",
    "copy_list_name = original_list_name[:]\n",
    "```"
   ]
  },
  {
   "cell_type": "markdown",
   "metadata": {
    "colab_type": "text",
    "id": "gQhoRP9Bh57S",
    "slideshow": {
     "slide_type": "slide"
    }
   },
   "source": [
    "### Example\n",
    "---\n",
    "\n",
    "* Using the `suits` list, we will demonstrate the different ways you can reference a range of values in `suits`. "
   ]
  },
  {
   "cell_type": "code",
   "execution_count": 3,
   "metadata": {
    "colab": {
     "base_uri": "https://localhost:8080/",
     "height": 212
    },
    "colab_type": "code",
    "executionInfo": {
     "elapsed": 457,
     "status": "ok",
     "timestamp": 1548791017301,
     "user": {
      "displayName": "Jaclyn Lee",
      "photoUrl": "",
      "userId": "17525286701482268466"
     },
     "user_tz": 600
    },
    "id": "o8rvheyXj4Z7",
    "outputId": "c5fc1637-c7f0-446b-c2b2-e1a469a4261f",
    "slideshow": {
     "slide_type": "fragment"
    }
   },
   "outputs": [
    {
     "name": "stdout",
     "output_type": "stream",
     "text": [
      "Printing the first three elements:\n",
      "['♤', '♡', '♢']\n",
      "['♤', '♡', '♢']\n",
      "Printing the last two elements:\n",
      "['♢', '♧']\n",
      "['♢', '♧']\n",
      "Referring to the entire suits list:\n",
      "['♤', '♡', '♢', '♧']\n",
      "['♤', '♡', '♢', '♧']\n",
      "['♤', '♡', '♢', '♧']\n",
      "['♤', '♡', '♢', '♧']\n"
     ]
    }
   ],
   "source": [
    "suits = [\"♤\", \"♡\", \"♢\", \"♧\"]\n",
    "\n",
    "print('Printing the first three elements:')\n",
    "print(suits[0:3])\n",
    "print(suits[:3])\n",
    "\n",
    "print('Printing the last two elements:')\n",
    "print(suits[2:4])\n",
    "print(suits[2:])\n",
    "\n",
    "print('Referring to the entire suits list:')\n",
    "print(suits[0:4])\n",
    "print(suits[:4])\n",
    "print(suits[0:])\n",
    "print(suits[:])"
   ]
  },
  {
   "cell_type": "markdown",
   "metadata": {
    "colab_type": "text",
    "id": "Bq8K3WZXk6-8",
    "slideshow": {
     "slide_type": "fragment"
    }
   },
   "source": [
    "* There are multiple ways you can slice a list and achieve the same result. However, using the shortcuts will save you some effort when writing your code."
   ]
  },
  {
   "cell_type": "markdown",
   "metadata": {
    "colab_type": "text",
    "id": "FuAFIAqy9Cwg",
    "slideshow": {
     "slide_type": "slide"
    }
   },
   "source": [
    "### Quiz\n",
    "---\n",
    "\n",
    "The following list shows monthly inflation rates from January 2018 to November 2018. How do you slice the first six months of data from this list?\n",
    "```python\n",
    "monthly_inflation = [2.04, 2.10, 2.09, 2.13, 2.14, 2.12, 2.12, 2.10, 2.12, 2.11, 2.01]\n",
    "```\n",
    "\n",
    "A. `monthly_inflation[0:6]`\n",
    "\n",
    "B. `monthly_inflation[:6]`\n",
    "\n",
    "C. `monthly_inflation[:-6]`\n",
    "\n",
    "D. `monthly_inflation[1:6]`\n",
    "\n",
    "Data: https://fred.stlouisfed.org/series/T10YIEM\n"
   ]
  },
  {
   "cell_type": "markdown",
   "metadata": {
    "colab_type": "text",
    "id": "fkjtblrHbix0",
    "slideshow": {
     "slide_type": "slide"
    }
   },
   "source": [
    "## Tuples\n",
    "---\n",
    "\n",
    "* Tuples are like lists, in that they can contain multiple elements in a specific order and those elements can be of any data type. However, unlike lists, tuples are immutable. \n",
    "* Tuples can be created using a set of parenthesis. Like all other variables, a variable name and the assignment operator (`=`) is needed to assign a tuple to a variable. \n",
    "\n",
    "<img src=\"images/ordered_collections/tuple_example.JPG\" alte=\"drawing\" style=\"width:800px;\"/>\n",
    "\n",
    "<!-- ![tuple_example](images/ordered_collections/tuple_example.JPG) -->"
   ]
  },
  {
   "cell_type": "markdown",
   "metadata": {
    "colab_type": "text",
    "id": "URnAZ3rrINP3",
    "slideshow": {
     "slide_type": "slide"
    }
   },
   "source": [
    "### Example\n",
    "---\n",
    "\n",
    "* Let's create a simple tuple containing Honolulu's longitude, latitude, elevation in meters and area in square kilometers (\"21 18' N\", \"157 51' W\", 6, 177.2). \n"
   ]
  },
  {
   "cell_type": "code",
   "execution_count": 7,
   "metadata": {
    "colab": {
     "base_uri": "https://localhost:8080/",
     "height": 34
    },
    "colab_type": "code",
    "executionInfo": {
     "elapsed": 440,
     "status": "ok",
     "timestamp": 1548791332554,
     "user": {
      "displayName": "Jaclyn Lee",
      "photoUrl": "",
      "userId": "17525286701482268466"
     },
     "user_tz": 600
    },
    "id": "sVcnBsYbIYW5",
    "outputId": "3651c165-429c-4237-f0e0-e2e6029dade7",
    "slideshow": {
     "slide_type": "fragment"
    }
   },
   "outputs": [
    {
     "data": {
      "text/plain": [
       "(\"21° 18' N\", \"157° 51' W\", 6, 177.2)"
      ]
     },
     "execution_count": 7,
     "metadata": {},
     "output_type": "execute_result"
    }
   ],
   "source": [
    "honolulu = (\"21° 18' N\", \"157° 51' W\", 6, 177.2)\n",
    "honolulu"
   ]
  },
  {
   "cell_type": "markdown",
   "metadata": {
    "colab_type": "text",
    "id": "YzvmCT8hHOwO"
   },
   "source": [
    "#### Potential Quiz Question\n",
    "\n",
    "How do tuples differ from lists?\n",
    "\n",
    "A. A list is an ordered collection, while a tuple is an unordered collection.\n",
    "\n",
    "B. A list is mutable, while a tuple is not.\n",
    "\n",
    "C. A list can handle elements of different data types, while a tuple can only contain elements of the same data type.\n",
    "\n",
    "D. Tuples have less values than lists."
   ]
  },
  {
   "cell_type": "markdown",
   "metadata": {
    "colab_type": "text",
    "id": "-SQSIARgbmgw",
    "slideshow": {
     "slide_type": "slide"
    }
   },
   "source": [
    "## `for` Loops\n",
    "---\n",
    "\n",
    "\n",
    "* Manually performing a operations on a large set of items is tedious.\n",
    "* `for` loops are ideal for repeating functionalities that are tied to a collection of elements. \n",
    "* For instance, we may want to check the account balance for each student at the University of Hawaii.\n",
    "* It helps to think of `for` loops in terms of the functionality that will be repeated and the collection of elements it will be repeated on."
   ]
  },
  {
   "cell_type": "markdown",
   "metadata": {
    "colab_type": "text",
    "id": "fpXjdGSYSNdP",
    "slideshow": {
     "slide_type": "slide"
    }
   },
   "source": [
    "### Creating a `for` Loop\n",
    "---\n",
    "\n",
    "* The following is the basic structure of a `for` loop:\n",
    "\n",
    "```python\n",
    "for one_element in collection_of_elements:\n",
    "    functionality to do on one_element\n",
    "```\n",
    "* `one_element` is a temporary variable used to hold each element in a collection that the `for` loop iterated over.\n",
    "* The lines of code within the `for` loop should be indented with one tab.\n",
    "* The flow logic of the `for` loop is summarized in the diagram below.\n",
    "\n",
    "<img src=\"images/ordered_collections/for_loop_flow_chart.jpg\" alt=\"drawing\" style=\"width:500px;\"/>\n",
    "\n"
   ]
  },
  {
   "cell_type": "markdown",
   "metadata": {
    "colab_type": "text",
    "id": "4nlcfKiXb1LU",
    "slideshow": {
     "slide_type": "slide"
    }
   },
   "source": [
    "### Example\n",
    "---\n",
    "\n",
    "* Take, for instance, the following Python snippet:"
   ]
  },
  {
   "cell_type": "code",
   "execution_count": 4,
   "metadata": {
    "slideshow": {
     "slide_type": "fragment"
    }
   },
   "outputs": [
    {
     "name": "stdout",
     "output_type": "stream",
     "text": [
      "The Lion King is sold out today!\n",
      "Rent is sold out today!\n",
      "Wicked is sold out today!\n",
      "Hamilton is sold out today!\n",
      "Chicago is sold out today!\n",
      "Aladdin is sold out today!\n",
      "Frozen is sold out today!\n"
     ]
    }
   ],
   "source": [
    "broadway_shows = ['The Lion King', 'Rent', 'Wicked', 'Hamilton', 'Chicago', 'Aladdin', 'Frozen']\n",
    "\n",
    "\n",
    "for show in broadway_shows:\n",
    "    print(\"{} is sold out today!\".format(show))"
   ]
  },
  {
   "cell_type": "markdown",
   "metadata": {
    "slideshow": {
     "slide_type": "fragment"
    }
   },
   "source": [
    "* The `for` loop takes the first element in the list, assigns it the temporary variable called `show` and executed the functionality in the `for` loop's body, i.e., print the content of the variable and \" is sold out today!\". \n",
    "* Each of the elements is taken in order it appears in the list. "
   ]
  },
  {
   "cell_type": "markdown",
   "metadata": {
    "colab_type": "text",
    "id": "34fFgVTSLo15",
    "slideshow": {
     "slide_type": "slide"
    }
   },
   "source": [
    "#### Possible Quiz Question\n",
    "* `visitor_expenditures_2016` is a list containing quarterly Hawaii visitor expenditures in millions of US dollars. \n",
    "* Which snippet of code correctly prints the values in `visitor_expenditures_2016` in Jordanian Dinars?\n",
    "\n",
    "Note: 1 Jordanian Dinar = 1.41 US dollars"
   ]
  },
  {
   "cell_type": "markdown",
   "metadata": {
    "slideshow": {
     "slide_type": "fragment"
    }
   },
   "source": [
    "A.\n",
    "```python\n",
    "visitor_expenditures_2016 = [3744.7, 3958.4, 3990.4, 4059.9]\n",
    "for 2016_expenditure in visitor_expenditures_2016\n",
    "    expenditure*1000000/1.41\n",
    "\n",
    "```\n",
    "B.\n",
    "```python\n",
    "visitor_expenditures_2016 = [3744.7, 3958.4, 3990.4, 4059.9]\n",
    "for 2016_expenditure in visitor_expenditures_2016:\n",
    "    2016_expenditure = 2016_expenditure*1000000/1.41\n",
    "    print(2016_expenditure)\n",
    "```\n",
    "C.\n",
    "```python\n",
    "visitor_expenditures_2016 = [3744.7, 3958.4, 3990.4, 4059.9]\n",
    "for expenditure in visitor_expenditures_2016:\n",
    "    print(expenditure*1000000/1.41)\n",
    "```\n",
    "D.\n",
    "```python\n",
    "visitor_expenditures_2016 = [3744.7, 3958.4, 3990.4, 4059.9]\n",
    "for expenditure in visitor_expenditures_2016\n",
    "    print(expenditure*1000000/1.41)\n",
    "```"
   ]
  },
  {
   "cell_type": "markdown",
   "metadata": {
    "colab_type": "text",
    "id": "rP5ljClFbtoT"
   },
   "source": [
    "## Summary\n",
    "---\n",
    "This chapter covered:\n",
    "* Creating lists and tuples.\n",
    "* Referring to and manipulating elements in a list or tuple.\n",
    "* How to loop through lists and tuples using `for` loops, and how to manipulate elements as you loop through them.\n",
    "\n",
    "The next section will introduce dictionaries, which is a type of unordered collection, and advance data structures."
   ]
  }
 ],
 "metadata": {
  "celltoolbar": "Slideshow",
  "colab": {
   "collapsed_sections": [],
   "name": "6 Intro to Python: Ordered Collections.ipynb",
   "provenance": [],
   "version": "0.3.2"
  },
  "hide_input": false,
  "kernelspec": {
   "display_name": "Python 3",
   "language": "python",
   "name": "python3"
  },
  "language_info": {
   "codemirror_mode": {
    "name": "ipython",
    "version": 3
   },
   "file_extension": ".py",
   "mimetype": "text/x-python",
   "name": "python",
   "nbconvert_exporter": "python",
   "pygments_lexer": "ipython3",
   "version": "3.6.6"
  }
 },
 "nbformat": 4,
 "nbformat_minor": 1
}
