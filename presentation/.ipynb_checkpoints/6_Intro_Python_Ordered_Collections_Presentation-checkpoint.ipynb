{
 "cells": [
  {
   "cell_type": "code",
   "execution_count": 1,
   "metadata": {
    "slideshow": {
     "slide_type": "skip"
    }
   },
   "outputs": [
    {
     "data": {
      "text/html": [
       "<style>\n",
       "    @font-face {\n",
       "        font-family: \"Computer Modern\";\n",
       "        src: url('http://9dbb143991406a7c655e-aa5fcb0a5a4ec34cff238a2d56ca4144.r56.cf5.rackcdn.com/cmunss.otf');\n",
       "    }\n",
       "    @font-face {\n",
       "        font-family: \"Computer Modern\";\n",
       "        font-weight: bold;\n",
       "        src: url('http://9dbb143991406a7c655e-aa5fcb0a5a4ec34cff238a2d56ca4144.r56.cf5.rackcdn.com/cmunsx.otf');\n",
       "    }\n",
       "    @font-face {\n",
       "        font-family: \"Computer Modern\";\n",
       "        font-style: oblique;\n",
       "        src: url('http://9dbb143991406a7c655e-aa5fcb0a5a4ec34cff238a2d56ca4144.r56.cf5.rackcdn.com/cmunsi.otf');\n",
       "    }\n",
       "    @font-face {\n",
       "        font-family: \"Computer Modern\";\n",
       "        font-weight: bold;\n",
       "        font-style: oblique;\n",
       "        src: url('http://9dbb143991406a7c655e-aa5fcb0a5a4ec34cff238a2d56ca4144.r56.cf5.rackcdn.com/cmunso.otf');\n",
       "    }\n",
       "    div.cell{\n",
       "        width:900px;\n",
       "        margin-left:5% !important;\n",
       "        margin-right:auto;\n",
       "    }\n",
       "    h1 {\n",
       "        font-family: Helvetica, serif;\n",
       "    }\n",
       "    h4{\n",
       "        margin-top:12px;\n",
       "        margin-bottom: 3px;\n",
       "       }\n",
       "    div.text_cell_render{\n",
       "        font-family: Computer Modern, \"Helvetica Neue\", Arial, Helvetica, Geneva, sans-serif;\n",
       "        line-height: 145%;\n",
       "        font-size: 130%;\n",
       "        width:800px;\n",
       "        margin-left:auto;\n",
       "        margin-right:auto;\n",
       "    }\n",
       "    .CodeMirror{\n",
       "            font-family: \"Source Code Pro\", source-code-pro,Consolas, monospace;\n",
       "    }\n",
       "    .prompt{\n",
       "        display: None;\n",
       "    }\n",
       "    .text_cell_render h5 {\n",
       "        font-weight: 300;\n",
       "        font-size: 26pt;\n",
       "        color: #4057A1;\n",
       "        font-style: italic;\n",
       "        margin-bottom: .5em;\n",
       "        margin-top: 0.5em;\n",
       "        display: block;\n",
       "    }\n",
       "    \n",
       "    .warning{\n",
       "        color: rgb( 240, 20, 20 )\n",
       "        }  \n",
       "</style>\n",
       "<script>\n",
       "    MathJax.Hub.Config({\n",
       "                        TeX: {\n",
       "                           extensions: [\"AMSmath.js\"]\n",
       "                           },\n",
       "                tex2jax: {\n",
       "                    inlineMath: [ ['$','$'], [\"\\\\(\",\"\\\\)\"] ],\n",
       "                    displayMath: [ ['$$','$$'], [\"\\\\[\",\"\\\\]\"] ]\n",
       "                },\n",
       "                displayAlign: 'center', // Change this to 'center' to center equations.\n",
       "                \"HTML-CSS\": {\n",
       "                    styles: {'.MathJax_Display': {\"margin\": 4}}\n",
       "                }\n",
       "        });\n",
       "</script>\n"
      ],
      "text/plain": [
       "<IPython.core.display.HTML object>"
      ]
     },
     "execution_count": 1,
     "metadata": {},
     "output_type": "execute_result"
    }
   ],
   "source": [
    "from IPython.core.display import HTML\n",
    "\n",
    "def set_css_style(css_file_path):\n",
    "    \"\"\"\n",
    "    Read the custom CSS file and load it into Jupyter.\n",
    "    Pass the file path to the CSS file.\n",
    "    \"\"\"\n",
    "    styles = open(css_file_path, \"r\").read()\n",
    "    return HTML(styles)\n",
    "\n",
    "set_css_style('styles/custom.css')"
   ]
  },
  {
   "cell_type": "markdown",
   "metadata": {
    "colab_type": "text",
    "id": "6_31BtgNYPQE",
    "slideshow": {
     "slide_type": "slide"
    }
   },
   "source": [
    "# Ordered Collections\n",
    "---\n",
    "* *Collections* are variables that can store many values in one place. \n",
    "\n",
    "\n",
    "* *Ordered collections* store items in a given order\n",
    "    * items in collections are identified by their position.\n",
    "    \n",
    "    \n",
    "* There are two types of ordered collections: *lists* and *tuples*.  "
   ]
  },
  {
   "cell_type": "markdown",
   "metadata": {
    "colab_type": "text",
    "id": "vAPVbApxbdz3",
    "slideshow": {
     "slide_type": "slide"
    }
   },
   "source": [
    "## Lists\n",
    "---\n",
    "* Lists are mutable ordered collections. \n",
    "\n",
    "\n",
    "* They contain variables of any type, including\n",
    "    * Strings\n",
    "    * Numbers \n",
    "    * Even other lists.\n",
    "\n",
    "\n",
    "* List could include: \n",
    "    * The five most popular dog names in New York City\n",
    "    * The ages of kids in a kindergarten class\n",
    "    * The record high temperatures of multiple cities across the world and so on. \n",
    " \n"
   ]
  },
  {
   "cell_type": "markdown",
   "metadata": {
    "colab_type": "text",
    "id": "vbRQvW2o7GXX",
    "slideshow": {
     "slide_type": "slide"
    }
   },
   "source": [
    "#### Creating a list\n",
    "---\n",
    "* Lists are created using square brackets (`[]`)\n",
    "* Individual elements in are separated by commas (`,`).  \n",
    "\n",
    "```python\n",
    "mixed_data_types_list = ['one', 'five', 3, 'fourteen']\n",
    "\n",
    "integer_list = [1, 2, 3, 4, 5]\n",
    "\n",
    "suits = [\"♤\", \"♡\", \"♢\", \"♧\"]\n",
    "```\n"
   ]
  },
  {
   "cell_type": "markdown",
   "metadata": {
    "colab_type": "text",
    "id": "Ed9Iiz97rsla",
    "slideshow": {
     "slide_type": "slide"
    }
   },
   "source": [
    "### Indices\n",
    "---\n",
    "\n",
    "* An element in a list can be referred to using its numbered position, which is called an index.\n",
    "\n",
    "\n",
    "* Indices are integer numbers that range **from 0 to one less than the total number of elements**. \n",
    "\n",
    "\n",
    "* In `suits`:\n",
    "    * `\"♤\"` has an index of 0\n",
    "    * `\"♡\"` has an index of 1\n",
    "    * `\"♢\"` has an index of 2\n",
    "    * `\"♧\"` has an index of 3\n",
    "    \n",
    "    \n",
    "* Elements can also be indexed with negative numbers. \n",
    "    * The last element in a list has in index of -1\n",
    "    * The second to the last element in a list has an index of -2 and so on.\n",
    "<img src=\"images/ordered_collections/single_indexing_suits_1.JPG\" alt=\"drawing\" style=\"width:500px;\"/>"
   ]
  },
  {
   "cell_type": "markdown",
   "metadata": {
    "slideshow": {
     "slide_type": "slide"
    }
   },
   "source": [
    "### Indexing Single Elements in a List\n",
    "---\n",
    "* We can access elements by typing the list name followed by using the following syntax. \n",
    "\n",
    "```python\n",
    "list_name[index]\n",
    "```\n",
    "* This will return the specified element to the line it was called.\n",
    "\n",
    "<!-- ![single_indexing_suits](images/ordered_collections/single_indexing_suits.JPG) -->\n",
    "\n",
    "<img src=\"images/ordered_collections/single_indexing_suits_2.JPG\" alt=\"drawing\" style=\"width:500px;\"/>\n",
    "\n"
   ]
  },
  {
   "cell_type": "markdown",
   "metadata": {
    "colab_type": "text",
    "id": "62Y0CHcqWOvP",
    "slideshow": {
     "slide_type": "slide"
    }
   },
   "source": [
    "### Example\n",
    "---\n",
    "* We can refer to elements in our `suits` list using positive indices."
   ]
  },
  {
   "cell_type": "code",
   "execution_count": 2,
   "metadata": {
    "colab": {
     "base_uri": "https://localhost:8080/",
     "height": 87
    },
    "colab_type": "code",
    "executionInfo": {
     "elapsed": 421,
     "status": "ok",
     "timestamp": 1538781579985,
     "user": {
      "displayName": "Jaclyn Lee",
      "photoUrl": "",
      "userId": "17525286701482268466"
     },
     "user_tz": 600
    },
    "id": "UYwX1FdCa8KP",
    "outputId": "8f2ab198-8f82-4774-da73-88aead6cd84f",
    "slideshow": {
     "slide_type": "fragment"
    }
   },
   "outputs": [
    {
     "name": "stdout",
     "output_type": "stream",
     "text": [
      "♤\n",
      "♡\n",
      "♢\n",
      "♧\n"
     ]
    }
   ],
   "source": [
    "suits = [\"♤\", \"♡\", \"♢\", \"♧\"]\n",
    "\n",
    "print(suits[0])\n",
    "print(suits[1])\n",
    "print(suits[2])\n",
    "print(suits[3])"
   ]
  },
  {
   "cell_type": "markdown",
   "metadata": {
    "colab_type": "text",
    "id": "5COx6HWqX5SC",
    "slideshow": {
     "slide_type": "slide"
    }
   },
   "source": [
    "### Example\n",
    "---\n",
    "* We can also print the elements in `suits` again, but by using negative indices and assigning them to their own variables."
   ]
  },
  {
   "cell_type": "code",
   "execution_count": 3,
   "metadata": {
    "colab": {
     "base_uri": "https://localhost:8080/",
     "height": 87
    },
    "colab_type": "code",
    "executionInfo": {
     "elapsed": 407,
     "status": "ok",
     "timestamp": 1538779751993,
     "user": {
      "displayName": "Jaclyn Lee",
      "photoUrl": "",
      "userId": "17525286701482268466"
     },
     "user_tz": 600
    },
    "id": "HO_DXr1TW4WZ",
    "outputId": "bc8f704a-c71b-4790-c3a2-2541eed41983",
    "slideshow": {
     "slide_type": "fragment"
    }
   },
   "outputs": [
    {
     "name": "stdout",
     "output_type": "stream",
     "text": [
      "♤\n",
      "♡\n",
      "♢\n",
      "♧\n"
     ]
    }
   ],
   "source": [
    "spade = suits[-4]\n",
    "print(spade)\n",
    "\n",
    "heart = suits[-3] \n",
    "print(heart)\n",
    "\n",
    "diamond = suits[-2]\n",
    "print(diamond)\n",
    "\n",
    "club = suits[-1] \n",
    "print(club)\n"
   ]
  },
  {
   "cell_type": "markdown",
   "metadata": {
    "colab_type": "text",
    "id": "YqfrsSFR7FwA",
    "slideshow": {
     "slide_type": "slide"
    }
   },
   "source": [
    "### Quiz\n",
    "---\n",
    "\n",
    "What are the two ways you can refer to the second element (`'heart'`) in the following list?\n",
    "```python\n",
    "card_suits = ['spade', 'heart', 'diamond', 'club']\n",
    "```\n",
    "\n",
    "A.  `card_suits[2]` and `card_suits[-3]`\n",
    "\n",
    "B. `card_suits[1]` and `card_suits[-3]`\n",
    "\n",
    "C. `card_suits[1]` and `card_suits[-2]`\n",
    "\n",
    "D. `card_suits[2]` and `card_suits[-2]`\n",
    "\n",
    "\n"
   ]
  },
  {
   "cell_type": "markdown",
   "metadata": {
    "colab_type": "text",
    "id": "4nke8SybdLFF",
    "slideshow": {
     "slide_type": "slide"
    }
   },
   "source": [
    "#### Indexing a Range of Values in a List\n",
    "\n",
    "* An array slice is a subset of consecutive elements of an array. \n",
    "\n",
    "\n",
    "* A slice specified using the `[x:y]` syntax.\n",
    "    * `x` is the position of the first element in the slice\n",
    "    * `y` is the end element, and is **not** included in the slice."
   ]
  },
  {
   "cell_type": "markdown",
   "metadata": {
    "slideshow": {
     "slide_type": "slide"
    }
   },
   "source": [
    "### Example\n",
    "---\n",
    "* If we wanted to index the first three values in the `suits` list, we could use:"
   ]
  },
  {
   "cell_type": "code",
   "execution_count": 4,
   "metadata": {
    "slideshow": {
     "slide_type": "fragment"
    }
   },
   "outputs": [
    {
     "data": {
      "text/plain": [
       "['♤', '♡', '♢']"
      ]
     },
     "execution_count": 4,
     "metadata": {},
     "output_type": "execute_result"
    }
   ],
   "source": [
    "suits[0:3]"
   ]
  },
  {
   "cell_type": "markdown",
   "metadata": {
    "slideshow": {
     "slide_type": "fragment"
    }
   },
   "source": [
    "* From the notation above, we see that the element 0 (\"♤\") will be included in the slice, whereas the element \"♧\" will not be included. Thus, the slice comprises of \"♤\", \"♡\", \"♢\"."
   ]
  },
  {
   "cell_type": "markdown",
   "metadata": {
    "slideshow": {
     "slide_type": "slide"
    }
   },
   "source": [
    "### Slicing shortcuts\n",
    "---\n",
    " \n",
    "* If the first index is omitted, Python will assume that it's 0,\n",
    "\n",
    "\n",
    "```python\n",
    "copy_list_name = original_list_name[: limit_last_index]\n",
    "```\n",
    "\n",
    "* If the second index is blank, Python will copy the list from the first index until the last element in the collection (included). \n",
    "\n",
    "```python\n",
    "copy_list_name = original_list_name[first_index:]\n",
    "```\n",
    "\n",
    "* A single colon without indexes instructs Python to copy the entire list. \n",
    "\n",
    "```python\n",
    "copy_list_name = original_list_name[:]\n",
    "```"
   ]
  },
  {
   "cell_type": "markdown",
   "metadata": {
    "colab_type": "text",
    "id": "gQhoRP9Bh57S",
    "slideshow": {
     "slide_type": "slide"
    }
   },
   "source": [
    "### Example\n",
    "---\n",
    "\n",
    "* Using the `suits` list, we will demonstrate the 3 slicing shortcuts."
   ]
  },
  {
   "cell_type": "code",
   "execution_count": 1,
   "metadata": {
    "colab": {
     "base_uri": "https://localhost:8080/",
     "height": 212
    },
    "colab_type": "code",
    "executionInfo": {
     "elapsed": 457,
     "status": "ok",
     "timestamp": 1548791017301,
     "user": {
      "displayName": "Jaclyn Lee",
      "photoUrl": "",
      "userId": "17525286701482268466"
     },
     "user_tz": 600
    },
    "id": "o8rvheyXj4Z7",
    "outputId": "c5fc1637-c7f0-446b-c2b2-e1a469a4261f",
    "slideshow": {
     "slide_type": "fragment"
    }
   },
   "outputs": [
    {
     "name": "stdout",
     "output_type": "stream",
     "text": [
      "Printing the first three elements:\n",
      "['♤', '♡', '♢']\n",
      "Printing the last two elements:\n",
      "['♢', '♧']\n",
      "Referring to the entire suits list:\n",
      "['♤', '♡', '♢', '♧']\n"
     ]
    }
   ],
   "source": [
    "suits = [\"♤\", \"♡\", \"♢\", \"♧\"]\n",
    "\n",
    "print('Printing the first three elements:')\n",
    "print(suits[:3])\n",
    "\n",
    "print('Printing the last two elements:')\n",
    "print(suits[2:])\n",
    "\n",
    "print('Referring to the entire suits list:')\n",
    "print(suits[:])"
   ]
  },
  {
   "cell_type": "markdown",
   "metadata": {
    "colab_type": "text",
    "id": "FuAFIAqy9Cwg",
    "slideshow": {
     "slide_type": "slide"
    }
   },
   "source": [
    "### Quiz\n",
    "---\n",
    "\n",
    "* The following list shows monthly inflation rates from January 2018 to November 2018. \n",
    "\n",
    "\n",
    "* How do you slice the first six months of data from this list?\n",
    "```python\n",
    "monthly_inflation = [2.04, 2.10, 2.09, 2.13, 2.14, 2.12, 2.12, 2.10, 2.12, 2.11, 2.01]\n",
    "```\n",
    "\n",
    "A. `monthly_inflation[0:6]`\n",
    "\n",
    "B. `monthly_inflation[:6]`\n",
    "\n",
    "C. `monthly_inflation[:-6]`\n",
    "\n",
    "D. `monthly_inflation[1:6]`\n"
   ]
  },
  {
   "cell_type": "markdown",
   "metadata": {
    "colab_type": "text",
    "id": "fkjtblrHbix0",
    "slideshow": {
     "slide_type": "slide"
    }
   },
   "source": [
    "## Tuples\n",
    "---\n",
    "\n",
    "* Tuples contain order elements, which can be of any data type. \n",
    "\n",
    "\n",
    "* Tuples are immutable. \n",
    "\n",
    "\n",
    "* Tuples can be created using a set of parenthesis (`()`) and elements are separated with commas (`,`).\n",
    "\n",
    "<img src=\"images/ordered_collections/tuple_example.JPG\" alte=\"drawing\" style=\"width:800px;\"/>\n"
   ]
  },
  {
   "cell_type": "markdown",
   "metadata": {
    "colab_type": "text",
    "id": "URnAZ3rrINP3",
    "slideshow": {
     "slide_type": "slide"
    }
   },
   "source": [
    "### Example\n",
    "---\n",
    "\n",
    "* Let's create a simple tuple containing Honolulu's longitude, latitude, elevation in meters and area in square kilometers (\"21 18' N\", \"157 51' W\", 6, 177.2). \n"
   ]
  },
  {
   "cell_type": "code",
   "execution_count": 6,
   "metadata": {
    "colab": {
     "base_uri": "https://localhost:8080/",
     "height": 34
    },
    "colab_type": "code",
    "executionInfo": {
     "elapsed": 440,
     "status": "ok",
     "timestamp": 1548791332554,
     "user": {
      "displayName": "Jaclyn Lee",
      "photoUrl": "",
      "userId": "17525286701482268466"
     },
     "user_tz": 600
    },
    "id": "sVcnBsYbIYW5",
    "outputId": "3651c165-429c-4237-f0e0-e2e6029dade7",
    "slideshow": {
     "slide_type": "fragment"
    }
   },
   "outputs": [
    {
     "data": {
      "text/plain": [
       "(\"21° 18' N\", \"157° 51' W\", 6, 177.2)"
      ]
     },
     "execution_count": 6,
     "metadata": {},
     "output_type": "execute_result"
    }
   ],
   "source": [
    "honolulu = (\"21° 18' N\", \"157° 51' W\", 6, 177.2)\n",
    "honolulu"
   ]
  },
  {
   "cell_type": "markdown",
   "metadata": {
    "colab_type": "text",
    "id": "YzvmCT8hHOwO",
    "slideshow": {
     "slide_type": "slide"
    }
   },
   "source": [
    "### Quiz\n",
    "---\n",
    "\n",
    "How do tuples differ from lists?\n",
    "\n",
    "A. A list is an ordered collection, while a tuple is an unordered collection.\n",
    "\n",
    "B. A list is mutable, while a tuple is not.\n",
    "\n",
    "C. A list can handle elements of different data types, while a tuple can only contain elements of the same data type.\n",
    "\n",
    "D. Tuples have fewer values than lists."
   ]
  },
  {
   "cell_type": "markdown",
   "metadata": {
    "colab_type": "text",
    "id": "-SQSIARgbmgw",
    "slideshow": {
     "slide_type": "slide"
    }
   },
   "source": [
    "## `for` Loops\n",
    "---\n",
    "\n",
    "* `for` loops are ideal for repeating functionalities that are tied to a collection of elements. \n",
    "\n",
    "\n",
    "* Ex., checking the account balance for each student at the University of Hawaii.\n"
   ]
  },
  {
   "cell_type": "markdown",
   "metadata": {
    "colab_type": "text",
    "id": "fpXjdGSYSNdP",
    "slideshow": {
     "slide_type": "slide"
    }
   },
   "source": [
    "### Creating a `for` Loop\n",
    "---\n",
    "\n",
    "* The following is the basic structure of a `for` loop:\n",
    "\n",
    "```python\n",
    "for one_element in collection_of_elements:\n",
    "    functionality to do on one_element\n",
    "```\n",
    "* `one_element` is a temporary variable used to hold each element in a collection that the `for` loop iterates over.\n",
    "* The lines of code within the `for` loop should be indented with one tab.\n"
   ]
  },
  {
   "cell_type": "markdown",
   "metadata": {
    "slideshow": {
     "slide_type": "slide"
    }
   },
   "source": [
    "* The flow logic of the `for` loop is summarized in the diagram below.\n",
    "\n",
    "<img src=\"images/ordered_collections/for_loop_flow_chart.jpg\" alt=\"drawing\" style=\"width:400px;\"/>\n"
   ]
  },
  {
   "cell_type": "markdown",
   "metadata": {
    "colab_type": "text",
    "id": "4nlcfKiXb1LU",
    "slideshow": {
     "slide_type": "slide"
    }
   },
   "source": [
    "### Example\n",
    "---\n",
    "\n",
    "* Take, for instance, the following Python snippet:"
   ]
  },
  {
   "cell_type": "code",
   "execution_count": 7,
   "metadata": {
    "slideshow": {
     "slide_type": "fragment"
    }
   },
   "outputs": [
    {
     "name": "stdout",
     "output_type": "stream",
     "text": [
      "The Lion King is sold out today!\n",
      "Rent is sold out today!\n",
      "Wicked is sold out today!\n",
      "Hamilton is sold out today!\n",
      "Chicago is sold out today!\n",
      "Aladdin is sold out today!\n",
      "Frozen is sold out today!\n"
     ]
    }
   ],
   "source": [
    "broadway_shows = ['The Lion King', 'Rent', 'Wicked', 'Hamilton', 'Chicago', 'Aladdin', 'Frozen']\n",
    "\n",
    "\n",
    "for show in broadway_shows:\n",
    "    print(\"{} is sold out today!\".format(show))"
   ]
  },
  {
   "cell_type": "markdown",
   "metadata": {
    "slideshow": {
     "slide_type": "fragment"
    }
   },
   "source": [
    "* The first element is assigned to the temporary variable called `show`\n",
    "\n",
    "\n",
    "* The body of the `for` loop prints `show` and \" is sold out today!\". \n",
    "\n",
    "\n",
    "* Elements are looped through as they appear in the list."
   ]
  },
  {
   "cell_type": "markdown",
   "metadata": {
    "colab_type": "text",
    "id": "34fFgVTSLo15",
    "slideshow": {
     "slide_type": "slide"
    }
   },
   "source": [
    "### Quiz\n",
    "---\n",
    "* `visitor_expenditures_2016` containing quarterly Hawaii visitor expenditures in millions of US dollars. \n",
    "\n",
    "\n",
    "* Which snippet of code correctly prints the values in `visitor_expenditures_2016` in Jordanian Dinars? \n",
    "\n",
    "\n",
    "* Note: 1 Jordanian Dinar = 1.41 US dollars\n",
    "\n",
    "\n",
    "```python\n",
    "visitor_expenditures_2016 = [3744.7, 3958.4, 3990.4, 4059.9]\n",
    "```\n"
   ]
  },
  {
   "cell_type": "markdown",
   "metadata": {
    "slideshow": {
     "slide_type": "fragment"
    }
   },
   "source": [
    "A.\n",
    "```python\n",
    "for 2016_expenditure in visitor_expenditures_2016\n",
    "    expenditure*1000000/1.41\n",
    "\n",
    "```\n",
    "B.\n",
    "```python\n",
    "for 2016_expenditure in visitor_expenditures_2016:\n",
    "    2016_expenditure = 2016_expenditure*1000000/1.41\n",
    "    print(2016_expenditure)\n",
    "```\n",
    "C.\n",
    "```python\n",
    "for expenditure in visitor_expenditures_2016:\n",
    "    print(expenditure*1000000/1.41)\n",
    "```\n",
    "D.\n",
    "```python\n",
    "for expenditure in visitor_expenditures_2016\n",
    "    print(expenditure*1000000/1.41)\n",
    "```"
   ]
  },
  {
   "cell_type": "markdown",
   "metadata": {
    "colab_type": "text",
    "id": "rP5ljClFbtoT",
    "slideshow": {
     "slide_type": "slide"
    }
   },
   "source": [
    "## Summary\n",
    "---\n",
    "This chapter covered:\n",
    "* Creating lists and tuples.\n",
    "\n",
    "\n",
    "* Referring to elements in a list or tuple.\n",
    "\n",
    "\n",
    "* How to loop through lists and tuples using `for` loops."
   ]
  }
 ],
 "metadata": {
  "celltoolbar": "Slideshow",
  "colab": {
   "collapsed_sections": [],
   "name": "6 Intro to Python: Ordered Collections.ipynb",
   "provenance": [],
   "version": "0.3.2"
  },
  "hide_input": false,
  "kernelspec": {
   "display_name": "Python 3",
   "language": "python",
   "name": "python3"
  },
  "language_info": {
   "codemirror_mode": {
    "name": "ipython",
    "version": 3
   },
   "file_extension": ".py",
   "mimetype": "text/x-python",
   "name": "python",
   "nbconvert_exporter": "python",
   "pygments_lexer": "ipython3",
   "version": "3.6.6"
  }
 },
 "nbformat": 4,
 "nbformat_minor": 1
}
