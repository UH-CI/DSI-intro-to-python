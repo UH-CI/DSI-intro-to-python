{
 "cells": [
  {
   "cell_type": "code",
   "execution_count": 5,
   "metadata": {
    "slideshow": {
     "slide_type": "skip"
    }
   },
   "outputs": [
    {
     "data": {
      "text/html": [
       "<style>\n",
       "    @font-face {\n",
       "        font-family: \"Computer Modern\";\n",
       "        src: url('http://9dbb143991406a7c655e-aa5fcb0a5a4ec34cff238a2d56ca4144.r56.cf5.rackcdn.com/cmunss.otf');\n",
       "    }\n",
       "    @font-face {\n",
       "        font-family: \"Computer Modern\";\n",
       "        font-weight: bold;\n",
       "        src: url('http://9dbb143991406a7c655e-aa5fcb0a5a4ec34cff238a2d56ca4144.r56.cf5.rackcdn.com/cmunsx.otf');\n",
       "    }\n",
       "    @font-face {\n",
       "        font-family: \"Computer Modern\";\n",
       "        font-style: oblique;\n",
       "        src: url('http://9dbb143991406a7c655e-aa5fcb0a5a4ec34cff238a2d56ca4144.r56.cf5.rackcdn.com/cmunsi.otf');\n",
       "    }\n",
       "    @font-face {\n",
       "        font-family: \"Computer Modern\";\n",
       "        font-weight: bold;\n",
       "        font-style: oblique;\n",
       "        src: url('http://9dbb143991406a7c655e-aa5fcb0a5a4ec34cff238a2d56ca4144.r56.cf5.rackcdn.com/cmunso.otf');\n",
       "    }\n",
       "    div.cell{\n",
       "        width:900px;\n",
       "        margin-left:5% !important;\n",
       "        margin-right:auto;\n",
       "    }\n",
       "    h1 {\n",
       "        font-family: Helvetica, serif;\n",
       "    }\n",
       "    h4{\n",
       "        margin-top:12px;\n",
       "        margin-bottom: 3px;\n",
       "       }\n",
       "    div.text_cell_render{\n",
       "        font-family: Computer Modern, \"Helvetica Neue\", Arial, Helvetica, Geneva, sans-serif;\n",
       "        line-height: 145%;\n",
       "        font-size: 130%;\n",
       "        width:800px;\n",
       "        margin-left:auto;\n",
       "        margin-right:auto;\n",
       "    }\n",
       "    .CodeMirror{\n",
       "            font-family: \"Source Code Pro\", source-code-pro,Consolas, monospace;\n",
       "    }\n",
       "    .prompt{\n",
       "        display: None;\n",
       "    }\n",
       "    .text_cell_render h5 {\n",
       "        font-weight: 300;\n",
       "        font-size: 26pt;\n",
       "        color: #4057A1;\n",
       "        font-style: italic;\n",
       "        margin-bottom: .5em;\n",
       "        margin-top: 0.5em;\n",
       "        display: block;\n",
       "    }\n",
       "    \n",
       "    .warning{\n",
       "        color: rgb( 240, 20, 20 )\n",
       "        }  \n",
       "</style>\n",
       "<script>\n",
       "    MathJax.Hub.Config({\n",
       "                        TeX: {\n",
       "                           extensions: [\"AMSmath.js\"]\n",
       "                           },\n",
       "                tex2jax: {\n",
       "                    inlineMath: [ ['$','$'], [\"\\\\(\",\"\\\\)\"] ],\n",
       "                    displayMath: [ ['$$','$$'], [\"\\\\[\",\"\\\\]\"] ]\n",
       "                },\n",
       "                displayAlign: 'center', // Change this to 'center' to center equations.\n",
       "                \"HTML-CSS\": {\n",
       "                    styles: {'.MathJax_Display': {\"margin\": 4}}\n",
       "                }\n",
       "        });\n",
       "</script>\n"
      ],
      "text/plain": [
       "<IPython.core.display.HTML object>"
      ]
     },
     "execution_count": 5,
     "metadata": {},
     "output_type": "execute_result"
    }
   ],
   "source": [
    "from IPython.core.display import HTML\n",
    "\n",
    "def set_css_style(css_file_path):\n",
    "    \"\"\"\n",
    "    Read the custom CSS file and load it into Jupyter.\n",
    "    Pass the file path to the CSS file.\n",
    "    \"\"\"\n",
    "    styles = open(css_file_path, \"r\").read()\n",
    "    return HTML(styles)\n",
    "\n",
    "set_css_style('styles/custom.css')"
   ]
  },
  {
   "cell_type": "markdown",
   "metadata": {
    "slideshow": {
     "slide_type": "slide"
    }
   },
   "source": [
    "# Introduction to Python\n",
    "---"
   ]
  },
  {
   "cell_type": "markdown",
   "metadata": {
    "colab_type": "text",
    "id": "VSWevzed3G5P",
    "slideshow": {
     "slide_type": "slide"
    }
   },
   "source": [
    "## Why Python?\n",
    "---\n",
    "\n",
    "* Python is an ideal programming language for data science.\n",
    "\n",
    "* It's efficient, easy to learn and open-source.\n",
    "\n",
    "* Beyond data science, Python is a great programming language for a wide variety of other applications. \n",
    "\n",
    "\n",
    "  * Ex.: develop video games, model biological and biochemical processes, web based applications and much more.\n"
   ]
  },
  {
   "cell_type": "markdown",
   "metadata": {
    "colab_type": "text",
    "id": "fNAaOX1iFiWu",
    "slideshow": {
     "slide_type": "slide"
    }
   },
   "source": [
    "## Using Jupyter Notebooks\n",
    "\n",
    "---\n",
    "* This module exists as a Jupyter notebook\n",
    "\n",
    "\n",
    "* Jupyter notebook are:\n",
    "  * An open-source web based application\n",
    "  * create documents that combine both text and code cells."
   ]
  },
  {
   "cell_type": "markdown",
   "metadata": {
    "colab_type": "text",
    "id": "fehp2bHIUaf6",
    "slideshow": {
     "slide_type": "slide"
    }
   },
   "source": [
    "## Text Cells\n",
    "\n",
    "* Text cells are commonly formatted using __Markdown__. \n",
    "  * An easy to use syntax for formatting text.\n",
    "\n",
    "\n",
    "* The [Markdown Cheatsheet](https://github.com/adam-p/markdown-here/wiki/Markdown-Cheatsheet) is a great reference when using Markdown. \n",
    "\n",
    "\n",
    "\n",
    "* To create a new cell, click the plus sign in the tool bar and make sure the toolbar says Markdown. \n",
    "\n",
    "<img src=\"images/Jupyter_notebooks/create_text_cell.png\" alt=\"drawing\" style=\"width:850px;\"/>"
   ]
  },
  {
   "cell_type": "markdown",
   "metadata": {
    "slideshow": {
     "slide_type": "slide"
    }
   },
   "source": [
    "### Editing Text\n",
    "\n",
    "* To edit a cell, double click it and type text using the `Markdown` syntax\n",
    "\n",
    "\n",
    "* For example, you can format a header (H1) using ```# Header One``` \n",
    "\n",
    "# Header One.\n",
    "\n",
    "* You can create a strikethrough text using tildes. Typing ```~~strikethrough~~``` will translate into: ~~strikethrough~~\n",
    "\n",
    "\n",
    "* Refer to the cheatsheet for more details\n"
   ]
  },
  {
   "cell_type": "markdown",
   "metadata": {
    "slideshow": {
     "slide_type": "slide"
    }
   },
   "source": [
    "### Running Code\n",
    "\n",
    "* Click the run button at the top of the tool bar to confirm any changes. \n",
    "\n",
    "\n",
    "* You can also press **SHIFT+ENTER** to render the output.\n",
    " * I.e convert from MarkDown to HTML and display it\n",
    "\n",
    "\n",
    "<img src=\"images/Jupyter_notebooks/run_text_cell.png\" alt=\"drawing\" style=\"width:850px;\"/>"
   ]
  },
  {
   "cell_type": "markdown",
   "metadata": {
    "colab_type": "text",
    "id": "LFkqWqTDUe32",
    "slideshow": {
     "slide_type": "slide"
    }
   },
   "source": [
    "### Code Cells \n",
    "\n",
    "* New cells are by default `code` cells, i.e., the dropdown value is automatically set to code.\n",
    "\n",
    "<img src=\"images/Jupyter_notebooks/create_code_cell.png\" alt=\"drawing\" style=\"width:850px;\"/>"
   ]
  },
  {
   "cell_type": "markdown",
   "metadata": {
    "slideshow": {
     "slide_type": "slide"
    }
   },
   "source": [
    "### Running Code Cells\n",
    "\n",
    "* Run code cells by clicking the run button at the top of the tool bar.\n",
    "  *  Or selecting the cell (clicking inside the cell) and then hitting __SHIFT+ENTER__\n",
    "\n",
    "\n",
    "* Running code cells will execute the code in the cell.\n",
    "\n",
    "<img src=\"images/Jupyter_notebooks/run_code_cell.png\" alt=\"drawing\" style=\"width:850px;\"/>\n"
   ]
  }
 ],
 "metadata": {
  "celltoolbar": "Slideshow",
  "colab": {
   "collapsed_sections": [],
   "name": "1. Intro to Python: Jupyter_notebooks.ipynb",
   "provenance": [],
   "version": "0.3.2"
  },
  "hide_input": false,
  "kernelspec": {
   "display_name": "Python 3",
   "language": "python",
   "name": "python3"
  },
  "language_info": {
   "codemirror_mode": {
    "name": "ipython",
    "version": 3
   },
   "file_extension": ".py",
   "mimetype": "text/x-python",
   "name": "python",
   "nbconvert_exporter": "python",
   "pygments_lexer": "ipython3",
   "version": "3.6.6"
  }
 },
 "nbformat": 4,
 "nbformat_minor": 1
}
