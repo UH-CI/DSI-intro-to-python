{
 "cells": [
  {
   "cell_type": "markdown",
   "metadata": {
    "slideshow": {
     "slide_type": "slide"
    }
   },
   "source": [
    "# Introduction to Python\n",
    "---"
   ]
  },
  {
   "cell_type": "markdown",
   "metadata": {
    "colab_type": "text",
    "id": "JZDtbTxC2VRV",
    "slideshow": {
     "slide_type": "slide"
    }
   },
   "source": [
    "# Data Science\n",
    "---\n",
    "* Data science is a field of study where meaningful conclusions are drawn from analyzing large data sets. \n",
    "* The conclusions extrapolated from these data sets have great potential to benefit many people and shape society. \n",
    "* Data science relies heavily on the use of programming for analyzing data\n",
    "* This module will introduce the foundations of Python, which is one of the most useful tools in the data scientist's tool belt."
   ]
  },
  {
   "cell_type": "markdown",
   "metadata": {
    "colab_type": "text",
    "id": "VSWevzed3G5P",
    "slideshow": {
     "slide_type": "slide"
    }
   },
   "source": [
    "# Why Python?\n",
    "---\n",
    "\n",
    "* Python is an excellent programming language for data science because it is efficient, relatively easy to learn and open-source.\n",
    "* Although this module focuses on Python applied to data science, Python is a great programming language for a wide variety of other applications. \n",
    "* For example, Python can also be used to develop video games, model biological and biochemical processes, develop web based applications and much more!\n"
   ]
  },
  {
   "cell_type": "markdown",
   "metadata": {
    "colab_type": "text",
    "id": "fNAaOX1iFiWu",
    "slideshow": {
     "slide_type": "slide"
    }
   },
   "source": [
    "# Getting Started\n",
    "---\n",
    "## Using Jupyter Notebooks\n",
    "---\n",
    "* This module exists as a Jupyter notebook\n",
    "    * An open-source web based application\n",
    "    * create documents that combine both text and code cells."
   ]
  },
  {
   "cell_type": "markdown",
   "metadata": {
    "colab_type": "text",
    "id": "fehp2bHIUaf6",
    "slideshow": {
     "slide_type": "slide"
    }
   },
   "source": [
    "### Text Cells\n",
    "\n",
    "* Text cells are commonly formatted using Markdown. \n",
    "* The [Markdown Cheatsheet](https://github.com/adam-p/markdown-here/wiki/Markdown-Cheatsheet) is a great reference when using Markdown. \n",
    "\n",
    "* To create a new cell, click the plus sign in the tool bar and make sure the toolbar says Markdown. \n",
    "![Creating a text cell](images/Jupyter_notebooks/create_text_cell.png)\n"
   ]
  },
  {
   "cell_type": "markdown",
   "metadata": {
    "slideshow": {
     "slide_type": "slide"
    }
   },
   "source": [
    "* To edit a cell, double click on it and type text with the desired formatting. \n",
    "* For example, if you want to use the largest header, you could type ```# Header One``` into a text cell to yield: \n",
    "\n",
    "# Header One.\n",
    "\n",
    "\n",
    "* As another example, you can create a strikethrough text using tildes. Typing ```~~ strikethrough ~~``` will translate into: ~~ strikethrough ~~.\n"
   ]
  },
  {
   "cell_type": "markdown",
   "metadata": {
    "slideshow": {
     "slide_type": "slide"
    }
   },
   "source": [
    "* Click the run button at the top of the tool bar to confirm any changes. \n",
    "* You can also press **SHIFT+ENTER** to confirm changes.\n",
    "\n",
    "\n",
    "![Running a text cell](images/Jupyter_notebooks/run_text_cell.png)"
   ]
  },
  {
   "cell_type": "markdown",
   "metadata": {
    "colab_type": "text",
    "id": "LFkqWqTDUe32",
    "slideshow": {
     "slide_type": "slide"
    }
   },
   "source": [
    "### Code Cells \n",
    "\n",
    "* New cells are by default `code` cells, i.e., the dropdown value is automatically set to code.\n",
    "\n",
    "![Creating a code cell](images/Jupyter_notebooks/create_code_cell.png)"
   ]
  },
  {
   "cell_type": "markdown",
   "metadata": {
    "slideshow": {
     "slide_type": "slide"
    }
   },
   "source": [
    "* You can run code cells by clicking the run button at the top of the tool bar. \n",
    "* You can also run code cells by selecting the cell (clicking inside the cell) and then hitting __SHIFT+ENTER__\n",
    "* Running code cells will execute all the code in the cell.\n",
    "\n",
    "![Running a code cell](images/Jupyter_notebooks/run_code_cell.png)"
   ]
  }
 ],
 "metadata": {
  "celltoolbar": "Slideshow",
  "colab": {
   "collapsed_sections": [],
   "name": "1. Intro to Python: Jupyter_notebooks.ipynb",
   "provenance": [],
   "version": "0.3.2"
  },
  "kernelspec": {
   "display_name": "Python 3",
   "language": "python",
   "name": "python3"
  },
  "language_info": {
   "codemirror_mode": {
    "name": "ipython",
    "version": 3
   },
   "file_extension": ".py",
   "mimetype": "text/x-python",
   "name": "python",
   "nbconvert_exporter": "python",
   "pygments_lexer": "ipython3",
   "version": "3.6.6"
  }
 },
 "nbformat": 4,
 "nbformat_minor": 1
}
