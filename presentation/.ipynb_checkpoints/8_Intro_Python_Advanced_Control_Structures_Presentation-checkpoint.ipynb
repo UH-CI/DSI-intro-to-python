{
 "cells": [
  {
   "cell_type": "markdown",
   "metadata": {
    "colab_type": "text",
    "id": "kj6UPZUylhel",
    "slideshow": {
     "slide_type": "slide"
    }
   },
   "source": [
    "# Advanced Control Structures\n",
    "---\n",
    "\n",
    "* This section introduces more advanced control structures, namely:\n",
    "    * *`if-else` statements nested in `for` loops*\n",
    "    * *`for` loops nested in `for` loops*. \n",
    "* These control structures allow for more intricate programs that involve applying `if-else` statements to every item in a collection, or looping through a nested collection.\n"
   ]
  },
  {
   "cell_type": "markdown",
   "metadata": {
    "colab_type": "text",
    "id": "aqFeHz31mNTL",
    "slideshow": {
     "slide_type": "slide"
    }
   },
   "source": [
    "## Nested `if-else` statements in `for` loops\n",
    "---\n",
    "\n",
    "* The `for` loop is used to iterate through the collection\n",
    "* The nested `if-else` statement will evaluate for a certain condition and execute a certain task if that condition is met.\n",
    "* This common construct can be applied every time one needs to iterate over a list of elements and filter the elements based upon some condition.\n",
    "* For example:\n",
    "```python\n",
    "youtube_views = [('G7PydoX_WNQ', 31230), ('P81i66_tLlU' , 184961), ('VgEbcQxFUu8', 1139112)]\n",
    "for video in youtube_views:\n",
    "    if video[1] > 100000:\n",
    "        print(video[0])\n",
    "```\n",
    "* can be visualized like this:\n",
    "![nested_if_for_1](images/advanced_control_structure/nested_if_for_1.jpg)\n",
    "\n",
    "\n",
    "\n",
    "\n",
    "\n"
   ]
  },
  {
   "cell_type": "markdown",
   "metadata": {
    "colab_type": "text",
    "id": "TuBKUcOa7GtC",
    "slideshow": {
     "slide_type": "slide"
    }
   },
   "source": [
    "* To better understand `if-else` statements nested in `for` loops, the `for` loop in the example above can be \"unrolled\" by writing the code without using a `for` loop."
   ]
  },
  {
   "cell_type": "code",
   "execution_count": null,
   "metadata": {
    "colab": {
     "base_uri": "https://localhost:8080/",
     "height": 50
    },
    "colab_type": "code",
    "executionInfo": {
     "elapsed": 720,
     "status": "ok",
     "timestamp": 1538687807317,
     "user": {
      "displayName": "Jaclyn Lee",
      "photoUrl": "",
      "userId": "17525286701482268466"
     },
     "user_tz": 600
    },
    "id": "Lkokku8S7tcr",
    "outputId": "704e5961-620a-438a-ad59-334669f33913",
    "slideshow": {
     "slide_type": "fragment"
    }
   },
   "outputs": [
    {
     "name": "stdout",
     "output_type": "stream",
     "text": [
      "P81i66_tLlU\n",
      "VgEbcQxFUu8\n"
     ]
    }
   ],
   "source": [
    "youtube_views = [('G7PydoX_WNQ', 31230), ('P81i66_tLlU', 184961), ('VgEbcQxFUu8', 1139112)]\n",
    "\n",
    "#iteration 1:\n",
    "video = youtube_views[0]\n",
    "if video[1] > 100000:\n",
    "  print(video[0])\n",
    "\n",
    "#iteration 2:\n",
    "video = youtube_views[1]\n",
    "if video[1] > 100000:\n",
    "  print(video[0])\n",
    "  \n",
    "#iteration3:\n",
    "video = youtube_views[2]\n",
    "if video[1] > 100000:\n",
    "  print(video[0])"
   ]
  },
  {
   "cell_type": "markdown",
   "metadata": {
    "colab_type": "text",
    "id": "v-7iQp0B8MS0",
    "slideshow": {
     "slide_type": "fragment"
    }
   },
   "source": [
    "* Here, a temporary variable called `video` is used to sequentially store the tuples in `youtube_views`.\n",
    "* An `if-else` statement evaluates whether the second element in `video` is greater than 100,000 and will print the first element in the tuple if this is true.\n",
    "* This process repeats until all elements in `youtube_views` have been iterated over."
   ]
  },
  {
   "cell_type": "markdown",
   "metadata": {
    "colab_type": "text",
    "id": "OLxmFaNIWu5r",
    "slideshow": {
     "slide_type": "slide"
    }
   },
   "source": [
    "### Quiz\n",
    "---\n",
    "\n",
    "Below is an `if-else` statement nested in a `for` loop applied to the `ghg_2014` dictionary from Chapter 7. How many countries will be printed?\n",
    "```python\n",
    "ghg_2014 = {'china' : 2806634, 'united states of america' : 1432855, 'india' : 610411, 'russian federation' : 465052, 'japan' : 331074}\n",
    "\n",
    "for country, emission in ghg_2014.items():\n",
    "  if emission > 500000:\n",
    "    print(country)\n",
    "\n",
    "```\n",
    "A. 0\n",
    "\n",
    "B. 1\n",
    "\n",
    "C. 2\n",
    "\n",
    "D. 3\n",
    "\n",
    "E. 4\n"
   ]
  },
  {
   "cell_type": "markdown",
   "metadata": {
    "colab_type": "text",
    "id": "E-0kCkWwmVyB"
   },
   "source": [
    "## Nested `for` loops\n",
    "---\n",
    "\n",
    "* Nested `for` loops are `for` loops that occur within other `for` loops.\n",
    "```\n",
    "for first_iterating_variable in outer_loop:\n",
    "    do something\n",
    "    for second_iterating_variable in nested_loop:\n",
    "        do something\n",
    " ```\n",
    "* Python will first encounter the outer `for` loop and execute the outer loop's first iteration.\n",
    "* The inner `for` loop will be triggered, and will run to completion. \n",
    "* Python will return to the outer loop for the outer loop's second iteration, which will trigger the inner `for` loop again. \n",
    "* This process will repeat until the outer loop iterates to completion."
   ]
  },
  {
   "cell_type": "markdown",
   "metadata": {
    "colab_type": "text",
    "id": "xRMc78oqzI2p",
    "slideshow": {
     "slide_type": "slide"
    }
   },
   "source": [
    "### Example\n",
    "---\n",
    "\n",
    "* Consider two lists, one of which contains the numbers 1 through 3 and the other of which contains the strings `'circle'`, `'triangle'`, `'square'`. \n",
    "* How can one print the numbers 1 through 3 and print all of the strings for each number?\n",
    "\n",
    "* One `for` loop can be used to iterate through the list of numbers.\n",
    "* A second nested `for` loop can be used to iterate through the shapes for each number in the `numbers` list. \n",
    "\n",
    "![nested for loops 2](images/advanced_control_structure/nested_for_loops_2.jpg)\n"
   ]
  },
  {
   "cell_type": "code",
   "execution_count": 1,
   "metadata": {
    "colab": {
     "base_uri": "https://localhost:8080/",
     "height": 221
    },
    "colab_type": "code",
    "executionInfo": {
     "elapsed": 415,
     "status": "ok",
     "timestamp": 1538015699480,
     "user": {
      "displayName": "Charlotte Smith",
      "photoUrl": "",
      "userId": "05194161354170586023"
     },
     "user_tz": 600
    },
    "id": "M5NcGvCnxRhK",
    "outputId": "0795a8e8-e0aa-4072-c26f-32e4d2d1a217",
    "slideshow": {
     "slide_type": "slide"
    }
   },
   "outputs": [
    {
     "name": "stdout",
     "output_type": "stream",
     "text": [
      "1\n",
      "circle\n",
      "triangle\n",
      "square\n",
      "2\n",
      "circle\n",
      "triangle\n",
      "square\n",
      "3\n",
      "circle\n",
      "triangle\n",
      "square\n"
     ]
    }
   ],
   "source": [
    "numbers = [1, 2, 3]\n",
    "shapes = ['circle', 'triangle', 'square']\n",
    "\n",
    "for number in numbers:\n",
    "    print(number)\n",
    "    for shape in shapes:\n",
    "        print(shape)"
   ]
  },
  {
   "cell_type": "markdown",
   "metadata": {},
   "source": [
    "### Quiz\n",
    "---\n",
    "For the following piece of code, how many times will the outer for loop iterate (`for suit in suits:`)?\n",
    "```python\n",
    "suits = [\"♤\", \"♡\", \"♢\", \"♧\"]\n",
    "card_numbers = ['A', '2', '3', '4', '5', '6', '7', '8', '9', '10', 'J', 'Q', 'K']\n",
    "cards = []\n",
    "for suit in suits:\n",
    "  for number in card_numbers:\n",
    "    card = suit + number\n",
    "    cards.append(card)\n",
    "```\n",
    "A. 1\n",
    "\n",
    "B. 2\n",
    "\n",
    "C. 3\n",
    "\n",
    "D. 4"
   ]
  },
  {
   "cell_type": "markdown",
   "metadata": {
    "colab_type": "text",
    "id": "uuF10Q-3nFtl"
   },
   "source": [
    "## Summary\n",
    "---\n",
    "This chapter introduced when and how the following advanced control flows are used:\n",
    "\n",
    "* `if-else` statements in `for` loops.\n",
    "* Nested `for` loops in `for` loops.\n",
    "\n",
    "The next chapter will collate skills from all chapters in a practical section. The practical is an opportunity to practice what was learned in the past 8 chapters and to gain a better intuition for how to code in Python. In the exercises, various topics will be combined so one can get better sense for how different aspects of coding in Python work together."
   ]
  }
 ],
 "metadata": {
  "celltoolbar": "Slideshow",
  "colab": {
   "collapsed_sections": [],
   "name": "8 Intro to Python: Advanced Control Structures.ipynb",
   "provenance": [],
   "version": "0.3.2"
  },
  "kernelspec": {
   "display_name": "Python 3",
   "language": "python",
   "name": "python3"
  },
  "language_info": {
   "codemirror_mode": {
    "name": "ipython",
    "version": 3
   },
   "file_extension": ".py",
   "mimetype": "text/x-python",
   "name": "python",
   "nbconvert_exporter": "python",
   "pygments_lexer": "ipython3",
   "version": "3.6.6"
  }
 },
 "nbformat": 4,
 "nbformat_minor": 2
}
