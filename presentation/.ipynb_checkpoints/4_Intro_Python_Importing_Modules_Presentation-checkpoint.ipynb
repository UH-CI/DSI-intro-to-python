{
 "cells": [
  {
   "cell_type": "code",
   "execution_count": 2,
   "metadata": {},
   "outputs": [
    {
     "data": {
      "text/html": [
       "<style>\n",
       "    @font-face {\n",
       "        font-family: \"Computer Modern\";\n",
       "        src: url('http://9dbb143991406a7c655e-aa5fcb0a5a4ec34cff238a2d56ca4144.r56.cf5.rackcdn.com/cmunss.otf');\n",
       "    }\n",
       "    @font-face {\n",
       "        font-family: \"Computer Modern\";\n",
       "        font-weight: bold;\n",
       "        src: url('http://9dbb143991406a7c655e-aa5fcb0a5a4ec34cff238a2d56ca4144.r56.cf5.rackcdn.com/cmunsx.otf');\n",
       "    }\n",
       "    @font-face {\n",
       "        font-family: \"Computer Modern\";\n",
       "        font-style: oblique;\n",
       "        src: url('http://9dbb143991406a7c655e-aa5fcb0a5a4ec34cff238a2d56ca4144.r56.cf5.rackcdn.com/cmunsi.otf');\n",
       "    }\n",
       "    @font-face {\n",
       "        font-family: \"Computer Modern\";\n",
       "        font-weight: bold;\n",
       "        font-style: oblique;\n",
       "        src: url('http://9dbb143991406a7c655e-aa5fcb0a5a4ec34cff238a2d56ca4144.r56.cf5.rackcdn.com/cmunso.otf');\n",
       "    }\n",
       "    div.cell{\n",
       "        width:900px;\n",
       "        margin-left:5% !important;\n",
       "        margin-right:auto;\n",
       "    }\n",
       "    h1 {\n",
       "        font-family: Helvetica, serif;\n",
       "    }\n",
       "    h4{\n",
       "        margin-top:12px;\n",
       "        margin-bottom: 3px;\n",
       "       }\n",
       "    div.text_cell_render{\n",
       "        font-family: Computer Modern, \"Helvetica Neue\", Arial, Helvetica, Geneva, sans-serif;\n",
       "        line-height: 145%;\n",
       "        font-size: 130%;\n",
       "        width:800px;\n",
       "        margin-left:auto;\n",
       "        margin-right:auto;\n",
       "    }\n",
       "    .CodeMirror{\n",
       "            font-family: \"Source Code Pro\", source-code-pro,Consolas, monospace;\n",
       "    }\n",
       "    .prompt{\n",
       "        display: None;\n",
       "    }\n",
       "    .text_cell_render h5 {\n",
       "        font-weight: 300;\n",
       "        font-size: 26pt;\n",
       "        color: #4057A1;\n",
       "        font-style: italic;\n",
       "        margin-bottom: .5em;\n",
       "        margin-top: 0.5em;\n",
       "        display: block;\n",
       "    }\n",
       "    \n",
       "    .warning{\n",
       "        color: rgb( 240, 20, 20 )\n",
       "        }  \n",
       "</style>\n",
       "<script>\n",
       "    MathJax.Hub.Config({\n",
       "                        TeX: {\n",
       "                           extensions: [\"AMSmath.js\"]\n",
       "                           },\n",
       "                tex2jax: {\n",
       "                    inlineMath: [ ['$','$'], [\"\\\\(\",\"\\\\)\"] ],\n",
       "                    displayMath: [ ['$$','$$'], [\"\\\\[\",\"\\\\]\"] ]\n",
       "                },\n",
       "                displayAlign: 'center', // Change this to 'center' to center equations.\n",
       "                \"HTML-CSS\": {\n",
       "                    styles: {'.MathJax_Display': {\"margin\": 4}}\n",
       "                }\n",
       "        });\n",
       "</script>\n"
      ],
      "text/plain": [
       "<IPython.core.display.HTML object>"
      ]
     },
     "execution_count": 2,
     "metadata": {},
     "output_type": "execute_result"
    }
   ],
   "source": [
    "from IPython.core.display import HTML\n",
    "\n",
    "def set_css_style(css_file_path):\n",
    "    \"\"\"\n",
    "    Read the custom CSS file and load it into Jupyter.\n",
    "    Pass the file path to the CSS file.\n",
    "    \"\"\"\n",
    "    styles = open(css_file_path, \"r\").read()\n",
    "    return HTML(styles)\n",
    "\n",
    "set_css_style('styles/custom.css')"
   ]
  },
  {
   "cell_type": "markdown",
   "metadata": {
    "colab_type": "text",
    "id": "B91WbOnblKXe",
    "slideshow": {
     "slide_type": "slide"
    }
   },
   "source": [
    "### Modules\n",
    "---\n",
    "\n",
    "* Modules are bundles for contributed functionality.\n",
    "\n",
    "* Python has a plethora of modules that apply to a large set of  topics.\n",
    "\n",
    "    * Ex. astronomy to economics or marketing, etc.\n"
   ]
  },
  {
   "cell_type": "markdown",
   "metadata": {
    "colab_type": "text",
    "id": "sC4jKn1YiXF_",
    "slideshow": {
     "slide_type": "slide"
    }
   },
   "source": [
    "### Packages\n",
    "---\n",
    "\n",
    "* Modules are organized into packages, aka libraries.\n",
    "    * Think of this as a wrapper around thematic functionality.\n",
    "    \n",
    "    \n",
    "\n",
    "* Some packages need to be downloaded and installed manually.  \n",
    "    * Ex. PyGMT a popular package developed by Paul Wessel from SOEST\n",
    "\n",
    "\n",
    "\n",
    "* The Anaconda already comes with many commonly used packages scientific packages"
   ]
  },
  {
   "cell_type": "markdown",
   "metadata": {
    "slideshow": {
     "slide_type": "slide"
    }
   },
   "source": [
    "### Installing Packages with Anaconda\n",
    "---\n",
    "* Typically done on the command line temrinal.\n",
    "\n",
    "\n",
    "\n",
    "* Open the terminal and type:\n",
    "\n",
    "\n",
    "```\n",
    "conda install package-name\n",
    "```"
   ]
  },
  {
   "cell_type": "markdown",
   "metadata": {
    "colab_type": "text",
    "id": "w3jAYu9p_3Rk",
    "slideshow": {
     "slide_type": "slide"
    }
   },
   "source": [
    "## Importing Modules\n",
    "---\n",
    "\n",
    "* The following imports the whole module.\n",
    "\n",
    "\n",
    "```python\n",
    "import module_name\n",
    "```\n",
    "\n",
    "* For example, to import all the functionalities in the `math` module:\n",
    "```python\n",
    "import math\n",
    "```"
   ]
  },
  {
   "cell_type": "markdown",
   "metadata": {
    "colab_type": "text",
    "id": "PcEG7O-op9Mx",
    "slideshow": {
     "slide_type": "slide"
    }
   },
   "source": [
    "### Accessing Functionality\n",
    "---\n",
    "* functionality provided by a module can be a constant (ex. $\\pi$), or some function to carry out some operation, (ex. smoothing a time series)\n",
    "\n",
    "* To access and use functionality from a module:\n",
    "\n",
    "```python\n",
    "module_name.functionality_name\n",
    "```\n",
    "\n"
   ]
  },
  {
   "cell_type": "markdown",
   "metadata": {
    "slideshow": {
     "slide_type": "slide"
    }
   },
   "source": [
    "### Example\n",
    "---\n",
    "* `math.pi` will give us the value of the number $\\pi$.\n",
    "\n",
    "\n",
    "* Can be used to calculate the area of a circle with a radius of 5 inches."
   ]
  },
  {
   "cell_type": "code",
   "execution_count": 2,
   "metadata": {
    "colab": {
     "base_uri": "https://localhost:8080/",
     "height": 186
    },
    "colab_type": "code",
    "executionInfo": {
     "elapsed": 536,
     "status": "error",
     "timestamp": 1547581816107,
     "user": {
      "displayName": "Jaclyn Lee",
      "photoUrl": "",
      "userId": "17525286701482268466"
     },
     "user_tz": 600
    },
    "id": "LU2dBrNfqz3z",
    "outputId": "4d026be8-fd7b-46c4-a65f-bb1601bf4994",
    "slideshow": {
     "slide_type": "fragment"
    }
   },
   "outputs": [
    {
     "data": {
      "text/plain": [
       "78.53981633974483"
      ]
     },
     "execution_count": 2,
     "metadata": {},
     "output_type": "execute_result"
    }
   ],
   "source": [
    "area = math.pi * 5 ** 2\n",
    "area"
   ]
  },
  {
   "cell_type": "markdown",
   "metadata": {
    "slideshow": {
     "slide_type": "slide"
    }
   },
   "source": [
    "### Quiz\n",
    "---\n",
    "How would you print the speed of light, `c`, from `scipy.constants`?\n",
    "\n",
    "A.\n",
    "```python\n",
    "print(scipy.constants.c)\n",
    "```\n",
    "B.\n",
    "```python\n",
    "import scipy.constants\n",
    "c\n",
    "```\n",
    "C.\n",
    "```python\n",
    "import scipy.constants\n",
    "print(scipy.constants.c)\n",
    "```\n",
    "D.\n",
    "```python\n",
    "import scipy.constants\n",
    "scipy.constants.c\n",
    "```"
   ]
  },
  {
   "cell_type": "markdown",
   "metadata": {
    "colab_type": "text",
    "id": "5LyhLHnq-7c3",
    "slideshow": {
     "slide_type": "slide"
    }
   },
   "source": [
    "## Functions in Modules\n",
    "---\n",
    "* The most valuable aspect of modules are typically the functions they provide.\n",
    "\n",
    "\n",
    "* We have used functions before, ex. `print()`. \n",
    "\n",
    "\n",
    "* Continue to view functions as a black box. \n",
    "\n",
    "<img src=\"images/importing_modules/black_box.JPG\" alt=\"drawing\" style=\"width:550px;\"/>\n"
   ]
  },
  {
   "cell_type": "markdown",
   "metadata": {
    "colab_type": "text",
    "id": "BuLIaji0_jwZ",
    "slideshow": {
     "slide_type": "slide"
    }
   },
   "source": [
    "### Calling Functions\n",
    "---\n",
    "\n",
    "* We *call* a function using the following syntax:\n",
    "\n",
    "\n",
    "```python\n",
    "function_name()\n",
    "```"
   ]
  },
  {
   "cell_type": "markdown",
   "metadata": {
    "slideshow": {
     "slide_type": "slide"
    }
   },
   "source": [
    "#### Parameters\n",
    "---\n",
    "* Some functions will require an input or multiple inputs, which are called parameters.\n",
    "  * These are the things the a function needs to do its job\n",
    "\n",
    "```python\n",
    " print(\"Hi There\")\n",
    "```\n",
    "* The parameter for print above is the string `\"Hi There\"`.\n"
   ]
  },
  {
   "cell_type": "markdown",
   "metadata": {
    "slideshow": {
     "slide_type": "slide"
    }
   },
   "source": [
    "#### Functions from Modules\n",
    "---\n",
    "* Functions from modules are prefixed by the module name.\n",
    "\n",
    "\n",
    "```python\n",
    "module_name.function_name(parameters)\n",
    "```\n"
   ]
  },
  {
   "cell_type": "markdown",
   "metadata": {
    "colab_type": "text",
    "id": "e66-4U_LNeMa",
    "slideshow": {
     "slide_type": "slide"
    }
   },
   "source": [
    "### Example\n",
    "----\n",
    "\n",
    "* We can compute the square root of 225 using the function `sqrt()` from the `math` module."
   ]
  },
  {
   "cell_type": "code",
   "execution_count": 3,
   "metadata": {
    "colab": {
     "base_uri": "https://localhost:8080/",
     "height": 208
    },
    "colab_type": "code",
    "executionInfo": {
     "elapsed": 598,
     "status": "error",
     "timestamp": 1548461250498,
     "user": {
      "displayName": "Mahdi Belcaid",
      "photoUrl": "",
      "userId": "04817344393223947441"
     },
     "user_tz": 600
    },
    "id": "lyDHVSpNydFp",
    "outputId": "aa12d4da-433f-4716-faa7-6501411bf17e",
    "scrolled": true,
    "slideshow": {
     "slide_type": "fragment"
    }
   },
   "outputs": [
    {
     "data": {
      "text/plain": [
       "15.0"
      ]
     },
     "execution_count": 3,
     "metadata": {},
     "output_type": "execute_result"
    }
   ],
   "source": [
    "import math\n",
    "math.sqrt(225)"
   ]
  },
  {
   "cell_type": "markdown",
   "metadata": {
    "colab_type": "text",
    "id": "VH8eS1403sh5",
    "slideshow": {
     "slide_type": "slide"
    }
   },
   "source": [
    "### Parameters\n",
    "---\n",
    "\n",
    "\n",
    "* Functions can take more than one parameter\n",
    "  * Parameters are placed in the parentheses and are separated with commas.\n",
    "\n",
    "\n",
    "```python\n",
    "function_name(parameter_1, ... )\n",
    "```\n",
    "\n",
    "* The `round()` function rounds floats to a specified number of decimal points. \n",
    "\n",
    "\n",
    "\n",
    "* Take two parameters:\n",
    "    * The first: A float number.\n",
    "    * The second: the number of decimal places you are rounding to. "
   ]
  },
  {
   "cell_type": "code",
   "execution_count": 0,
   "metadata": {
    "colab": {
     "base_uri": "https://localhost:8080/",
     "height": 34
    },
    "colab_type": "code",
    "executionInfo": {
     "elapsed": 559,
     "status": "ok",
     "timestamp": 1547676770479,
     "user": {
      "displayName": "Jaclyn Lee",
      "photoUrl": "",
      "userId": "17525286701482268466"
     },
     "user_tz": 600
    },
    "id": "R6GHMQ3k1S_s",
    "outputId": "4c0d2733-40d9-40c6-aa0c-24bdd9ea8400",
    "slideshow": {
     "slide_type": "fragment"
    }
   },
   "outputs": [
    {
     "data": {
      "text/plain": [
       "123.79"
      ]
     },
     "execution_count": 1,
     "metadata": {
      "tags": []
     },
     "output_type": "execute_result"
    }
   ],
   "source": [
    "round(123.7897917498714094, 3)"
   ]
  },
  {
   "cell_type": "markdown",
   "metadata": {
    "colab_type": "text",
    "id": "sF8bvI475Sz1",
    "slideshow": {
     "slide_type": "slide"
    }
   },
   "source": [
    "#### Mismatched Parameters\n",
    "---\n",
    "\n",
    "\n",
    "* The order of paramters matters\n",
    "\n",
    "\n",
    "\n",
    "* For example, If we put 3 first and then 123.7897917498714094:"
   ]
  },
  {
   "cell_type": "code",
   "execution_count": 0,
   "metadata": {
    "colab": {
     "base_uri": "https://localhost:8080/",
     "height": 168
    },
    "colab_type": "code",
    "executionInfo": {
     "elapsed": 422,
     "status": "error",
     "timestamp": 1539302969802,
     "user": {
      "displayName": "Jaclyn Lee",
      "photoUrl": "",
      "userId": "17525286701482268466"
     },
     "user_tz": 600
    },
    "id": "NsLeMJSp10Bl",
    "outputId": "21de36e2-08d6-48b4-d101-581c370b45c6",
    "slideshow": {
     "slide_type": "fragment"
    }
   },
   "outputs": [
    {
     "ename": "TypeError",
     "evalue": "ignored",
     "output_type": "error",
     "traceback": [
      "\u001b[0;31m---------------------------------------------------------------------------\u001b[0m",
      "\u001b[0;31mTypeError\u001b[0m                                 Traceback (most recent call last)",
      "\u001b[0;32m<ipython-input-3-a45eadc6fa3d>\u001b[0m in \u001b[0;36m<module>\u001b[0;34m()\u001b[0m\n\u001b[0;32m----> 1\u001b[0;31m \u001b[0mround\u001b[0m\u001b[0;34m(\u001b[0m\u001b[0;36m3\u001b[0m\u001b[0;34m,\u001b[0m \u001b[0;36m123.7897917498714094\u001b[0m\u001b[0;34m)\u001b[0m\u001b[0;34m\u001b[0m\u001b[0m\n\u001b[0m",
      "\u001b[0;31mTypeError\u001b[0m: 'float' object cannot be interpreted as an integer"
     ]
    }
   ],
   "source": [
    "round(3, 123.7897917498714094)"
   ]
  },
  {
   "cell_type": "markdown",
   "metadata": {
    "colab_type": "text",
    "id": "U_enL1-r3qXm",
    "slideshow": {
     "slide_type": "slide"
    }
   },
   "source": [
    "#### Using the `help()`\n",
    "---\n",
    "* Use `help()` or look up the function's documentation."
   ]
  },
  {
   "cell_type": "code",
   "execution_count": 0,
   "metadata": {
    "colab": {
     "base_uri": "https://localhost:8080/",
     "height": 163
    },
    "colab_type": "code",
    "executionInfo": {
     "elapsed": 732,
     "status": "ok",
     "timestamp": 1548461904107,
     "user": {
      "displayName": "Charles Dickens",
      "photoUrl": "https://lh6.googleusercontent.com/-LyFY-SmW2Wk/AAAAAAAAAAI/AAAAAAAAAJc/aBlebAB4Y_M/s64/photo.jpg",
      "userId": "12322745199515603574"
     },
     "user_tz": 600
    },
    "id": "HsomV4IchVQx",
    "outputId": "14c50e73-a953-40e0-ae51-5a3e3889a236",
    "slideshow": {
     "slide_type": "fragment"
    }
   },
   "outputs": [
    {
     "name": "stdout",
     "output_type": "stream",
     "text": [
      "Help on built-in function round in module builtins:\n",
      "\n",
      "round(...)\n",
      "    round(number[, ndigits]) -> number\n",
      "    \n",
      "    Round a number to a given precision in decimal digits (default 0 digits).\n",
      "    This returns an int when called with one argument, otherwise the\n",
      "    same type as the number. ndigits may be negative.\n",
      "\n"
     ]
    }
   ],
   "source": [
    "help(round)"
   ]
  },
  {
   "cell_type": "markdown",
   "metadata": {
    "colab_type": "text",
    "id": "OgIZDM3ORQh6",
    "slideshow": {
     "slide_type": "slide"
    }
   },
   "source": [
    "### Quiz\n",
    "---\n",
    "If you imported the math module with the following code:\n",
    "```python\n",
    "import math\n",
    "```\n",
    "How can you use the `remainder()` function to find the remainder of 47 divided by 17?\n",
    "\n",
    "A. `remainder(47, 17)`\n",
    "\n",
    "B. `math.remainder(47: 17)`\n",
    "\n",
    "C. `math.remainder(47, 17)`\n",
    "\n",
    "D. `m.remainder(47, 17)`\n",
    "\n",
    "E. `m.remainder(47; 47)`"
   ]
  },
  {
   "cell_type": "markdown",
   "metadata": {
    "colab_type": "text",
    "id": "Tu6flVeF8f0O",
    "slideshow": {
     "slide_type": "slide"
    }
   },
   "source": [
    "## Summary\n",
    "---\n",
    "\n",
    "By now you should be able to:\n",
    "\n",
    "\n",
    "* Install packages from open source.\n",
    "\n",
    "\n",
    "* Import modules into programs.\n",
    "\n",
    "\n",
    "* Use functionality from within a module.\n",
    "\n",
    "\n",
    "* Use functions that take multiple parameters.\n"
   ]
  }
 ],
 "metadata": {
  "celltoolbar": "Slideshow",
  "colab": {
   "collapsed_sections": [],
   "name": "4 Intro to Python: Importing Modules.ipynb",
   "provenance": [],
   "toc_visible": true,
   "version": "0.3.2"
  },
  "kernelspec": {
   "display_name": "Python 3",
   "language": "python",
   "name": "python3"
  },
  "language_info": {
   "codemirror_mode": {
    "name": "ipython",
    "version": 3
   },
   "file_extension": ".py",
   "mimetype": "text/x-python",
   "name": "python",
   "nbconvert_exporter": "python",
   "pygments_lexer": "ipython3",
   "version": "3.7.3"
  }
 },
 "nbformat": 4,
 "nbformat_minor": 1
}
