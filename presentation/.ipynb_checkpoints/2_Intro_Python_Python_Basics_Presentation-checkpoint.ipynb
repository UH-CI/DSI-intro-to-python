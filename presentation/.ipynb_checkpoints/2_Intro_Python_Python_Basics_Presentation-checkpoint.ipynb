{
 "cells": [
  {
   "cell_type": "code",
   "execution_count": 10,
   "metadata": {
    "slideshow": {
     "slide_type": "skip"
    }
   },
   "outputs": [
    {
     "data": {
      "text/html": [
       "<style>\n",
       "    @font-face {\n",
       "        font-family: \"Computer Modern\";\n",
       "        src: url('http://9dbb143991406a7c655e-aa5fcb0a5a4ec34cff238a2d56ca4144.r56.cf5.rackcdn.com/cmunss.otf');\n",
       "    }\n",
       "    @font-face {\n",
       "        font-family: \"Computer Modern\";\n",
       "        font-weight: bold;\n",
       "        src: url('http://9dbb143991406a7c655e-aa5fcb0a5a4ec34cff238a2d56ca4144.r56.cf5.rackcdn.com/cmunsx.otf');\n",
       "    }\n",
       "    @font-face {\n",
       "        font-family: \"Computer Modern\";\n",
       "        font-style: oblique;\n",
       "        src: url('http://9dbb143991406a7c655e-aa5fcb0a5a4ec34cff238a2d56ca4144.r56.cf5.rackcdn.com/cmunsi.otf');\n",
       "    }\n",
       "    @font-face {\n",
       "        font-family: \"Computer Modern\";\n",
       "        font-weight: bold;\n",
       "        font-style: oblique;\n",
       "        src: url('http://9dbb143991406a7c655e-aa5fcb0a5a4ec34cff238a2d56ca4144.r56.cf5.rackcdn.com/cmunso.otf');\n",
       "    }\n",
       "    div.cell{\n",
       "        width:900px;\n",
       "        margin-left:5% !important;\n",
       "        margin-right:auto;\n",
       "    }\n",
       "    h1 {\n",
       "        font-family: Helvetica, serif;\n",
       "    }\n",
       "    h4{\n",
       "        margin-top:12px;\n",
       "        margin-bottom: 3px;\n",
       "       }\n",
       "    div.text_cell_render{\n",
       "        font-family: Computer Modern, \"Helvetica Neue\", Arial, Helvetica, Geneva, sans-serif;\n",
       "        line-height: 145%;\n",
       "        font-size: 130%;\n",
       "        width:800px;\n",
       "        margin-left:auto;\n",
       "        margin-right:auto;\n",
       "    }\n",
       "    .CodeMirror{\n",
       "            font-family: \"Source Code Pro\", source-code-pro,Consolas, monospace;\n",
       "    }\n",
       "    .prompt{\n",
       "        display: None;\n",
       "    }\n",
       "    .text_cell_render h5 {\n",
       "        font-weight: 300;\n",
       "        font-size: 26pt;\n",
       "        color: #4057A1;\n",
       "        font-style: italic;\n",
       "        margin-bottom: .5em;\n",
       "        margin-top: 0.5em;\n",
       "        display: block;\n",
       "    }\n",
       "    \n",
       "    .warning{\n",
       "        color: rgb( 240, 20, 20 )\n",
       "        }  \n",
       "</style>\n",
       "<script>\n",
       "    MathJax.Hub.Config({\n",
       "                        TeX: {\n",
       "                           extensions: [\"AMSmath.js\"]\n",
       "                           },\n",
       "                tex2jax: {\n",
       "                    inlineMath: [ ['$','$'], [\"\\\\(\",\"\\\\)\"] ],\n",
       "                    displayMath: [ ['$$','$$'], [\"\\\\[\",\"\\\\]\"] ]\n",
       "                },\n",
       "                displayAlign: 'center', // Change this to 'center' to center equations.\n",
       "                \"HTML-CSS\": {\n",
       "                    styles: {'.MathJax_Display': {\"margin\": 4}}\n",
       "                }\n",
       "        });\n",
       "</script>\n"
      ],
      "text/plain": [
       "<IPython.core.display.HTML object>"
      ]
     },
     "execution_count": 10,
     "metadata": {},
     "output_type": "execute_result"
    }
   ],
   "source": [
    "from IPython.core.display import HTML\n",
    "\n",
    "def set_css_style(css_file_path):\n",
    "    \"\"\"\n",
    "    Read the custom CSS file and load it into Jupyter.\n",
    "    Pass the file path to the CSS file.\n",
    "    \"\"\"\n",
    "    styles = open(css_file_path, \"r\").read()\n",
    "    return HTML(styles)\n",
    "\n",
    "set_css_style('styles/custom.css')"
   ]
  },
  {
   "cell_type": "markdown",
   "metadata": {
    "colab_type": "text",
    "id": "mzgvmH4VYV5u",
    "slideshow": {
     "slide_type": "slide"
    }
   },
   "source": [
    "# Python Basics\n",
    "---"
   ]
  },
  {
   "cell_type": "markdown",
   "metadata": {
    "colab_type": "text",
    "id": "awiR1wlFcoPI",
    "slideshow": {
     "slide_type": "slide"
    }
   },
   "source": [
    "### Statements\n",
    "---\n",
    "\n",
    "* Statements are a single line of Python code. \n",
    "\n",
    "\n",
    "* Includes:\n",
    "    * Math operations\n",
    "    * Printing\n",
    "    * Assigning values to variables\n",
    "    * Comments\n",
    "    \n",
    "   "
   ]
  },
  {
   "cell_type": "markdown",
   "metadata": {
    "colab_type": "text",
    "id": "1OWd5Wy7kR6j",
    "slideshow": {
     "slide_type": "slide"
    }
   },
   "source": [
    "### Mathematical Operations\n",
    "---\n",
    "\n",
    "* Python performs provides basic math functionality\n",
    "  * Ex: addition, subtraction, multiplication, division, etc.\n",
    "\n",
    "\n",
    "* Allows for algebraic rules of precedence when interpreting your expression.\n",
    "\n",
    "| Order of Precedence | Math Operation | Mathematical Symbol | Python Symbol |\n",
    "| --------------------------------- | ----------------------- | ----------------------------------- | ------------------------ |\n",
    "| 1 | Parentheses      | ( ) | ( ) |\n",
    "| 2 | Exponent          | ^ | ** |\n",
    "| 3 | Multiplication  | × | * |\n",
    "| 3 | Division            | ÷ | / |\n",
    "| 4 | Addition           | +  | + |\n",
    "| 4 | Subtraction      | −  | - |"
   ]
  },
  {
   "cell_type": "markdown",
   "metadata": {
    "slideshow": {
     "slide_type": "slide"
    }
   },
   "source": [
    "### Example\n",
    "---\n",
    "\n",
    "The following: \n",
    "\n",
    "$$\n",
    "20 \\times 0.5 \\times (1+\\frac{4.5}{100})\n",
    "$$\n",
    "\n",
    "* Can be Written in as:\n",
    "\n",
    "```python\n",
    "20 * 0.5 * (1 + (4.5 / 100))\n",
    "```"
   ]
  },
  {
   "cell_type": "code",
   "execution_count": 11,
   "metadata": {
    "colab": {
     "base_uri": "https://localhost:8080/",
     "height": 35
    },
    "colab_type": "code",
    "executionInfo": {
     "elapsed": 846,
     "status": "ok",
     "timestamp": 1547254261264,
     "user": {
      "displayName": "Mahdi Belcaid",
      "photoUrl": "",
      "userId": "04817344393223947441"
     },
     "user_tz": 600
    },
    "id": "Jrwja8qAp6AE",
    "outputId": "f43dedfb-c941-4f34-9cc2-4f795fdd7f51",
    "slideshow": {
     "slide_type": "fragment"
    }
   },
   "outputs": [
    {
     "data": {
      "text/plain": [
       "10.45"
      ]
     },
     "execution_count": 11,
     "metadata": {},
     "output_type": "execute_result"
    }
   ],
   "source": [
    "20 * 0.5 * (1 + (4.5 / 100))"
   ]
  },
  {
   "cell_type": "markdown",
   "metadata": {
    "colab_type": "text",
    "id": "Xq-IKJi7g80Z",
    "slideshow": {
     "slide_type": "slide"
    }
   },
   "source": [
    "### Printing\n",
    "---\n",
    "\n",
    "* Jupyter prints the result of the most recent expression in the cell.\n",
    "  * Automatically printed the mathematical expression in the previous cell.\n",
    "\n",
    "* Use `print()` for printing expressions \n",
    "\n",
    "* `print()` is a function that prints the objects within the parentheses.\n",
    "* Functions are named bundles of instructions that carry out a specific task."
   ]
  },
  {
   "cell_type": "markdown",
   "metadata": {
    "colab_type": "text",
    "id": "WQy2ZoY00GsD",
    "slideshow": {
     "slide_type": "slide"
    }
   },
   "source": [
    "### Example\n",
    "---\n",
    "In the example below:\n",
    "```python\n",
    "print(1+1)\n",
    "2 + 3\n",
    "1 / 3\n",
    "7 + 1\n",
    "```\n",
    "\n",
    "* Jupyter will explicitly prints 2 and implicitly prints the result of the last expression (8)."
   ]
  },
  {
   "cell_type": "code",
   "execution_count": 12,
   "metadata": {
    "colab": {
     "base_uri": "https://localhost:8080/",
     "height": 52
    },
    "colab_type": "code",
    "executionInfo": {
     "elapsed": 485,
     "status": "ok",
     "timestamp": 1547254696284,
     "user": {
      "displayName": "Mahdi Belcaid",
      "photoUrl": "",
      "userId": "04817344393223947441"
     },
     "user_tz": 600
    },
    "id": "7Z7PNtMvjpjX",
    "outputId": "563e5fba-0e81-42e9-e9c1-c4492b852ce5",
    "slideshow": {
     "slide_type": "fragment"
    }
   },
   "outputs": [
    {
     "name": "stdout",
     "output_type": "stream",
     "text": [
      "2\n"
     ]
    },
    {
     "data": {
      "text/plain": [
       "8"
      ]
     },
     "execution_count": 12,
     "metadata": {},
     "output_type": "execute_result"
    }
   ],
   "source": [
    "print(1+1)\n",
    "2 + 3\n",
    "1 / 3\n",
    "7 + 1"
   ]
  },
  {
   "cell_type": "markdown",
   "metadata": {
    "slideshow": {
     "slide_type": "slide"
    }
   },
   "source": [
    "### Quiz\n",
    "---\n",
    "Which of the following numbers will print?\n",
    "\n",
    "```python\n",
    "1\n",
    "2\n",
    "print(3)\n",
    "5\n",
    "7\n",
    "print(13)\n",
    "17\n",
    "19\n",
    "```\n",
    "\n",
    "A. 3 and 13\n",
    "\n",
    "B. 19\n",
    "\n",
    "C. 3, 13 and 19\n",
    "\n",
    "D. All of the numbers"
   ]
  },
  {
   "cell_type": "markdown",
   "metadata": {
    "colab_type": "text",
    "id": "huXf6SRwkuFs",
    "slideshow": {
     "slide_type": "slide"
    }
   },
   "source": [
    "### Quiz\n",
    "---\n",
    "\n",
    "Which of the following code snippets print only 1 and 5?\n",
    "\n",
    "<img src=\"images/python_basics/ch2_quiz_2.png\" alt=\"drawing\" style=\"width:400px;\"/>\n"
   ]
  },
  {
   "cell_type": "markdown",
   "metadata": {
    "colab_type": "text",
    "id": "3FYHKamTFcNi",
    "slideshow": {
     "slide_type": "slide"
    }
   },
   "source": [
    "### Assigning Values to Variables\n",
    "---\n",
    "\n",
    "* Variables are placeholders for values that are stored in memory.\n",
    "  * A labeled box where you can keep \"Stuff\"!\n",
    "  \n",
    "  \n",
    "\n",
    "* We create a new variable by giving the name, followed by `=`, and value to be stored.\n",
    "\n",
    "\n",
    "<img src=\"images/python_basics/assignment_statement.jpg\" alt=\"drawing\" style=\"width:450px;\"/>\n",
    "\n",
    "  * The `=` is called the assignment operator. It is not to test mathematical equality.\n",
    "\n",
    "* Variables can be used in mathematical operations and printing, which we've covered so far\n",
    "\n",
    "  * Can also be used in more complex computation, as we'll later.\n",
    " \n",
    "\n"
   ]
  },
  {
   "cell_type": "markdown",
   "metadata": {
    "slideshow": {
     "slide_type": "slide"
    }
   },
   "source": [
    "### Example\n",
    "---\n",
    "\n",
    "* The value, 8.25, is assigned to the name, `pokebowl_price` using the following syntax:\n",
    "\n",
    "```python \n",
    "pokebowl_price = 8.25\n",
    "```\n",
    "\n",
    "* We can calculate the price plus tax using:\n",
    "\n",
    "```python\n",
    "print(pokebowl_price * (1 + 0.05))\n",
    "```"
   ]
  },
  {
   "cell_type": "code",
   "execution_count": 2,
   "metadata": {
    "slideshow": {
     "slide_type": "fragment"
    }
   },
   "outputs": [
    {
     "name": "stdout",
     "output_type": "stream",
     "text": [
      "8.6625\n"
     ]
    }
   ],
   "source": [
    "pokebowl_price = 8.25\n",
    "\n",
    "print(pokebowl_price * (1 + 0.05))"
   ]
  },
  {
   "cell_type": "markdown",
   "metadata": {
    "slideshow": {
     "slide_type": "slide"
    }
   },
   "source": [
    "### Quiz \n",
    "---\n",
    "\n",
    "* Which of the following is a valid expression for calculating the cost of 4 Poke Bowls (including tax)?\n",
    "\n",
    "A. ``` pokebowl_price + (4 * 1 + 0.005)  ```\n",
    "\n",
    "B. ``` 4 * (pokebowl_price * (1 + 0.005))```\n",
    "\n",
    "C. ``` 4 * (pokebowl_price) *  1 + 0.005 ```\n",
    "\n"
   ]
  },
  {
   "cell_type": "markdown",
   "metadata": {
    "colab_type": "text",
    "id": "Hw7fJ5s7FiT8",
    "slideshow": {
     "slide_type": "slide"
    }
   },
   "source": [
    "###  Rules for Naming Python Variable \n",
    "---\n",
    "\n",
    "* Variable names can contain letters, numbers and underscores.\n",
    "\n",
    "\n",
    "* Spaces and other characters are not allowed in variable names. \n",
    "\n",
    "\n",
    "* Names can start with letters and underscores, but not numbers.\n",
    "\n",
    "\n",
    "* Examples of valid label names:\n",
    "    * `favorite_poke`\n",
    "    * `poke_2019`\n",
    "    \n",
    "    \n",
    "* Examples of invalid label names:\n",
    "    * `#1 poke`\n",
    "    * `2019_poke`"
   ]
  },
  {
   "cell_type": "markdown",
   "metadata": {
    "slideshow": {
     "slide_type": "slide"
    }
   },
   "source": [
    "### Quiz\n",
    "---\n",
    "\n",
    "Which of the following are NOT valid variable labels?\n",
    "\n",
    "A.\n",
    "```python\n",
    " \" \"= 4\n",
    "```\n",
    "B. \n",
    "```python\n",
    "fav number = 4\n",
    "```\n",
    "C. \n",
    "```python\n",
    "14 = 4\n",
    "```"
   ]
  },
  {
   "cell_type": "markdown",
   "metadata": {
    "slideshow": {
     "slide_type": "slide"
    }
   },
   "source": [
    "### Quiz\n",
    "---\n",
    "\n",
    "True or False: Are these two variable labels equivalent? \n",
    "\n",
    "`big_cat` and `Big_cat`\n",
    "\n",
    "\n",
    "A. \n",
    "True\n",
    "\n",
    "B. \n",
    "False"
   ]
  },
  {
   "cell_type": "markdown",
   "metadata": {
    "colab_type": "text",
    "id": "4EbJfdAW__0R",
    "slideshow": {
     "slide_type": "slide"
    }
   },
   "source": [
    "## Comments\n",
    "---\n",
    "* Comments are commonly used to document what code is doing \n",
    "  * They are meant for other people reading the code, not for the Python interpreter\n",
    "\n",
    "\n",
    "* Comment line starts with `#`, and everything to the right of the `#` is ignored by the Python interpreter.\n",
    "\n"
   ]
  },
  {
   "cell_type": "markdown",
   "metadata": {
    "slideshow": {
     "slide_type": "slide"
    }
   },
   "source": [
    "### Example\n",
    "---\n",
    "* In the code cell below, all lines except for the last one represent comments.\n",
    "\n",
    "* Only the last list (non-commented) is evaluated and printed.\n",
    "  * computes the cost of a poke bowl in CAN$"
   ]
  },
  {
   "cell_type": "code",
   "execution_count": 3,
   "metadata": {
    "colab": {},
    "colab_type": "code",
    "id": "KwGTR0LH6g0g",
    "slideshow": {
     "slide_type": "fragment"
    }
   },
   "outputs": [
    {
     "name": "stdout",
     "output_type": "stream",
     "text": [
      "10.9725\n"
     ]
    }
   ],
   "source": [
    "# This is a comment\n",
    "\n",
    "# This code was edited by Mark on 12 October 2018\n",
    "\n",
    "# It computes and prints the cost of a poke bowl in Canadian Dollars\n",
    "\n",
    "print(pokebowl_price * 1.33)"
   ]
  },
  {
   "cell_type": "markdown",
   "metadata": {
    "colab_type": "text",
    "id": "2bZQtv8EF6gv",
    "slideshow": {
     "slide_type": "slide"
    }
   },
   "source": [
    "## Summary\n",
    "---\n",
    "\n",
    "* In this section, we have covered the following concepts: \n",
    "\n",
    "  * Expressions\n",
    "  \n",
    "  * Fundamental Python math operators\n",
    "\n",
    "  * Printing literal values or variables using the  `print()` function\n",
    "\n",
    "  * Naming and assigning values to variables \n",
    "\n",
    "  * The importance of and how to comment code\n"
   ]
  },
  {
   "cell_type": "code",
   "execution_count": null,
   "metadata": {},
   "outputs": [],
   "source": []
  }
 ],
 "metadata": {
  "celltoolbar": "Slideshow",
  "colab": {
   "collapsed_sections": [],
   "name": "2. Intro to Python: Python Basics.ipynb",
   "provenance": [],
   "version": "0.3.2"
  },
  "kernelspec": {
   "display_name": "Python 3",
   "language": "python",
   "name": "python3"
  },
  "language_info": {
   "codemirror_mode": {
    "name": "ipython",
    "version": 3
   },
   "file_extension": ".py",
   "mimetype": "text/x-python",
   "name": "python",
   "nbconvert_exporter": "python",
   "pygments_lexer": "ipython3",
   "version": "3.6.6"
  }
 },
 "nbformat": 4,
 "nbformat_minor": 2
}
