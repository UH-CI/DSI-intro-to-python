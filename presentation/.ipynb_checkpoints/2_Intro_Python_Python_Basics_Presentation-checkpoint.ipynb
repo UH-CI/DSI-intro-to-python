{
 "cells": [
  {
   "cell_type": "markdown",
   "metadata": {
    "colab_type": "text",
    "id": "mzgvmH4VYV5u",
    "slideshow": {
     "slide_type": "slide"
    }
   },
   "source": [
    "# Python Basics\n",
    "---"
   ]
  },
  {
   "cell_type": "markdown",
   "metadata": {
    "colab_type": "text",
    "id": "awiR1wlFcoPI",
    "slideshow": {
     "slide_type": "slide"
    }
   },
   "source": [
    "## Statements\n",
    "---\n",
    "\n",
    "* Statements are a single line of Python code. \n",
    "* Includes:\n",
    "    * Math operations\n",
    "    * Printing\n",
    "    * Assigning values to variables\n",
    "    * Comments"
   ]
  },
  {
   "cell_type": "markdown",
   "metadata": {
    "colab_type": "text",
    "id": "1OWd5Wy7kR6j",
    "slideshow": {
     "slide_type": "slide"
    }
   },
   "source": [
    "### Mathematical Operations\n",
    "---\n",
    "\n",
    "* Python can perform basic math operations including addition, subtraction, multiplication, division, etc.\n",
    "* Python follows the algebraic rules of precedence when interpreting your expression.\n",
    "\n",
    "| Order of Precedence | Math Opereration | Mathematical Symbol | Python Symbol |\n",
    "| --------------------------------- | ----------------------- | ----------------------------------- | ------------------------ |\n",
    "| 1                                   | Parentheses      | ( )                                    | ( )                        |\n",
    "| 2                                   | Exponent          | ^                                       | **                        |\n",
    "| 3                                   | Multiplication  | ×                                       | *                          |\n",
    "| 3                                   | Division            | ÷                                       | /                          |\n",
    "| 4                                   | Addition           | +                                       | +                          |\n",
    "| 4                                   | Subtraction      | −                                      | -                           |"
   ]
  },
  {
   "cell_type": "markdown",
   "metadata": {
    "slideshow": {
     "slide_type": "slide"
    }
   },
   "source": [
    "### Example\n",
    "---\n",
    "$$\n",
    "20 \\times 0.5 \\times (1+\\frac{4.5}{100})\n",
    "$$"
   ]
  },
  {
   "cell_type": "code",
   "execution_count": null,
   "metadata": {
    "colab": {
     "base_uri": "https://localhost:8080/",
     "height": 35
    },
    "colab_type": "code",
    "executionInfo": {
     "elapsed": 846,
     "status": "ok",
     "timestamp": 1547254261264,
     "user": {
      "displayName": "Mahdi Belcaid",
      "photoUrl": "",
      "userId": "04817344393223947441"
     },
     "user_tz": 600
    },
    "id": "Jrwja8qAp6AE",
    "outputId": "f43dedfb-c941-4f34-9cc2-4f795fdd7f51",
    "slideshow": {
     "slide_type": "fragment"
    }
   },
   "outputs": [
    {
     "data": {
      "text/plain": [
       "10.45"
      ]
     },
     "execution_count": 1,
     "metadata": {
      "tags": []
     },
     "output_type": "execute_result"
    }
   ],
   "source": [
    "20 * 0.5 * (1 + (4.5 / 100))"
   ]
  },
  {
   "cell_type": "markdown",
   "metadata": {
    "colab_type": "text",
    "id": "Xq-IKJi7g80Z",
    "slideshow": {
     "slide_type": "slide"
    }
   },
   "source": [
    "## Printing\n",
    "---\n",
    "* Jupyter Notebooks will print the result of the most recent statement written in the cell. \n",
    "* Use `print()` for printing statements that do not occur on the last line.\n",
    "* `print()` is a function that prints the objects within the parentheses.\n",
    "* Functions are named bundles of instructions that carry out a specific task."
   ]
  },
  {
   "cell_type": "markdown",
   "metadata": {
    "colab_type": "text",
    "id": "WQy2ZoY00GsD",
    "slideshow": {
     "slide_type": "slide"
    }
   },
   "source": [
    "### Example\n",
    "---\n",
    "* Jupyter explicitly printed 1 and automatically printed the last statement, 7."
   ]
  },
  {
   "cell_type": "code",
   "execution_count": null,
   "metadata": {
    "colab": {
     "base_uri": "https://localhost:8080/",
     "height": 52
    },
    "colab_type": "code",
    "executionInfo": {
     "elapsed": 485,
     "status": "ok",
     "timestamp": 1547254696284,
     "user": {
      "displayName": "Mahdi Belcaid",
      "photoUrl": "",
      "userId": "04817344393223947441"
     },
     "user_tz": 600
    },
    "id": "7Z7PNtMvjpjX",
    "outputId": "563e5fba-0e81-42e9-e9c1-c4492b852ce5",
    "slideshow": {
     "slide_type": "fragment"
    }
   },
   "outputs": [
    {
     "name": "stdout",
     "output_type": "stream",
     "text": [
      "1\n"
     ]
    },
    {
     "data": {
      "text/plain": [
       "7"
      ]
     },
     "execution_count": 2,
     "metadata": {
      "tags": []
     },
     "output_type": "execute_result"
    }
   ],
   "source": [
    "print(1)\n",
    "2\n",
    "3\n",
    "4\n",
    "5\n",
    "6\n",
    "7"
   ]
  },
  {
   "cell_type": "markdown",
   "metadata": {
    "colab_type": "text",
    "id": "3FYHKamTFcNi",
    "slideshow": {
     "slide_type": "slide"
    }
   },
   "source": [
    "### Assigning Values to Variables\n",
    "---\n",
    "\n",
    "* Variables are placeholders for values that are stored in memory.\n",
    "\n",
    "![assignment_statement](images/python_basics/assignment_statement.jpg)\n",
    "\n",
    "* The variable name is followed by `=`, which is followed by the value that needs to be stored.\n",
    "* Variables can be used in mathematical operations and printing.\n",
    "\n"
   ]
  },
  {
   "cell_type": "markdown",
   "metadata": {
    "slideshow": {
     "slide_type": "slide"
    }
   },
   "source": [
    "### Example\n",
    "---\n",
    "\n",
    "* The value, 8.25, is assigned to the name, `pokebowl_price`.\n",
    "\n",
    "```python\n",
    "pokebowl_price = 8.25\n",
    "```\n",
    "\n"
   ]
  },
  {
   "cell_type": "markdown",
   "metadata": {
    "slideshow": {
     "slide_type": "slide"
    }
   },
   "source": [
    "### Example\n",
    "---\n",
    "* The poke bowl price plus tax is calculated and the result of the calulation is printed."
   ]
  },
  {
   "cell_type": "code",
   "execution_count": null,
   "metadata": {
    "slideshow": {
     "slide_type": "fragment"
    }
   },
   "outputs": [],
   "source": [
    "print(pokebowl_price * (1 + 0.05))"
   ]
  },
  {
   "cell_type": "markdown",
   "metadata": {
    "colab_type": "text",
    "id": "4EbJfdAW__0R",
    "slideshow": {
     "slide_type": "slide"
    }
   },
   "source": [
    "## Comments\n",
    "---\n",
    "* Comments are commonly used to explain what code is doing. \n",
    "* Comment line starts with `#`, and everything to the right of the `#` is ignored by the Python interpreter.\n",
    "\n"
   ]
  },
  {
   "cell_type": "markdown",
   "metadata": {
    "slideshow": {
     "slide_type": "slide"
    }
   },
   "source": [
    "### Example\n",
    "---\n",
    "* All lines below are comments."
   ]
  },
  {
   "cell_type": "code",
   "execution_count": null,
   "metadata": {
    "colab": {},
    "colab_type": "code",
    "id": "KwGTR0LH6g0g",
    "slideshow": {
     "slide_type": "fragment"
    }
   },
   "outputs": [],
   "source": [
    "# This is a comment\n",
    "### This is also a comment\n",
    "\n",
    "\n",
    "# This code was edited by Mark on 12 October 2018\n",
    "\n",
    "# Run the code below"
   ]
  },
  {
   "cell_type": "markdown",
   "metadata": {
    "colab_type": "text",
    "id": "2bZQtv8EF6gv",
    "slideshow": {
     "slide_type": "slide"
    }
   },
   "source": [
    "## Summary\n",
    "---\n",
    "In this section, you learned the following concepts: \n",
    "\n",
    "* Primary Python operators\n",
    "* Assigning values to variables\n",
    "* Statements\n",
    "* Printing literal values or variables using the  `print()` function\n",
    "* The importance of and how to comment code.\n",
    "\n",
    "In the next section, you will learn more about  scalars and  operations that are used on them."
   ]
  },
  {
   "cell_type": "code",
   "execution_count": null,
   "metadata": {
    "colab": {},
    "colab_type": "code",
    "id": "IuiWwevmwu4T"
   },
   "outputs": [],
   "source": []
  }
 ],
 "metadata": {
  "celltoolbar": "Slideshow",
  "colab": {
   "collapsed_sections": [],
   "name": "2. Intro to Python: Python Basics.ipynb",
   "provenance": [],
   "version": "0.3.2"
  },
  "kernelspec": {
   "display_name": "Python 3",
   "language": "python",
   "name": "python3"
  },
  "language_info": {
   "codemirror_mode": {
    "name": "ipython",
    "version": 3
   },
   "file_extension": ".py",
   "mimetype": "text/x-python",
   "name": "python",
   "nbconvert_exporter": "python",
   "pygments_lexer": "ipython3",
   "version": "3.6.6"
  }
 },
 "nbformat": 4,
 "nbformat_minor": 2
}
