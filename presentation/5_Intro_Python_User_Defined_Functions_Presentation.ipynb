{
 "cells": [
  {
   "cell_type": "markdown",
   "metadata": {
    "colab_type": "text",
    "id": "vuVCCsYOdSdj",
    "slideshow": {
     "slide_type": "slide"
    }
   },
   "source": [
    "# User Defined Functions\n",
    "---\n",
    "\n",
    "* Functions are named blocks of code, which carry out a specific task, and can take inputs and return values.\n",
    "* Defining a frequently used block of code as a function increases script readability and efficiency.  "
   ]
  },
  {
   "cell_type": "markdown",
   "metadata": {
    "colab_type": "text",
    "id": "3dPvnnQoyD3q",
    "slideshow": {
     "slide_type": "slide"
    }
   },
   "source": [
    "## Syntax\n",
    "---\n",
    "* The function definition starts with the keyword, `def`, followed by its name and a parenthesized list of parameters your function will use.\n",
    "\n",
    "* The body of a function is the indented block of code that follows the definition and is run each time the function is called.\n",
    "\n",
    "* If we want the function to return something, i.e. give an output after it is called, then we use the `return` keyword followed by a return value. \n",
    "\n",
    "![Function Syntax](images/user_defined_functions/syntax.png)\n",
    "\n",
    "\n",
    "\n"
   ]
  },
  {
   "cell_type": "markdown",
   "metadata": {
    "colab_type": "text",
    "id": "hV_62kV7iPCN",
    "slideshow": {
     "slide_type": "slide"
    }
   },
   "source": [
    "### Local Variables\n",
    "---\n",
    "* Any variable that is defined or modified inside a function is a local variable. \n",
    "* Local variables in functions are independent from variables outside the function."
   ]
  },
  {
   "cell_type": "markdown",
   "metadata": {
    "slideshow": {
     "slide_type": "slide"
    }
   },
   "source": [
    "### Example\n",
    "---"
   ]
  },
  {
   "cell_type": "code",
   "execution_count": 1,
   "metadata": {
    "slideshow": {
     "slide_type": "fragment"
    }
   },
   "outputs": [
    {
     "data": {
      "text/plain": [
       "121.11111111111111"
      ]
     },
     "execution_count": 1,
     "metadata": {},
     "output_type": "execute_result"
    }
   ],
   "source": [
    "def fahr_to_celsius(fahr):\n",
    "  celsius = (fahr - 32) * (5/9)\n",
    "  return celsius\n",
    "\n",
    "fahr_to_celsius(250)"
   ]
  },
  {
   "cell_type": "markdown",
   "metadata": {
    "slideshow": {
     "slide_type": "fragment"
    }
   },
   "source": [
    "* After `fahr_to_celsius(250)`, the expected value of `celsius` is 121.11 degrees celsius. Let's try to add 273.15 to this `celsius`, which converts `celsius` to Kelvin."
   ]
  },
  {
   "cell_type": "code",
   "execution_count": 2,
   "metadata": {
    "slideshow": {
     "slide_type": "fragment"
    }
   },
   "outputs": [
    {
     "ename": "NameError",
     "evalue": "name 'celsius' is not defined",
     "output_type": "error",
     "traceback": [
      "\u001b[0;31m---------------------------------------------------------------------------\u001b[0m",
      "\u001b[0;31mNameError\u001b[0m                                 Traceback (most recent call last)",
      "\u001b[0;32m<ipython-input-2-53be66c1655a>\u001b[0m in \u001b[0;36m<module>\u001b[0;34m\u001b[0m\n\u001b[0;32m----> 1\u001b[0;31m \u001b[0mcelsius\u001b[0m\u001b[0;34m+\u001b[0m\u001b[0;36m273.15\u001b[0m\u001b[0;34m\u001b[0m\u001b[0m\n\u001b[0m",
      "\u001b[0;31mNameError\u001b[0m: name 'celsius' is not defined"
     ]
    }
   ],
   "source": [
    "celsius + 273.15"
   ]
  },
  {
   "cell_type": "markdown",
   "metadata": {
    "colab_type": "text",
    "id": "DgOTnI4I_P_j"
   },
   "source": [
    "## Default Parameters\n",
    "---\n",
    "\n",
    "* You can define a *default value* for Python to use when a parameter is not specified.\n",
    "\n",
    "* To define a default parameter, simply specify the default parameter in the function definition with `=`. \n",
    "* Make sure that your default parameters come after the parameters without default values.\n",
    "\n",
    "![Default Parameters](images/user_defined_functions/default.jpg)\n"
   ]
  },
  {
   "cell_type": "markdown",
   "metadata": {
    "slideshow": {
     "slide_type": "slide"
    }
   },
   "source": [
    "### Example\n",
    "---\n",
    "* We can write a function that calculates weight based off of mass and gravity and set the default gravity to 9.81 $m/s^2$.\n",
    "* Since only mass was passed to `weight()`,  the `weight()` function used the default gravity, which was 9.81 $m/s^2$. "
   ]
  },
  {
   "cell_type": "code",
   "execution_count": 0,
   "metadata": {
    "colab": {
     "base_uri": "https://localhost:8080/",
     "height": 34
    },
    "colab_type": "code",
    "executionInfo": {
     "elapsed": 416,
     "status": "ok",
     "timestamp": 1548790325822,
     "user": {
      "displayName": "Jaclyn Lee",
      "photoUrl": "",
      "userId": "17525286701482268466"
     },
     "user_tz": 600
    },
    "id": "wSF0-BqKReG6",
    "outputId": "9b6f5cda-16d6-4322-a8e4-af988bd648b0",
    "slideshow": {
     "slide_type": "fragment"
    }
   },
   "outputs": [
    {
     "data": {
      "text/plain": [
       "608.22"
      ]
     },
     "execution_count": 4,
     "metadata": {
      "tags": []
     },
     "output_type": "execute_result"
    }
   ],
   "source": [
    "def weight(mass, gravity=9.81):\n",
    "  return mass * gravity\n",
    "\n",
    "weight(62)"
   ]
  },
  {
   "cell_type": "markdown",
   "metadata": {
    "colab_type": "text",
    "id": "6mg9D96L8lwh",
    "slideshow": {
     "slide_type": "slide"
    }
   },
   "source": [
    "### Changing Default Parameters\n",
    "---\n",
    "* To change keyword parameters, you use the `=` operator to specify the value that you want to use instead when you call the function. \n",
    "\n",
    "![changing default parameters](images/user_defined_functions/changing_default.jpg)\n",
    "\n",
    "\n",
    "* You can also use keyword parameters to specify the parameters that do not have default values as well. \n",
    "* Just make sure your positional parameters come before the keyword parameters.\n",
    "\n",
    "![keyword parameters](images/user_defined_functions/keyword_parameter.jpg)\n",
    "\n"
   ]
  },
  {
   "cell_type": "code",
   "execution_count": 0,
   "metadata": {
    "colab": {
     "base_uri": "https://localhost:8080/",
     "height": 52
    },
    "colab_type": "code",
    "executionInfo": {
     "elapsed": 410,
     "status": "ok",
     "timestamp": 1548790330739,
     "user": {
      "displayName": "Jaclyn Lee",
      "photoUrl": "",
      "userId": "17525286701482268466"
     },
     "user_tz": 600
    },
    "id": "BxT0y-fKF-BL",
    "outputId": "df5a1cc7-14bb-4f08-a48d-7fc2f4bafe41",
    "slideshow": {
     "slide_type": "fragment"
    }
   },
   "outputs": [
    {
     "name": "stdout",
     "output_type": "stream",
     "text": [
      "230.02\n"
     ]
    },
    {
     "data": {
      "text/plain": [
       "230.02"
      ]
     },
     "execution_count": 5,
     "metadata": {
      "tags": []
     },
     "output_type": "execute_result"
    }
   ],
   "source": [
    "print(weight(62, gravity=3.71))\n",
    "weight(mass=62, gravity=3.71)"
   ]
  },
  {
   "cell_type": "markdown",
   "metadata": {
    "colab_type": "text",
    "id": "wr8Se9NKw0F-"
   },
   "source": [
    "## Summary\n",
    "---\n",
    "\n",
    "This chapter, you learned how to:\n",
    "* Create a user defined function. \n",
    "* Specify default parameters in your functions. \n",
    "* Change the default parameters when you use functions.\n",
    "\n",
    "The next chapter will introduce collections, which are variables that can store many values in one location. The next chapter will also go over ordered collections and for loops, which is one of the basic control flow structures that you can use in your code.\n",
    "\n",
    "\n",
    "\n"
   ]
  },
  {
   "cell_type": "code",
   "execution_count": 0,
   "metadata": {
    "colab": {},
    "colab_type": "code",
    "id": "M_u1V2702vrI"
   },
   "outputs": [],
   "source": []
  }
 ],
 "metadata": {
  "celltoolbar": "Slideshow",
  "colab": {
   "collapsed_sections": [],
   "name": "5 Into to Python: User Defined Functions.ipynb",
   "provenance": [],
   "version": "0.3.2"
  },
  "kernelspec": {
   "display_name": "Python 3",
   "language": "python",
   "name": "python3"
  },
  "language_info": {
   "codemirror_mode": {
    "name": "ipython",
    "version": 3
   },
   "file_extension": ".py",
   "mimetype": "text/x-python",
   "name": "python",
   "nbconvert_exporter": "python",
   "pygments_lexer": "ipython3",
   "version": "3.6.6"
  }
 },
 "nbformat": 4,
 "nbformat_minor": 1
}
