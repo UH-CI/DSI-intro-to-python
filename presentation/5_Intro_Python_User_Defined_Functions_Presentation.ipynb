{
 "cells": [
  {
   "cell_type": "code",
   "execution_count": 1,
   "metadata": {
    "slideshow": {
     "slide_type": "skip"
    }
   },
   "outputs": [
    {
     "data": {
      "text/html": [
       "<style>\n",
       "    @font-face {\n",
       "        font-family: \"Computer Modern\";\n",
       "        src: url('http://9dbb143991406a7c655e-aa5fcb0a5a4ec34cff238a2d56ca4144.r56.cf5.rackcdn.com/cmunss.otf');\n",
       "    }\n",
       "    @font-face {\n",
       "        font-family: \"Computer Modern\";\n",
       "        font-weight: bold;\n",
       "        src: url('http://9dbb143991406a7c655e-aa5fcb0a5a4ec34cff238a2d56ca4144.r56.cf5.rackcdn.com/cmunsx.otf');\n",
       "    }\n",
       "    @font-face {\n",
       "        font-family: \"Computer Modern\";\n",
       "        font-style: oblique;\n",
       "        src: url('http://9dbb143991406a7c655e-aa5fcb0a5a4ec34cff238a2d56ca4144.r56.cf5.rackcdn.com/cmunsi.otf');\n",
       "    }\n",
       "    @font-face {\n",
       "        font-family: \"Computer Modern\";\n",
       "        font-weight: bold;\n",
       "        font-style: oblique;\n",
       "        src: url('http://9dbb143991406a7c655e-aa5fcb0a5a4ec34cff238a2d56ca4144.r56.cf5.rackcdn.com/cmunso.otf');\n",
       "    }\n",
       "    div.cell{\n",
       "        width:900px;\n",
       "        margin-left:5% !important;\n",
       "        margin-right:auto;\n",
       "    }\n",
       "    h1 {\n",
       "        font-family: Helvetica, serif;\n",
       "    }\n",
       "    h4{\n",
       "        margin-top:12px;\n",
       "        margin-bottom: 3px;\n",
       "       }\n",
       "    div.text_cell_render{\n",
       "        font-family: Computer Modern, \"Helvetica Neue\", Arial, Helvetica, Geneva, sans-serif;\n",
       "        line-height: 145%;\n",
       "        font-size: 130%;\n",
       "        width:800px;\n",
       "        margin-left:auto;\n",
       "        margin-right:auto;\n",
       "    }\n",
       "    .CodeMirror{\n",
       "            font-family: \"Source Code Pro\", source-code-pro,Consolas, monospace;\n",
       "    }\n",
       "    .prompt{\n",
       "        display: None;\n",
       "    }\n",
       "    .text_cell_render h5 {\n",
       "        font-weight: 300;\n",
       "        font-size: 26pt;\n",
       "        color: #4057A1;\n",
       "        font-style: italic;\n",
       "        margin-bottom: .5em;\n",
       "        margin-top: 0.5em;\n",
       "        display: block;\n",
       "    }\n",
       "    \n",
       "    .warning{\n",
       "        color: rgb( 240, 20, 20 )\n",
       "        }  \n",
       "</style>\n",
       "<script>\n",
       "    MathJax.Hub.Config({\n",
       "                        TeX: {\n",
       "                           extensions: [\"AMSmath.js\"]\n",
       "                           },\n",
       "                tex2jax: {\n",
       "                    inlineMath: [ ['$','$'], [\"\\\\(\",\"\\\\)\"] ],\n",
       "                    displayMath: [ ['$$','$$'], [\"\\\\[\",\"\\\\]\"] ]\n",
       "                },\n",
       "                displayAlign: 'center', // Change this to 'center' to center equations.\n",
       "                \"HTML-CSS\": {\n",
       "                    styles: {'.MathJax_Display': {\"margin\": 4}}\n",
       "                }\n",
       "        });\n",
       "</script>\n"
      ],
      "text/plain": [
       "<IPython.core.display.HTML object>"
      ]
     },
     "execution_count": 1,
     "metadata": {},
     "output_type": "execute_result"
    }
   ],
   "source": [
    "from IPython.core.display import HTML\n",
    "\n",
    "def set_css_style(css_file_path):\n",
    "    \"\"\"\n",
    "    Read the custom CSS file and load it into Jupyter.\n",
    "    Pass the file path to the CSS file.\n",
    "    \"\"\"\n",
    "    styles = open(css_file_path, \"r\").read()\n",
    "    return HTML(styles)\n",
    "\n",
    "set_css_style('styles/custom.css')"
   ]
  },
  {
   "cell_type": "markdown",
   "metadata": {
    "colab_type": "text",
    "id": "vuVCCsYOdSdj",
    "slideshow": {
     "slide_type": "slide"
    }
   },
   "source": [
    "# User Defined Functions\n",
    "---\n",
    "\n",
    "* Functions are blocks of code that:\n",
    "    * Carry out a specific task.\n",
    "    * Take inputs.\n",
    "    * Return values.\n",
    "    \n",
    "    \n",
    "* Defining functions increases script readability and efficiency.  "
   ]
  },
  {
   "cell_type": "markdown",
   "metadata": {
    "colab_type": "text",
    "id": "3dPvnnQoyD3q",
    "slideshow": {
     "slide_type": "slide"
    }
   },
   "source": [
    "## Syntax\n",
    "---\n",
    "* Functions start with `def`, followed by its name and a parenthesized list of parameters.\n",
    "\n",
    "\n",
    "* The body is the following indented block of code.\n",
    "    * Run each time the function is called.\n",
    "\n",
    "\n",
    "* If the function returns something then we use `return` followed by a return value. \n",
    "\n",
    "<img src=\"images/user_defined_functions/syntax.png\" alt=\"drawing\" style=\"width:500px;\"/>\n",
    "\n",
    "\n",
    "\n"
   ]
  },
  {
   "cell_type": "markdown",
   "metadata": {
    "colab_type": "text",
    "id": "hV_62kV7iPCN",
    "slideshow": {
     "slide_type": "slide"
    }
   },
   "source": [
    "### Local Variables\n",
    "---\n",
    "* Variable defined or modified inside a function. \n",
    "\n",
    "\n",
    "* Local variables are independent from variables outside the function."
   ]
  },
  {
   "cell_type": "markdown",
   "metadata": {
    "slideshow": {
     "slide_type": "slide"
    }
   },
   "source": [
    "### Example\n",
    "---\n",
    "* Here we define the `fahr_to_celsius()` function\n",
    "\n",
    "\n",
    "* Determine what 250 Fahrenheit is in Celsius."
   ]
  },
  {
   "cell_type": "code",
   "execution_count": 1,
   "metadata": {
    "slideshow": {
     "slide_type": "fragment"
    }
   },
   "outputs": [
    {
     "data": {
      "text/plain": [
       "121.11111111111111"
      ]
     },
     "execution_count": 1,
     "metadata": {},
     "output_type": "execute_result"
    }
   ],
   "source": [
    "def fahr_to_celsius(fahr):\n",
    "  celsius = (fahr - 32) * (5/9)\n",
    "  return celsius\n",
    "\n",
    "fahr_to_celsius(250)"
   ]
  },
  {
   "cell_type": "markdown",
   "metadata": {
    "slideshow": {
     "slide_type": "slide"
    }
   },
   "source": [
    "#### Modifying Local Variables Outside Functions\n",
    "---\n",
    "* The expected value of `celsius` is 121.11 degrees Celsius. \n",
    "\n",
    "\n",
    "* Let's add 273.15 and `celsius`, which converts `celsius` to Kelvin."
   ]
  },
  {
   "cell_type": "code",
   "execution_count": 2,
   "metadata": {
    "slideshow": {
     "slide_type": "fragment"
    }
   },
   "outputs": [
    {
     "ename": "NameError",
     "evalue": "name 'celsius' is not defined",
     "output_type": "error",
     "traceback": [
      "\u001b[0;31m---------------------------------------------------------------------------\u001b[0m",
      "\u001b[0;31mNameError\u001b[0m                                 Traceback (most recent call last)",
      "\u001b[0;32m<ipython-input-2-c0139681a69e>\u001b[0m in \u001b[0;36m<module>\u001b[0;34m\u001b[0m\n\u001b[0;32m----> 1\u001b[0;31m \u001b[0mcelsius\u001b[0m \u001b[0;34m+\u001b[0m \u001b[0;36m273.15\u001b[0m\u001b[0;34m\u001b[0m\u001b[0m\n\u001b[0m",
      "\u001b[0;31mNameError\u001b[0m: name 'celsius' is not defined"
     ]
    }
   ],
   "source": [
    "celsius + 273.15"
   ]
  },
  {
   "cell_type": "markdown",
   "metadata": {
    "slideshow": {
     "slide_type": "fragment"
    }
   },
   "source": [
    "* `celsius` is a local variable to `fahr_to_celsius()`.\n",
    "\n",
    "\n",
    "* Cannot be used outside `fahr_to_celsius()`."
   ]
  },
  {
   "cell_type": "markdown",
   "metadata": {
    "colab_type": "text",
    "id": "iOh7nIO1jINV",
    "slideshow": {
     "slide_type": "slide"
    }
   },
   "source": [
    "### Quiz 1\n",
    "---\n",
    "\n",
    "True or False: The following two functions will always return the same value.\n",
    "\n",
    "Function 1:\n",
    "\n",
    "```python\n",
    "def present_value(future_value, interest, time_periods)\n",
    "  return future_value / (1 + interest) ** time_periods\n",
    "```\n",
    "Function 2:\n",
    "\n",
    "```python\n",
    "def present_value(future_value, interest, time_periods)\n",
    "  pv = future_value / (1 + interest) ** time_periods\n",
    "  return pv\n",
    "```"
   ]
  },
  {
   "cell_type": "markdown",
   "metadata": {
    "colab_type": "text",
    "id": "DgOTnI4I_P_j",
    "slideshow": {
     "slide_type": "slide"
    }
   },
   "source": [
    "## Default Parameters\n",
    "---\n",
    "\n",
    "* *Default value* used when a parameter is not specified.\n",
    "\n",
    "\n",
    "* Specify the default parameter in the function definition with `=`. \n",
    "\n",
    "\n",
    "* Make sure default parameters come after the parameters without default values.\n",
    "\n",
    "<img src=\"images/user_defined_functions/default.jpg\" alt=\"drawing\" style=\"width:550px;\"/>\n"
   ]
  },
  {
   "cell_type": "markdown",
   "metadata": {
    "slideshow": {
     "slide_type": "slide"
    }
   },
   "source": [
    "### Example\n",
    "---\n",
    "* Function that calculates weight based off of mass and gravity.\n",
    "    * Set the default gravity to 9.81 $m/s^2$."
   ]
  },
  {
   "cell_type": "code",
   "execution_count": 3,
   "metadata": {
    "colab": {
     "base_uri": "https://localhost:8080/",
     "height": 34
    },
    "colab_type": "code",
    "executionInfo": {
     "elapsed": 416,
     "status": "ok",
     "timestamp": 1548790325822,
     "user": {
      "displayName": "Jaclyn Lee",
      "photoUrl": "",
      "userId": "17525286701482268466"
     },
     "user_tz": 600
    },
    "id": "wSF0-BqKReG6",
    "outputId": "9b6f5cda-16d6-4322-a8e4-af988bd648b0",
    "slideshow": {
     "slide_type": "fragment"
    }
   },
   "outputs": [
    {
     "data": {
      "text/plain": [
       "608.22"
      ]
     },
     "execution_count": 3,
     "metadata": {},
     "output_type": "execute_result"
    }
   ],
   "source": [
    "def weight(mass, gravity=9.81):\n",
    "  return mass * gravity\n",
    "\n",
    "weight(62)"
   ]
  },
  {
   "cell_type": "markdown",
   "metadata": {
    "slideshow": {
     "slide_type": "fragment"
    }
   },
   "source": [
    "* `weight()` used the default gravity, which was 9.81 $m/s^2$. "
   ]
  },
  {
   "cell_type": "markdown",
   "metadata": {
    "colab_type": "text",
    "id": "6mg9D96L8lwh",
    "slideshow": {
     "slide_type": "slide"
    }
   },
   "source": [
    "### Changing Default Parameters\n",
    "---\n",
    "* Use the `=` operator to specify the new value. \n",
    "\n",
    "<img src=\"images/user_defined_functions/changing_default.jpg\" alt=\"drawing\" style=\"width:600px;\"/>"
   ]
  },
  {
   "cell_type": "code",
   "execution_count": 4,
   "metadata": {
    "slideshow": {
     "slide_type": "fragment"
    }
   },
   "outputs": [
    {
     "name": "stdout",
     "output_type": "stream",
     "text": [
      "230.02\n"
     ]
    }
   ],
   "source": [
    "print(weight(62, gravity=3.71))"
   ]
  },
  {
   "cell_type": "markdown",
   "metadata": {
    "slideshow": {
     "slide_type": "slide"
    }
   },
   "source": [
    "* Keyword parameters can be used for parameters without default values. \n",
    "\n",
    "\n",
    "* Make sure positional parameters come before keyword parameters.\n",
    "\n",
    "<img src=\"images/user_defined_functions/keyword_parameter.jpg\" alt=\"drawing\" style=\"width:550px;\"/>"
   ]
  },
  {
   "cell_type": "code",
   "execution_count": 5,
   "metadata": {
    "colab": {
     "base_uri": "https://localhost:8080/",
     "height": 52
    },
    "colab_type": "code",
    "executionInfo": {
     "elapsed": 410,
     "status": "ok",
     "timestamp": 1548790330739,
     "user": {
      "displayName": "Jaclyn Lee",
      "photoUrl": "",
      "userId": "17525286701482268466"
     },
     "user_tz": 600
    },
    "id": "BxT0y-fKF-BL",
    "outputId": "df5a1cc7-14bb-4f08-a48d-7fc2f4bafe41",
    "slideshow": {
     "slide_type": "fragment"
    }
   },
   "outputs": [
    {
     "name": "stdout",
     "output_type": "stream",
     "text": [
      "230.02\n"
     ]
    }
   ],
   "source": [
    "print(weight(mass=62, gravity=3.71))"
   ]
  },
  {
   "cell_type": "markdown",
   "metadata": {
    "slideshow": {
     "slide_type": "slide"
    }
   },
   "source": [
    "### Quiz\n",
    "---\n",
    "The function below calculates the total bill with tax and tip. How would we calculate the cost of a bill that's 84.53$ before tax and tip with a tax of 6% and no tip?\n",
    "```python\n",
    "def total_bill(bill, tax=0, tip=0):\n",
    "  total_amount = (bill * (1 + tax)) * (tip + 1)\n",
    "  return total_amount\n",
    "```\n",
    "\n",
    "A.\n",
    "```python\n",
    "total_bill(84.53,tax=0.06)\n",
    "```\n",
    "B.\n",
    "```python\n",
    "total_bill(tax=0.06, bill=84.53)\n",
    "```\n",
    "C.\n",
    "```python\n",
    "total_bill(tax=0.06, 84.53)\n",
    "```"
   ]
  },
  {
   "cell_type": "markdown",
   "metadata": {
    "colab_type": "text",
    "id": "wr8Se9NKw0F-",
    "slideshow": {
     "slide_type": "slide"
    }
   },
   "source": [
    "## Summary\n",
    "---\n",
    "\n",
    "This chapter, you learned how to:\n",
    "\n",
    "\n",
    "* Create a user-defined function.\n",
    "\n",
    "\n",
    "* Specify default parameters in your functions. \n",
    "\n",
    "\n",
    "* Change the default parameters when you use functions.\n"
   ]
  }
 ],
 "metadata": {
  "celltoolbar": "Slideshow",
  "colab": {
   "collapsed_sections": [],
   "name": "5 Into to Python: User Defined Functions.ipynb",
   "provenance": [],
   "version": "0.3.2"
  },
  "kernelspec": {
   "display_name": "Python 3",
   "language": "python",
   "name": "python3"
  },
  "language_info": {
   "codemirror_mode": {
    "name": "ipython",
    "version": 3
   },
   "file_extension": ".py",
   "mimetype": "text/x-python",
   "name": "python",
   "nbconvert_exporter": "python",
   "pygments_lexer": "ipython3",
   "version": "3.6.6"
  }
 },
 "nbformat": 4,
 "nbformat_minor": 1
}
