{
 "cells": [
  {
   "cell_type": "markdown",
   "metadata": {
    "colab_type": "text",
    "id": "agpkDaGtMVFH",
    "slideshow": {
     "slide_type": "slide"
    }
   },
   "source": [
    "\n",
    "# Scalars\n",
    "---\n",
    " \n",
    "* Variables that contain a single value are referred to as scalars. \n",
    "* Scalar variables can contain:\n",
    "    * Numeric values\n",
    "    * Strings (text)\n",
    "    * Booleans (`True` or `False`).\n",
    " "
   ]
  },
  {
   "cell_type": "markdown",
   "metadata": {
    "colab_type": "text",
    "id": "6ZVScK27yrEw",
    "slideshow": {
     "slide_type": "slide"
    }
   },
   "source": [
    "## Numeric Scalars\n",
    "---\n",
    "\n",
    "* Numeric scalars are good for storing quantitative information that consists of single values. \n",
    "* The two types of numeric scalars:\n",
    "    * Integers\n",
    "    * Floats"
   ]
  },
  {
   "cell_type": "markdown",
   "metadata": {
    "colab_type": "text",
    "id": "u57nVX1bMPnY",
    "slideshow": {
     "slide_type": "slide"
    }
   },
   "source": [
    "### Integers\n",
    "---\n",
    "\n",
    "* *Integers* are positive or negative whole numbers that do not have a decimal point. \n",
    "\n",
    "![integers](images/scalars/integers.png)\n",
    "\n",
    "\n",
    "\n"
   ]
  },
  {
   "cell_type": "markdown",
   "metadata": {
    "colab_type": "text",
    "id": "2JdCY2SitSBE",
    "slideshow": {
     "slide_type": "slide"
    }
   },
   "source": [
    "### Example\n",
    "---\n",
    "\n",
    "* The age of a victim of a shark encounter in New Zealand is best represented using an integer. \n",
    "* We can store the victim's age in a variable called `nz_victim_age`."
   ]
  },
  {
   "cell_type": "code",
   "execution_count": null,
   "metadata": {
    "colab": {
     "base_uri": "https://localhost:8080/",
     "height": 34
    },
    "colab_type": "code",
    "executionInfo": {
     "elapsed": 397,
     "status": "ok",
     "timestamp": 1538713082325,
     "user": {
      "displayName": "Charlotte Smith",
      "photoUrl": "",
      "userId": "05194161354170586023"
     },
     "user_tz": 600
    },
    "id": "qBhrM4h-MPnZ",
    "outputId": "69e0be5e-4423-4639-89c0-4f1463d31236",
    "slideshow": {
     "slide_type": "fragment"
    }
   },
   "outputs": [
    {
     "name": "stdout",
     "output_type": "stream",
     "text": [
      "39\n"
     ]
    }
   ],
   "source": [
    "nz_victim_age = 39\n",
    "print(nz_victim_age)"
   ]
  },
  {
   "cell_type": "markdown",
   "metadata": {
    "colab_type": "text",
    "id": "-8xOt6iYMPng",
    "slideshow": {
     "slide_type": "slide"
    }
   },
   "source": [
    "### Floats\n",
    "---\n",
    "\n",
    "* Numeric values that contain decimal points are called *floats*.\n",
    "\n",
    "![floats](images/scalars/floats.png)\n",
    "\n",
    "* The following are all examples of floats:\n",
    "    * 0.000009678\n",
    "    * 2.0\n",
    "    * 121313.5\n",
    "    * 33.45\n",
    "\n"
   ]
  },
  {
   "cell_type": "markdown",
   "metadata": {
    "colab_type": "text",
    "id": "1bjA3dvfrnkY"
   },
   "source": [
    "### Example\n",
    "---\n",
    "\n",
    "* The variable, `aus_shark_size` contains a shark's length in meters (this is an Aussie shark ...  they use the metric system, Mate!). \n",
    "\n",
    "![aus_shark_size](images/scalars/aus_shark_size.png)"
   ]
  },
  {
   "cell_type": "code",
   "execution_count": null,
   "metadata": {
    "colab": {},
    "colab_type": "code",
    "id": "D-OBLx9PrwYm"
   },
   "outputs": [],
   "source": [
    "aus_shark_size = 3.5"
   ]
  },
  {
   "cell_type": "markdown",
   "metadata": {
    "colab_type": "text",
    "id": "J-fqsiOChoiu"
   },
   "source": [
    "## Strings\n",
    "---\n",
    "\n",
    "* *Strings* are series of characters that occur on the same line and contained within double quotes (`\" \"`) or single quotes (`' '`). \n",
    "* Strings may contain letters, digits, or even characters like %.\n",
    "\n",
    "\n",
    "```python\n",
    "variable_name = \"This is a string\"\n",
    "variable_name_2 = 'This is also a string'\n",
    "```"
   ]
  },
  {
   "cell_type": "markdown",
   "metadata": {
    "colab_type": "text",
    "id": "dy9Jx5pJpLlm"
   },
   "source": [
    "### Example\n",
    "---\n",
    "\n",
    "* To create a statement to assign a string variable that holds the activity of a victim before a shark encounter, we might write: \n",
    "\n",
    "![aus_activity](images/scalars/aus_activity.png)\n",
    "\n"
   ]
  },
  {
   "cell_type": "code",
   "execution_count": null,
   "metadata": {
    "colab": {
     "base_uri": "https://localhost:8080/",
     "height": 34
    },
    "colab_type": "code",
    "executionInfo": {
     "elapsed": 441,
     "status": "ok",
     "timestamp": 1538713621215,
     "user": {
      "displayName": "Charlotte Smith",
      "photoUrl": "",
      "userId": "05194161354170586023"
     },
     "user_tz": 600
    },
    "id": "E7-zb2nes5Vu",
    "outputId": "5c075820-9a38-4e14-b6d0-8df2bfb045aa"
   },
   "outputs": [
    {
     "name": "stdout",
     "output_type": "stream",
     "text": [
      "Free Diving\n"
     ]
    }
   ],
   "source": [
    "aus_activity = \"Free Diving\"\n",
    "\n",
    "print(aus_activity)"
   ]
  },
  {
   "cell_type": "markdown",
   "metadata": {
    "slideshow": {
     "slide_type": "slide"
    }
   },
   "source": [
    "### Quiz\n",
    "---\n",
    "How do you assign the following string of characters into a variable called `nz_species`?\n",
    "* Mako Shark\n",
    "\n",
    "A.\n",
    "```python\n",
    "nz_species = \"Mako Shark\"\n",
    "```\n",
    "B.\n",
    "```python\n",
    "nz_species = Mako Shark\n",
    "```\n",
    "C.\n",
    "```python\n",
    "nz_species = Mako_Shark\n",
    "```\n",
    "D.\n",
    "```python\n",
    "nz_species = 'Mako Shark'\n",
    "```"
   ]
  },
  {
   "cell_type": "markdown",
   "metadata": {
    "colab_type": "text",
    "id": "QYjiPZKhIqeB"
   },
   "source": [
    "## Booleans\n",
    "---\n",
    "* Booleans are data types that evaluate to either `True` or `False`. \n",
    "* Booleans are important because they play key roles in controlling the flow of programs, which we will cover in this and following chapters. "
   ]
  },
  {
   "cell_type": "markdown",
   "metadata": {
    "colab_type": "text",
    "id": "FhgVm4mSMPnm"
   },
   "source": [
    "### Assigning Boolean Variables\n",
    "---\n",
    "* You can directly assign a Boolean value to a variable with a variable name, the assignment operator (`=`), and `True` or `False`. \n",
    "* Quotes are not used around the True or False since this is not a string.\n",
    "\n",
    "\n",
    "\n"
   ]
  },
  {
   "cell_type": "markdown",
   "metadata": {
    "colab_type": "text",
    "id": "x5QsqtTGa6OS",
    "slideshow": {
     "slide_type": "slide"
    }
   },
   "source": [
    "### Example\n",
    "---\n",
    "\n",
    "* If we wanted to create a variable to represent whether or not the shark encounter in Australia was fatal, we could write the following statement:\n"
   ]
  },
  {
   "cell_type": "code",
   "execution_count": 1,
   "metadata": {
    "colab": {},
    "colab_type": "code",
    "id": "tKWCqYvoMPno",
    "slideshow": {
     "slide_type": "fragment"
    }
   },
   "outputs": [
    {
     "name": "stdout",
     "output_type": "stream",
     "text": [
      "False\n"
     ]
    }
   ],
   "source": [
    "aus_encounter_fatality = False\n",
    "print(aus_encounter_fatality)"
   ]
  },
  {
   "cell_type": "markdown",
   "metadata": {
    "colab_type": "text",
    "id": "H1_ZyoIVw8g2"
   },
   "source": [
    "* Notice that Booleans `True` and `False` are capitalized\n",
    "* Otherwise Python will not recognize these as reserved keywords."
   ]
  },
  {
   "cell_type": "markdown",
   "metadata": {
    "colab_type": "text",
    "id": "xxgNjLhtb61_",
    "slideshow": {
     "slide_type": "slide"
    }
   },
   "source": [
    "### Example\n",
    "---\n",
    "* In the cell below, you'll notice that lowercase `true` returns an error because Python thinks it is a variable that has not yet been defined."
   ]
  },
  {
   "cell_type": "code",
   "execution_count": null,
   "metadata": {
    "colab": {
     "base_uri": "https://localhost:8080/",
     "height": 181
    },
    "colab_type": "code",
    "executionInfo": {
     "elapsed": 616,
     "status": "error",
     "timestamp": 1538710305632,
     "user": {
      "displayName": "Charlotte Smith",
      "photoUrl": "",
      "userId": "05194161354170586023"
     },
     "user_tz": 600
    },
    "id": "NTCWSu02MPnv",
    "outputId": "5445c053-b523-443d-b18e-6161242828f1",
    "slideshow": {
     "slide_type": "fragment"
    }
   },
   "outputs": [
    {
     "ename": "NameError",
     "evalue": "ignored",
     "output_type": "error",
     "traceback": [
      "\u001b[0;31m---------------------------------------------------------------------------\u001b[0m",
      "\u001b[0;31mNameError\u001b[0m                                 Traceback (most recent call last)",
      "\u001b[0;32m<ipython-input-1-ae19a94adaaf>\u001b[0m in \u001b[0;36m<module>\u001b[0;34m()\u001b[0m\n\u001b[0;32m----> 1\u001b[0;31m \u001b[0mnz_attack_fatality\u001b[0m \u001b[0;34m=\u001b[0m \u001b[0mtrue\u001b[0m\u001b[0;34m\u001b[0m\u001b[0m\n\u001b[0m\u001b[1;32m      2\u001b[0m \u001b[0mprint\u001b[0m\u001b[0;34m(\u001b[0m\u001b[0mnz_attack_fatality\u001b[0m\u001b[0;34m)\u001b[0m\u001b[0;34m\u001b[0m\u001b[0m\n",
      "\u001b[0;31mNameError\u001b[0m: name 'true' is not defined"
     ]
    }
   ],
   "source": [
    "nz_encounter_fatality = true\n",
    "print(nz_encounter_fatality)"
   ]
  },
  {
   "cell_type": "markdown",
   "metadata": {
    "colab_type": "text",
    "id": "-hYMm6-8KIbk",
    "slideshow": {
     "slide_type": "slide"
    }
   },
   "source": [
    "## Operations on Scalars: if-else Statements\n",
    "---\n",
    "* `if-else` statements determine whether a block of code gets executed. \n",
    "* For example, you can use an `if-else` statement to check if a customer's account has sufficient funds before authorizing a transaction. \n",
    "* Before we delve into the specifics of `if-else` statements, you need to understand conditional tests and how they work."
   ]
  },
  {
   "cell_type": "markdown",
   "metadata": {
    "colab_type": "text",
    "id": "jjy95eYhKyVL",
    "slideshow": {
     "slide_type": "slide"
    }
   },
   "source": [
    "### Conditional Tests\n",
    "---\n",
    "* `if-else` uses *arithmetic logic operators* to evaluate whether a statement is `True` or `False`.\n",
    "\n",
    "| Arithmetic Logic Operator | Mathematical Symbol | Python Notation |\n",
    "|-----------------------------------|-------------------------------------|----------------------------|\n",
    "|Equals                           | =                                      |==                           |\n",
    "|Not Equal                      | ≠                                     | !=                          |\n",
    "| Greater Than                | >                                     | >                           |\n",
    "| Less Than                     |  <                                     |<                            |\n",
    "| Greater Than or Equal to | ≥                                | >=                         |\n",
    "| Less Than or Equal to | ≤                                     | <=                         |\n"
   ]
  },
  {
   "cell_type": "markdown",
   "metadata": {
    "colab_type": "text",
    "id": "xuFbZadJlvZa"
   },
   "source": [
    "### Example\n",
    "---\n",
    "\n",
    "* We will use a boolean expression to check if the age of the New Zealand shark victim was greater than 10 years old."
   ]
  },
  {
   "cell_type": "code",
   "execution_count": null,
   "metadata": {
    "colab": {
     "base_uri": "https://localhost:8080/",
     "height": 34
    },
    "colab_type": "code",
    "executionInfo": {
     "elapsed": 409,
     "status": "ok",
     "timestamp": 1538713095402,
     "user": {
      "displayName": "Charlotte Smith",
      "photoUrl": "",
      "userId": "05194161354170586023"
     },
     "user_tz": 600
    },
    "id": "CMg68FCHbkcl",
    "outputId": "9924e6ea-7910-417b-d42c-39b13514df93"
   },
   "outputs": [
    {
     "data": {
      "text/plain": [
       "True"
      ]
     },
     "execution_count": 6,
     "metadata": {
      "tags": []
     },
     "output_type": "execute_result"
    }
   ],
   "source": [
    "nz_victim_age > 10"
   ]
  },
  {
   "cell_type": "markdown",
   "metadata": {
    "slideshow": {
     "slide_type": "slide"
    }
   },
   "source": [
    "### Quiz\n",
    "---\n",
    "Which of the following will evaluate to `False` given that `nz_victim_age = 39`?\n",
    "A.\n",
    "```python\n",
    "nz_victim_age == 39\n",
    "```\n",
    "B.\n",
    "```python\n",
    "nz_victim_age >= 39\n",
    "```\n",
    "C.\n",
    "```python\n",
    "nz_victim_age <= 39\n",
    "```\n",
    "D.\n",
    "```python\n",
    "nz_victim_age != 40\n",
    "```\n",
    "E.\n",
    "```python\n",
    "nz_victim_age < 40\n",
    "```"
   ]
  },
  {
   "cell_type": "markdown",
   "metadata": {
    "colab_type": "text",
    "id": "02taAvRud97W"
   },
   "source": [
    "### `if-else` Statement Structure\n",
    "---\n",
    "* Lines after `if` and `else` should be indented -- best practice suggests using four spaces. \n",
    "* All indented lines of code after `if` will be executed if the conditional test evaluates to `True`\n",
    "* The `else` clause specifies an alternative set of instructions, if the conditions set in the `if` statement were not met.\n",
    "\n",
    "```python\n",
    "if conditional test:\n",
    "      execute something\n",
    "else:\n",
    "      execute something\n",
    "```\n",
    "\n"
   ]
  },
  {
   "cell_type": "markdown",
   "metadata": {
    "colab_type": "text",
    "id": "yLPmJfh20mjd"
   },
   "source": [
    "### Example\n",
    "---\n",
    "* For example, we could categorize the shark into a small or large shark catgeory by creating a conditional test for its length. \n",
    "* We can test if the shark in the New Zealand shark encounter was greater than 2 meters, and to print 'Large Shark', if this condition was met, or to print 'Small Shark' if this condition was not met.\n",
    "\n",
    "![if_else_shark](images/scalars/if_else_shark.JPG)"
   ]
  },
  {
   "cell_type": "code",
   "execution_count": null,
   "metadata": {
    "colab": {
     "base_uri": "https://localhost:8080/",
     "height": 34
    },
    "colab_type": "code",
    "executionInfo": {
     "elapsed": 413,
     "status": "ok",
     "timestamp": 1532983695040,
     "user": {
      "displayName": "Charlotte Smith",
      "photoUrl": "https://lh3.googleusercontent.com/a/default-user=s128",
      "userId": "107833990234992277419"
     },
     "user_tz": 600
    },
    "id": "hrbLgQl3MPnx",
    "outputId": "34c7e921-1f53-4926-f7e5-854491e48783"
   },
   "outputs": [
    {
     "name": "stdout",
     "output_type": "stream",
     "text": [
      "Small shark\n"
     ]
    }
   ],
   "source": [
    "nz_shark_size = 1.5\n",
    "\n",
    "if nz_shark_size > 2.0:\n",
    "    print('Large Shark')\n",
    "else:\n",
    "    print('Small Shark')"
   ]
  },
  {
   "cell_type": "markdown",
   "metadata": {
    "slideshow": {
     "slide_type": "slide"
    }
   },
   "source": [
    "### Quiz\n",
    "---\n",
    "What does the following snippet of code print?\n",
    "```python\n",
    "nz_victim_age = 39\n",
    "if nz_victim_age < 18:\n",
    "  print('Minor')\n",
    "else: \n",
    "  print('Adult')\n",
    "```\n",
    "A.\n",
    "```python\n",
    "'Minor'\n",
    "```\n",
    "B.\n",
    "```python\n",
    "'Adult'\n",
    "```\n",
    "C.\n",
    "```python\n",
    "39\n",
    "```"
   ]
  },
  {
   "cell_type": "markdown",
   "metadata": {
    "colab_type": "text",
    "id": "t1cKqUxFGwKO"
   },
   "source": [
    "## Summary:\n",
    "---\n",
    "In this chapter, you learned about:\n",
    "* The different types of scalars including integers, floats, strings, and booleans. \n",
    "* Boolean statements and if else statements\n",
    "\n",
    "The next chapter will go over how to use pre-written Python variables and functions. You will learn about modules and how to use the functionalities stored in them.\n",
    "\n"
   ]
  }
 ],
 "metadata": {
  "celltoolbar": "Slideshow",
  "colab": {
   "collapsed_sections": [],
   "name": "3. Intro to Python: Scalars.ipynb",
   "provenance": [],
   "version": "0.3.2"
  },
  "kernelspec": {
   "display_name": "Python 3",
   "language": "python",
   "name": "python3"
  },
  "language_info": {
   "codemirror_mode": {
    "name": "ipython",
    "version": 3
   },
   "file_extension": ".py",
   "mimetype": "text/x-python",
   "name": "python",
   "nbconvert_exporter": "python",
   "pygments_lexer": "ipython3",
   "version": "3.6.6"
  }
 },
 "nbformat": 4,
 "nbformat_minor": 2
}
