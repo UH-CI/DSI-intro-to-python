{
 "cells": [
  {
   "cell_type": "code",
   "execution_count": 2,
   "metadata": {
    "slideshow": {
     "slide_type": "skip"
    }
   },
   "outputs": [
    {
     "data": {
      "text/html": [
       "<style>\n",
       "    @font-face {\n",
       "        font-family: \"Computer Modern\";\n",
       "        src: url('http://9dbb143991406a7c655e-aa5fcb0a5a4ec34cff238a2d56ca4144.r56.cf5.rackcdn.com/cmunss.otf');\n",
       "    }\n",
       "    @font-face {\n",
       "        font-family: \"Computer Modern\";\n",
       "        font-weight: bold;\n",
       "        src: url('http://9dbb143991406a7c655e-aa5fcb0a5a4ec34cff238a2d56ca4144.r56.cf5.rackcdn.com/cmunsx.otf');\n",
       "    }\n",
       "    @font-face {\n",
       "        font-family: \"Computer Modern\";\n",
       "        font-style: oblique;\n",
       "        src: url('http://9dbb143991406a7c655e-aa5fcb0a5a4ec34cff238a2d56ca4144.r56.cf5.rackcdn.com/cmunsi.otf');\n",
       "    }\n",
       "    @font-face {\n",
       "        font-family: \"Computer Modern\";\n",
       "        font-weight: bold;\n",
       "        font-style: oblique;\n",
       "        src: url('http://9dbb143991406a7c655e-aa5fcb0a5a4ec34cff238a2d56ca4144.r56.cf5.rackcdn.com/cmunso.otf');\n",
       "    }\n",
       "    div.cell{\n",
       "        width:900px;\n",
       "        margin-left:5% !important;\n",
       "        margin-right:auto;\n",
       "    }\n",
       "    h1 {\n",
       "        font-family: Helvetica, serif;\n",
       "    }\n",
       "    h4{\n",
       "        margin-top:12px;\n",
       "        margin-bottom: 3px;\n",
       "       }\n",
       "    div.text_cell_render{\n",
       "        font-family: Computer Modern, \"Helvetica Neue\", Arial, Helvetica, Geneva, sans-serif;\n",
       "        line-height: 145%;\n",
       "        font-size: 130%;\n",
       "        width:800px;\n",
       "        margin-left:auto;\n",
       "        margin-right:auto;\n",
       "    }\n",
       "    .CodeMirror{\n",
       "            font-family: \"Source Code Pro\", source-code-pro,Consolas, monospace;\n",
       "    }\n",
       "    .prompt{\n",
       "        display: None;\n",
       "    }\n",
       "    .text_cell_render h5 {\n",
       "        font-weight: 300;\n",
       "        font-size: 26pt;\n",
       "        color: #4057A1;\n",
       "        font-style: italic;\n",
       "        margin-bottom: .5em;\n",
       "        margin-top: 0.5em;\n",
       "        display: block;\n",
       "    }\n",
       "    \n",
       "    .warning{\n",
       "        color: rgb( 240, 20, 20 )\n",
       "        }  \n",
       "</style>\n",
       "<script>\n",
       "    MathJax.Hub.Config({\n",
       "                        TeX: {\n",
       "                           extensions: [\"AMSmath.js\"]\n",
       "                           },\n",
       "                tex2jax: {\n",
       "                    inlineMath: [ ['$','$'], [\"\\\\(\",\"\\\\)\"] ],\n",
       "                    displayMath: [ ['$$','$$'], [\"\\\\[\",\"\\\\]\"] ]\n",
       "                },\n",
       "                displayAlign: 'center', // Change this to 'center' to center equations.\n",
       "                \"HTML-CSS\": {\n",
       "                    styles: {'.MathJax_Display': {\"margin\": 4}}\n",
       "                }\n",
       "        });\n",
       "</script>\n"
      ],
      "text/plain": [
       "<IPython.core.display.HTML object>"
      ]
     },
     "execution_count": 2,
     "metadata": {},
     "output_type": "execute_result"
    }
   ],
   "source": [
    "from IPython.core.display import HTML\n",
    "\n",
    "def set_css_style(css_file_path):\n",
    "    \"\"\"\n",
    "    Read the custom CSS file and load it into Jupyter.\n",
    "    Pass the file path to the CSS file.\n",
    "    \"\"\"\n",
    "    styles = open(css_file_path, \"r\").read()\n",
    "    return HTML(styles)\n",
    "\n",
    "set_css_style('styles/custom.css')"
   ]
  },
  {
   "cell_type": "markdown",
   "metadata": {
    "colab_type": "text",
    "id": "agpkDaGtMVFH",
    "slideshow": {
     "slide_type": "slide"
    }
   },
   "source": [
    "\n",
    "# Scalars\n",
    "---\n",
    " \n",
    "* Variables that contain a single value are referred to as scalars. \n",
    "\n",
    "\n",
    "* Scalars can contain:\n",
    "    * Numeric values\n",
    "    * Strings (text)\n",
    "    * Booleans (`True` or `False`).\n",
    "\n",
    "\n",
    "* More on this below.\n",
    " "
   ]
  },
  {
   "cell_type": "markdown",
   "metadata": {
    "colab_type": "text",
    "id": "6ZVScK27yrEw",
    "slideshow": {
     "slide_type": "slide"
    }
   },
   "source": [
    "## Numeric Scalars\n",
    "---\n",
    "\n",
    "* Numeric scalars are good for storing quantitative information that consists of single values. \n",
    "\n",
    "\n",
    "* The two types of numeric scalars:\n",
    "    * Integers\n",
    "    * Floats"
   ]
  },
  {
   "cell_type": "markdown",
   "metadata": {
    "colab_type": "text",
    "id": "u57nVX1bMPnY",
    "slideshow": {
     "slide_type": "slide"
    }
   },
   "source": [
    "### Integers\n",
    "---\n",
    "\n",
    "* *Integers* are positive or negative whole numbers\n",
    "  * I.e., they do not have a decimal point. \n",
    "\n",
    "<img src=\"images/scalars/integers.png\" alt=\"drawing\" style=\"width:400px;\"/>\n",
    "\n"
   ]
  },
  {
   "cell_type": "markdown",
   "metadata": {
    "colab_type": "text",
    "id": "2JdCY2SitSBE",
    "slideshow": {
     "slide_type": "slide"
    }
   },
   "source": [
    "### Example\n",
    "---\n",
    "\n",
    "* The age of a victim of a shark encounter in New Zealand is best represented using an integer. \n",
    "\n",
    "\n",
    "* We can store the victim's age in a variable called `nz_victim_age`.\n",
    "\n",
    "\n",
    "* The function\n"
   ]
  },
  {
   "cell_type": "code",
   "execution_count": 2,
   "metadata": {
    "colab": {
     "base_uri": "https://localhost:8080/",
     "height": 34
    },
    "colab_type": "code",
    "executionInfo": {
     "elapsed": 397,
     "status": "ok",
     "timestamp": 1538713082325,
     "user": {
      "displayName": "Charlotte Smith",
      "photoUrl": "",
      "userId": "05194161354170586023"
     },
     "user_tz": 600
    },
    "id": "qBhrM4h-MPnZ",
    "outputId": "69e0be5e-4423-4639-89c0-4f1463d31236",
    "slideshow": {
     "slide_type": "fragment"
    }
   },
   "outputs": [
    {
     "name": "stdout",
     "output_type": "stream",
     "text": [
      "39\n"
     ]
    }
   ],
   "source": [
    "nz_victim_age = 39\n",
    "print(nz_victim_age)"
   ]
  },
  {
   "cell_type": "markdown",
   "metadata": {
    "colab_type": "text",
    "id": "-8xOt6iYMPng",
    "slideshow": {
     "slide_type": "slide"
    }
   },
   "source": [
    "### Floats\n",
    "---\n",
    "\n",
    "* Numeric values that contain decimal points are called *floats*.\n",
    "\n",
    "\n",
    "* The following are all examples of floats:\n",
    "    * 0.000009678\n",
    "    * 2.0\n",
    "    * 121313.5\n",
    "    * 33.45"
   ]
  },
  {
   "cell_type": "markdown",
   "metadata": {
    "colab_type": "text",
    "id": "1bjA3dvfrnkY",
    "slideshow": {
     "slide_type": "slide"
    }
   },
   "source": [
    "### Example\n",
    "---\n",
    "\n",
    "* The variable, `aus_shark_size` contains a shark's length in meters. \n",
    "\n",
    "<img src=\"images/scalars/aus_shark_size.png\" alt=\"drawing\" style=\"width:400px;\"/>"
   ]
  },
  {
   "cell_type": "code",
   "execution_count": 1,
   "metadata": {
    "colab": {},
    "colab_type": "code",
    "id": "D-OBLx9PrwYm",
    "slideshow": {
     "slide_type": "fragment"
    }
   },
   "outputs": [
    {
     "name": "stdout",
     "output_type": "stream",
     "text": [
      "3.5\n"
     ]
    }
   ],
   "source": [
    "aus_shark_size = 3.5\n",
    "print(aus_shark_size)"
   ]
  },
  {
   "cell_type": "markdown",
   "metadata": {
    "colab_type": "text",
    "id": "J-fqsiOChoiu",
    "slideshow": {
     "slide_type": "slide"
    }
   },
   "source": [
    "## Strings\n",
    "---\n",
    "\n",
    "* *Strings* are series of contiguous characters contained within double quotes (`\" \"`) or single quotes (`' '`). \n",
    "\n",
    "\n",
    "* Strings may contain letters, digits, or even characters like %.\n",
    "\n",
    "\n",
    "```python\n",
    "variable_name = \"This is a string\"\n",
    "variable_name_2 = 'This is also a string'\n",
    "```"
   ]
  },
  {
   "cell_type": "markdown",
   "metadata": {
    "colab_type": "text",
    "id": "dy9Jx5pJpLlm",
    "slideshow": {
     "slide_type": "slide"
    }
   },
   "source": [
    "### Example\n",
    "---\n",
    "\n",
    "* The following statement create variable of type string that holds the activity of a victim before a shark encounter.\n",
    "\n",
    "\n",
    "\n",
    "<img src=\"images/scalars/aus_activity.png\" alt=\"drawing\" style=\"width:450px;\"/>\n",
    "\n"
   ]
  },
  {
   "cell_type": "code",
   "execution_count": 5,
   "metadata": {
    "colab": {
     "base_uri": "https://localhost:8080/",
     "height": 34
    },
    "colab_type": "code",
    "executionInfo": {
     "elapsed": 441,
     "status": "ok",
     "timestamp": 1538713621215,
     "user": {
      "displayName": "Charlotte Smith",
      "photoUrl": "",
      "userId": "05194161354170586023"
     },
     "user_tz": 600
    },
    "id": "E7-zb2nes5Vu",
    "outputId": "5c075820-9a38-4e14-b6d0-8df2bfb045aa",
    "slideshow": {
     "slide_type": "fragment"
    }
   },
   "outputs": [
    {
     "name": "stdout",
     "output_type": "stream",
     "text": [
      "Free Diving\n"
     ]
    }
   ],
   "source": [
    "aus_activity = \"Free Diving\"\n",
    "print(aus_activity)"
   ]
  },
  {
   "cell_type": "markdown",
   "metadata": {
    "slideshow": {
     "slide_type": "slide"
    }
   },
   "source": [
    "### Quiz \n",
    "---\n",
    "Which of the following are valid assignments of the string \"Mako Shark\" into a variable called `nz_species`?\n",
    "\n",
    "A.\n",
    "```python\n",
    "nz_species = 'Mako Shark'\n",
    "```\n",
    "B.\n",
    "```python\n",
    "nz_species = Mako Shark\n",
    "```\n",
    "C.\n",
    "```python\n",
    "NZ_SPECIES = \"Mako Shark\"\n",
    "```\n",
    "\n",
    "D.\n",
    "```python\n",
    "nz_species = \"Mako_Shark\"\n",
    "```"
   ]
  },
  {
   "cell_type": "markdown",
   "metadata": {
    "slideshow": {
     "slide_type": "slide"
    }
   },
   "source": [
    "### Quiz \n",
    "\n",
    "\n",
    "* The variable shark_size represents a shark's size in meters. What the variable type of `shark_size`?\n",
    "\n",
    "```python\n",
    "shark_size = \"2.43\"\n",
    "```\n",
    "\n",
    "A. String\n",
    "\n",
    "B. Integer\n",
    "\n",
    "C. Float\n",
    "\n",
    "D. None of the above. `shark_size` is not a valid Python variable"
   ]
  },
  {
   "cell_type": "markdown",
   "metadata": {
    "colab_type": "text",
    "id": "QYjiPZKhIqeB",
    "slideshow": {
     "slide_type": "slide"
    }
   },
   "source": [
    "## Booleans\n",
    "---\n",
    "\n",
    "* Booleans are data types that evaluate to either true or false. \n",
    "  * Their Python value is either `True` or `False`.\n",
    "\n",
    "\n",
    "* Booleans are essential for controlling the flow of programs.\n",
    "  * We cover that below"
   ]
  },
  {
   "cell_type": "markdown",
   "metadata": {
    "colab_type": "text",
    "id": "FhgVm4mSMPnm",
    "slideshow": {
     "slide_type": "slide"
    }
   },
   "source": [
    "### Assigning Boolean Variables\n",
    "---\n",
    "* You can create Boolean variables the same way we created string or integer variable\n",
    "\n",
    "* Ex., we create the variable windy and `sunny` and `follows`:\n",
    "\n",
    "```python\n",
    "windy = True\n",
    "sunny = False\n",
    "\n",
    "```\n",
    "\n",
    "* Note that: \n",
    "  * Quotes are not used around the True or False since this is not a string\n",
    "  * `True` and `False` are capitalized.\n",
    "    * `true` and `false` are not valid Python keywords"
   ]
  },
  {
   "cell_type": "markdown",
   "metadata": {
    "colab_type": "text",
    "id": "xxgNjLhtb61_",
    "slideshow": {
     "slide_type": "slide"
    }
   },
   "source": [
    "### Example\n",
    "---\n",
    "\n",
    "* In the cell below, using lowercase `true` returns an error.\n",
    "  * Python treats `true` as a variable name that it does not know about."
   ]
  },
  {
   "cell_type": "code",
   "execution_count": 7,
   "metadata": {
    "colab": {
     "base_uri": "https://localhost:8080/",
     "height": 181
    },
    "colab_type": "code",
    "executionInfo": {
     "elapsed": 616,
     "status": "error",
     "timestamp": 1538710305632,
     "user": {
      "displayName": "Charlotte Smith",
      "photoUrl": "",
      "userId": "05194161354170586023"
     },
     "user_tz": 600
    },
    "id": "NTCWSu02MPnv",
    "outputId": "5445c053-b523-443d-b18e-6161242828f1",
    "slideshow": {
     "slide_type": "fragment"
    }
   },
   "outputs": [
    {
     "ename": "NameError",
     "evalue": "name 'true' is not defined",
     "output_type": "error",
     "traceback": [
      "\u001b[0;31m---------------------------------------------------------------------------\u001b[0m",
      "\u001b[0;31mNameError\u001b[0m                                 Traceback (most recent call last)",
      "\u001b[0;32m<ipython-input-7-5813664b892f>\u001b[0m in \u001b[0;36m<module>\u001b[0;34m\u001b[0m\n\u001b[0;32m----> 1\u001b[0;31m \u001b[0mnz_encounter_fatality\u001b[0m \u001b[0;34m=\u001b[0m \u001b[0mtrue\u001b[0m\u001b[0;34m\u001b[0m\u001b[0;34m\u001b[0m\u001b[0m\n\u001b[0m\u001b[1;32m      2\u001b[0m \u001b[0;34m\u001b[0m\u001b[0m\n\u001b[1;32m      3\u001b[0m \u001b[0mprint\u001b[0m\u001b[0;34m(\u001b[0m\u001b[0mnz_encounter_fatality\u001b[0m\u001b[0;34m)\u001b[0m\u001b[0;34m\u001b[0m\u001b[0;34m\u001b[0m\u001b[0m\n",
      "\u001b[0;31mNameError\u001b[0m: name 'true' is not defined"
     ]
    }
   ],
   "source": [
    "nz_encounter_fatality = true\n",
    "\n",
    "print(nz_encounter_fatality)"
   ]
  },
  {
   "cell_type": "markdown",
   "metadata": {
    "colab_type": "text",
    "id": "-hYMm6-8KIbk",
    "slideshow": {
     "slide_type": "slide"
    }
   },
   "source": [
    "## Operations on Scalars: `if-else` Statements\n",
    "---\n",
    "\n",
    "* `if-else` are statements that help structure some logic in Python code.\n",
    "  * They determine whether a block of code gets executed. \n",
    "\n",
    "\n",
    "* For example, `if-else` statements can be used to verify that a customer's account has sufficient funds before authorizing a transaction. \n",
    "\n",
    "\n",
    "* We'll talk about conditional tests first and tackle `if-else` statements later."
   ]
  },
  {
   "cell_type": "markdown",
   "metadata": {
    "colab_type": "text",
    "id": "jjy95eYhKyVL",
    "slideshow": {
     "slide_type": "slide"
    }
   },
   "source": [
    "### Conditional Tests\n",
    "---\n",
    "* `if-else` uses *arithmetic logic operators* to evaluate whether a statement is `True` or `False`.\n",
    "\n",
    "\n",
    "\n",
    "| Arithmetic Logic Operator | Mathematical Symbol | Python Notation |\n",
    "|-----------------------------------|-------------------------------------|----------------------------|\n",
    "|Equals                           | =                                      |==                           |\n",
    "|Not Equal                      | ≠                                     | !=                          |\n",
    "| Greater Than                | >                                     | >                           |\n",
    "| Less Than                     |  <                                     |<                            |\n",
    "| Greater Than or Equal to | ≥                                | >=                         |\n",
    "| Less Than or Equal to | ≤                                     | <=                         |\n"
   ]
  },
  {
   "cell_type": "markdown",
   "metadata": {
    "colab_type": "text",
    "id": "xuFbZadJlvZa",
    "slideshow": {
     "slide_type": "slide"
    }
   },
   "source": [
    "### Example\n",
    "---\n",
    "\n",
    "* We will use a Boolean expression to check if the age of the New Zealand shark victim was greater than 10 years old.\n",
    "\n",
    "* Recall that we declared `nz_victim_age` above as:\n",
    "\n",
    "```python\n",
    "nz_victim_age = 39\n",
    "```"
   ]
  },
  {
   "cell_type": "code",
   "execution_count": 3,
   "metadata": {
    "colab": {
     "base_uri": "https://localhost:8080/",
     "height": 34
    },
    "colab_type": "code",
    "executionInfo": {
     "elapsed": 409,
     "status": "ok",
     "timestamp": 1538713095402,
     "user": {
      "displayName": "Charlotte Smith",
      "photoUrl": "",
      "userId": "05194161354170586023"
     },
     "user_tz": 600
    },
    "id": "CMg68FCHbkcl",
    "outputId": "9924e6ea-7910-417b-d42c-39b13514df93",
    "slideshow": {
     "slide_type": "fragment"
    }
   },
   "outputs": [
    {
     "data": {
      "text/plain": [
       "True"
      ]
     },
     "execution_count": 3,
     "metadata": {},
     "output_type": "execute_result"
    }
   ],
   "source": [
    "nz_victim_age > 10"
   ]
  },
  {
   "cell_type": "markdown",
   "metadata": {
    "slideshow": {
     "slide_type": "slide"
    }
   },
   "source": [
    "### Quiz\n",
    "---\n",
    "Which of the following will evaluate to `False` given that `nz_victim_age = 39`?\n",
    "\n",
    "<img src=\"images/scalars/ch3_quiz_2.png\" alt=\"drawing\" style=\"width:500px;\"/>\n"
   ]
  },
  {
   "cell_type": "markdown",
   "metadata": {
    "colab_type": "text",
    "id": "02taAvRud97W",
    "slideshow": {
     "slide_type": "slide"
    }
   },
   "source": [
    "### `if-else` Statement Structure\n",
    "---\n",
    "\n",
    "* `if-else` provide a way to conditionally execute a code\n",
    "\n",
    "  * Lines indented below an `if` are only executed when the condition associated with an `if` is `True`\n",
    "  * Lines indented below an `else` are only executed when the condition associated with an `if` is `False`\n",
    "  \n",
    "  \n",
    "* Lines after `if` and `else` should be indented \n",
    "\n",
    "\n",
    "* Best practice suggests using four spaces\n",
    "\n",
    "\n",
    "```python\n",
    "if some_conditional_test:\n",
    "      execute something\n",
    "else:\n",
    "      execute something\n",
    "```\n",
    "\n"
   ]
  },
  {
   "cell_type": "markdown",
   "metadata": {
    "colab_type": "text",
    "id": "yLPmJfh20mjd",
    "slideshow": {
     "slide_type": "slide"
    }
   },
   "source": [
    "### Example\n",
    "---\n",
    "* For example, we can categorize the shark into a `small` or `large` using an `if-else` test on the shark's length.\n",
    "\n",
    "\n",
    "1. Test if the shark is greater than 2 meters. \n",
    "2. print 'Large Shark', if this condition is `True`.\n",
    "3.  print 'Small Shark' if this condition is `False`.\n"
   ]
  },
  {
   "cell_type": "markdown",
   "metadata": {
    "slideshow": {
     "slide_type": "slide"
    }
   },
   "source": [
    "<img src=\"images/scalars/if_else_shark.JPG\" alt=\"drawing\" style=\"width:400px;\"/>"
   ]
  },
  {
   "cell_type": "code",
   "execution_count": null,
   "metadata": {
    "colab": {
     "base_uri": "https://localhost:8080/",
     "height": 34
    },
    "colab_type": "code",
    "executionInfo": {
     "elapsed": 413,
     "status": "ok",
     "timestamp": 1532983695040,
     "user": {
      "displayName": "Charlotte Smith",
      "photoUrl": "https://lh3.googleusercontent.com/a/default-user=s128",
      "userId": "107833990234992277419"
     },
     "user_tz": 600
    },
    "id": "hrbLgQl3MPnx",
    "outputId": "34c7e921-1f53-4926-f7e5-854491e48783",
    "slideshow": {
     "slide_type": "fragment"
    }
   },
   "outputs": [
    {
     "name": "stdout",
     "output_type": "stream",
     "text": [
      "Small shark\n"
     ]
    }
   ],
   "source": [
    "nz_shark_size = 1.5\n",
    "\n",
    "if nz_shark_size > 2.0:\n",
    "    print('Large Shark')\n",
    "else:\n",
    "    print('Small Shark')"
   ]
  },
  {
   "cell_type": "markdown",
   "metadata": {
    "slideshow": {
     "slide_type": "slide"
    }
   },
   "source": [
    "### Quiz\n",
    "---\n",
    "What does the following snippet of code print?\n",
    "```python\n",
    "nz_victim_age = 39\n",
    "if nz_victim_age < 18:\n",
    "  print('Minor')\n",
    "else: \n",
    "  print('Adult')\n",
    "```\n",
    "A.\n",
    "```python\n",
    "'Minor'\n",
    "```\n",
    "B.\n",
    "```python\n",
    "'Adult'\n",
    "```\n",
    "C.\n",
    "```python\n",
    "39\n",
    "```"
   ]
  },
  {
   "cell_type": "markdown",
   "metadata": {
    "colab_type": "text",
    "id": "t1cKqUxFGwKO",
    "slideshow": {
     "slide_type": "slide"
    }
   },
   "source": [
    "## Summary:\n",
    "---\n",
    "In this chapter, you learned about:\n",
    "* The different types of scalars:\n",
    "    * Integers\n",
    "    * Floats\n",
    "    * Strings\n",
    "    * Booleans. \n",
    "* Boolean statements and `if-else` statements\n",
    "\n"
   ]
  }
 ],
 "metadata": {
  "celltoolbar": "Slideshow",
  "colab": {
   "collapsed_sections": [],
   "name": "3. Intro to Python: Scalars.ipynb",
   "provenance": [],
   "version": "0.3.2"
  },
  "kernelspec": {
   "display_name": "Python 3",
   "language": "python",
   "name": "python3"
  },
  "language_info": {
   "codemirror_mode": {
    "name": "ipython",
    "version": 3
   },
   "file_extension": ".py",
   "mimetype": "text/x-python",
   "name": "python",
   "nbconvert_exporter": "python",
   "pygments_lexer": "ipython3",
   "version": "3.6.6"
  }
 },
 "nbformat": 4,
 "nbformat_minor": 2
}
