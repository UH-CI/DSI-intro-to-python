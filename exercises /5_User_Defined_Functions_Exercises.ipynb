{
 "cells": [
  {
   "cell_type": "markdown",
   "metadata": {
    "colab_type": "text",
    "id": "Px2AtDEZK1aD"
   },
   "source": [
    "# Exercises: User Defined Functions\n",
    "---\n",
    "Use the following exercises to practice creating your own functions. "
   ]
  },
  {
   "cell_type": "markdown",
   "metadata": {
    "colab_type": "text",
    "id": "kNpjQmrUASXu"
   },
   "source": [
    "### Exercise 1: \n",
    "---\n",
    "i) Write a function to calculate the area of a circle:\n",
    "\n",
    "Note: Use `pi` from the `math` module.\n"
   ]
  },
  {
   "cell_type": "code",
   "execution_count": 0,
   "metadata": {
    "colab": {},
    "colab_type": "code",
    "id": "q1vScdTfbija"
   },
   "outputs": [],
   "source": [
    "#exercise writing own function\n",
    "\n",
    "def area_of_circle(arugment):\n",
    "  write function body here"
   ]
  },
  {
   "cell_type": "markdown",
   "metadata": {
    "colab_type": "text",
    "id": "k1Qgh5jkPX96"
   },
   "source": [
    "ii) Test your function: \n",
    "\n",
    "* calculate the area of a circle with a radius of 4\n",
    "* calculate the area of a circle with a diameter of 6\n"
   ]
  },
  {
   "cell_type": "code",
   "execution_count": 0,
   "metadata": {
    "colab": {},
    "colab_type": "code",
    "id": "GkVYrjogPiJg"
   },
   "outputs": [],
   "source": [
    "# ii)"
   ]
  },
  {
   "cell_type": "markdown",
   "metadata": {
    "colab_type": "text",
    "id": "Bqrgwohbbi5A"
   },
   "source": [
    "### Exercise 2: \n",
    "---\n",
    "i) Write a function to calculate how much a student earns in a week from a part time job using hourly pay. Set the default hours per week worked to 20 hours. \n",
    "\n",
    "ii) Use this function to calculate how much a student earns in a week if he or she works 20 hours per week and earns 10.10$/hour.\n",
    "\n",
    "iii) Use this function to calculate how much a student would earn in a week if he or she earned 12.45 $/hour and works 30 hours a week?"
   ]
  },
  {
   "cell_type": "code",
   "execution_count": 0,
   "metadata": {
    "colab": {},
    "colab_type": "code",
    "id": "uBvwQI9TbvuA"
   },
   "outputs": [],
   "source": [
    "# exercise 2"
   ]
  },
  {
   "cell_type": "markdown",
   "metadata": {
    "colab_type": "text",
    "id": "U6lEGvMrzPad"
   },
   "source": [
    "### Exercise 3:\n",
    "---\n",
    "i) Write a function that calculates how much left over money someone pays his or her rent each month. The function should take hourly pay, number of hours worked per week and monthly rent as inputs. Assume that most people work full time and set the default hours worked per week to 40.\n",
    "\n",
    "ii) The current minimum wage in Hawaii is 10.10 dollars/hour. Can a person working full time for minimum wage afford to live in a 1 bedroom apartment that costs on average 1,427 dollars a month?"
   ]
  },
  {
   "cell_type": "code",
   "execution_count": 0,
   "metadata": {
    "colab": {},
    "colab_type": "code",
    "id": "y1UB2xiP0Jck"
   },
   "outputs": [],
   "source": [
    "# exercise 3"
   ]
  },
  {
   "cell_type": "markdown",
   "metadata": {
    "colab_type": "text",
    "id": "3QEAsG8lbwIV"
   },
   "source": [
    "### Exercise 4: \n",
    "---\n",
    "i) Write a function that converts US dollars into euros. Assume the exchange rate is 1 Euro to 1.20 US dollars.\n",
    "\n",
    "ii) How much euros does it cost to purchase a $9 poke bowl?\n",
    "\n",
    "iii) If a Pierre Marcolini macaron in Belgium costs 2 Euros but costs $3.80 in Hawaii, which one is the better deal?\n",
    "\n",
    "Current Exchange rates: https://www.wellsfargo.com/foreign-exchange/currency-rates/\n"
   ]
  },
  {
   "cell_type": "code",
   "execution_count": 0,
   "metadata": {
    "colab": {},
    "colab_type": "code",
    "id": "q94dCSGrqy_f"
   },
   "outputs": [],
   "source": []
  }
 ],
 "metadata": {
  "colab": {
   "collapsed_sections": [],
   "name": "5 User Defined Functions Exercises.ipynb",
   "provenance": [],
   "version": "0.3.2"
  },
  "kernelspec": {
   "display_name": "Python 3",
   "language": "python",
   "name": "python3"
  },
  "language_info": {
   "codemirror_mode": {
    "name": "ipython",
    "version": 3
   },
   "file_extension": ".py",
   "mimetype": "text/x-python",
   "name": "python",
   "nbconvert_exporter": "python",
   "pygments_lexer": "ipython3",
   "version": "3.6.6"
  }
 },
 "nbformat": 4,
 "nbformat_minor": 1
}
