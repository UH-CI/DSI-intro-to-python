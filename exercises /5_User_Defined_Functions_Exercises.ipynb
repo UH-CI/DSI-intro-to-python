{
 "cells": [
  {
   "cell_type": "markdown",
   "metadata": {
    "colab_type": "text",
    "id": "Px2AtDEZK1aD"
   },
   "source": [
    "# User Defined Functions Exercises\n",
    "---"
   ]
  },
  {
   "cell_type": "markdown",
   "metadata": {
    "colab_type": "text",
    "id": "kNpjQmrUASXu"
   },
   "source": [
    "### Exercise 1\n",
    "---\n",
    "i) Write a function to calculate the area of a circle:\n",
    "\n",
    "Note: Use `pi` from the `math` module.\n"
   ]
  },
  {
   "cell_type": "code",
   "execution_count": null,
   "metadata": {
    "colab": {},
    "colab_type": "code",
    "id": "q1vScdTfbija"
   },
   "outputs": [],
   "source": [
    "# Write your code here\n",
    "\n",
    "\n",
    "def area_of_circle(arugment):\n",
    "  write function body here"
   ]
  },
  {
   "cell_type": "markdown",
   "metadata": {
    "colab_type": "text",
    "id": "k1Qgh5jkPX96"
   },
   "source": [
    "ii) Test your function: \n",
    "\n",
    "* Calculate the area of a circle with a radius of 4\n",
    "* Calculate the area of a circle with a diameter of 6\n"
   ]
  },
  {
   "cell_type": "code",
   "execution_count": null,
   "metadata": {
    "colab": {},
    "colab_type": "code",
    "id": "GkVYrjogPiJg"
   },
   "outputs": [],
   "source": [
    "# Write your code here\n",
    "\n"
   ]
  },
  {
   "cell_type": "markdown",
   "metadata": {
    "colab_type": "text",
    "id": "Bqrgwohbbi5A"
   },
   "source": [
    "### Exercise 2\n",
    "---\n",
    "i) Recall that you can define a default parameter for Python to use if that parameter is not specified. Write a function to calculate how much a student earns in a week from a part time job using hourly pay. Set the default hours per week worked to 20 hours. Make sure your function saves the result of the calculation into a variable and returns it to the line it is called.\n",
    "\n",
    "Hint: \n",
    "$$ \n",
    "Weekly Pay = Hourly Pay \\cdot Hours Worked \n",
    "$$"
   ]
  },
  {
   "cell_type": "code",
   "execution_count": null,
   "metadata": {
    "colab": {},
    "colab_type": "code",
    "id": "uBvwQI9TbvuA"
   },
   "outputs": [],
   "source": [
    "# Write your code here\n",
    "\n"
   ]
  },
  {
   "cell_type": "markdown",
   "metadata": {},
   "source": [
    "ii) Use this function to calculate how much a student earns in a week if he or she works 20 hours per week and earns 10.10$/hour."
   ]
  },
  {
   "cell_type": "code",
   "execution_count": null,
   "metadata": {},
   "outputs": [],
   "source": [
    "# Write your code here\n",
    "\n"
   ]
  },
  {
   "cell_type": "markdown",
   "metadata": {
    "colab_type": "text",
    "id": "U6lEGvMrzPad"
   },
   "source": [
    "### Exercise 3\n",
    "---\n",
    "i) Recall the `if-else` statement you wrote in the chapter 3 exercises to return a person's taxes based on their income. Write a function called `taxes_due()` that uses that `if-else` statement to return a person's taxes when passed a person's taxable income. `taxes_due()` should assign the result of the calculation to a variable and return it to the line it was called. Test your function on an income of $\\$$100 and print the result. Your function should return $\\$$110."
   ]
  },
  {
   "cell_type": "code",
   "execution_count": null,
   "metadata": {
    "colab": {},
    "colab_type": "code",
    "id": "y1UB2xiP0Jck"
   },
   "outputs": [],
   "source": [
    "# Write your code here\n",
    "\n"
   ]
  },
  {
   "cell_type": "markdown",
   "metadata": {},
   "source": [
    "ii) Use your function to determine the taxes someone pays if they earn $\\$$1,000,000, $\\$$5,000, and $\\$$20,000 a year."
   ]
  },
  {
   "cell_type": "code",
   "execution_count": 1,
   "metadata": {},
   "outputs": [],
   "source": [
    "# Write your code here\n",
    "\n"
   ]
  },
  {
   "cell_type": "markdown",
   "metadata": {
    "colab_type": "text",
    "id": "3QEAsG8lbwIV"
   },
   "source": [
    "### Exercise 4\n",
    "---\n",
    "i) Write a function `convert_currency()` that converts between two currencies. The function should take the amount to convert and the exchange rate. \n",
    "\n",
    "For instance, we can use `convert_currency()` to convert $100 into euros knowing that the conversion rate is 1.20 as follows:\n",
    "\n",
    "```python\n",
    "convert_currency(100, 1.20)\n",
    "```\n",
    "The results of the call above should assign the result of the calculation to a variable and return it to the line it was called. Use the `print()` function to make sure it prints the results and not `None`.\n"
   ]
  },
  {
   "cell_type": "code",
   "execution_count": null,
   "metadata": {
    "colab": {},
    "colab_type": "code",
    "id": "q94dCSGrqy_f"
   },
   "outputs": [],
   "source": [
    "# Write your code here\n",
    "\n"
   ]
  },
  {
   "cell_type": "markdown",
   "metadata": {},
   "source": [
    "ii) Use the function above to calculate how much it costs to purchase a $9 poke bowl in euros?"
   ]
  },
  {
   "cell_type": "code",
   "execution_count": null,
   "metadata": {},
   "outputs": [],
   "source": [
    "# Write your code here\n",
    "\n"
   ]
  },
  {
   "cell_type": "markdown",
   "metadata": {},
   "source": [
    "iii) If a Pierre Marcolini macaron in Belgium costs 2 euros but costs $3.80 in Hawaii, which one is the better deal?"
   ]
  },
  {
   "cell_type": "code",
   "execution_count": null,
   "metadata": {},
   "outputs": [],
   "source": [
    "# Write your code here\n",
    "\n"
   ]
  },
  {
   "cell_type": "markdown",
   "metadata": {},
   "source": [
    "### Exercise 5\n",
    "---\n",
    "i) Write a function that calculates how many gallons of paint needed to paint a room. Assume that you are only painting the four walls and the ceiling. In general one gallon of paint will cover 350 square feet. Your function should take the length, width and height of the room (in feet) and number of coats as parameters and save the calculation result in a variable that's returned to the line the function was called. The number of coats should be a default parameter set to 1.\n",
    "\n",
    "hint:\n",
    "$$\n",
    "gallons = \\frac{coats}{350}(2 \\cdot height \\cdot width + 2 \\cdot height \\cdot length + width \\cdot length)\n",
    "$$"
   ]
  },
  {
   "cell_type": "code",
   "execution_count": null,
   "metadata": {},
   "outputs": [],
   "source": [
    "# Write your code here\n",
    "\n"
   ]
  },
  {
   "cell_type": "markdown",
   "metadata": {},
   "source": [
    "ii) How many gallons of paint are needed to paint a 14 ft. by 16 ft. room that's 10 ft. tall and needs 1 coat of paint?"
   ]
  },
  {
   "cell_type": "code",
   "execution_count": null,
   "metadata": {},
   "outputs": [],
   "source": [
    "# Write your code here\n",
    "\n"
   ]
  },
  {
   "cell_type": "markdown",
   "metadata": {},
   "source": [
    "iii) How many gallons of paint are needed to paint a 12 ft. by 12 ft. room that's 10 ft. tall and needs 2 coats of paint?"
   ]
  },
  {
   "cell_type": "code",
   "execution_count": null,
   "metadata": {},
   "outputs": [],
   "source": [
    "# Write your code here\n",
    "\n"
   ]
  }
 ],
 "metadata": {
  "colab": {
   "collapsed_sections": [],
   "name": "5 User Defined Functions Exercises.ipynb",
   "provenance": [],
   "version": "0.3.2"
  },
  "kernelspec": {
   "display_name": "Python 3",
   "language": "python",
   "name": "python3"
  },
  "language_info": {
   "codemirror_mode": {
    "name": "ipython",
    "version": 3
   },
   "file_extension": ".py",
   "mimetype": "text/x-python",
   "name": "python",
   "nbconvert_exporter": "python",
   "pygments_lexer": "ipython3",
   "version": "3.6.6"
  }
 },
 "nbformat": 4,
 "nbformat_minor": 2
}
