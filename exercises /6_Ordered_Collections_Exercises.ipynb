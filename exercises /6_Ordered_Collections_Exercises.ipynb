{
 "cells": [
  {
   "cell_type": "markdown",
   "metadata": {
    "colab_type": "text",
    "id": "uWKVPkhaRnGv"
   },
   "source": [
    "#Exercises: Ordered Collections\n",
    "---\n"
   ]
  },
  {
   "cell_type": "markdown",
   "metadata": {
    "colab_type": "text",
    "id": "Jf3G6mINyY6A"
   },
   "source": [
    "* We could stick with the emoji idea.\n",
    "  * for example, the students can use their most recently used emojis and put it into a list, then manipulate that list.\n",
    "* Or we could perhaps do data on something more science related like climate change or population\n",
    "  * For example we can have them use a for loop to create a list of bacteria population that doubles (or other multiplication every hour (or other time interval)\n",
    "* We could also work with a list containing US GDP or other related economic data like GDP growth, consumption etc.\n",
    "  * Economic data is usually reported quarterly, so we can do exercises in the for loop section that converts it to yearly data.  \n",
    "* Calculate real interest rates from nominal interest rates.\n",
    "  * Will need nominal interest rates and inflation rates."
   ]
  },
  {
   "cell_type": "markdown",
   "metadata": {
    "colab_type": "text",
    "id": "7m7oUI6_-dXP"
   },
   "source": [
    "### Exercise 1: Creating a list\n",
    "---\n"
   ]
  },
  {
   "cell_type": "markdown",
   "metadata": {
    "colab_type": "text",
    "id": "r4_V3B9c46lx"
   },
   "source": [
    "i) Create a list named \"fruits\" that contains the following items\n",
    "\n",
    "*   Mango\n",
    "*   Apple\n",
    "*   Starfruit\n",
    "*   Pear\n",
    "*   Blueberry\n",
    "\n"
   ]
  },
  {
   "cell_type": "code",
   "execution_count": 0,
   "metadata": {
    "colab": {},
    "colab_type": "code",
    "id": "kp7Fz8Pd8j4k"
   },
   "outputs": [],
   "source": [
    "# i)"
   ]
  },
  {
   "cell_type": "markdown",
   "metadata": {
    "colab_type": "text",
    "id": "9Agr0-lK8mHP"
   },
   "source": [
    "ii) Add the following item to the list \"fruits\"\n",
    "\n",
    "\n",
    "*   Grapefruit\n",
    "\n",
    "\n"
   ]
  },
  {
   "cell_type": "code",
   "execution_count": 0,
   "metadata": {
    "colab": {},
    "colab_type": "code",
    "id": "8Hw0ncch8umg"
   },
   "outputs": [],
   "source": [
    "#ii"
   ]
  },
  {
   "cell_type": "markdown",
   "metadata": {
    "colab_type": "text",
    "id": "KugaUBxV8w3K"
   },
   "source": [
    "iii) Remove the item \"Pear\" from the list \"fruits\" using the pop method"
   ]
  },
  {
   "cell_type": "code",
   "execution_count": 0,
   "metadata": {
    "colab": {},
    "colab_type": "code",
    "id": "I6y-x7GD85Xj"
   },
   "outputs": [],
   "source": [
    "#iii)"
   ]
  },
  {
   "cell_type": "markdown",
   "metadata": {
    "colab_type": "text",
    "id": "sYvHB_Wc87Su"
   },
   "source": [
    "iv) Index the items \"Mango\", \"Apple\", \"Starfruit\" from the list \"fruits\""
   ]
  },
  {
   "cell_type": "code",
   "execution_count": 0,
   "metadata": {
    "colab": {},
    "colab_type": "code",
    "id": "8yCXfL2Z9E6y"
   },
   "outputs": [],
   "source": [
    "#iv"
   ]
  },
  {
   "cell_type": "markdown",
   "metadata": {
    "colab_type": "text",
    "id": "f7HROqIN9GZD"
   },
   "source": [
    "v) Create a new list from the indexed items in part iv"
   ]
  },
  {
   "cell_type": "code",
   "execution_count": 0,
   "metadata": {
    "colab": {},
    "colab_type": "code",
    "id": "YFcHsO4p9dcf"
   },
   "outputs": [],
   "source": [
    "#v)"
   ]
  },
  {
   "cell_type": "markdown",
   "metadata": {
    "colab_type": "text",
    "id": "EWZ6sVLI9ft6"
   },
   "source": [
    "### Exercise 2: Creating a Tuple\n",
    "---\n"
   ]
  },
  {
   "cell_type": "markdown",
   "metadata": {
    "colab_type": "text",
    "id": "9sXJPtzj_LXH"
   },
   "source": [
    "i) Create a tuple named \"figure_skating_medalists\" that contains the following items:\n",
    "\n",
    "*   Yuzuru Hanryu\n",
    "*   Evan Lysacek\n",
    "*   Patrick Chan\n",
    "*   Stéphane Lambiel\n",
    "\n"
   ]
  },
  {
   "cell_type": "code",
   "execution_count": 0,
   "metadata": {
    "colab": {},
    "colab_type": "code",
    "id": "BmGq65JGAPqQ"
   },
   "outputs": [],
   "source": [
    "#i) "
   ]
  },
  {
   "cell_type": "markdown",
   "metadata": {
    "colab_type": "text",
    "id": "nech0bpxAXyB"
   },
   "source": [
    "ii) Create a list named \"olympic_figure_skaters_USA\" that contains the following items:\n",
    "\n",
    "*   Michelle Kwan\n",
    "*   Evan Lysacek\n",
    "*   Nathan Oken\n",
    "*   Maia Shibutani\n",
    "*   Alex Shibutani\n",
    "\n"
   ]
  },
  {
   "cell_type": "code",
   "execution_count": 0,
   "metadata": {
    "colab": {},
    "colab_type": "code",
    "id": "oveu8hcDAu51"
   },
   "outputs": [],
   "source": [
    "#ii)"
   ]
  },
  {
   "cell_type": "markdown",
   "metadata": {
    "colab_type": "text",
    "id": "CG_i0D6IAuUT"
   },
   "source": [
    "iii) Create a for loop to loop through each item of \"olympic_figure_skaters_USA\" and check if an item also appears in \"figure_skating_medalist\". If an item appears in both collections, print the item plus \"US Olympic Medalist\""
   ]
  },
  {
   "cell_type": "code",
   "execution_count": 0,
   "metadata": {
    "colab": {},
    "colab_type": "code",
    "id": "hP6c5urUEqEJ"
   },
   "outputs": [],
   "source": [
    "#iii) "
   ]
  },
  {
   "cell_type": "markdown",
   "metadata": {
    "colab_type": "text",
    "id": "QIP-2RTVMmTB"
   },
   "source": [
    "### Exercise 3: Indexing Elements\n",
    "---"
   ]
  },
  {
   "cell_type": "markdown",
   "metadata": {
    "colab_type": "text",
    "id": "irI3kSj8raPL"
   },
   "source": [
    "i) Create a list named \"fruits\" containing the following items:\n",
    "\n",
    "\n",
    "*   Pineapple\n",
    "*   Apple\n",
    "*   Orange\n",
    "*   Blueberry\n",
    "\n",
    "\n"
   ]
  },
  {
   "cell_type": "code",
   "execution_count": 0,
   "metadata": {
    "colab": {},
    "colab_type": "code",
    "id": "wtFSfrdOxpF8"
   },
   "outputs": [],
   "source": [
    "#i)"
   ]
  },
  {
   "cell_type": "markdown",
   "metadata": {
    "colab_type": "text",
    "id": "SovkqRgL3T27"
   },
   "source": [
    "ii) Index \"Blueberry\" from the list \"fruits\""
   ]
  },
  {
   "cell_type": "code",
   "execution_count": 0,
   "metadata": {
    "colab": {},
    "colab_type": "code",
    "id": "Nez046mnxqWX"
   },
   "outputs": [],
   "source": [
    "#ii)"
   ]
  },
  {
   "cell_type": "markdown",
   "metadata": {
    "colab_type": "text",
    "id": "GwGzJF2C3bLn"
   },
   "source": [
    "iii) Reverse index \"Blueberry\" from the list \"fruits\""
   ]
  },
  {
   "cell_type": "code",
   "execution_count": 0,
   "metadata": {
    "colab": {},
    "colab_type": "code",
    "id": "iM2bEZI43g10"
   },
   "outputs": [],
   "source": [
    "#iii)"
   ]
  },
  {
   "cell_type": "markdown",
   "metadata": {
    "colab_type": "text",
    "id": "kaHm92yg3rw4"
   },
   "source": [
    "### Exercise 4: Test your knowledge\n",
    "---"
   ]
  },
  {
   "cell_type": "markdown",
   "metadata": {
    "colab_type": "text",
    "id": "iw0L970c31re"
   },
   "source": [
    "Q: Can lists and tuples contain more than one data type?"
   ]
  },
  {
   "cell_type": "code",
   "execution_count": 0,
   "metadata": {
    "colab": {},
    "colab_type": "code",
    "id": "0Ktpo80H37su"
   },
   "outputs": [],
   "source": [
    "#TRUE"
   ]
  },
  {
   "cell_type": "code",
   "execution_count": 0,
   "metadata": {
    "colab": {},
    "colab_type": "code",
    "id": "lAYIMwlY3-u_"
   },
   "outputs": [],
   "source": [
    "#FALSE"
   ]
  },
  {
   "cell_type": "markdown",
   "metadata": {
    "colab_type": "text",
    "id": "SsNMagy94MT6"
   },
   "source": [
    "Q: The code below creates a list. Does the following code have any errors? (There has to be a better way to phrase this question, I want to check the students understanding of whether to use the brackets or the parentheses)"
   ]
  },
  {
   "cell_type": "code",
   "execution_count": 0,
   "metadata": {
    "colab": {
     "base_uri": "https://localhost:8080/",
     "height": 130
    },
    "colab_type": "code",
    "executionInfo": {
     "elapsed": 552,
     "status": "error",
     "timestamp": 1547159459780,
     "user": {
      "displayName": "Charlotte Smith",
      "photoUrl": "",
      "userId": "05194161354170586023"
     },
     "user_tz": 600
    },
    "id": "vidVpPnO4nQn",
    "outputId": "b9da67d3-bed8-4972-d4c6-4d199ceba287"
   },
   "outputs": [
    {
     "ename": "SyntaxError",
     "evalue": "ignored",
     "output_type": "error",
     "traceback": [
      "\u001b[0;36m  File \u001b[0;32m\"<ipython-input-3-629416f12c5c>\"\u001b[0;36m, line \u001b[0;32m1\u001b[0m\n\u001b[0;31m    heights = [2,4,111,15)\u001b[0m\n\u001b[0m                         ^\u001b[0m\n\u001b[0;31mSyntaxError\u001b[0m\u001b[0;31m:\u001b[0m invalid syntax\n"
     ]
    }
   ],
   "source": [
    "heights = [2,4,111,15)"
   ]
  },
  {
   "cell_type": "markdown",
   "metadata": {
    "colab_type": "text",
    "id": "ms5fPSQ64mvk"
   },
   "source": [
    "Q:  How do you determine the size of your list?"
   ]
  },
  {
   "cell_type": "code",
   "execution_count": 0,
   "metadata": {
    "colab": {},
    "colab_type": "code",
    "id": "TmUkUzRHSW3w"
   },
   "outputs": [],
   "source": [
    "### len()"
   ]
  },
  {
   "cell_type": "markdown",
   "metadata": {
    "colab_type": "text",
    "id": "ggI2NoRAaeOx"
   },
   "source": [
    "### Exercise 5: For Loops\n",
    "---\n",
    "\n",
    "Practice making for loops in the following exercises below."
   ]
  },
  {
   "cell_type": "markdown",
   "metadata": {
    "colab_type": "text",
    "id": "c6TysC_eSvUQ"
   },
   "source": [
    "i) The list `hawaii_population` contains hawaii's resident population in thousands of people between 2008 and 2018 (the first value is for 2008 and the last value is for 2018). Write a `for` loop that modifies the values in the list to be in millions of people.\n",
    "\n",
    "Hint: divide the values in the list by 1000.\n",
    "\n",
    "ii) Write another `for` loop that prints `'Hawaii's resident population in 20XX' is X million` and prints the appropriate values for each value in the list.\n",
    "\n",
    "Data: https://data.uhero.hawaii.edu/#/series?id=150382&sa=true&seriesCat=23"
   ]
  },
  {
   "cell_type": "code",
   "execution_count": 0,
   "metadata": {
    "colab": {},
    "colab_type": "code",
    "id": "jx98VOnBSzDR"
   },
   "outputs": [],
   "source": [
    "hawaii_population=[1332.2, 1346.7, 1364.0, 1379.3, 1394.9, 1408.5, 1414.9, 1422.5, 1428.1, 1424.2, 1420.5]"
   ]
  },
  {
   "cell_type": "markdown",
   "metadata": {
    "colab_type": "text",
    "id": "JX-o-IHbDUMN"
   },
   "source": [
    "iii) `fortunes` is a tuple of Magic 8 ball responses. Make a list of questions below, then write a `for` loop to print your questions and a random Magic 8 ball response for each question.\n",
    "\n",
    "Hint: Use the `choice()` function from the `random` module."
   ]
  },
  {
   "cell_type": "code",
   "execution_count": 1,
   "metadata": {
    "colab": {
     "base_uri": "https://localhost:8080/",
     "height": 123
    },
    "colab_type": "code",
    "executionInfo": {
     "elapsed": 613,
     "status": "ok",
     "timestamp": 1549058660095,
     "user": {
      "displayName": "Jaclyn Lee",
      "photoUrl": "",
      "userId": "17525286701482268466"
     },
     "user_tz": 600
    },
    "id": "uWjUOpcpFBPi",
    "outputId": "cc0e2090-f59b-4c02-d323-8ff7ca4a1607"
   },
   "outputs": [
    {
     "name": "stdout",
     "output_type": "stream",
     "text": [
      "Will I fall in love?\n",
      "Outlook not so good.\n",
      "Will I have poke for lunch tomorrow?\n",
      "Outlook not so good.\n",
      "Will I win Beyonce and Jay-Z's vegan challange?\n",
      "Ask again later.\n"
     ]
    }
   ],
   "source": [
    "# Magic 8 \n",
    "import random\n",
    "questions = [\"Will I fall in love?\", \"Will I have poke for lunch tomorrow?\", \n",
    "            \"Will I win Beyonce and Jay-Z's vegan challange?\"] # insert your questions here\n",
    "fortunes = (\"It is certain.\", \"It is decidedly so.\", \"Without a doubt.\", \n",
    "            \"Yes-definetly.\", \"You may rely on it.\", \"As I see it, yes.\",\n",
    "           \"Most likely.\", \"Outlook good.\", \"Yes.\", \"Signs point to yes.\",\n",
    "           \"Reply hazy, try again.\", \"Ask again later.\", \"Better not tell you now.\",\n",
    "           \"Cannot predict now.\", \"Concentrate and ask again.\", \"Don't count on it.\",\n",
    "           \"My reply is no.\", \"My sources say no.\", \"Outlook not so good.\", \n",
    "            \"Very doubtful.\", \"You should send Charlotte and Jackie food. (preferably, poke)\")\n",
    "\n",
    "for question in questions:\n",
    "  print(question)\n",
    "  print(random.choice(fortunes))"
   ]
  },
  {
   "cell_type": "code",
   "execution_count": 0,
   "metadata": {
    "colab": {},
    "colab_type": "code",
    "id": "91RxtHAqFzcw"
   },
   "outputs": [],
   "source": []
  }
 ],
 "metadata": {
  "colab": {
   "collapsed_sections": [],
   "name": "6 Ordered Collections Exercises.ipynb",
   "provenance": [],
   "version": "0.3.2"
  },
  "kernelspec": {
   "display_name": "Python 3",
   "language": "python",
   "name": "python3"
  },
  "language_info": {
   "codemirror_mode": {
    "name": "ipython",
    "version": 3
   },
   "file_extension": ".py",
   "mimetype": "text/x-python",
   "name": "python",
   "nbconvert_exporter": "python",
   "pygments_lexer": "ipython3",
   "version": "3.6.6"
  }
 },
 "nbformat": 4,
 "nbformat_minor": 1
}
