{
 "cells": [
  {
   "cell_type": "markdown",
   "metadata": {
    "colab_type": "text",
    "id": "uWKVPkhaRnGv"
   },
   "source": [
    "# Ordered Collections Exercises\n",
    "---\n"
   ]
  },
  {
   "cell_type": "markdown",
   "metadata": {
    "colab_type": "text",
    "id": "7m7oUI6_-dXP"
   },
   "source": [
    "### Exercise 1\n",
    "---\n",
    "i) Create a list named `fruits` that contains the following items in the exact order below:\n",
    "\n",
    "*   Mango\n",
    "*   Papaya\n",
    "*   Starfruit\n",
    "*   Pear\n",
    "*   Blueberry"
   ]
  },
  {
   "cell_type": "code",
   "execution_count": null,
   "metadata": {
    "colab": {},
    "colab_type": "code",
    "id": "kp7Fz8Pd8j4k"
   },
   "outputs": [],
   "source": [
    "# Write your code here\n",
    "\n"
   ]
  },
  {
   "cell_type": "markdown",
   "metadata": {
    "colab_type": "text",
    "id": "9Agr0-lK8mHP"
   },
   "source": [
    "ii) Add \"Grapefruit\" to the `fruits` list."
   ]
  },
  {
   "cell_type": "code",
   "execution_count": null,
   "metadata": {
    "colab": {},
    "colab_type": "code",
    "id": "8Hw0ncch8umg"
   },
   "outputs": [],
   "source": [
    "# Write your code here\n",
    "\n"
   ]
  },
  {
   "cell_type": "markdown",
   "metadata": {
    "colab_type": "text",
    "id": "KugaUBxV8w3K"
   },
   "source": [
    "iii) Remove the item \"Pear\" from the `fruits` list using the pop method."
   ]
  },
  {
   "cell_type": "code",
   "execution_count": null,
   "metadata": {
    "colab": {},
    "colab_type": "code",
    "id": "I6y-x7GD85Xj"
   },
   "outputs": [],
   "source": [
    "# Write your code here\n",
    "\n"
   ]
  },
  {
   "cell_type": "markdown",
   "metadata": {
    "colab_type": "text",
    "id": "sYvHB_Wc87Su"
   },
   "source": [
    "iv) Slice the \"Mango\", \"Papaya\" and \"Starfruit\" from the `fruits` list and save it into a new list called `tropical_fruit`."
   ]
  },
  {
   "cell_type": "code",
   "execution_count": null,
   "metadata": {
    "colab": {},
    "colab_type": "code",
    "id": "8yCXfL2Z9E6y"
   },
   "outputs": [],
   "source": [
    "# Write your code here\n",
    "\n"
   ]
  },
  {
   "cell_type": "markdown",
   "metadata": {
    "colab_type": "text",
    "id": "EWZ6sVLI9ft6"
   },
   "source": [
    "v) Index \"Blueberry\" from the `fruits` list."
   ]
  },
  {
   "cell_type": "code",
   "execution_count": null,
   "metadata": {},
   "outputs": [],
   "source": [
    "# Write your code here\n",
    "\n"
   ]
  },
  {
   "cell_type": "markdown",
   "metadata": {},
   "source": [
    "vi) Index \"Blueberry\" from the `fruits` using its negative index."
   ]
  },
  {
   "cell_type": "code",
   "execution_count": null,
   "metadata": {},
   "outputs": [],
   "source": [
    "# Write your code here\n",
    "\n"
   ]
  },
  {
   "cell_type": "markdown",
   "metadata": {
    "colab_type": "text",
    "id": "9sXJPtzj_LXH"
   },
   "source": [
    "### Exercise 2\n",
    "---\n",
    "i) Create a tuple named `figure_skating_medalists` that contains the following items in their exact order:\n",
    "\n",
    "*   Yuzuru Hanryu\n",
    "*   Evan Lysacek\n",
    "*   Patrick Chan\n",
    "*   Stéphane Lambiel\n",
    "\n"
   ]
  },
  {
   "cell_type": "code",
   "execution_count": null,
   "metadata": {
    "colab": {},
    "colab_type": "code",
    "id": "BmGq65JGAPqQ"
   },
   "outputs": [],
   "source": [
    "# Write your code here\n",
    "\n"
   ]
  },
  {
   "cell_type": "markdown",
   "metadata": {
    "colab_type": "text",
    "id": "nech0bpxAXyB"
   },
   "source": [
    "ii) Create a list named `olympic_figure_skaters_USA` that contains the following items in their exact order:\n",
    "\n",
    "*   Michelle Kwan\n",
    "*   Evan Lysacek\n",
    "*   Nathan Oken\n",
    "*   Maia Shibutani\n",
    "*   Alex Shibutani\n",
    "\n"
   ]
  },
  {
   "cell_type": "code",
   "execution_count": null,
   "metadata": {
    "colab": {},
    "colab_type": "code",
    "id": "oveu8hcDAu51"
   },
   "outputs": [],
   "source": [
    "# Write your code here\n",
    "\n"
   ]
  },
  {
   "cell_type": "markdown",
   "metadata": {
    "colab_type": "text",
    "id": "CG_i0D6IAuUT"
   },
   "source": [
    "iii) Create a `for` loop to loop through each item of `olympic_figure_skaters_USA` and check if an item also appears in `figure_skating_medalist`. If an item appears in both collections, print the item plus \"US Olympic Medalist\".\n",
    "\n",
    "* This requires a for loop and an if statement. Should we wait for somthing like this until ch 8? Alternatively if we get rid of chapter 8, we can keep this exercise here."
   ]
  },
  {
   "cell_type": "code",
   "execution_count": null,
   "metadata": {
    "colab": {},
    "colab_type": "code",
    "id": "hP6c5urUEqEJ"
   },
   "outputs": [],
   "source": [
    "# Write your code here\n",
    "\n"
   ]
  },
  {
   "cell_type": "markdown",
   "metadata": {
    "colab_type": "text",
    "id": "iw0L970c31re"
   },
   "source": [
    "### Exercise 3\n",
    "---\n",
    "Q: Can lists and tuples contain more than one data type?"
   ]
  },
  {
   "cell_type": "code",
   "execution_count": null,
   "metadata": {
    "colab": {},
    "colab_type": "code",
    "id": "0Ktpo80H37su"
   },
   "outputs": [],
   "source": [
    "#TRUE"
   ]
  },
  {
   "cell_type": "code",
   "execution_count": null,
   "metadata": {
    "colab": {},
    "colab_type": "code",
    "id": "lAYIMwlY3-u_"
   },
   "outputs": [],
   "source": [
    "#FALSE"
   ]
  },
  {
   "cell_type": "markdown",
   "metadata": {
    "colab_type": "text",
    "id": "SsNMagy94MT6"
   },
   "source": [
    "### Exercise 4\n",
    "---\n",
    "Q: The code below creates a list. Does the following code have any errors? (There has to be a better way to phrase this question, I want to check the students understanding of whether to use the brackets or the parentheses)"
   ]
  },
  {
   "cell_type": "code",
   "execution_count": null,
   "metadata": {
    "colab": {
     "base_uri": "https://localhost:8080/",
     "height": 130
    },
    "colab_type": "code",
    "executionInfo": {
     "elapsed": 552,
     "status": "error",
     "timestamp": 1547159459780,
     "user": {
      "displayName": "Charlotte Smith",
      "photoUrl": "",
      "userId": "05194161354170586023"
     },
     "user_tz": 600
    },
    "id": "vidVpPnO4nQn",
    "outputId": "b9da67d3-bed8-4972-d4c6-4d199ceba287"
   },
   "outputs": [
    {
     "ename": "SyntaxError",
     "evalue": "ignored",
     "output_type": "error",
     "traceback": [
      "\u001b[0;36m  File \u001b[0;32m\"<ipython-input-3-629416f12c5c>\"\u001b[0;36m, line \u001b[0;32m1\u001b[0m\n\u001b[0;31m    heights = [2,4,111,15)\u001b[0m\n\u001b[0m                         ^\u001b[0m\n\u001b[0;31mSyntaxError\u001b[0m\u001b[0;31m:\u001b[0m invalid syntax\n"
     ]
    }
   ],
   "source": [
    "heights = [2,4,111,15)"
   ]
  },
  {
   "cell_type": "markdown",
   "metadata": {
    "colab_type": "text",
    "id": "ms5fPSQ64mvk"
   },
   "source": [
    "### Exercise 5\n",
    "---\n",
    "Q:  How do you determine the size of your list?"
   ]
  },
  {
   "cell_type": "code",
   "execution_count": null,
   "metadata": {
    "colab": {},
    "colab_type": "code",
    "id": "TmUkUzRHSW3w"
   },
   "outputs": [],
   "source": [
    "### len()"
   ]
  },
  {
   "cell_type": "markdown",
   "metadata": {
    "colab_type": "text",
    "id": "c6TysC_eSvUQ"
   },
   "source": [
    "### Exercise 6\n",
    "---\n",
    "i) The list `hawaii_population` contains Hawaii's resident population in thousands of people between 2008 and 2018 (the first value is for 2008 and the last value is for 2018). Write a `for` loop that modifies the values in the list to be in millions of people.\n",
    "\n",
    "Hint: divide the values in the list by 1000.\n",
    "\n",
    "Data: https://data.uhero.hawaii.edu/#/series?id=150382&sa=true&seriesCat=23"
   ]
  },
  {
   "cell_type": "code",
   "execution_count": null,
   "metadata": {
    "colab": {},
    "colab_type": "code",
    "id": "jx98VOnBSzDR"
   },
   "outputs": [],
   "source": [
    "hawaii_population=[1332.2, 1346.7, 1364.0, 1379.3, 1394.9, 1408.5, 1414.9, 1422.5, 1428.1, 1424.2, 1420.5]"
   ]
  },
  {
   "cell_type": "code",
   "execution_count": null,
   "metadata": {},
   "outputs": [],
   "source": [
    "# Write your code here\n",
    "\n"
   ]
  },
  {
   "cell_type": "markdown",
   "metadata": {},
   "source": [
    "ii) Write another `for` loop that prints \"Hawaii's resident population in 20XX is X million\" and prints the appropriate values for each value in the list.\n",
    "\n",
    "hint: Use `range()` to create an appropriate iterator."
   ]
  },
  {
   "cell_type": "code",
   "execution_count": null,
   "metadata": {},
   "outputs": [],
   "source": [
    "# Write your code here\n",
    "\n"
   ]
  },
  {
   "cell_type": "markdown",
   "metadata": {
    "colab_type": "text",
    "id": "JX-o-IHbDUMN"
   },
   "source": [
    "### Exercise 7\n",
    "---\n",
    "`fortunes` is a tuple of Magic 8 ball responses. Make a list of questions below, then write a `for` loop to print your questions and a random Magic 8 ball response for each question.\n",
    "\n",
    "Hint: Use the `choice()` function from the `random` module to randomly select Magic 8 ball responses."
   ]
  },
  {
   "cell_type": "code",
   "execution_count": 1,
   "metadata": {
    "colab": {
     "base_uri": "https://localhost:8080/",
     "height": 123
    },
    "colab_type": "code",
    "executionInfo": {
     "elapsed": 613,
     "status": "ok",
     "timestamp": 1549058660095,
     "user": {
      "displayName": "Jaclyn Lee",
      "photoUrl": "",
      "userId": "17525286701482268466"
     },
     "user_tz": 600
    },
    "id": "uWjUOpcpFBPi",
    "outputId": "cc0e2090-f59b-4c02-d323-8ff7ca4a1607"
   },
   "outputs": [],
   "source": [
    "fortunes = (\"It is certain.\", \"It is decidedly so.\", \"Without a doubt.\", \n",
    "            \"Yes-definetly.\", \"You may rely on it.\", \"As I see it, yes.\",\n",
    "           \"Most likely.\", \"Outlook good.\", \"Yes.\", \"Signs point to yes.\",\n",
    "           \"Reply hazy, try again.\", \"Ask again later.\", \"Better not tell you now.\",\n",
    "           \"Cannot predict now.\", \"Concentrate and ask again.\", \"Don't count on it.\",\n",
    "           \"My reply is no.\", \"My sources say no.\", \"Outlook not so good.\", \n",
    "            \"Very doubtful.\", \"Only if you send Charlotte and Jackie food (preferably, poke).\")"
   ]
  },
  {
   "cell_type": "code",
   "execution_count": null,
   "metadata": {},
   "outputs": [],
   "source": [
    "# Write your code here\n",
    "\n"
   ]
  }
 ],
 "metadata": {
  "colab": {
   "collapsed_sections": [],
   "name": "6 Ordered Collections Exercises.ipynb",
   "provenance": [],
   "version": "0.3.2"
  },
  "kernelspec": {
   "display_name": "Python 3",
   "language": "python",
   "name": "python3"
  },
  "language_info": {
   "codemirror_mode": {
    "name": "ipython",
    "version": 3
   },
   "file_extension": ".py",
   "mimetype": "text/x-python",
   "name": "python",
   "nbconvert_exporter": "python",
   "pygments_lexer": "ipython3",
   "version": "3.6.6"
  }
 },
 "nbformat": 4,
 "nbformat_minor": 2
}
