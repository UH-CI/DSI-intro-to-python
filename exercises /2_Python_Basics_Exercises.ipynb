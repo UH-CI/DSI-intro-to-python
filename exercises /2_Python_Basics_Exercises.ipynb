{
 "cells": [
  {
   "cell_type": "markdown",
   "metadata": {
    "colab_type": "text",
    "id": "-7opNzNtS1yh"
   },
   "source": [
    "# Python Basics Exercises\n",
    "---\n"
   ]
  },
  {
   "cell_type": "markdown",
   "metadata": {
    "colab_type": "text",
    "id": "CBEO0KZDVgpg"
   },
   "source": [
    "### Exercise 1\n",
    "---\n",
    "If there are 24 hours in a day, 60 minutes in one hour, and 60 seconds in one minute, how many seconds are in a standard 365 day year?"
   ]
  },
  {
   "cell_type": "code",
   "execution_count": 0,
   "metadata": {
    "colab": {},
    "colab_type": "code",
    "id": "kzS619aB_JEp"
   },
   "outputs": [],
   "source": [
    "# Exercise 1"
   ]
  },
  {
   "cell_type": "markdown",
   "metadata": {
    "colab_type": "text",
    "id": "Fu8FQR71VLpQ"
   },
   "source": [
    "### Exercise 2\n",
    "---\n",
    "If a leap year has 366 days while a standard year has 365 days, how many seconds are in one leap year?"
   ]
  },
  {
   "cell_type": "code",
   "execution_count": 0,
   "metadata": {
    "colab": {},
    "colab_type": "code",
    "id": "NW5M7bZ39ULN"
   },
   "outputs": [],
   "source": [
    "# Exercise 2"
   ]
  },
  {
   "cell_type": "markdown",
   "metadata": {
    "colab_type": "text",
    "id": "bkxX8o1ZWPWx"
   },
   "source": [
    "### Exercise 3\n",
    "---\n",
    "If a box of potato weighs 0.5 lbs, and the maximum weight capacity for an elevator is 2 tons, how many boxes of potatoes can you put in one elevator?\n",
    "Note: There are 2000 lbs in 1 ton."
   ]
  },
  {
   "cell_type": "code",
   "execution_count": 0,
   "metadata": {
    "colab": {},
    "colab_type": "code",
    "id": "nUKXSX5OWsu5"
   },
   "outputs": [],
   "source": [
    "#Exercise 3"
   ]
  },
  {
   "cell_type": "markdown",
   "metadata": {
    "colab_type": "text",
    "id": "oUrjzD24Wx0O"
   },
   "source": [
    "### Exercise 4\n",
    "---\n",
    "Compute the number of seconds elapsed between January 3rd and Janaury 17th 2019."
   ]
  },
  {
   "cell_type": "code",
   "execution_count": 0,
   "metadata": {
    "colab": {},
    "colab_type": "code",
    "id": "OcpSS3lM9Hpv"
   },
   "outputs": [],
   "source": [
    "# Exercise 4"
   ]
  },
  {
   "cell_type": "markdown",
   "metadata": {
    "colab_type": "text",
    "id": "Pd70jvMoiUnQ"
   },
   "source": [
    "### Exercise 5\n",
    "---\n",
    "New York and Tokyo are 6,737 miles apart. If there are 1.609 kilometers in one mile, what is the distance between New York and Tokyo in kilometers?"
   ]
  },
  {
   "cell_type": "code",
   "execution_count": 0,
   "metadata": {
    "colab": {},
    "colab_type": "code",
    "id": "-rWSERCSiVcd"
   },
   "outputs": [],
   "source": [
    "#Exercise 5"
   ]
  },
  {
   "cell_type": "markdown",
   "metadata": {
    "colab_type": "text",
    "id": "t6n6zrNEiZEc"
   },
   "source": [
    "### Exercise 6\n",
    "---\n",
    "i) If there are 1.151 miles in 1 nautical mile, and two ships are 3.4 nautical miles apart, how far are the two ships in miles?"
   ]
  },
  {
   "cell_type": "code",
   "execution_count": 0,
   "metadata": {
    "colab": {},
    "colab_type": "code",
    "id": "iDGW7-7ciZ1u"
   },
   "outputs": [],
   "source": []
  },
  {
   "cell_type": "markdown",
   "metadata": {},
   "source": [
    "ii) Repeat exercise six, but this time carry out the calculation with variables for the conversion factor, the distance between the two ships in nautical miles. How far would the ships be if they were 3.4, 10, and 768 nautical miles apart?"
   ]
  },
  {
   "cell_type": "code",
   "execution_count": null,
   "metadata": {},
   "outputs": [],
   "source": []
  },
  {
   "cell_type": "markdown",
   "metadata": {},
   "source": [
    "iii) How can you simultaneously print the distance between the two ships in both nautical miles and miles?"
   ]
  },
  {
   "cell_type": "code",
   "execution_count": null,
   "metadata": {},
   "outputs": [],
   "source": []
  },
  {
   "cell_type": "markdown",
   "metadata": {},
   "source": [
    "### Exercise 7\n",
    "---\n",
    "In the code cell below, calculate the number of hours between 9am and 5pm on one line, and the number of hours between 8am and 3pm on a second line. What can you do to make sure that both results prints?"
   ]
  },
  {
   "cell_type": "code",
   "execution_count": null,
   "metadata": {},
   "outputs": [],
   "source": []
  }
 ],
 "metadata": {
  "colab": {
   "collapsed_sections": [],
   "name": "2. Intro to Python: Python Basics Exercises.ipynb",
   "provenance": [],
   "version": "0.3.2"
  },
  "kernelspec": {
   "display_name": "Python 3",
   "language": "python",
   "name": "python3"
  },
  "language_info": {
   "codemirror_mode": {
    "name": "ipython",
    "version": 3
   },
   "file_extension": ".py",
   "mimetype": "text/x-python",
   "name": "python",
   "nbconvert_exporter": "python",
   "pygments_lexer": "ipython3",
   "version": "3.6.6"
  }
 },
 "nbformat": 4,
 "nbformat_minor": 1
}
