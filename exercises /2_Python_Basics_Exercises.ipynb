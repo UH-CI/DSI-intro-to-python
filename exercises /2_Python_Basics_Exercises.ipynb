{
 "cells": [
  {
   "cell_type": "markdown",
   "metadata": {
    "colab_type": "text",
    "id": "-7opNzNtS1yh"
   },
   "source": [
    "# Exercises: Python Basics\n",
    "---\n"
   ]
  },
  {
   "cell_type": "markdown",
   "metadata": {
    "colab_type": "text",
    "id": "CBEO0KZDVgpg"
   },
   "source": [
    "### Exercise 1: Compute the number of seconds in a year\n",
    "---"
   ]
  },
  {
   "cell_type": "code",
   "execution_count": 0,
   "metadata": {
    "colab": {},
    "colab_type": "code",
    "id": "kzS619aB_JEp"
   },
   "outputs": [],
   "source": [
    "# Exercise 1"
   ]
  },
  {
   "cell_type": "markdown",
   "metadata": {
    "colab_type": "text",
    "id": "Fu8FQR71VLpQ"
   },
   "source": [
    "### Exercise 2: Compute the number of seconds in a leap year\n",
    "---\n",
    "\n",
    "A leap year has 366 days while a standard year has 365 days. If there are 24 hours in a day, 60 minutes in one hour, and 60 seconds in one minute, how many seconds are in one leap year?"
   ]
  },
  {
   "cell_type": "code",
   "execution_count": 0,
   "metadata": {
    "colab": {},
    "colab_type": "code",
    "id": "NW5M7bZ39ULN"
   },
   "outputs": [],
   "source": [
    "# Exercise 2"
   ]
  },
  {
   "cell_type": "markdown",
   "metadata": {
    "colab_type": "text",
    "id": "bkxX8o1ZWPWx"
   },
   "source": [
    "### Exercise 3: Freight in elevators\n",
    "---\n",
    "If a box of potatweights 0.5 lbs, and the maximum weight capacity for an elevator is 2 tons, how many adult male bullfrogs can you put in one elevator, if there are 2000 pounds in one ton?"
   ]
  },
  {
   "cell_type": "code",
   "execution_count": 0,
   "metadata": {
    "colab": {},
    "colab_type": "code",
    "id": "nUKXSX5OWsu5"
   },
   "outputs": [],
   "source": [
    "#Exercise 3"
   ]
  },
  {
   "cell_type": "markdown",
   "metadata": {
    "colab_type": "text",
    "id": "oUrjzD24Wx0O"
   },
   "source": [
    "### Exercise 4: Compute the number of seconds elapsed between January 3rd and  Janaury 17th 2019\n",
    "---\n"
   ]
  },
  {
   "cell_type": "code",
   "execution_count": 0,
   "metadata": {
    "colab": {},
    "colab_type": "code",
    "id": "OcpSS3lM9Hpv"
   },
   "outputs": [],
   "source": [
    "# Exercise 4"
   ]
  },
  {
   "cell_type": "markdown",
   "metadata": {
    "colab_type": "text",
    "id": "Pd70jvMoiUnQ"
   },
   "source": [
    "### Exercise 5: Convert the distance from New York to Tokyo from miles to kilometers\n",
    "---\n",
    "New York and Tokyo are 6,737 miles apart. If there are 1.609 kilometers in one mile, what is the distance between New York and Tokyo in kilometers?"
   ]
  },
  {
   "cell_type": "code",
   "execution_count": 0,
   "metadata": {
    "colab": {},
    "colab_type": "code",
    "id": "-rWSERCSiVcd"
   },
   "outputs": [],
   "source": [
    "#Exercise 5"
   ]
  },
  {
   "cell_type": "markdown",
   "metadata": {
    "colab_type": "text",
    "id": "t6n6zrNEiZEc"
   },
   "source": [
    "### Exercise 6: Convert miles to nautical miles\n",
    "---\n",
    "If there are 1.151 miles in a nautical mile, if two ships are 3.4 nautical miles apart, what is that distance in miles?"
   ]
  },
  {
   "cell_type": "code",
   "execution_count": 0,
   "metadata": {
    "colab": {},
    "colab_type": "code",
    "id": "iDGW7-7ciZ1u"
   },
   "outputs": [],
   "source": [
    "# Exercise 6"
   ]
  },
  {
   "cell_type": "markdown",
   "metadata": {
    "colab_type": "text",
    "id": "oQZahmN7X8Tt"
   },
   "source": [
    "** Potential exercise**\n",
    "\n",
    "Repeat exercise six, but with variables for the conversion factor and the distance between the two ships as well as the result of the calculation. When you assign a calculation to a variable, Jupyter Notebooks doesn't automatically print the result. Print the result of the calculation from the variable it's assigned to."
   ]
  }
 ],
 "metadata": {
  "colab": {
   "collapsed_sections": [],
   "name": "2. Intro to Python: Python Basics Exercises.ipynb",
   "provenance": [],
   "version": "0.3.2"
  },
  "kernelspec": {
   "display_name": "Python 3",
   "language": "python",
   "name": "python3"
  },
  "language_info": {
   "codemirror_mode": {
    "name": "ipython",
    "version": 3
   },
   "file_extension": ".py",
   "mimetype": "text/x-python",
   "name": "python",
   "nbconvert_exporter": "python",
   "pygments_lexer": "ipython3",
   "version": "3.6.6"
  }
 },
 "nbformat": 4,
 "nbformat_minor": 1
}
