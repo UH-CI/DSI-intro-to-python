{
 "cells": [
  {
   "cell_type": "markdown",
   "metadata": {
    "colab_type": "text",
    "id": "mmqVf5-9R4_B"
   },
   "source": [
    "# Scalars Exercises\n",
    "---\n"
   ]
  },
  {
   "cell_type": "markdown",
   "metadata": {
    "colab_type": "text",
    "id": "qrMcj-0OjGqw"
   },
   "source": [
    "### Exercise 1\n",
    "---\n",
    "Create a variable called `lion_king` and assign the integer value 32 to it:\n",
    "\n",
    "repeat bellow\n"
   ]
  },
  {
   "cell_type": "code",
   "execution_count": null,
   "metadata": {
    "colab": {},
    "colab_type": "code",
    "id": "WjzGcw2OSlBP"
   },
   "outputs": [],
   "source": [
    "# Write your code here\n",
    "\n"
   ]
  },
  {
   "cell_type": "markdown",
   "metadata": {
    "colab_type": "text",
    "id": "Sw4EnRkRju87"
   },
   "source": [
    "### Exercise 2\n",
    "---\n",
    "i) Assign the label `lion_king_ticket_min` to 144.86:"
   ]
  },
  {
   "cell_type": "code",
   "execution_count": null,
   "metadata": {
    "colab": {},
    "colab_type": "code",
    "id": "_YewP70QkwmG"
   },
   "outputs": [],
   "source": [
    "# Write your code here\n",
    "\n"
   ]
  },
  {
   "cell_type": "markdown",
   "metadata": {
    "colab_type": "text",
    "id": "WiqEv1Xlkxc3"
   },
   "source": [
    "ii) What type of variable is `lion_king_ticket_min`?"
   ]
  },
  {
   "cell_type": "code",
   "execution_count": null,
   "metadata": {
    "colab": {},
    "colab_type": "code",
    "id": "4QdZlCH2k5UH"
   },
   "outputs": [],
   "source": [
    "#a) float\n",
    "#b) integer\n",
    "#c) string"
   ]
  },
  {
   "cell_type": "markdown",
   "metadata": {
    "colab_type": "text",
    "id": "3kY5sLa4n8y4"
   },
   "source": [
    "### Exercise 3\n",
    "---\n",
    "i) Assign the string \"new amsterdam theatre\" to the variable label `large_venue`:"
   ]
  },
  {
   "cell_type": "code",
   "execution_count": null,
   "metadata": {
    "colab": {},
    "colab_type": "code",
    "id": "wl-6ox7VSn33"
   },
   "outputs": [],
   "source": [
    "# Write your code here\n",
    "\n"
   ]
  },
  {
   "cell_type": "markdown",
   "metadata": {
    "colab_type": "text",
    "id": "wiPi2zNIpF7v"
   },
   "source": [
    "ii) Change the string assigned to the label `large_venue` to title case using the `title()` method.\n"
   ]
  },
  {
   "cell_type": "code",
   "execution_count": null,
   "metadata": {
    "colab": {},
    "colab_type": "code",
    "id": "MToJ2LFipmGT"
   },
   "outputs": [],
   "source": [
    "# Write your code here\n",
    "\n"
   ]
  },
  {
   "cell_type": "markdown",
   "metadata": {
    "colab_type": "text",
    "id": "ojaEZy-prLAd"
   },
   "source": [
    "iii) Concatenate the strings assigned to the variables `large_venue`  and `remaining tickets` and print them to the screen. Keep in mind that you will have to convert one of the variable so that both variables are the same data type. "
   ]
  },
  {
   "cell_type": "code",
   "execution_count": null,
   "metadata": {
    "colab": {},
    "colab_type": "code",
    "id": "6eWIxQNVrKD6"
   },
   "outputs": [],
   "source": [
    "# Write your code here\n",
    "\n"
   ]
  },
  {
   "cell_type": "markdown",
   "metadata": {
    "colab_type": "text",
    "id": "T7XnKIantszj"
   },
   "source": [
    "### Exercise 4\n",
    "---\n",
    "Assign the Boolean Operator `True` to the label `kid_friendly`:"
   ]
  },
  {
   "cell_type": "code",
   "execution_count": null,
   "metadata": {
    "colab": {},
    "colab_type": "code",
    "id": "R8U08o_mSpRy"
   },
   "outputs": [],
   "source": [
    "# Write your code here\n",
    "\n"
   ]
  },
  {
   "cell_type": "markdown",
   "metadata": {
    "colab_type": "text",
    "id": "O8L0sdLwunhc"
   },
   "source": [
    "### Exercise 5\n",
    "---\n",
    "Assign the Boolean Operator `False` to the label `free_parking`:"
   ]
  },
  {
   "cell_type": "code",
   "execution_count": null,
   "metadata": {
    "colab": {},
    "colab_type": "code",
    "id": "htQK5wbLuv18"
   },
   "outputs": [],
   "source": [
    "# Write your code here\n",
    "\n"
   ]
  },
  {
   "cell_type": "markdown",
   "metadata": {
    "colab_type": "text",
    "id": "hIKXBBOcxowS"
   },
   "source": [
    "### Exercise 6\n",
    "---\n",
    "Create an `if-else` statement to contain the following information:\n",
    "\n",
    "*   if `lion_king_ticket_min` is less than 100, Print 'purchase ticket now'\n",
    "*   if not, print 'continue watching ticket prices'\n",
    "\n",
    "When you're writing code, it's very common to come up with test cases that you can use to verify that your code works as intended. For instance, there are three possible scenarios in this `if-else` satement. The ticket price can be equal to, below or above 100. To make sure your code works, we need to test all three situations. We can do that here by running it with the values 79, 100 and 120. Run your `if-else` statement by testing all three values"
   ]
  },
  {
   "cell_type": "code",
   "execution_count": null,
   "metadata": {
    "colab": {},
    "colab_type": "code",
    "id": "h4TDa7e0SqPz"
   },
   "outputs": [],
   "source": [
    "# Write your code here\n",
    "\n"
   ]
  },
  {
   "cell_type": "markdown",
   "metadata": {
    "colab_type": "text",
    "id": "iOXvC5vM2krK"
   },
   "source": [
    "### Exercise 8\n",
    "---\n",
    "i) Create three variables called `person_1`, `person_2` and `person_3` that contains their respective incomes. Each person's income is as follows. \n",
    "\n",
    "* `person_1` makes 9000 dollars per year\n",
    "* `person_2` makes 50000 dollars per year\n",
    "* `person_3` makes 200000 dollars per year\n"
   ]
  },
  {
   "cell_type": "code",
   "execution_count": null,
   "metadata": {
    "colab": {},
    "colab_type": "code",
    "id": "fSM_hxJ4SrlQ"
   },
   "outputs": [],
   "source": [
    "# Write your code here\n",
    "\n"
   ]
  },
  {
   "cell_type": "markdown",
   "metadata": {
    "colab_type": "text",
    "id": "tdwmBzwHn-w0"
   },
   "source": [
    "ii) Write `if-elif-else` statement to return the taxes that a person pays on their taxes. For single filers, the tax brackets are as follows\n",
    "\n",
    "|Tax rate| Taxable Income Bracket| Taxes Owed |\n",
    "|--|--|--|\n",
    "|10%|$\\$$0 to $\\$$9,525|10% of taxable income|\n",
    "|12%|$\\$$9,526 to $\\$$38,700|$\\$$952.50 plus 12% of the amount over $\\$$9,525|\n",
    "|22%|$\\$$38,701 to $\\$$82,500|$\\$$4,453.50 plus 22% of the amount over $\\$$38,700|\n",
    "|24%|$\\$$82,501 to $\\$$157,500|$\\$$14,089.50 plus 24% of the amount over $\\$$82,500|\n",
    "|32%|$\\$$157,501 to $\\$$200,000|$\\$$32,089.50 plus 32% of the amount over $\\$$157,500|\n",
    "|35%|$\\$$200,001 to $\\$$500,000|$\\$$45,689.50 plus 35% of the amount over $\\$$200,000|\n",
    "|37%|$\\$$500,001 or more|$\\$$150,689.50 plus 37% of the amount over $\\$$500,000|"
   ]
  },
  {
   "cell_type": "code",
   "execution_count": null,
   "metadata": {
    "colab": {},
    "colab_type": "code",
    "id": "RDjxM3Bbn_xE"
   },
   "outputs": [],
   "source": [
    "# Write your code here\n",
    "\n"
   ]
  }
 ],
 "metadata": {
  "colab": {
   "collapsed_sections": [],
   "name": "3. Scalars Exercises .ipynb",
   "provenance": [],
   "version": "0.3.2"
  },
  "kernelspec": {
   "display_name": "Python 3",
   "language": "python",
   "name": "python3"
  },
  "language_info": {
   "codemirror_mode": {
    "name": "ipython",
    "version": 3
   },
   "file_extension": ".py",
   "mimetype": "text/x-python",
   "name": "python",
   "nbconvert_exporter": "python",
   "pygments_lexer": "ipython3",
   "version": "3.6.6"
  }
 },
 "nbformat": 4,
 "nbformat_minor": 2
}
