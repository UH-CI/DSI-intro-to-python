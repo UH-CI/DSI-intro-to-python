{
 "cells": [
  {
   "cell_type": "markdown",
   "metadata": {
    "colab_type": "text",
    "id": "mmqVf5-9R4_B"
   },
   "source": [
    "# Scalars Exercises\n",
    "---\n"
   ]
  },
  {
   "cell_type": "code",
   "execution_count": null,
   "metadata": {},
   "outputs": [],
   "source": [
    "# TO DO\n",
    "# Write your code here (change everywhere)"
   ]
  },
  {
   "cell_type": "markdown",
   "metadata": {
    "colab_type": "text",
    "id": "24QAIhZeSBus"
   },
   "source": [
    "\n"
   ]
  },
  {
   "cell_type": "markdown",
   "metadata": {
    "colab_type": "text",
    "id": "qrMcj-0OjGqw"
   },
   "source": [
    "### Exercise 1\n",
    "---\n",
    "Create a variable called `lion_king` and assign the integer value 32 to it:\n",
    "\n",
    "repeat bellow\n"
   ]
  },
  {
   "cell_type": "code",
   "execution_count": null,
   "metadata": {
    "colab": {},
    "colab_type": "code",
    "id": "WjzGcw2OSlBP"
   },
   "outputs": [],
   "source": [
    "# i"
   ]
  },
  {
   "cell_type": "markdown",
   "metadata": {
    "colab_type": "text",
    "id": "Sw4EnRkRju87"
   },
   "source": [
    "### Exercise 2\n",
    "---\n",
    "i) Assign the label `lion_king_ticket_min` to 144.86:"
   ]
  },
  {
   "cell_type": "code",
   "execution_count": null,
   "metadata": {
    "colab": {},
    "colab_type": "code",
    "id": "_YewP70QkwmG"
   },
   "outputs": [],
   "source": [
    "# ii"
   ]
  },
  {
   "cell_type": "markdown",
   "metadata": {
    "colab_type": "text",
    "id": "WiqEv1Xlkxc3"
   },
   "source": [
    "ii) What type of variable is `lion_king_ticket_min`?"
   ]
  },
  {
   "cell_type": "code",
   "execution_count": null,
   "metadata": {
    "colab": {},
    "colab_type": "code",
    "id": "4QdZlCH2k5UH"
   },
   "outputs": [],
   "source": [
    "#a) float\n",
    "#b) integer\n",
    "#c) string"
   ]
  },
  {
   "cell_type": "markdown",
   "metadata": {
    "colab_type": "text",
    "id": "3kY5sLa4n8y4"
   },
   "source": [
    "### Exercise 3\n",
    "---\n",
    "i) Assign the string \"new amsterdam theatre\" to the variable label `large_venue`:"
   ]
  },
  {
   "cell_type": "code",
   "execution_count": null,
   "metadata": {
    "colab": {},
    "colab_type": "code",
    "id": "wl-6ox7VSn33"
   },
   "outputs": [],
   "source": [
    "# i"
   ]
  },
  {
   "cell_type": "markdown",
   "metadata": {
    "colab_type": "text",
    "id": "wiPi2zNIpF7v"
   },
   "source": [
    "ii) Change the string assigned to the label `large_venue` from to title case from lower case:\n",
    "\n",
    "D o either part ii or iii"
   ]
  },
  {
   "cell_type": "code",
   "execution_count": null,
   "metadata": {
    "colab": {},
    "colab_type": "code",
    "id": "MToJ2LFipmGT"
   },
   "outputs": [],
   "source": [
    "# ii"
   ]
  },
  {
   "cell_type": "markdown",
   "metadata": {
    "colab_type": "text",
    "id": "1HdhKKE6pneD"
   },
   "source": [
    "iii) Change the string assigned to the label `large_venue` to upper case:"
   ]
  },
  {
   "cell_type": "code",
   "execution_count": null,
   "metadata": {
    "colab": {},
    "colab_type": "code",
    "id": "kCYjRKU8pxMf"
   },
   "outputs": [],
   "source": [
    "#iii"
   ]
  },
  {
   "cell_type": "markdown",
   "metadata": {
    "colab_type": "text",
    "id": "ojaEZy-prLAd"
   },
   "source": [
    "v) Concatenate the strings assigned to the variables `large_venue`  and `remaining tickets` and print them to the screen. \n",
    "* Keep in mind that you will have to convert variables so that they are the same data type "
   ]
  },
  {
   "cell_type": "code",
   "execution_count": null,
   "metadata": {
    "colab": {},
    "colab_type": "code",
    "id": "6eWIxQNVrKD6"
   },
   "outputs": [],
   "source": [
    "#v)"
   ]
  },
  {
   "cell_type": "markdown",
   "metadata": {
    "colab_type": "text",
    "id": "T7XnKIantszj"
   },
   "source": [
    "### Exercise 4\n",
    "---\n",
    "Assign the Boolean Operator `True` to the label `kid_friendly`:"
   ]
  },
  {
   "cell_type": "code",
   "execution_count": null,
   "metadata": {
    "colab": {},
    "colab_type": "code",
    "id": "R8U08o_mSpRy"
   },
   "outputs": [],
   "source": [
    "# i "
   ]
  },
  {
   "cell_type": "markdown",
   "metadata": {
    "colab_type": "text",
    "id": "O8L0sdLwunhc"
   },
   "source": [
    "### Exercise 5\n",
    "---\n",
    "Assign the Boolean Operator `False` to the label `free_parking`:"
   ]
  },
  {
   "cell_type": "code",
   "execution_count": null,
   "metadata": {
    "colab": {},
    "colab_type": "code",
    "id": "htQK5wbLuv18"
   },
   "outputs": [],
   "source": [
    "# ii"
   ]
  },
  {
   "cell_type": "markdown",
   "metadata": {
    "colab_type": "text",
    "id": "hIKXBBOcxowS"
   },
   "source": [
    "### Exercise 6\n",
    "---\n",
    "Create an `if-else` statement to contain the following information:\n",
    "\n",
    "*   if `lion_king_ticket_min` is less than 100, Print 'purchase ticket now'\n",
    "*   if not, print 'continue watching ticket prices'\n",
    "\n",
    "When you're writing code, it's very common to come up with test cases that you can use to verify that your code works as intended. For instance, there are three possible .... below equal or above. To make sure your code works, we need to test all three situations. We can do that here by running it with the following values of .... 79, 100, 120. Run your if-else statement by testing all three values"
   ]
  },
  {
   "cell_type": "code",
   "execution_count": null,
   "metadata": {
    "colab": {},
    "colab_type": "code",
    "id": "h4TDa7e0SqPz"
   },
   "outputs": [],
   "source": [
    "#i"
   ]
  },
  {
   "cell_type": "markdown",
   "metadata": {
    "colab_type": "text",
    "id": "iOXvC5vM2krK"
   },
   "source": [
    "### Exercise 8\n",
    "---\n",
    "i) Create the following three variables:\n",
    "\n",
    "* `person_1` is bob\n",
    "* `person_2` is karen\n",
    "* `person_3` is calvin\n"
   ]
  },
  {
   "cell_type": "code",
   "execution_count": null,
   "metadata": {
    "colab": {},
    "colab_type": "code",
    "id": "fSM_hxJ4SrlQ"
   },
   "outputs": [],
   "source": [
    "#i"
   ]
  },
  {
   "cell_type": "markdown",
   "metadata": {
    "colab_type": "text",
    "id": "tdwmBzwHn-w0"
   },
   "source": [
    "ii) Write `if-elif-else` statement to perform the following tasks:\n",
    "\n",
    "*   If the person1's name is bob or calvin print \"best friend\"\n",
    "*   If the person1's name is  karen, print \"okay friend\"\n",
    "*  Otherwise, print \"foe\"\n"
   ]
  },
  {
   "cell_type": "code",
   "execution_count": null,
   "metadata": {
    "colab": {},
    "colab_type": "code",
    "id": "RDjxM3Bbn_xE"
   },
   "outputs": [],
   "source": [
    "#ii"
   ]
  }
 ],
 "metadata": {
  "colab": {
   "collapsed_sections": [],
   "name": "3. Scalars Exercises .ipynb",
   "provenance": [],
   "version": "0.3.2"
  },
  "kernelspec": {
   "display_name": "Python 3",
   "language": "python",
   "name": "python3"
  },
  "language_info": {
   "codemirror_mode": {
    "name": "ipython",
    "version": 3
   },
   "file_extension": ".py",
   "mimetype": "text/x-python",
   "name": "python",
   "nbconvert_exporter": "python",
   "pygments_lexer": "ipython3",
   "version": "3.6.6"
  }
 },
 "nbformat": 4,
 "nbformat_minor": 2
}
