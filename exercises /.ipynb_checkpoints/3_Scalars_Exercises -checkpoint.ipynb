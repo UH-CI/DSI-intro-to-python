{
 "cells": [
  {
   "cell_type": "markdown",
   "metadata": {
    "colab_type": "text",
    "id": "mmqVf5-9R4_B"
   },
   "source": [
    "# Exercises: Scalars\n",
    "---\n"
   ]
  },
  {
   "cell_type": "markdown",
   "metadata": {
    "colab_type": "text",
    "id": "24QAIhZeSBus"
   },
   "source": [
    "### Exercise 1: Scalar data types practice\n",
    "---\n"
   ]
  },
  {
   "cell_type": "markdown",
   "metadata": {
    "colab_type": "text",
    "id": "qrMcj-0OjGqw"
   },
   "source": [
    "i.) Assign the label \"lion_king\" to the integer 32:"
   ]
  },
  {
   "cell_type": "code",
   "execution_count": 0,
   "metadata": {
    "colab": {},
    "colab_type": "code",
    "id": "WjzGcw2OSlBP"
   },
   "outputs": [],
   "source": [
    "# i"
   ]
  },
  {
   "cell_type": "markdown",
   "metadata": {
    "colab_type": "text",
    "id": "Sw4EnRkRju87"
   },
   "source": [
    "ii) Assign the label \"lion_king_ticket_min\" to the value 144.86:"
   ]
  },
  {
   "cell_type": "code",
   "execution_count": 0,
   "metadata": {
    "colab": {},
    "colab_type": "code",
    "id": "_YewP70QkwmG"
   },
   "outputs": [],
   "source": [
    "# ii"
   ]
  },
  {
   "cell_type": "markdown",
   "metadata": {
    "colab_type": "text",
    "id": "WiqEv1Xlkxc3"
   },
   "source": [
    "iii) What type of variable is 144.86?"
   ]
  },
  {
   "cell_type": "code",
   "execution_count": 0,
   "metadata": {
    "colab": {},
    "colab_type": "code",
    "id": "4QdZlCH2k5UH"
   },
   "outputs": [],
   "source": [
    "#a) float\n",
    "#b) integer\n",
    "#c) string"
   ]
  },
  {
   "cell_type": "markdown",
   "metadata": {
    "colab_type": "text",
    "id": "yh4PtRiLSlqV"
   },
   "source": [
    "### Exercise 2: String data types\n",
    "---"
   ]
  },
  {
   "cell_type": "markdown",
   "metadata": {
    "colab_type": "text",
    "id": "3kY5sLa4n8y4"
   },
   "source": [
    "i) Assign the string \"new amsterdam theatre\" to the variable label \"large_venue\":\n",
    "\n"
   ]
  },
  {
   "cell_type": "code",
   "execution_count": 0,
   "metadata": {
    "colab": {},
    "colab_type": "code",
    "id": "wl-6ox7VSn33"
   },
   "outputs": [],
   "source": [
    "# i"
   ]
  },
  {
   "cell_type": "markdown",
   "metadata": {
    "colab_type": "text",
    "id": "wiPi2zNIpF7v"
   },
   "source": [
    "ii) Change the string assigned to the label \"large_venue\" from to titlecase from lowercase:"
   ]
  },
  {
   "cell_type": "code",
   "execution_count": 0,
   "metadata": {
    "colab": {},
    "colab_type": "code",
    "id": "MToJ2LFipmGT"
   },
   "outputs": [],
   "source": [
    "# ii"
   ]
  },
  {
   "cell_type": "markdown",
   "metadata": {
    "colab_type": "text",
    "id": "1HdhKKE6pneD"
   },
   "source": [
    "iii) Change the string assigned to the label \"large_venue\" to uppercase:"
   ]
  },
  {
   "cell_type": "code",
   "execution_count": 0,
   "metadata": {
    "colab": {},
    "colab_type": "code",
    "id": "kCYjRKU8pxMf"
   },
   "outputs": [],
   "source": [
    "#iii"
   ]
  },
  {
   "cell_type": "markdown",
   "metadata": {
    "colab_type": "text",
    "id": "qP7ff32RqeId"
   },
   "source": [
    "iv) Create a string \"sold out\" that is assigned to the label \"remaining_tickets\":"
   ]
  },
  {
   "cell_type": "code",
   "execution_count": 0,
   "metadata": {
    "colab": {},
    "colab_type": "code",
    "id": "CJrIxPhLqddU"
   },
   "outputs": [],
   "source": [
    "#iv"
   ]
  },
  {
   "cell_type": "markdown",
   "metadata": {
    "colab_type": "text",
    "id": "ojaEZy-prLAd"
   },
   "source": [
    "v) Concatenate the strings assigned to the variables \"large_venue\"  and \"remaining tickets\":"
   ]
  },
  {
   "cell_type": "code",
   "execution_count": 0,
   "metadata": {
    "colab": {},
    "colab_type": "code",
    "id": "6eWIxQNVrKD6"
   },
   "outputs": [],
   "source": [
    "#v)"
   ]
  },
  {
   "cell_type": "markdown",
   "metadata": {
    "colab_type": "text",
    "id": "OzXziqfrSoS8"
   },
   "source": [
    "### Exercise 3: Boolean Operators\n",
    "---\n"
   ]
  },
  {
   "cell_type": "markdown",
   "metadata": {
    "colab_type": "text",
    "id": "T7XnKIantszj"
   },
   "source": [
    "i) Assign the Boolean Operator `True` to the label \"kid_friendly\":"
   ]
  },
  {
   "cell_type": "code",
   "execution_count": 0,
   "metadata": {
    "colab": {},
    "colab_type": "code",
    "id": "R8U08o_mSpRy"
   },
   "outputs": [],
   "source": [
    "# i "
   ]
  },
  {
   "cell_type": "markdown",
   "metadata": {
    "colab_type": "text",
    "id": "O8L0sdLwunhc"
   },
   "source": [
    "ii) Assign the Boolean Operator `False` to the label \"free_parking\":"
   ]
  },
  {
   "cell_type": "code",
   "execution_count": 0,
   "metadata": {
    "colab": {},
    "colab_type": "code",
    "id": "htQK5wbLuv18"
   },
   "outputs": [],
   "source": [
    "# ii"
   ]
  },
  {
   "cell_type": "markdown",
   "metadata": {
    "colab_type": "text",
    "id": "gHG-iMSGSpoP"
   },
   "source": [
    "### Exercise 4: `if - else` statements\n",
    "---"
   ]
  },
  {
   "cell_type": "markdown",
   "metadata": {
    "colab_type": "text",
    "id": "hIKXBBOcxowS"
   },
   "source": [
    "i) Create an `if-else` statement to contain the following information:\n",
    "\n",
    "*   if `lion_king_ticket_min` is less than 100, Print 'purchase ticket now'\n",
    "*   if not, print 'continue watching ticket prices'\n",
    "\n"
   ]
  },
  {
   "cell_type": "code",
   "execution_count": 0,
   "metadata": {
    "colab": {},
    "colab_type": "code",
    "id": "h4TDa7e0SqPz"
   },
   "outputs": [],
   "source": [
    "#i"
   ]
  },
  {
   "cell_type": "markdown",
   "metadata": {
    "colab_type": "text",
    "id": "MNP55uZU0Bnu"
   },
   "source": [
    "ii) Create an `if-else` statement to contain the following information:\n",
    " \n",
    "\n",
    "*   if `lion_king` is greater than 200 AND `free_parking` is `True`, print 'Easy event access'\n",
    "*   otherwise print 'difficult event access'\n",
    "\n"
   ]
  },
  {
   "cell_type": "code",
   "execution_count": 0,
   "metadata": {
    "colab": {},
    "colab_type": "code",
    "id": "PkN2EwlQ0Hr5"
   },
   "outputs": [],
   "source": [
    "# ii"
   ]
  },
  {
   "cell_type": "markdown",
   "metadata": {
    "colab_type": "text",
    "id": "26mqtPJgSq5A"
   },
   "source": [
    "### Exercise 5: `if-elif-else`\n",
    "---\n"
   ]
  },
  {
   "cell_type": "markdown",
   "metadata": {
    "colab_type": "text",
    "id": "iOXvC5vM2krK"
   },
   "source": [
    "i) Assign three variables where:\n",
    "\n",
    "* `person_1` is bob\n",
    "* `person_2` is karen\n",
    "* `person_3` is calvin\n"
   ]
  },
  {
   "cell_type": "code",
   "execution_count": 0,
   "metadata": {
    "colab": {},
    "colab_type": "code",
    "id": "fSM_hxJ4SrlQ"
   },
   "outputs": [],
   "source": [
    "#i"
   ]
  },
  {
   "cell_type": "markdown",
   "metadata": {
    "colab_type": "text",
    "id": "tdwmBzwHn-w0"
   },
   "source": [
    "ii) Write `if-elif-else` statement to perform the following tasks:\n",
    "\n",
    "*   If the person1's name is bob or calvin print \"best friend\"\n",
    "*   If the person1's name is  karen, print \"okay friend\"\n",
    "*  Otherwise, print \"foe\"\n"
   ]
  },
  {
   "cell_type": "code",
   "execution_count": 0,
   "metadata": {
    "colab": {},
    "colab_type": "code",
    "id": "RDjxM3Bbn_xE"
   },
   "outputs": [],
   "source": [
    "#ii"
   ]
  },
  {
   "cell_type": "markdown",
   "metadata": {
    "colab_type": "text",
    "id": "VNC7z6vDSr2O"
   },
   "source": [
    "### Exercise 6:\n",
    "---\n",
    "\n",
    "Write an if-elif-else statement using boolean AND "
   ]
  },
  {
   "cell_type": "code",
   "execution_count": 0,
   "metadata": {
    "colab": {},
    "colab_type": "code",
    "id": "TH67eyF7Ssmt"
   },
   "outputs": [],
   "source": []
  }
 ],
 "metadata": {
  "colab": {
   "collapsed_sections": [],
   "name": "3. Scalars Exercises .ipynb",
   "provenance": [],
   "version": "0.3.2"
  },
  "kernelspec": {
   "display_name": "Python 3",
   "language": "python",
   "name": "python3"
  },
  "language_info": {
   "codemirror_mode": {
    "name": "ipython",
    "version": 3
   },
   "file_extension": ".py",
   "mimetype": "text/x-python",
   "name": "python",
   "nbconvert_exporter": "python",
   "pygments_lexer": "ipython3",
   "version": "3.6.6"
  }
 },
 "nbformat": 4,
 "nbformat_minor": 1
}
