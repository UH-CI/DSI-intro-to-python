{
 "cells": [
  {
   "cell_type": "markdown",
   "metadata": {
    "colab_type": "text",
    "id": "aXj7vuQaR_qF"
   },
   "source": [
    "# Unordered Collections Exercises\n",
    "---"
   ]
  },
  {
   "cell_type": "markdown",
   "metadata": {
    "colab_type": "text",
    "id": "_Q0Af--QN9K3"
   },
   "source": [
    "### Exercise 1\n",
    "---\n",
    "i) Create a dictionary to hold the following information about the Instagram user `instagram_user`:\n",
    "*   The `'username'` is 'olaf'\n",
    "*   The user has 23 `'followers'`\n",
    "*   The user is not `'online'` ( `'online'` = `False` )\n",
    "*   The user's Instagram `'account age'` is 2 years old"
   ]
  },
  {
   "cell_type": "code",
   "execution_count": null,
   "metadata": {
    "colab": {},
    "colab_type": "code",
    "id": "iI4Y2Fu3N9K2"
   },
   "outputs": [],
   "source": [
    "# Exercise 1\n",
    "instagram_user = {'create your dictionary here'}"
   ]
  },
  {
   "cell_type": "markdown",
   "metadata": {
    "colab_type": "text",
    "id": "nO6w6hASTFgZ"
   },
   "source": [
    "ii) Change the status of `'online'` to `True` in the `instagram_user` dictionary."
   ]
  },
  {
   "cell_type": "code",
   "execution_count": null,
   "metadata": {
    "colab": {},
    "colab_type": "code",
    "id": "pcnFKeOZTgk_"
   },
   "outputs": [],
   "source": [
    "#ii)"
   ]
  },
  {
   "cell_type": "markdown",
   "metadata": {
    "colab_type": "text",
    "id": "LwNx4SiGTmtE"
   },
   "source": [
    "iii) Change the `'account age'` in `instagram_user` to 3."
   ]
  },
  {
   "cell_type": "code",
   "execution_count": null,
   "metadata": {
    "colab": {},
    "colab_type": "code",
    "id": "hXUf5NiiTl99"
   },
   "outputs": [],
   "source": [
    "#iii)"
   ]
  },
  {
   "cell_type": "markdown",
   "metadata": {
    "colab_type": "text",
    "id": "d3VLkGdLYWWK"
   },
   "source": [
    "iv)  Remove the key `'username'` and its value."
   ]
  },
  {
   "cell_type": "code",
   "execution_count": null,
   "metadata": {
    "colab": {},
    "colab_type": "code",
    "id": "e14zP5OVl-lW"
   },
   "outputs": [],
   "source": [
    "#iv)"
   ]
  },
  {
   "cell_type": "markdown",
   "metadata": {
    "colab_type": "text",
    "id": "_-C4xkkVn2CS"
   },
   "source": [
    "v) Add a key called `'following'` and set its value to 100."
   ]
  },
  {
   "cell_type": "code",
   "execution_count": null,
   "metadata": {},
   "outputs": [],
   "source": [
    "#v)"
   ]
  },
  {
   "cell_type": "markdown",
   "metadata": {
    "colab_type": "text",
    "id": "I7SGujMFL4Rc"
   },
   "source": [
    "### Exercise 2\n",
    "---\n",
    "i) The `country_populations` list below contains a list of select countries and their populations in 2017 in thousands of people. Loop through the dictionary to print the name of the country in title case and the total population.\n",
    "\n",
    "Hint: multiply the populations by 1000 to get the total population.\n",
    "\n",
    "Data: https://data.worldbank.org/indicator/SP.POP.TOTL"
   ]
  },
  {
   "cell_type": "code",
   "execution_count": 1,
   "metadata": {
    "colab": {},
    "colab_type": "code",
    "id": "8aEAEbB0-mED"
   },
   "outputs": [],
   "source": [
    "country_populations = {'andorra' : 76.97, 'austria' : 8809.21, 'bangladesh' : 164669.75, 'benin' : 11175.69,\n",
    "                    'cabo verde' : 546.39, 'curacao' : 161.01, 'estonia' : 1315.48, 'gibraltar' : 34.57,\n",
    "                    'honduras' : 9265.07, 'kiribati' : 116.40, 'liechtenstein' : 37.92, 'mozambique' : 29668.83,\n",
    "                    'suriname' : 563.40, 'zambia' : 17094.13}"
   ]
  },
  {
   "cell_type": "markdown",
   "metadata": {},
   "source": [
    "ii) Loop through the `country_populations` dictionary in alphabetical order and add each country's name to a list called `countries`."
   ]
  },
  {
   "cell_type": "code",
   "execution_count": null,
   "metadata": {},
   "outputs": [],
   "source": [
    "#ii"
   ]
  },
  {
   "cell_type": "markdown",
   "metadata": {
    "colab_type": "text",
    "id": "rXJkGyj9C9pr"
   },
   "source": [
    "### Exercise 3\n",
    "---\n",
    "i) `quarterly_us_gdp` is a list of tuples of US quarterly GDP from 2013 to 2017 in billions of US dollars. Write a `for` loop that creates a list called `annual_us_gdp`, which contains annual US GDP in billions of US dollars.\n",
    "\n",
    "Hint: You will need to sum the values in each tuple to get annual US GDP.\n",
    "\n",
    "Data: https://fred.stlouisfed.org/series/GDP"
   ]
  },
  {
   "cell_type": "code",
   "execution_count": null,
   "metadata": {
    "colab": {},
    "colab_type": "code",
    "id": "pe4lls_Z2Y6Z"
   },
   "outputs": [],
   "source": [
    "quarterly_us_gdp=[(16569.591, 16637.926, 16848.748, 17083.137),\n",
    "       (17102.932, 17425.766, 17719.836, 17838.454),\n",
    "       (17970.422, 18221.299, 18331.093, 18354.372),\n",
    "       (18409.13, 18640.732, 18799.648, 18979.245),\n",
    "       (19162.55, 19359.123, 19588.074, 19831.829)]\n",
    "annual_us_gdp=[]\n",
    "for year in quarterly_us_gdp:\n",
    "  annual_us_gdp.append(sum(year))\n",
    "  \n",
    "print(annual_us_gdp)"
   ]
  },
  {
   "cell_type": "markdown",
   "metadata": {},
   "source": [
    "### Exercise 4\n",
    "---\n",
    "`english_chinese` is a dictionary that contains english words as keys and the corresponding chinese word as values. Use a `for` loop to create a `chinese_english` dictionary that has the chinese characters as keys and the english words as values."
   ]
  },
  {
   "cell_type": "code",
   "execution_count": 7,
   "metadata": {},
   "outputs": [
    {
     "name": "stdout",
     "output_type": "stream",
     "text": [
      "咖啡\n",
      "沙发\n",
      "沙拉\n",
      "博客\n",
      "起司\n",
      "夏威夷\n"
     ]
    }
   ],
   "source": [
    "english_chinese = {'coffee' : '咖啡', 'sofa' : '沙发', 'salad' : '沙拉', \n",
    "                   'blog' : '博客', 'cheese' : '起司', 'Hawaii' : '夏威夷'}"
   ]
  },
  {
   "cell_type": "code",
   "execution_count": 8,
   "metadata": {},
   "outputs": [
    {
     "name": "stdout",
     "output_type": "stream",
     "text": [
      "{'咖啡': 'coffee', '沙发': 'sofa', '沙拉': 'salad', '博客': 'blog', '起司': 'cheese', '夏威夷': 'Hawaii'}\n"
     ]
    }
   ],
   "source": [
    "chinese_english={}\n",
    "for word, character in english_chinese.items():\n",
    "    chinese_english[character] = word\n",
    "print(chinese_english)"
   ]
  }
 ],
 "metadata": {
  "colab": {
   "collapsed_sections": [],
   "name": "7 Unordered Collections Exercises.ipynb",
   "provenance": [],
   "version": "0.3.2"
  },
  "kernelspec": {
   "display_name": "Python 3",
   "language": "python",
   "name": "python3"
  },
  "language_info": {
   "codemirror_mode": {
    "name": "ipython",
    "version": 3
   },
   "file_extension": ".py",
   "mimetype": "text/x-python",
   "name": "python",
   "nbconvert_exporter": "python",
   "pygments_lexer": "ipython3",
   "version": "3.6.6"
  }
 },
 "nbformat": 4,
 "nbformat_minor": 2
}
