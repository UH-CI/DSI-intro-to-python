{
 "cells": [
  {
   "cell_type": "markdown",
   "metadata": {
    "colab_type": "text",
    "id": "aXj7vuQaR_qF"
   },
   "source": [
    "# Unordered Collections Exercises\n",
    "---"
   ]
  },
  {
   "cell_type": "markdown",
   "metadata": {
    "colab_type": "text",
    "id": "_Q0Af--QN9K3"
   },
   "source": [
    "### Exercise 1\n",
    "---\n",
    "i) Create a dictionary to hold the following information about the Instagram user `instagram_user`:\n",
    "*   The `'username'` is 'olaf'\n",
    "*   The user has 23 `'followers'`\n",
    "*   The user is not `'online'` ( `'online'` = `False` )\n",
    "*   The user's Instagram `'account age'` is 2 years old"
   ]
  },
  {
   "cell_type": "code",
   "execution_count": null,
   "metadata": {
    "colab": {},
    "colab_type": "code",
    "id": "iI4Y2Fu3N9K2"
   },
   "outputs": [],
   "source": [
    "# Write your code here\n",
    "\n"
   ]
  },
  {
   "cell_type": "markdown",
   "metadata": {
    "colab_type": "text",
    "id": "nO6w6hASTFgZ"
   },
   "source": [
    "ii) Change the status of `'online'` to `True` in the `instagram_user` dictionary."
   ]
  },
  {
   "cell_type": "code",
   "execution_count": null,
   "metadata": {
    "colab": {},
    "colab_type": "code",
    "id": "pcnFKeOZTgk_"
   },
   "outputs": [],
   "source": [
    "# Write your code here\n",
    "\n"
   ]
  },
  {
   "cell_type": "markdown",
   "metadata": {
    "colab_type": "text",
    "id": "LwNx4SiGTmtE"
   },
   "source": [
    "iii) Change the `'account age'` in `instagram_user` to 3."
   ]
  },
  {
   "cell_type": "code",
   "execution_count": null,
   "metadata": {
    "colab": {},
    "colab_type": "code",
    "id": "hXUf5NiiTl99"
   },
   "outputs": [],
   "source": [
    "# Write your code here\n",
    "\n"
   ]
  },
  {
   "cell_type": "markdown",
   "metadata": {
    "colab_type": "text",
    "id": "d3VLkGdLYWWK"
   },
   "source": [
    "iv)  Remove the key `'username'` and its value."
   ]
  },
  {
   "cell_type": "code",
   "execution_count": null,
   "metadata": {
    "colab": {},
    "colab_type": "code",
    "id": "e14zP5OVl-lW"
   },
   "outputs": [],
   "source": [
    "# Write your code here\n",
    "\n"
   ]
  },
  {
   "cell_type": "markdown",
   "metadata": {
    "colab_type": "text",
    "id": "_-C4xkkVn2CS"
   },
   "source": [
    "v) Add a key called `'following'` and set its value to 100."
   ]
  },
  {
   "cell_type": "code",
   "execution_count": null,
   "metadata": {},
   "outputs": [],
   "source": [
    "# Write your code here\n",
    "\n"
   ]
  },
  {
   "cell_type": "markdown",
   "metadata": {
    "colab_type": "text",
    "id": "I7SGujMFL4Rc"
   },
   "source": [
    "### Exercise 2\n",
    "---\n",
    "i) The `country_populations` list below contains a list of select countries and their populations in 2017 in thousands of people. Use a `for` loop and the `items()` method to print the name of each country in title case and its total population.\n",
    "\n",
    "Hint: multiply the populations by 1000 to get the total population.\n",
    "\n",
    "Data: https://data.worldbank.org/indicator/SP.POP.TOTL"
   ]
  },
  {
   "cell_type": "code",
   "execution_count": 1,
   "metadata": {
    "colab": {},
    "colab_type": "code",
    "id": "8aEAEbB0-mED"
   },
   "outputs": [],
   "source": [
    "country_populations = {'andorra' : 76.97, 'austria' : 8809.21, 'bangladesh' : 164669.75, 'benin' : 11175.69,\n",
    "                    'cabo verde' : 546.39, 'curacao' : 161.01, 'estonia' : 1315.48, 'gibraltar' : 34.57,\n",
    "                    'honduras' : 9265.07, 'kiribati' : 116.40, 'liechtenstein' : 37.92, 'mozambique' : 29668.83,\n",
    "                    'suriname' : 563.40, 'zambia' : 17094.13}"
   ]
  },
  {
   "cell_type": "code",
   "execution_count": null,
   "metadata": {},
   "outputs": [],
   "source": [
    "# Write your code here\n",
    "\n"
   ]
  },
  {
   "cell_type": "markdown",
   "metadata": {},
   "source": [
    "ii) Create a list called `countries` that contains the countries for the `country_populations` dictionary in alphabetical order. This can be achieved by looping through the keys in `country_populations` alphabetical order using `sorted()` and appending each country to `countries`."
   ]
  },
  {
   "cell_type": "code",
   "execution_count": null,
   "metadata": {},
   "outputs": [],
   "source": [
    "# Write your code here\n",
    "\n"
   ]
  },
  {
   "cell_type": "markdown",
   "metadata": {
    "colab_type": "text",
    "id": "rXJkGyj9C9pr"
   },
   "source": [
    "### Exercise 3\n",
    "---\n",
    "i) `quarterly_us_gdp` is a list containing tuples of US quarterly GDP from 2013 to 2017 in billions of US dollars (each tuple represents a year of US quarterly GDP). Write a `for` loop that creates a new list called `annual_us_gdp`, which contains annual US GDP in billions of US dollars.\n",
    "\n",
    "Hint: You can use the `sum()` function to sum the values in each tuple.\n",
    "\n",
    "Data: https://fred.stlouisfed.org/series/GDP"
   ]
  },
  {
   "cell_type": "code",
   "execution_count": null,
   "metadata": {
    "colab": {},
    "colab_type": "code",
    "id": "pe4lls_Z2Y6Z"
   },
   "outputs": [],
   "source": [
    "quarterly_us_gdp=[(16569.591, 16637.926, 16848.748, 17083.137),\n",
    "       (17102.932, 17425.766, 17719.836, 17838.454),\n",
    "       (17970.422, 18221.299, 18331.093, 18354.372),\n",
    "       (18409.13, 18640.732, 18799.648, 18979.245),\n",
    "       (19162.55, 19359.123, 19588.074, 19831.829)]"
   ]
  },
  {
   "cell_type": "code",
   "execution_count": null,
   "metadata": {},
   "outputs": [],
   "source": [
    "# Write your code here\n",
    "\n",
    "\n",
    "annual_us_gdp=[]\n",
    "for year in quarterly_us_gdp:\n",
    "  annual_us_gdp.append(sum(year))\n",
    "  \n",
    "print(annual_us_gdp)"
   ]
  },
  {
   "cell_type": "markdown",
   "metadata": {},
   "source": [
    "### Exercise 4\n",
    "---\n",
    "i) `english_chinese` is a dictionary that contains english words as keys and the corresponding chinese characters as values. Use a `for` loop to create a `chinese_english` dictionary that has the chinese characters as keys and the english words as values as follows.\n",
    "1. Create an empty `chinese_english` dictionary (curly braces with no key-value pairs).\n",
    "2. Use a `for` loop to loop through the `items()` in the `english_chinese` dictionary.\n",
    "3. Within the `for` loop, assign the characters as keys and the english words as values.\n",
    "4. Print your `chinese_english` dictionary to check your result."
   ]
  },
  {
   "cell_type": "code",
   "execution_count": 1,
   "metadata": {},
   "outputs": [],
   "source": [
    "english_chinese = {'coffee' : '咖啡', 'sofa' : '沙发', 'salad' : '沙拉', \n",
    "                   'blog' : '博客', 'cheese' : '起司', 'Hawaii' : '夏威夷','chocolate':'巧克力'}"
   ]
  },
  {
   "cell_type": "code",
   "execution_count": 2,
   "metadata": {},
   "outputs": [
    {
     "name": "stdout",
     "output_type": "stream",
     "text": [
      "{'咖啡': 'coffee', '沙发': 'sofa', '沙拉': 'salad', '博客': 'blog', '起司': 'cheese', '夏威夷': 'Hawaii', '巧克力': 'chocolate'}\n"
     ]
    }
   ],
   "source": [
    "# Write your code here\n",
    "\n",
    "\n",
    "chinese_english={}\n",
    "for word, character in english_chinese.items():\n",
    "    chinese_english[character] = word\n",
    "print(chinese_english)"
   ]
  },
  {
   "cell_type": "markdown",
   "metadata": {},
   "source": [
    "ii) Now you can easily look up the chinese character for 'coffee', 'sofa', 'salad', 'blog', and 'hawaii' or look up the english words for the corresponding chinese characters. However, the characters do not indicate how to say these chinese words. Pinyin is the official romanization system for standard chinese and can help you know how to pronounce chinese characters. Below is a pinyin to chinese character dictionary. To create a english to pinyin dictionary follow the steps below.\n",
    "1. Create an empty dictionary called `english_pinyin`.\n",
    "2. Create a `for` loop that loops through the `items()` in the `pinyin_character` dictionary.\n",
    "3. Within the `for` loop, use your `chinese_english` dictionary that you previously created to get the english word that corresponds to the current character and pinyin being iterated.\n",
    "4. Assign the english word as the key in `english_pinyin` and the current pinyin that's being iterated as the corresponding value.\n",
    "5. Print your resulting `english_pinyin` dictionary."
   ]
  },
  {
   "cell_type": "code",
   "execution_count": 3,
   "metadata": {},
   "outputs": [],
   "source": [
    "pinyin_character={'kāfēi':'咖啡','shāfā':'沙发','shālā':'沙拉','bókè':'博客','qǐsī':'起司','xiàwēiyí':'夏威夷','qiǎokèlì':'巧克力'}"
   ]
  },
  {
   "cell_type": "code",
   "execution_count": null,
   "metadata": {},
   "outputs": [],
   "source": [
    "# Write your code here\n",
    "english_pinyin={}\n",
    "for pinyin, character in pinyin_character.items():\n",
    "    english_pinyin[chinese_english[character]]= pinyin"
   ]
  },
  {
   "cell_type": "markdown",
   "metadata": {},
   "source": [
    "iii) How do you say sofa in chinese (i.e. what is the pinyin for sofa)? What is the chinese characters for Hawaii?"
   ]
  },
  {
   "cell_type": "code",
   "execution_count": null,
   "metadata": {},
   "outputs": [],
   "source": [
    "# Write your code here\n",
    "\n"
   ]
  },
  {
   "cell_type": "markdown",
   "metadata": {},
   "source": [
    "### Exercise 5\n",
    "---\n",
    "The `collections` module has a function called `Counter()` that takes a list or tuple and returns a dictionary with the unique items in the list or tuple as keys and the number of time it appears as the dictionary's values. For example, if the list `['a','b','c','a']` were passed to `Counter()`, then the dictionary `{'a': 2, 'b': 1, 'c':1}` will be returned. Write your own function that does exactly this without using the `Counter()` function. Test your function out on the `poke_types` list below. Cross check the results of your function with the `Counter()` function in `collections`.\n",
    "\n",
    "Hint: You will need to use a for loop in your function and use each poke as a key in a dictionary. You can add one to the current value of a key in your counting dictionary with `dictionary[key] +=1`."
   ]
  },
  {
   "cell_type": "code",
   "execution_count": 3,
   "metadata": {},
   "outputs": [
    {
     "data": {
      "text/plain": [
       "Counter({1: 2, 5: 2})"
      ]
     },
     "execution_count": 3,
     "metadata": {},
     "output_type": "execute_result"
    }
   ],
   "source": [
    "poke_types = [\"spicy\", \"hawaiian\", \"spicy\", \"limu\", \"spicy\", \"limu\", \"hawaiian\", \"wasabi\"]"
   ]
  },
  {
   "cell_type": "code",
   "execution_count": null,
   "metadata": {},
   "outputs": [],
   "source": [
    "# Write your code here\n",
    "\n"
   ]
  }
 ],
 "metadata": {
  "colab": {
   "collapsed_sections": [],
   "name": "7 Unordered Collections Exercises.ipynb",
   "provenance": [],
   "version": "0.3.2"
  },
  "kernelspec": {
   "display_name": "Python 3",
   "language": "python",
   "name": "python3"
  },
  "language_info": {
   "codemirror_mode": {
    "name": "ipython",
    "version": 3
   },
   "file_extension": ".py",
   "mimetype": "text/x-python",
   "name": "python",
   "nbconvert_exporter": "python",
   "pygments_lexer": "ipython3",
   "version": "3.6.6"
  }
 },
 "nbformat": 4,
 "nbformat_minor": 2
}
