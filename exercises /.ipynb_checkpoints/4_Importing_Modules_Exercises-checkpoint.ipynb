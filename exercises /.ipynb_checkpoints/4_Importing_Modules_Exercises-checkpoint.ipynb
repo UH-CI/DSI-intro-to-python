{
 "cells": [
  {
   "cell_type": "markdown",
   "metadata": {
    "colab_type": "text",
    "id": "cCqvZExGl8fL"
   },
   "source": [
    "# Importing Modules Exercises\n",
    "---"
   ]
  },
  {
   "cell_type": "markdown",
   "metadata": {
    "colab_type": "text",
    "id": "G0ka5mSJmPnm"
   },
   "source": [
    "### Exercise 1\n",
    "---\n",
    "The math module in Python's standard library has a constant called tau ($ \\tau$), which is a mathematical constant equivalent to two times pi. Use `tau` to calculate the area of a circle of radius 4 then use `round()` to round the area to the nearest integer. Use the custom imports method of `from module_name import X` to import both `tau` and `round()`\n",
    "\n",
    "Hint:\n",
    "$$\n",
    "Area = \\pi\\cdot r^2 = \\frac{\\tau\\cdot r^2}{2}\n",
    "$$"
   ]
  },
  {
   "cell_type": "code",
   "execution_count": null,
   "metadata": {
    "colab": {
     "base_uri": "https://localhost:8080/",
     "height": 34
    },
    "colab_type": "code",
    "executionInfo": {
     "elapsed": 403,
     "status": "ok",
     "timestamp": 1545168856660,
     "user": {
      "displayName": "Jaclyn Lee",
      "photoUrl": "",
      "userId": "17525286701482268466"
     },
     "user_tz": 600
    },
    "id": "3bPngfIMPQcp",
    "outputId": "86aa70bf-2015-431f-eeb9-6395d40645fa"
   },
   "outputs": [
    {
     "data": {
      "text/plain": [
       "False"
      ]
     },
     "execution_count": 13,
     "metadata": {
      "tags": []
     },
     "output_type": "execute_result"
    }
   ],
   "source": [
    "# Write your code here\n",
    "\n"
   ]
  },
  {
   "cell_type": "markdown",
   "metadata": {
    "colab_type": "text",
    "id": "iDuXYG_6mTyI"
   },
   "source": [
    "### Exercise 2\n",
    "---\n",
    "Now import the whole math module and use the `ceil()` function to round 12.49 up to the integer above."
   ]
  },
  {
   "cell_type": "code",
   "execution_count": null,
   "metadata": {
    "colab": {},
    "colab_type": "code",
    "id": "sPAA-sInmTje"
   },
   "outputs": [],
   "source": [
    "# Write your code here\n",
    "\n"
   ]
  },
  {
   "cell_type": "markdown",
   "metadata": {
    "colab_type": "text",
    "id": "3yeZpIGhmZee"
   },
   "source": [
    "### Exercise 3\n",
    "---\n",
    "Time will slow down for objects approaching the speed of light. In otherwords, the faster an object is moving, the less time it'll experience relative to a stationary object. This relative time dilation can be calculated using the lorentz transformation:\n",
    "$$\n",
    "T = \\frac{T_{0}}{\\sqrt{1-\\frac{v^2}{c^2}}}\n",
    "$$\n",
    "\n",
    "With $T$ being the time interval experienced by the moving object, $T_{0}$ being the time interval experienced by the stationary reference, $v$ being the velocity of the moving object, and $c$ being the speed of light. \n",
    "\n",
    "If a spaceship is traveling at 1,000,000 m/s and an hour passes at the stationary reference, how much time passed on the spaceship?\n",
    "\n",
    "Use the constant `c` from the `scipy.constants` module and the `sqrt()` function from the `math` module.\n",
    "\n",
    "http://hyperphysics.phy-astr.gsu.edu/hbase/Relativ/tdil.html"
   ]
  },
  {
   "cell_type": "code",
   "execution_count": null,
   "metadata": {
    "colab": {},
    "colab_type": "code",
    "id": "gQkvjX2Amai5"
   },
   "outputs": [],
   "source": [
    "# Write your code here\n",
    "\n"
   ]
  },
  {
   "cell_type": "markdown",
   "metadata": {
    "colab_type": "text",
    "id": "TSVOjscdgGvH"
   },
   "source": [
    "### Exercise 4\n",
    "---\n",
    "Let's say you are trying to decide where to eat for dinner and are indifferent between sushi, tacos, and poke. Use `randint()` from the `random` module to generate a random number between 1 and 3. Then write an `if-else` statement to print 'sushi' if the random number is 1, 'tacos' if the random number is 2, and 'poke' if the random number is 3."
   ]
  },
  {
   "cell_type": "code",
   "execution_count": null,
   "metadata": {
    "colab": {},
    "colab_type": "code",
    "id": "F377TnWchTzR"
   },
   "outputs": [],
   "source": [
    "# Write your code here\n",
    "\n"
   ]
  },
  {
   "cell_type": "markdown",
   "metadata": {
    "colab_type": "text",
    "id": "hZRq-KfXKIOj"
   },
   "source": [
    "### Exercise 5\n",
    "---\n",
    "Anagrams are words that share the exact same letters, but in a different order. Write an `if-else` statement that tests whether two words are anagrams. If the words are anagrams, print \"`word_1` and `word_2` are anagrams\". If the words are not anagrams, print \"`word_1` and `word_2` are not anagrams\"\n",
    "\n",
    "Hint: You will need to use the `sorted()` function to achieve this."
   ]
  },
  {
   "cell_type": "code",
   "execution_count": 8,
   "metadata": {
    "colab": {
     "base_uri": "https://localhost:8080/",
     "height": 34
    },
    "colab_type": "code",
    "executionInfo": {
     "elapsed": 462,
     "status": "ok",
     "timestamp": 1549061442914,
     "user": {
      "displayName": "Jaclyn Lee",
      "photoUrl": "",
      "userId": "17525286701482268466"
     },
     "user_tz": 600
    },
    "id": "0V9K5wvTKzvp",
    "outputId": "4039c946-aacf-4d7b-d743-d865223106ad"
   },
   "outputs": [
    {
     "name": "stdout",
     "output_type": "stream",
     "text": [
      "binary and brainy are anagrams\n"
     ]
    }
   ],
   "source": [
    "# Write your code here\n",
    "\n",
    "\n",
    "word_1 = 'binary'\n",
    "word_2 = 'brainy'\n",
    "if sorted(word_1) == sorted(word_2):\n",
    "  print(word_1 + \" and \" + word_2 + \" are anagrams\")\n",
    "else:\n",
    "  print(word_1 + \" and \" + word_2 + \" are not anagrams\")\n",
    " "
   ]
  }
 ],
 "metadata": {
  "colab": {
   "collapsed_sections": [],
   "name": "4. Importing Modules Exercises.ipynb",
   "provenance": [],
   "version": "0.3.2"
  },
  "kernelspec": {
   "display_name": "Python 3",
   "language": "python",
   "name": "python3"
  },
  "language_info": {
   "codemirror_mode": {
    "name": "ipython",
    "version": 3
   },
   "file_extension": ".py",
   "mimetype": "text/x-python",
   "name": "python",
   "nbconvert_exporter": "python",
   "pygments_lexer": "ipython3",
   "version": "3.6.6"
  }
 },
 "nbformat": 4,
 "nbformat_minor": 2
}
