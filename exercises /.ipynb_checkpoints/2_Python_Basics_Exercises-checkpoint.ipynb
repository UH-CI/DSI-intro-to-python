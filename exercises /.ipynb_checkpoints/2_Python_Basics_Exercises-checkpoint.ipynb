{
 "cells": [
  {
   "cell_type": "markdown",
   "metadata": {
    "colab_type": "text",
    "id": "-7opNzNtS1yh"
   },
   "source": [
    "# Python Basics Exercises\n",
    "---\n"
   ]
  },
  {
   "cell_type": "markdown",
   "metadata": {
    "colab_type": "text",
    "id": "CBEO0KZDVgpg"
   },
   "source": [
    "### Exercise 1\n",
    "---\n",
    "If there are 24 hours in a day, 60 minutes in one hour, and 60 seconds in one minute, write an expression that computes and prints the number of seconds in a standard 365-day year? Write your answer in the cell below. Make sure you assign the computed value into a variable called `standard_year_seconds`.\n",
    "\n"
   ]
  },
  {
   "cell_type": "code",
   "execution_count": null,
   "metadata": {
    "colab": {},
    "colab_type": "code",
    "id": "kzS619aB_JEp"
   },
   "outputs": [],
   "source": [
    "# Write your code here\n",
    "\n"
   ]
  },
  {
   "cell_type": "markdown",
   "metadata": {
    "colab_type": "text",
    "id": "Fu8FQR71VLpQ"
   },
   "source": [
    "### Exercise 2\n",
    "---\n",
    "If a leap year has 366 days while a standard year has 365 days, how many seconds are in one leap year? Use the results computed in the question before and simply add the number of seconds in a day, which is 86400 seconds."
   ]
  },
  {
   "cell_type": "code",
   "execution_count": 1,
   "metadata": {
    "colab": {},
    "colab_type": "code",
    "id": "NW5M7bZ39ULN"
   },
   "outputs": [
    {
     "data": {
      "text/plain": [
       "86400"
      ]
     },
     "execution_count": 1,
     "metadata": {},
     "output_type": "execute_result"
    }
   ],
   "source": [
    "# Write your code here\n",
    "\n"
   ]
  },
  {
   "cell_type": "markdown",
   "metadata": {
    "colab_type": "text",
    "id": "Pd70jvMoiUnQ"
   },
   "source": [
    "### Exercise 3\n",
    "---\n",
    "New York and Tokyo are 6,737 miles apart. If there are 1.609 kilometers in one mile, what is the distance between New York and Tokyo in kilometers? "
   ]
  },
  {
   "cell_type": "code",
   "execution_count": null,
   "metadata": {
    "colab": {},
    "colab_type": "code",
    "id": "-rWSERCSiVcd"
   },
   "outputs": [],
   "source": [
    "# Write your code here\n",
    "\n"
   ]
  },
  {
   "cell_type": "markdown",
   "metadata": {
    "colab_type": "text",
    "id": "t6n6zrNEiZEc"
   },
   "source": [
    "### Exercise 4\n",
    "---\n",
    "i) If there are 1.151 miles in 1 nautical mile, and two ships are 3.4 nautical miles apart, how far are the two ships in miles?\n",
    "\n",
    "The instructions are as follows:\n",
    "1. Assign the nautical distance to a variable called `nautical_distance`.\n",
    "2. Multiply `nautical_distance` by 1.51 to get the distance in miles.\n",
    "3. Assign the product into a new variable called `miles_distance`\n"
   ]
  },
  {
   "cell_type": "code",
   "execution_count": 1,
   "metadata": {
    "colab": {},
    "colab_type": "code",
    "id": "iDGW7-7ciZ1u"
   },
   "outputs": [
    {
     "data": {
      "text/plain": [
       "3.8114"
      ]
     },
     "execution_count": 1,
     "metadata": {},
     "output_type": "execute_result"
    }
   ],
   "source": [
    "# Write your code here\n",
    "\n"
   ]
  },
  {
   "cell_type": "markdown",
   "metadata": {},
   "source": [
    "ii) Print the distance between the two ships in both nautical miles and miles. Your answer should look like the following. Recall that both values are already assigned to the variables `nautical_distance` and `miles_distance` (call miles_distance something else)\n",
    "\n",
    "```\n",
    "3.4\n",
    "3.8114\n",
    "```"
   ]
  },
  {
   "cell_type": "code",
   "execution_count": null,
   "metadata": {},
   "outputs": [],
   "source": [
    "# Write your code here\n",
    "\n"
   ]
  },
  {
   "cell_type": "markdown",
   "metadata": {},
   "source": [
    "iii) Print `nautical_distance` and `miles_distance` on the same line. You can do this by passing `nautical_distance` and `miles_distance` to the `print()` function as follows.\n",
    "\n",
    "```python\n",
    "print(nautical miles, miles)\n",
    "```"
   ]
  },
  {
   "cell_type": "code",
   "execution_count": null,
   "metadata": {},
   "outputs": [],
   "source": [
    "# Write your code here\n",
    "\n"
   ]
  }
 ],
 "metadata": {
  "colab": {
   "collapsed_sections": [],
   "name": "2. Intro to Python: Python Basics Exercises.ipynb",
   "provenance": [],
   "version": "0.3.2"
  },
  "kernelspec": {
   "display_name": "Python 3",
   "language": "python",
   "name": "python3"
  },
  "language_info": {
   "codemirror_mode": {
    "name": "ipython",
    "version": 3
   },
   "file_extension": ".py",
   "mimetype": "text/x-python",
   "name": "python",
   "nbconvert_exporter": "python",
   "pygments_lexer": "ipython3",
   "version": "3.6.6"
  }
 },
 "nbformat": 4,
 "nbformat_minor": 2
}
