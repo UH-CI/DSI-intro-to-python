{
 "cells": [
  {
   "cell_type": "markdown",
   "metadata": {
    "colab_type": "text",
    "id": "aXj7vuQaR_qF"
   },
   "source": [
    "# Exercises: Unordered Collections\n",
    "---\n"
   ]
  },
  {
   "cell_type": "markdown",
   "metadata": {
    "colab_type": "text",
    "id": "N-eYh25QN9K4"
   },
   "source": [
    "### Exercise 1: Creating a dictionary\n",
    "---\n"
   ]
  },
  {
   "cell_type": "markdown",
   "metadata": {
    "colab_type": "text",
    "id": "_Q0Af--QN9K3"
   },
   "source": [
    "\n",
    "\n",
    "Create a dictionary to hold the following information about the Instagram user `instagram_user`:\n",
    "\n",
    "*   The **username** is 'olaf'\n",
    "*   The user  has 23 **followers**\n",
    "*   The user is not **online** ( online = False )\n",
    "*   The user's Instagram **account age** is 2 years old\n",
    "\n",
    "\n",
    "\n",
    "\n"
   ]
  },
  {
   "cell_type": "code",
   "execution_count": 0,
   "metadata": {
    "colab": {},
    "colab_type": "code",
    "id": "iI4Y2Fu3N9K2"
   },
   "outputs": [],
   "source": [
    "# Exercise 1\n",
    "instagram_user = {'create your dictionary here'}"
   ]
  },
  {
   "cell_type": "markdown",
   "metadata": {
    "colab_type": "text",
    "id": "nO6w6hASTFgZ"
   },
   "source": [
    "ii) Change the status of 'online' to True in the dictionary instagram_user"
   ]
  },
  {
   "cell_type": "code",
   "execution_count": 0,
   "metadata": {
    "colab": {},
    "colab_type": "code",
    "id": "pcnFKeOZTgk_"
   },
   "outputs": [],
   "source": [
    "#ii)"
   ]
  },
  {
   "cell_type": "markdown",
   "metadata": {
    "colab_type": "text",
    "id": "LwNx4SiGTmtE"
   },
   "source": [
    "iii) Change the \"account age\" in the dictionary instagram_user to 3:"
   ]
  },
  {
   "cell_type": "code",
   "execution_count": 0,
   "metadata": {
    "colab": {},
    "colab_type": "code",
    "id": "hXUf5NiiTl99"
   },
   "outputs": [],
   "source": [
    "#iii)"
   ]
  },
  {
   "cell_type": "markdown",
   "metadata": {
    "colab_type": "text",
    "id": "d3VLkGdLYWWK"
   },
   "source": [
    "iv)  Remove the key \"username\" and its value"
   ]
  },
  {
   "cell_type": "code",
   "execution_count": 0,
   "metadata": {
    "colab": {},
    "colab_type": "code",
    "id": "e14zP5OVl-lW"
   },
   "outputs": [],
   "source": [
    "#iv)"
   ]
  },
  {
   "cell_type": "markdown",
   "metadata": {
    "colab_type": "text",
    "id": "_-C4xkkVn2CS"
   },
   "source": [
    "### Exercise 2: Looping through dictionaries\n",
    "---\n"
   ]
  },
  {
   "cell_type": "markdown",
   "metadata": {
    "colab_type": "text",
    "id": "I7SGujMFL4Rc"
   },
   "source": [
    "The `country_populations` list below contains a list of select countries and their populations in 2017 in thousands of people. Loop through the dictionary to print the name of the country in title case and the total population.\n",
    "\n",
    "Hint: multiply the populations by 1000 to get the total population.\n",
    "\n",
    "Data: https://data.worldbank.org/indicator/SP.POP.TOTL"
   ]
  },
  {
   "cell_type": "code",
   "execution_count": 0,
   "metadata": {
    "colab": {},
    "colab_type": "code",
    "id": "8aEAEbB0-mED"
   },
   "outputs": [],
   "source": [
    "country_populations = {'andorra' : 76.97, 'austria' : 8809.21, 'bangladesh' : 164669.75, 'benin' : 11175.69,\n",
    "                    'cabo verde' : 546.39, 'curacao' : 161.01, 'estonia' : 1315.48, 'gibraltar' : 34.57,\n",
    "                    'honduras' : 9265.07, 'kiribati' : 116.40, 'liechtenstein' : 37.92, 'mozambique' : 29668.83,\n",
    "                    'suriname' : 563.40, 'zambia' : 17094.13}"
   ]
  },
  {
   "cell_type": "markdown",
   "metadata": {
    "colab_type": "text",
    "id": "gU4ndIaE2ZiP"
   },
   "source": [
    "### Exercise 3: Advance Control Structure \n",
    "---\n"
   ]
  },
  {
   "cell_type": "markdown",
   "metadata": {
    "colab_type": "text",
    "id": "rXJkGyj9C9pr"
   },
   "source": [
    "Below is a list of tuples of US quarterly GDP from 2013 to 2017 in billions of US dollars. Write a for loop that prints the annual GDP for each year in billions of US dollars.\n",
    "\n",
    "Data: https://fred.stlouisfed.org/series/GDP"
   ]
  },
  {
   "cell_type": "code",
   "execution_count": 0,
   "metadata": {
    "colab": {},
    "colab_type": "code",
    "id": "pe4lls_Z2Y6Z"
   },
   "outputs": [],
   "source": [
    "quarterly_us_gdp=[(16569.591, 16637.926, 16848.748, 17083.137),\n",
    "       (17102.932, 17425.766, 17719.836, 17838.454),\n",
    "       (17970.422, 18221.299, 18331.093, 18354.372),\n",
    "       (18409.13, 18640.732, 18799.648, 18979.245),\n",
    "       (19162.55, 19359.123, 19588.074, 19831.829)]\n",
    "annual_us_gdp=[]\n",
    "for year in quarterly_us_gdp:\n",
    "  annual_us_gdp.append(sum(year))\n",
    "  \n",
    "print(annual_us_gdp)"
   ]
  }
 ],
 "metadata": {
  "colab": {
   "collapsed_sections": [],
   "name": "7 Unordered Collections Exercises.ipynb",
   "provenance": [],
   "version": "0.3.2"
  },
  "kernelspec": {
   "display_name": "Python 3",
   "language": "python",
   "name": "python3"
  },
  "language_info": {
   "codemirror_mode": {
    "name": "ipython",
    "version": 3
   },
   "file_extension": ".py",
   "mimetype": "text/x-python",
   "name": "python",
   "nbconvert_exporter": "python",
   "pygments_lexer": "ipython3",
   "version": "3.6.6"
  }
 },
 "nbformat": 4,
 "nbformat_minor": 1
}
