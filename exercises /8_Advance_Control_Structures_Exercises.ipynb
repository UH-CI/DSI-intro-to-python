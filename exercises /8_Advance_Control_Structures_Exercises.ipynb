{
 "cells": [
  {
   "cell_type": "markdown",
   "metadata": {
    "colab_type": "text",
    "id": "HImN7GjLzL3U"
   },
   "source": [
    "# Advance Control Structures Exercises\n"
   ]
  },
  {
   "cell_type": "markdown",
   "metadata": {
    "colab_type": "text",
    "id": "J-KkU6S8WdXg"
   },
   "source": [
    "### Exercise 1\n",
    "---\n",
    "The list below contains tuples with the name of a food, its total calories and its calories from fat. Use an `if-else` statement nested in a `for` loop to print the names of the food with more than 30% calories from fat.\n",
    "\n",
    "Hint: The percent calories from fat can be found by dividing the calories from fat by the total calories and multiplying that ratio by 100."
   ]
  },
  {
   "cell_type": "code",
   "execution_count": 1,
   "metadata": {
    "colab": {
     "base_uri": "https://localhost:8080/",
     "height": 34
    },
    "colab_type": "code",
    "executionInfo": {
     "elapsed": 398,
     "status": "ok",
     "timestamp": 1547086049502,
     "user": {
      "displayName": "Jaclyn Lee",
      "photoUrl": "",
      "userId": "17525286701482268466"
     },
     "user_tz": 600
    },
    "id": "5uBzft_4gNOl",
    "outputId": "404f7222-92b0-4efc-f116-ca4e2acd675d"
   },
   "outputs": [
    {
     "name": "stdout",
     "output_type": "stream",
     "text": [
      "oreo\n",
      "butter\n",
      "avocado\n",
      "peanut butter\n",
      "moon cake\n",
      "ice cream\n"
     ]
    }
   ],
   "source": [
    "foods = [('oreo', 53, 21), ('butter', 800, 792), ('amaranth', 252, 35.1), \n",
    "         ('ginkgo', 52, 4.5), ('avocado', 234, 189),('peanut butter', 188, 144), \n",
    "         ('kefir', 110, 18), ('moon cake', 167, 62), ('tteokbokki', 330, 90), ('ice cream', 137, 63)]"
   ]
  },
  {
   "cell_type": "code",
   "execution_count": null,
   "metadata": {},
   "outputs": [],
   "source": [
    "# Write your code here\n",
    "\n"
   ]
  },
  {
   "cell_type": "markdown",
   "metadata": {
    "colab_type": "text",
    "id": "JsopZJKLZB12"
   },
   "source": [
    "### Exercise 2\n",
    "---\n",
    "`countries_gni` is a dictionary of select countries' gross national income (GNI) per capita in 2017. According to the World Bank, a high income country is defined as a country with a GNI per capita of 12,056 US dollars or more, a upper-middle income country has a GNI per capita between 3,896 to 12,055 US dollars, a lower-middle income country as a GNI per capita between 996 to 3,895 US dollars, and a low income country has a GNI per capita of 995 US dollars or less (2017 GNIs). Write a piece of code that loops through the dictionary and sorts the countries and GNI per capitas into four different dictionaries: `high`, `upper_middle`, `lower_middle` and `low` based on each countries' income classification. Print all four dictionaries on different lines after sorting through `countries_gni`.\n",
    "\n",
    "| Income Clasification | GNI per Capita (2017 US dollars) |\n",
    "|-----|-----|\n",
    "| High | 12,056 or more |\n",
    "| Upper-middle | 3,896 - 12,055 |\n",
    "| Lower-middle | 996 -  3,895 |\n",
    "| Low | 995 or less |\n",
    "\n",
    "Hint: You will need to use an `if-elif-else` statement inside of a `for` loop. Make you define `high`, `upper_middle`, `lower_middle` and `low` as empty dictionaries before starting the `for` loop.\n",
    "\n",
    "\n",
    "https://datahelpdesk.worldbank.org/knowledgebase/articles/906519#High_income\n",
    "\n",
    "http://wdi.worldbank.org/table/WV.1"
   ]
  },
  {
   "cell_type": "code",
   "execution_count": 2,
   "metadata": {
    "colab": {},
    "colab_type": "code",
    "id": "oZHitwU9vHOZ"
   },
   "outputs": [],
   "source": [
    "#exercise 3\n",
    "countries_gni = {'afghanistan' : 570, 'argentina' : 13040, 'azerbaijan' : 4080, 'bahrain' : 20240, 'bangladesh' : 1470,\n",
    "              'belize' : 4390, 'botswana' : 6820, 'canada' : 42870, 'china' : 8690, 'comoros' : 760, 'djibouti' : 1880,\n",
    "              'dominica' : 6990, 'estonia' : 18190, 'finland' : 44580, 'gabon' : 6610, 'guinea' : 800, 'haiti' : 760,\n",
    "              'israel' : 37270, 'jordan' : 3980, 'kiribati' : 2780, 'kosovo' : 3890, 'kuwait' : 31430, 'lesotho' : 1280,\n",
    "              'luxembourg' : 70260, 'liberia' : 380, 'malawi' : 320, 'maldives' : 9570, 'mauritania' : 1100, \n",
    "              'mauritius' : 10140, 'moldova' : 2180, 'myanmar' : 1190, 'nauru' : 10220, 'nepal':790, 'nicaragua' : 2130,\n",
    "              'oman' : 14440, 'palau' : 12530, 'qatar' : 61070, 'rwanda' : 720, 'senegal' : 950, 'seychelles' : 14180,\n",
    "              'suriname' : 6020, 'eswatini' : 2960, 'tanzania' : 910, 'togo' : 610, 'turkmenistan' : 6650, 'uganda' : 600,\n",
    "              'united states' : 58270, 'vanuatu' : 2920}\n"
   ]
  },
  {
   "cell_type": "code",
   "execution_count": 3,
   "metadata": {
    "colab": {
     "base_uri": "https://localhost:8080/",
     "height": 107
    },
    "colab_type": "code",
    "executionInfo": {
     "elapsed": 389,
     "status": "ok",
     "timestamp": 1547243952046,
     "user": {
      "displayName": "Jaclyn Lee",
      "photoUrl": "",
      "userId": "17525286701482268466"
     },
     "user_tz": 600
    },
    "id": "26ZtW91JHeC7",
    "outputId": "54e48ce6-d0e5-461d-ff67-4874e31a90b8"
   },
   "outputs": [
    {
     "name": "stdout",
     "output_type": "stream",
     "text": [
      "{'argentina': 13040, 'bahrain': 20240, 'canada': 42870, 'estonia': 18190, 'finland': 44580, 'israel': 37270, 'kuwait': 31430, 'luxembourg': 70260, 'oman': 14440, 'palau': 12530, 'qatar': 61070, 'seychelles': 14180, 'united states': 58270}\n",
      "{'azerbaijan': 4080, 'belize': 4390, 'botswana': 6820, 'china': 8690, 'dominica': 6990, 'gabon': 6610, 'jordan': 3980, 'maldives': 9570, 'mauritius': 10140, 'nauru': 10220, 'suriname': 6020, 'turkmenistan': 6650}\n",
      "{'bangladesh': 1470, 'djibouti': 1880, 'kiribati': 2780, 'kosovo': 3890, 'lesotho': 1280, 'mauritania': 1100, 'moldova': 2180, 'myanmar': 1190, 'nicaragua': 2130, 'eswatini': 2960, 'vanuatu': 2920}\n",
      "{'afghanistan': 570, 'comoros': 760, 'guinea': 800, 'haiti': 760, 'liberia': 380, 'malawi': 320, 'nepal': 790, 'rwanda': 720, 'senegal': 950, 'tanzania': 910, 'togo': 610, 'uganda': 600}\n"
     ]
    }
   ],
   "source": [
    "# Write your code here\n",
    "\n"
   ]
  },
  {
   "cell_type": "markdown",
   "metadata": {
    "colab_type": "text",
    "id": "8BgDm_nxQ2Il"
   },
   "source": [
    "### Exercise 3\n",
    "---\n",
    "Isograms are words that do not have repeating consecutive or non-consecutive letters. Write a piece of code that determines whether a given word is an isogram or not.\n",
    "\n",
    "Hint:"
   ]
  },
  {
   "cell_type": "code",
   "execution_count": 2,
   "metadata": {
    "colab": {},
    "colab_type": "code",
    "id": "35IzsFOmMLZJ"
   },
   "outputs": [
    {
     "name": "stdout",
     "output_type": "stream",
     "text": [
      "dermatoglyphics is an isogram.\n"
     ]
    }
   ],
   "source": [
    "# Write your code here\n",
    "\n",
    "\n",
    "word = 'dermatoglyphics'\n",
    "temp = {}\n",
    "for letter in word:\n",
    "  if letter not in temp:\n",
    "    temp[letter] = 1\n",
    "  else:\n",
    "    print(word + ' is not an isogram.')\n",
    "    break\n",
    "  if len(temp) == len(word):\n",
    "    print(word + \" is an isogram.\")"
   ]
  },
  {
   "cell_type": "markdown",
   "metadata": {},
   "source": [
    "### Exercise 4\n",
    "---\n",
    "`education` is a dictionary with select nations' number of years of compulsory education in 2017. The United Staes requires 13 years of compulsory education. Write a piece of code that organizes the different nations into 3 dictionaries based on whether a nation has the more, less or the same number years of compulsory education as the United States."
   ]
  },
  {
   "cell_type": "code",
   "execution_count": 2,
   "metadata": {},
   "outputs": [],
   "source": [
    "education = {'argentina' : 14, 'azerbaijan' : 10, 'benin' : 6, 'brunei darussalam' : 9, 'cameroon' : 6, \n",
    "            'costa rica' : 13, 'curacao' : 14, 'dominica' : 12, 'dominican republic' : 15, 'eritrea' : 8, \n",
    "            'finland' : 10, 'guyana' : 6, 'indonesia' : 9, 'kyrgyz republic' : 10, 'lesotho' : 7, 'latvia' : 11, \n",
    "            'madagascar' : 5, 'mali' : 9, 'namibia' : 7, 'norway' : 10, 'peru' : 14, 'paraguay' : 13, 'singapore' : 6,\n",
    "            'el salvador' : 15, 'suriname' : 6, 'slovenia' : 9, 'thailand' : 9, 'uruguay' : 14, 'samoa' : 8}"
   ]
  },
  {
   "cell_type": "code",
   "execution_count": null,
   "metadata": {},
   "outputs": [],
   "source": [
    "# Write your code here\n",
    "\n"
   ]
  },
  {
   "cell_type": "markdown",
   "metadata": {},
   "source": [
    "### Exercise 5\n",
    "---\n",
    "Suppose you want to make an ice cream cake and you only have three cake flavors (yellow, chocolate and german chocolate) and four ice cream flavors (vanilla, chocolate, hazelnut, and oreo). Use nested `for` loops to create a list called `ice_cream_cake` with all the possible combinations of cake and ice cream flavors. Print `ice_cream_cake` after the nested `for` loops to look at the possible ice cream cake combinations."
   ]
  },
  {
   "cell_type": "code",
   "execution_count": null,
   "metadata": {},
   "outputs": [],
   "source": [
    "# Write your code here\n",
    "\n"
   ]
  }
 ],
 "metadata": {
  "colab": {
   "collapsed_sections": [],
   "name": "8 Advance Control Structures Exercises.ipynb",
   "provenance": [],
   "version": "0.3.2"
  },
  "kernelspec": {
   "display_name": "Python 3",
   "language": "python",
   "name": "python3"
  },
  "language_info": {
   "codemirror_mode": {
    "name": "ipython",
    "version": 3
   },
   "file_extension": ".py",
   "mimetype": "text/x-python",
   "name": "python",
   "nbconvert_exporter": "python",
   "pygments_lexer": "ipython3",
   "version": "3.6.6"
  }
 },
 "nbformat": 4,
 "nbformat_minor": 1
}
