{
 "cells": [
  {
   "cell_type": "markdown",
   "metadata": {
    "colab_type": "text",
    "id": "ZeD5j-LpS6jq"
   },
   "source": [
    "# Generalities Exercises\n",
    "---"
   ]
  },
  {
   "cell_type": "markdown",
   "metadata": {
    "colab_type": "text",
    "id": "qbEOiLOiTv54"
   },
   "source": [
    "### Exercise 1\n",
    "---\n",
    "Create two empty cells below: one markdown cell and one code cell. If you need a reminder on how to create cells in Jupyter Notebooks, refer to (link?)"
   ]
  },
  {
   "cell_type": "code",
   "execution_count": 0,
   "metadata": {
    "colab": {},
    "colab_type": "code",
    "id": "kMMSFXRyRSMW"
   },
   "outputs": [],
   "source": []
  },
  {
   "cell_type": "markdown",
   "metadata": {
    "colab_type": "text",
    "id": "Gbh_1b4LUWx2"
   },
   "source": [
    "### Exercise 2\n",
    "---\n",
    "Create one markdown cell in the space below. Try formating the text in regular text, and again in header text. If you need a reminder on how to create cells in Jupyter Notebooks, refer to (link?)"
   ]
  },
  {
   "cell_type": "code",
   "execution_count": 0,
   "metadata": {
    "colab": {},
    "colab_type": "code",
    "id": "dh8v2vXaUi0R"
   },
   "outputs": [],
   "source": []
  },
  {
   "cell_type": "markdown",
   "metadata": {
    "colab_type": "text",
    "id": "kHI-_IEZfFDv"
   },
   "source": [
    "### Exercise 3\n",
    "---\n",
    "\n",
    "Run the code cell below to compute: 18237+49-88"
   ]
  },
  {
   "cell_type": "code",
   "execution_count": 0,
   "metadata": {
    "colab": {},
    "colab_type": "code",
    "id": "GEO-qMAlUjUa"
   },
   "outputs": [],
   "source": [
    "18237+49-88"
   ]
  },
  {
   "cell_type": "markdown",
   "metadata": {
    "colab_type": "text",
    "id": "YvrI1LA1Ujht"
   },
   "source": [
    "### Exercise 4\n",
    "---\n",
    "\n",
    "Change the title of your Jupyter Notebook to the format: \"Last Name, First Name, Chapter 1 ITP Exercises\""
   ]
  },
  {
   "cell_type": "code",
   "execution_count": null,
   "metadata": {},
   "outputs": [],
   "source": []
  }
 ],
 "metadata": {
  "colab": {
   "name": "1. Intro to Python: Generalities Exercises.ipynb",
   "provenance": [],
   "version": "0.3.2"
  },
  "kernelspec": {
   "display_name": "Python 3",
   "language": "python",
   "name": "python3"
  },
  "language_info": {
   "codemirror_mode": {
    "name": "ipython",
    "version": 3
   },
   "file_extension": ".py",
   "mimetype": "text/x-python",
   "name": "python",
   "nbconvert_exporter": "python",
   "pygments_lexer": "ipython3",
   "version": "3.6.6"
  }
 },
 "nbformat": 4,
 "nbformat_minor": 1
}
