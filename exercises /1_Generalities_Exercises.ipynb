{
 "cells": [
  {
   "cell_type": "markdown",
   "metadata": {
    "colab_type": "text",
    "id": "ZeD5j-LpS6jq"
   },
   "source": [
    "# Generalities Exercises\n",
    "---"
   ]
  },
  {
   "cell_type": "markdown",
   "metadata": {
    "colab_type": "text",
    "id": "qbEOiLOiTv54"
   },
   "source": [
    "### Exercise 1\n",
    "---\n",
    "Create two empty cells below: one markdown cell and one code cell. If you need a reminder on how to create cells in Jupyter Notebooks, refer to (link?)"
   ]
  },
  {
   "cell_type": "markdown",
   "metadata": {
    "colab_type": "text",
    "id": "Gbh_1b4LUWx2"
   },
   "source": [
    "### Exercise 2\n",
    "---\n",
    "Create one markdown cell in the space below. Type the following: \n",
    "\n",
    "`\n",
    "hjgjhg\n",
    "`\n",
    "\n",
    "Formate the title as an H1 header (#) and format the remaining lines as regular text. If you need a reminder on how to create cells in Jupyter Notebooks, refer to (link?)"
   ]
  },
  {
   "cell_type": "markdown",
   "metadata": {
    "colab_type": "text",
    "id": "kHI-_IEZfFDv"
   },
   "source": [
    "### Exercise 3\n",
    "---\n",
    "\n",
    "Copy and run the following into a code cell.\n",
    "\n",
    "```python\n",
    "18237 + 49 - 88\n",
    "``` "
   ]
  },
  {
   "cell_type": "markdown",
   "metadata": {
    "colab_type": "text",
    "id": "YvrI1LA1Ujht"
   },
   "source": [
    "### Exercise 4\n",
    "---\n",
    "\n",
    "Change the title of this Jupyter Notebook to the format: \"FirstName_LastName_CH1\""
   ]
  },
  {
   "cell_type": "code",
   "execution_count": null,
   "metadata": {},
   "outputs": [],
   "source": []
  }
 ],
 "metadata": {
  "colab": {
   "name": "1. Intro to Python: Generalities Exercises.ipynb",
   "provenance": [],
   "version": "0.3.2"
  },
  "kernelspec": {
   "display_name": "Python 3",
   "language": "python",
   "name": "python3"
  },
  "language_info": {
   "codemirror_mode": {
    "name": "ipython",
    "version": 3
   },
   "file_extension": ".py",
   "mimetype": "text/x-python",
   "name": "python",
   "nbconvert_exporter": "python",
   "pygments_lexer": "ipython3",
   "version": "3.6.6"
  }
 },
 "nbformat": 4,
 "nbformat_minor": 1
}
