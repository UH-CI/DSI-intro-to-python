{
 "cells": [
  {
   "cell_type": "markdown",
   "metadata": {
    "colab_type": "text",
    "id": "JZDtbTxC2VRV"
   },
   "source": [
    "# Introduction: Data Science\n",
    "---\n",
    "\n",
    "We live in a world brimming with data and information. However, as data collection is becoming increasingly effortless, the burden of extracting valuable information is shifting to data science, which is a field of study where meaningful conclusions are drawn from analyzing large data sets. The conclusions extrapolated from these data sets have great potential to benefit many people and shape society. Although data science is a robust field on its own, it has a plethora of applications that can be seen in the industry, academia as well as people's personal lives.\n",
    "\n",
    "Learning the principles and foundations of data science will not only help people become better data scientists, but also teach them to think critically from a broader perspective. Data science relies heavily on the use of programming for analyzing data and this module will introduce the foundations of Python which is one of the most useful tools in the data scientist's tool belt.\n",
    "\n",
    "\n"
   ]
  },
  {
   "cell_type": "markdown",
   "metadata": {
    "colab_type": "text",
    "id": "VSWevzed3G5P"
   },
   "source": [
    "# Why Python?\n",
    "\n",
    "---\n",
    "\n",
    "This module focuses on learning the basics of Python in the context of data science. Python is an excellent programming language for data science because it is efficient and relatively easy to learn. Furthermore, Python is open-source, which means that it is free to download and install. The Python community is also very active with a lot of online support and open-source libraries for various applications including data science. Although this module focuses on Python applied to data science, Python is a great programming language for a wide variety of other applications. For example, Python can also be used to develop video games, model biological and biochemical processes, develop web based applications and much more!\n"
   ]
  },
  {
   "cell_type": "markdown",
   "metadata": {
    "colab_type": "text",
    "id": "fNAaOX1iFiWu"
   },
   "source": [
    "# Getting Started\n",
    "---\n",
    "\n",
    "## Installing Python\n",
    "If you don't already have Python, we recommend installing it through Anaconda since it comes bundled with Jupyter notebooks, which we will be using throughout this module. You can download the Anaconda distribution at [https://www.anaconda.com/download/](https://www.anaconda.com/download/).  More information regarding installing Python can be found __here__ (link to be set up later).\n",
    "\n",
    "\n",
    "\n",
    "\n",
    "\n"
   ]
  },
  {
   "cell_type": "markdown",
   "metadata": {
    "colab_type": "text",
    "id": "k04oShbwSK5W"
   },
   "source": [
    "## Using Jupyter Notebooks\n",
    "---\n",
    "This module exists as a Jupyter notebook -- an open-source web based application that allows users to create documents that combine both text and code cells. A brief overview of Jupyter notebooks can be found here:\n",
    "\n",
    "https://www.youtube.com/watch?v=CwFq3YDU6_Y"
   ]
  },
  {
   "cell_type": "markdown",
   "metadata": {
    "colab_type": "text",
    "id": "fehp2bHIUaf6"
   },
   "source": [
    "### Text Cells\n",
    "\n",
    "Text cells are commonly formatted using Markdown. Check out the [Markdown Cheatsheet](https://github.com/adam-p/markdown-here/wiki/Markdown-Cheatsheet) if you want to learn more. \n",
    "\n",
    "To create a new cell, click the plus sign in the tool bar and make sure the toolbar says Markdown. To edit a cell, double click on it. After creating or editing a text cell, be sure to click the run button at the top of the tool bar to confirm any changes.\n",
    "\n",
    "\n",
    "\n",
    "<img src=\"images/Jupyter_notebooks/create_text_cell.png\" alt=\"drawing\" style=\"width:800px;\"/>\n",
    "\n",
    "\n",
    "To edit a cell, double click on it and start typing.  For example, if you want to use the largest header, you could type ```# Header One``` into a text cell to yield: \n",
    "\n",
    "# Header One.\n",
    "\n",
    "As another example, you can create a strikethrough text using tildes. Typing ```~~ strikethrough ~~``` will translate into: ~~ strikethrough ~~.\n",
    "\n",
    "After creating or editing a text cell, be sure to click the run button at the top of the tool bar to confirm any changes. You can also press **SHIFT+ENTER** to confirm changes.\n",
    "\n",
    "\n",
    "<img src=\"images/Jupyter_notebooks/run_text_cell.png\" alt=\"drawing\" style=\"width:800px;\"/>"
   ]
  },
  {
   "cell_type": "markdown",
   "metadata": {
    "colab_type": "text",
    "id": "ddK595poUkQA"
   },
   "source": [
    "#### Practice Text Cell\n",
    "\n",
    "Try creating and editing your own text cells. Create a cell below this one and use the Markdown cheatsheet to create a bullet point list of ideas for projects in Python. Be sure to give your list a title and put the title as a header. For instance:\n",
    "\n",
    "#### Some Future Projects\n",
    "\n",
    "* Build a Facebook clone\n",
    "* Build a web page for my community center\n",
    "\n",
    "\n",
    "\n",
    "\n",
    "\n",
    "\n"
   ]
  },
  {
   "cell_type": "markdown",
   "metadata": {
    "colab_type": "text",
    "id": "GpuKkHBa5KBO"
   },
   "source": [
    "#### Text Cells Quiz Questions\n",
    "---\n",
    "#### Quiz 1\n",
    "\n",
    "How would you italicize text in Markdown? \n",
    "\n",
    "A. `*text*`\n",
    "\n",
    "B.`**text**`\n",
    "\n",
    "C. `_text_`\n",
    "\n",
    "D. `__text__`"
   ]
  },
  {
   "cell_type": "markdown",
   "metadata": {
    "colab_type": "text",
    "id": "ZcPzPwSr6trW"
   },
   "source": [
    "#### Quiz 2\n",
    "\n",
    "Which Markdown syntax is used to insert a horizontal line in a cell?"
   ]
  },
  {
   "cell_type": "markdown",
   "metadata": {
    "colab_type": "text",
    "id": "LFkqWqTDUe32"
   },
   "source": [
    "### Code Cells \n",
    "\n",
    "New cells are by default `code` cells, i.e., the dropdown value is automatically set to code.\n",
    "\n",
    "\n",
    "<img src=\"images/Jupyter_notebooks/create_code_cell.png\" alt=\"drawing\" style=\"width:800px;\"/>\n",
    "\n",
    "\n",
    "You can run code cells by selecting the cell (clicking inside the cell) and then either hitting __SHIFT+ENTER__  or clicking the run button at the top of the tool bar. Running code cells will execute all the code in the cell.\n",
    "\n",
    "\n",
    "<img src=\"images/Jupyter_notebooks/run_code_cell.png\" alt=\"drawing\" style=\"width:800px;\"/>"
   ]
  },
  {
   "cell_type": "markdown",
   "metadata": {
    "colab_type": "text",
    "id": "7zSsE5JR7ST0"
   },
   "source": [
    "#### Quiz 3 \n",
    "\n",
    "What does the followind code print?\n",
    "Execute the code in the cell below and select the appropriate answer.\n",
    "\n",
    "\n",
    "A. 75\n",
    "\n",
    "B.  3.14\n",
    "\n",
    "C. 122 \n",
    "\n",
    "D. Error\n",
    "\n"
   ]
  },
  {
   "cell_type": "code",
   "execution_count": 0,
   "metadata": {
    "colab": {
     "base_uri": "https://localhost:8080/",
     "height": 35
    },
    "colab_type": "code",
    "executionInfo": {
     "elapsed": 628,
     "status": "ok",
     "timestamp": 1547253748586,
     "user": {
      "displayName": "Mahdi Belcaid",
      "photoUrl": "",
      "userId": "04817344393223947441"
     },
     "user_tz": 600
    },
    "id": "8revQVXyXytQ",
    "outputId": "ddcc3c4f-f8d8-4ad9-cb39-30eb4d6ac158"
   },
   "outputs": [
    {
     "data": {
      "text/plain": [
       "75"
      ]
     },
     "execution_count": 1,
     "metadata": {
      "tags": []
     },
     "output_type": "execute_result"
    }
   ],
   "source": [
    "int((((100 - 5) ** 1.2) + 1) / 3.14)"
   ]
  }
 ],
 "metadata": {
  "colab": {
   "collapsed_sections": [],
   "name": "1. Intro to Python: Jupyter_notebooks.ipynb",
   "provenance": [],
   "version": "0.3.2"
  },
  "kernelspec": {
   "display_name": "Python 3",
   "language": "python",
   "name": "python3"
  },
  "language_info": {
   "codemirror_mode": {
    "name": "ipython",
    "version": 3
   },
   "file_extension": ".py",
   "mimetype": "text/x-python",
   "name": "python",
   "nbconvert_exporter": "python",
   "pygments_lexer": "ipython3",
   "version": "3.6.6"
  }
 },
 "nbformat": 4,
 "nbformat_minor": 1
}
