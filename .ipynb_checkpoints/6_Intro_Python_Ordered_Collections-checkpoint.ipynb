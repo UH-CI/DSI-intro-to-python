{
 "cells": [
  {
   "cell_type": "markdown",
   "metadata": {
    "colab_type": "text",
    "id": "6_31BtgNYPQE"
   },
   "source": [
    "# Ordered Collections\n",
    "---\n",
    "In data science, it is common to encounter data that has thousands or even millions of values, such as the ages of registered voters or past avocado prices in California. *Collections* are variables that can store many values in one place. *Ordered collections* store items in a given order, and the items within these collections are identified by their position in the collection. There are two types of ordered collections: *lists* and *tuples*. This chapter will explore how to work with lists and tuples as well as how to iterate through ordered collections. "
   ]
  },
  {
   "cell_type": "markdown",
   "metadata": {
    "colab_type": "text",
    "id": "vAPVbApxbdz3"
   },
   "source": [
    "## Lists\n",
    "---\n",
    "Lists are mutable collections that allow one to store multiple pieces of information in one variable. For example, a list could include the five most popular dog names in New York City, the ages of kids in a kindergarten class or the record high temperatures of multiple cities across the world. Lists can contain variables of any type, including strings, numbers and other lists (more on that in following chapters). This section will explain how to create a list, index values within a list and manipulate its elements. \n"
   ]
  },
  {
   "cell_type": "markdown",
   "metadata": {
    "colab_type": "text",
    "id": "vbRQvW2o7GXX"
   },
   "source": [
    "#### Creating a list\n",
    "---\n",
    "In Python, lists are created using square brackets (`[]`), and individual elements in a list are separated by commas (`,`). Similar to scalars, the entire list is assigned to a descriptive variable name.\n",
    "\n",
    "List can contain elements of different data types.  \n",
    "\n",
    "```python\n",
    "mixed_data_types_list = ['one', 'five', 3, 'fourteen']\n",
    "\n",
    "integer_list = [1, 2, 3, 4, 5]\n",
    "```\n"
   ]
  },
  {
   "cell_type": "markdown",
   "metadata": {
    "colab_type": "text",
    "id": "fOIRbu1nM1hM"
   },
   "source": [
    "#### Example 1\n",
    "\n",
    "Python strings support Unicode, which is a system that encodes characters with numbers. This means that Python strings can support emojis like a thumbs up or smiley faces. Let's create a list that contain the emojis for the suits in a deck of cards."
   ]
  },
  {
   "cell_type": "code",
   "execution_count": 1,
   "metadata": {
    "colab": {
     "base_uri": "https://localhost:8080/",
     "height": 34
    },
    "colab_type": "code",
    "executionInfo": {
     "elapsed": 536,
     "status": "ok",
     "timestamp": 1539725245664,
     "user": {
      "displayName": "Jaclyn Lee",
      "photoUrl": "",
      "userId": "17525286701482268466"
     },
     "user_tz": 600
    },
    "id": "zPGIXu-bOsl7",
    "outputId": "01d71b12-dd31-4e40-ef88-32100dceda9a"
   },
   "outputs": [
    {
     "data": {
      "text/plain": [
       "['♤', '♡', '♢', '♧']"
      ]
     },
     "execution_count": 1,
     "metadata": {},
     "output_type": "execute_result"
    }
   ],
   "source": [
    "suits = [\"♤\", \"♡\", \"♢\", \"♧\"]\n",
    "suits"
   ]
  },
  {
   "cell_type": "markdown",
   "metadata": {
    "colab_type": "text",
    "id": "xTo_6Ecd4tIg"
   },
   "source": [
    "#### Quiz\n",
    "---\n",
    "True or False: Python lists must contain only one data type."
   ]
  },
  {
   "cell_type": "markdown",
   "metadata": {
    "colab_type": "text",
    "id": "Ed9Iiz97rsla"
   },
   "source": [
    "### Indexing Elements in a List\n",
    "---\n",
    "\n",
    "#### Indexing Single Elements in a List\n",
    "\n",
    "After creating a list, it is useful to be able to refer to specific elements within the list. An element in a list can be referred to using its numbered position, which is called an index. In Python, indices are integer numbers that range **from 0 to one less than the total number of elements** in a list. For example, in our `suits` list, `\"♤\"` has an index of 0, `\"♡\"` has an index of 1, `\"♢\"` has an index of 2, and `\"♧\"` has an index of 3.\n",
    "\n",
    "Elements can also be indexed using their position relative to the end of a list by using negative numbers. The last element in a list has in index of -1 and the second to the last element in a list has an index of -2 and so on.\n",
    "\n",
    "\n",
    "<img src=\"images/ordered_collections/single_indexing_suits.JPG\" alt=\"drawing\" style=\"width:500px;\"/>\n",
    "Now that we know how to determine the indices of elements in a list, we can access elements by typing the list name followed by square brackets containing the target index. \n",
    "\n",
    "```python\n",
    "list_name[index]\n",
    "```\n",
    "This will return the specified element to the line it was called, allowing you to perform various operations on it like saving it to another variable or printing it.\n",
    "\n",
    "\n",
    "\n"
   ]
  },
  {
   "cell_type": "markdown",
   "metadata": {
    "colab_type": "text",
    "id": "62Y0CHcqWOvP"
   },
   "source": [
    "#### Example 2\n",
    "\n",
    "Let's practice referring to elements in our `suits` list by directly printing the elements in `suits`."
   ]
  },
  {
   "cell_type": "code",
   "execution_count": 3,
   "metadata": {
    "colab": {
     "base_uri": "https://localhost:8080/",
     "height": 87
    },
    "colab_type": "code",
    "executionInfo": {
     "elapsed": 421,
     "status": "ok",
     "timestamp": 1538781579985,
     "user": {
      "displayName": "Jaclyn Lee",
      "photoUrl": "",
      "userId": "17525286701482268466"
     },
     "user_tz": 600
    },
    "id": "UYwX1FdCa8KP",
    "outputId": "8f2ab198-8f82-4774-da73-88aead6cd84f"
   },
   "outputs": [
    {
     "name": "stdout",
     "output_type": "stream",
     "text": [
      "♤\n",
      "♡\n",
      "♢\n",
      "♧\n"
     ]
    }
   ],
   "source": [
    "suits = [\"♤\", \"♡\", \"♢\", \"♧\"]\n",
    "\n",
    "print(suits[0])\n",
    "print(suits[1])\n",
    "print(suits[2])\n",
    "print(suits[3])"
   ]
  },
  {
   "cell_type": "markdown",
   "metadata": {
    "colab_type": "text",
    "id": "5COx6HWqX5SC"
   },
   "source": [
    "Now lets print the elements in `suits` again, but by assigning them to their own variables. This time we will use the negative indices."
   ]
  },
  {
   "cell_type": "code",
   "execution_count": 4,
   "metadata": {
    "colab": {
     "base_uri": "https://localhost:8080/",
     "height": 87
    },
    "colab_type": "code",
    "executionInfo": {
     "elapsed": 407,
     "status": "ok",
     "timestamp": 1538779751993,
     "user": {
      "displayName": "Jaclyn Lee",
      "photoUrl": "",
      "userId": "17525286701482268466"
     },
     "user_tz": 600
    },
    "id": "HO_DXr1TW4WZ",
    "outputId": "bc8f704a-c71b-4790-c3a2-2541eed41983"
   },
   "outputs": [
    {
     "name": "stdout",
     "output_type": "stream",
     "text": [
      "♤\n",
      "♡\n",
      "♢\n",
      "♧\n"
     ]
    }
   ],
   "source": [
    "spade = suits[-4]\n",
    "print(spade)\n",
    "\n",
    "heart = suits[-3] \n",
    "print(heart)\n",
    "\n",
    "diamond = suits[-2]\n",
    "print(diamond)\n",
    "\n",
    "club = suits[-1] \n",
    "print(club)\n"
   ]
  },
  {
   "cell_type": "markdown",
   "metadata": {},
   "source": [
    "If we try to use an index outside of the list range, Python will return an error. See below for an example of this."
   ]
  },
  {
   "cell_type": "code",
   "execution_count": 5,
   "metadata": {},
   "outputs": [
    {
     "ename": "IndexError",
     "evalue": "list index out of range",
     "output_type": "error",
     "traceback": [
      "\u001b[0;31m---------------------------------------------------------------------------\u001b[0m",
      "\u001b[0;31mIndexError\u001b[0m                                Traceback (most recent call last)",
      "\u001b[0;32m<ipython-input-5-01b1adc25d84>\u001b[0m in \u001b[0;36m<module>\u001b[0;34m()\u001b[0m\n\u001b[0;32m----> 1\u001b[0;31m \u001b[0msuits\u001b[0m\u001b[0;34m[\u001b[0m\u001b[0;36m100\u001b[0m\u001b[0;34m]\u001b[0m\u001b[0;34m\u001b[0m\u001b[0m\n\u001b[0m",
      "\u001b[0;31mIndexError\u001b[0m: list index out of range"
     ]
    }
   ],
   "source": [
    "suits[100]"
   ]
  },
  {
   "cell_type": "markdown",
   "metadata": {
    "colab_type": "text",
    "id": "YqfrsSFR7FwA"
   },
   "source": [
    "#### Quiz\n",
    "---\n",
    "\n",
    "What are the two ways you can refer to the second element in the following list:\n",
    "```python\n",
    "card_suits = ['spade', 'heart', 'diamond', 'club']\n",
    "```\n",
    "\n",
    "A.  `card_suits[2]` and `card_suits[-3]`\n",
    "\n",
    "B. `card_suits[1]` and `card_suits[-3]`\n",
    "\n",
    "C. `card_suits[1]` and `card_suits[-2]`\n",
    "\n",
    "D. `card_suits[2]` and `card_suits[-2]`\n",
    "\n",
    "\n"
   ]
  },
  {
   "cell_type": "markdown",
   "metadata": {
    "colab_type": "text",
    "id": "4nke8SybdLFF"
   },
   "source": [
    "#### Indexing a Range of Values in a List\n",
    "\n",
    "Multiple elements of a list can referenced at once using *slicing*. An array slice is a subset of consecutive elements of an array. \n",
    "\n",
    "A slice is typically specified using the `[x:y]` syntax, where `x` is the position of the first desired elements of the slice and `y` is the end element, which will not be included in the slice.\n",
    "\n",
    "For example, if we wanted to index the first three values in the `suits` list, we could use:\n",
    "`suits[0:3]`\n",
    "\n",
    "From the notation above, we see that the element 0 (\"♤\") will be included in the slice, whereas the element \"♧\" will not be included. Thus, the slice will comprise \"♤\", \"♡\", \"♢\".\n",
    "\n",
    "As a convenience, Python provides shortcuts for indexing a range of values and omitting the first, the second or even both indices. For instance, if the first index is omitted, Python will assume that it's 0,\n",
    "\n",
    "\n",
    "```python\n",
    "copy_list_name = original_list_name[: limit_last_index]\n",
    "```\n",
    "\n",
    "Similarly, by leaving the second index blank, Python will copy the list starting from the first index specified all the way until (and this time including) the last element of the array. \n",
    "\n",
    "```python\n",
    "copy_list_name = original_list_name[first_index:]\n",
    "```\n",
    "\n",
    "Lastly, a single colon without indexes instructs Python to copy the entire list. \n",
    "\n",
    "```python\n",
    "copy_list_name = original_list_name[:]\n",
    "\n",
    "```\n",
    "\n",
    "These shortcuts are very useful for simplifying slicing syntax and are commonly used in Python code.  Let's look at some examples of slicing using the `suits` list."
   ]
  },
  {
   "cell_type": "markdown",
   "metadata": {
    "colab_type": "text",
    "id": "gQhoRP9Bh57S"
   },
   "source": [
    "#### Example 3\n",
    "\n",
    "Using the `suits` list, we will demonstrate the different ways you can reference a range of values in `suits`. "
   ]
  },
  {
   "cell_type": "code",
   "execution_count": 6,
   "metadata": {
    "colab": {
     "base_uri": "https://localhost:8080/",
     "height": 212
    },
    "colab_type": "code",
    "executionInfo": {
     "elapsed": 457,
     "status": "ok",
     "timestamp": 1548791017301,
     "user": {
      "displayName": "Jaclyn Lee",
      "photoUrl": "",
      "userId": "17525286701482268466"
     },
     "user_tz": 600
    },
    "id": "o8rvheyXj4Z7",
    "outputId": "c5fc1637-c7f0-446b-c2b2-e1a469a4261f"
   },
   "outputs": [
    {
     "name": "stdout",
     "output_type": "stream",
     "text": [
      "Printing the first three elements:\n",
      "['♤', '♡', '♢']\n",
      "['♤', '♡', '♢']\n",
      "Printing the last two elements:\n",
      "['♢', '♧']\n",
      "['♢', '♧']\n",
      "Referring to the entire suits list:\n",
      "['♤', '♡', '♢', '♧']\n",
      "['♤', '♡', '♢', '♧']\n",
      "['♤', '♡', '♢', '♧']\n",
      "['♤', '♡', '♢', '♧']\n"
     ]
    }
   ],
   "source": [
    "suits = [\"♤\", \"♡\", \"♢\", \"♧\"]\n",
    "\n",
    "print('Printing the first three elements:')\n",
    "print(suits[0:3])\n",
    "print(suits[:3])\n",
    "\n",
    "print('Printing the last two elements:')\n",
    "print(suits[2:4])\n",
    "print(suits[2:])\n",
    "\n",
    "print('Referring to the entire suits list:')\n",
    "print(suits[0:4])\n",
    "print(suits[:4])\n",
    "print(suits[0:])\n",
    "print(suits[:])"
   ]
  },
  {
   "cell_type": "markdown",
   "metadata": {
    "colab_type": "text",
    "id": "Bq8K3WZXk6-8"
   },
   "source": [
    "As you can see, there are multiple ways you can slice a list and achieve the same result. However, using the shortcuts will save you some effort when writing your code."
   ]
  },
  {
   "cell_type": "markdown",
   "metadata": {
    "colab_type": "text",
    "id": "FuAFIAqy9Cwg"
   },
   "source": [
    "#### Quiz \n",
    "---\n",
    "\n",
    "The following list shows monthly inflation rates from January 2018 to November 2018. How do you slice the first six months of data from this list?\n",
    "```python\n",
    "monthly_inflation = [2.04, 2.10, 2.09, 2.13, 2.14, 2.12, 2.12, 2.10, 2.12, 2.11, 2.01]\n",
    "```\n",
    "\n",
    "A. `monthly_inflation[0:6]`\n",
    "\n",
    "B. `monthly_inflation[:6]`\n",
    "\n",
    "C. `monthly_inflation[:-6]`\n",
    "\n",
    "D. `monthly_inflation[1:6]`"
   ]
  },
  {
   "cell_type": "markdown",
   "metadata": {
    "colab_type": "text",
    "id": "OLAkdUkwDAiI"
   },
   "source": [
    "#### Quiz\n",
    "---\n",
    "\n",
    "Type one of the ways you can copy the entire `monthly_inflation`:"
   ]
  },
  {
   "cell_type": "markdown",
   "metadata": {
    "colab_type": "text",
    "id": "ZZQHzjXCsFLf"
   },
   "source": [
    "### Manipulating Elements\n",
    "---\n",
    "When working with data, observations may change, new values might need to be added, and existing values might need to be amended or sorted. Most data is dynamic; the most popular emojis may change following a new iOS release, new kids might be entering or dropping out from a kindergarten class, the average weekly price of avocados might have skyrocketed following an avocado toast craze. As you'd recall, lists are mutable collections, and can be modified to add, remove or modify elements using built-in methods. We will cover these three operations in what comes next.\n"
   ]
  },
  {
   "cell_type": "markdown",
   "metadata": {
    "colab_type": "text",
    "id": "urHwzQAUdpGs"
   },
   "source": [
    "#### Updating Elements\n",
    "\n",
    "Updating an existing element in a list can be performed using the assignment operator, `=`, to assign a new value to an index in the list.\n",
    "```python\n",
    "list_name[index] = new value\n",
    "```"
   ]
  },
  {
   "cell_type": "markdown",
   "metadata": {
    "colab_type": "text",
    "id": "IEqtMEKQuBYq"
   },
   "source": [
    "#### Example 4\n",
    "\n",
    "According to Apple, the most used emojis in 2017 in the US -- in order of popularity -- are: 😂, ❤, 😭, 😍, 😘, and 🙄. Ranking of emojis change according to popular culture. So, if the smiling face with smiling eyes emoji 😊 replaces the rolling eyes emoji 🙄 at the sixth position, we can easily updates our ranking to account for the new change as follows."
   ]
  },
  {
   "cell_type": "code",
   "execution_count": 7,
   "metadata": {
    "colab": {
     "base_uri": "https://localhost:8080/",
     "height": 34
    },
    "colab_type": "code",
    "executionInfo": {
     "elapsed": 478,
     "status": "ok",
     "timestamp": 1539223003161,
     "user": {
      "displayName": "Jaclyn Lee",
      "photoUrl": "",
      "userId": "17525286701482268466"
     },
     "user_tz": 600
    },
    "id": "Qt7QSE0kwEyu",
    "outputId": "7d066e84-16f9-401b-eb48-59ef02aa1e8e"
   },
   "outputs": [
    {
     "data": {
      "text/plain": [
       "'😊'"
      ]
     },
     "execution_count": 7,
     "metadata": {},
     "output_type": "execute_result"
    }
   ],
   "source": [
    "emojis_2017 = ['😂', '❤', '😭', '😍', '😘', '🙄']\n",
    "\n",
    "emojis_2017[-1] = '😊' \n",
    "\n",
    "emojis_2017[-1] "
   ]
  },
  {
   "cell_type": "markdown",
   "metadata": {
    "colab_type": "text",
    "id": "cUAeP6hxBRCe"
   },
   "source": [
    "#### Adding Elements\n",
    "\n",
    "In addition to updating, it's commonly very useful to add new elements into a an existing list. This is achieved using  the method `append()`, which takes a new element as a parameter and appends it to the end of the list. \n",
    "\n",
    "```python\n",
    "list_name.append(new_element)\n",
    "```\n",
    "\n",
    "List can also insert new elements at a specific index (or position) using the method `insert()`, which takes the index where the element should be inserted as the first parameter and the new element as the second parameter. \n",
    "\n",
    "```python\n",
    "list_name.insert(index, new element)\n",
    "```"
   ]
  },
  {
   "cell_type": "markdown",
   "metadata": {
    "colab_type": "text",
    "id": "LcO3Fsp7FpDj"
   },
   "source": [
    "#### Example 5\n",
    "\n",
    "Let's use the `append()` and `insert()` methods expand the list of popular emojis which we store in the list `emojis_2017`. First, we'll use `append()` to add back 🙄 to the list."
   ]
  },
  {
   "cell_type": "code",
   "execution_count": 11,
   "metadata": {
    "colab": {
     "base_uri": "https://localhost:8080/",
     "height": 34
    },
    "colab_type": "code",
    "executionInfo": {
     "elapsed": 421,
     "status": "ok",
     "timestamp": 1548791140371,
     "user": {
      "displayName": "Jaclyn Lee",
      "photoUrl": "",
      "userId": "17525286701482268466"
     },
     "user_tz": 600
    },
    "id": "yHWTDp-W37Pj",
    "outputId": "81117f72-789d-418f-be85-8326a556896a"
   },
   "outputs": [
    {
     "data": {
      "text/plain": [
       "['😂', '❤', '😭', '😍', '😘', '😊', '🙄']"
      ]
     },
     "execution_count": 11,
     "metadata": {},
     "output_type": "execute_result"
    }
   ],
   "source": [
    "emojis_2017 = ['😂', '❤', '😭', '😍', '😘', '😊']\n",
    "emojis_2017.append('🙄') \n",
    "emojis_2017"
   ]
  },
  {
   "cell_type": "markdown",
   "metadata": {},
   "source": [
    "Using  `insert()`, we can add 🤔 as the second element of the list."
   ]
  },
  {
   "cell_type": "code",
   "execution_count": 12,
   "metadata": {},
   "outputs": [
    {
     "data": {
      "text/plain": [
       "['😂', '🤔', '❤', '😭', '😍', '😘', '😊', '🙄']"
      ]
     },
     "execution_count": 12,
     "metadata": {},
     "output_type": "execute_result"
    }
   ],
   "source": [
    "emojis_2017.insert(1, '🤔')\n",
    "emojis_2017"
   ]
  },
  {
   "cell_type": "markdown",
   "metadata": {
    "colab_type": "text",
    "id": "vQvkLGrBHrq5"
   },
   "source": [
    "#### Removing Elements\n",
    "\n",
    "Lastly, a set of operations on a list wouldn't be complete without a method remove elements. The `pop()` does exactly that by taking an index as input and popping, or removing, the element at the the given index. The element removed is also returned and can, therefore, be stored in a variable. \n",
    "\n",
    "```python\n",
    "new_variable = list_name.pop(index)\n",
    "```"
   ]
  },
  {
   "cell_type": "markdown",
   "metadata": {
    "colab_type": "text",
    "id": "NX0KhHnHOHau"
   },
   "source": [
    "#### Example 6\n",
    "\n",
    "This example demonstrates how to remove elements using `pop()`. The 😊 emoji will be removed using `pop()` and saved into another variable called `smiley`."
   ]
  },
  {
   "cell_type": "code",
   "execution_count": 0,
   "metadata": {
    "colab": {
     "base_uri": "https://localhost:8080/",
     "height": 52
    },
    "colab_type": "code",
    "executionInfo": {
     "elapsed": 447,
     "status": "ok",
     "timestamp": 1539225527427,
     "user": {
      "displayName": "Jaclyn Lee",
      "photoUrl": "",
      "userId": "17525286701482268466"
     },
     "user_tz": 600
    },
    "id": "ZiEbqHJvPH55",
    "outputId": "cd6298f4-b98f-48fc-b171-f1ef15e59b88"
   },
   "outputs": [
    {
     "name": "stdout",
     "output_type": "stream",
     "text": [
      "['😂', '🤔', '❤', '😭', '😍', '😘', '🙄']\n"
     ]
    },
    {
     "data": {
      "text/plain": [
       "'😊'"
      ]
     },
     "execution_count": 7,
     "metadata": {
      "tags": []
     },
     "output_type": "execute_result"
    }
   ],
   "source": [
    "emojis_2017 = ['😂', '🤔', '❤', '😭', '😍', '😘', '😊', '🙄']\n",
    "smiley = emojis_2017.pop(-2)\n",
    "print(emojis_2017)\n",
    "smiley\n"
   ]
  },
  {
   "cell_type": "markdown",
   "metadata": {
    "colab_type": "text",
    "id": "j-5dqbf9CWwx"
   },
   "source": [
    "#### Quiz\n",
    "---\n",
    "\n",
    "```python\n",
    "monthly_inflation = [2.04, 2.10, 2.09, 2.13, 2.14, 2.12, 2.12, 2.10, 2.12, 2.11, 2.01]\n",
    "```\n",
    "Let's return to our `monthly_inflation` list, which only contains inflation values until November. The inflation rate for December 2018 is 1.58%. Write a Python expression that will allow you to update the `monthly_inflation` list by adding the new value associated with December.\n"
   ]
  },
  {
   "cell_type": "code",
   "execution_count": null,
   "metadata": {
    "collapsed": true
   },
   "outputs": [],
   "source": [
    "# Write you code here\n"
   ]
  },
  {
   "cell_type": "markdown",
   "metadata": {
    "colab_type": "text",
    "id": "EcxLQVRzFA0l"
   },
   "source": [
    "#### Quiz\n",
    "---\n",
    "\n",
    "Let's say the the December value was improperly computed; it should have been 1.81%. Which of the following expression correctly update the value?\n",
    "\n",
    "\n",
    "A. \n",
    "```python\n",
    "monthly_inflation.pop(11)\n",
    "monthly_inflation[-1] = 1.81\n",
    "```\n",
    "B. \n",
    "```python\n",
    "monthly_inflation.pop(11)\n",
    "monthly_inflation.append(1.81)\n",
    "```\n",
    "C. \n",
    "```python\n",
    "monthly_inflation.append(1.81)\n",
    "```\n",
    "D. \n",
    "```python\n",
    "monthly_inflation[-1] = 1.81\n",
    "```"
   ]
  },
  {
   "cell_type": "markdown",
   "metadata": {
    "colab_type": "text",
    "id": "fkjtblrHbix0"
   },
   "source": [
    "## Tuples\n",
    "---\n",
    "\n",
    "The second type of ordered collections are *tuples*. Tuples are like lists, in that they can contain multiple elements in a specific order and those elements can be of any data type. However, unlike list, tuples are immutable. Tuples are useful when storing data that will not change, such as GPS coordinates of a city, or historical dates. Storing data in a tuple can prevent your from inadvertently updating their values and lets people reading your code know that the data should not change.\n"
   ]
  },
  {
   "cell_type": "markdown",
   "metadata": {
    "colab_type": "text",
    "id": "Evk4AMiEGirM"
   },
   "source": [
    "Tuples can be created using a set of parenthesis. Like all other variables, a variable name and the assignment operator (`=`) is needed to assign a tuple to a variable. \n",
    "\n",
    "```python\n",
    "tuple_name = (element_1, element_2, ...)\n",
    "```\n",
    "\n",
    "<img src=\"images/ordered_collections/tuple_example.JPG\" alte=\"drawing\" style=\"width:800px;\"/>\n"
   ]
  },
  {
   "cell_type": "markdown",
   "metadata": {
    "colab_type": "text",
    "id": "URnAZ3rrINP3"
   },
   "source": [
    "#### Example 7\n",
    "\n",
    "Let's create a simple tuple containing Honolulu's longitude, latitude, elevation in meters and area in square kilometers (\"21 18' N\", \"157 51' W\", 6, 177.2). \n"
   ]
  },
  {
   "cell_type": "code",
   "execution_count": 7,
   "metadata": {
    "colab": {
     "base_uri": "https://localhost:8080/",
     "height": 34
    },
    "colab_type": "code",
    "executionInfo": {
     "elapsed": 440,
     "status": "ok",
     "timestamp": 1548791332554,
     "user": {
      "displayName": "Jaclyn Lee",
      "photoUrl": "",
      "userId": "17525286701482268466"
     },
     "user_tz": 600
    },
    "id": "sVcnBsYbIYW5",
    "outputId": "3651c165-429c-4237-f0e0-e2e6029dade7"
   },
   "outputs": [
    {
     "data": {
      "text/plain": [
       "(\"21° 18' N\", \"157° 51' W\", 6, 177.2)"
      ]
     },
     "execution_count": 7,
     "metadata": {},
     "output_type": "execute_result"
    }
   ],
   "source": [
    "honolulu = (\"21° 18' N\", \"157° 51' W\", 6, 177.2)\n",
    "honolulu"
   ]
  },
  {
   "cell_type": "markdown",
   "metadata": {
    "colab_type": "text",
    "id": "85-JAZvvKIJ6"
   },
   "source": [
    "Because tuples are a type of ordered collection, the latitude and longitude values in the `honolulu` tuple can be indexed in the same way that elements are indexed in lists. \n",
    "\n",
    "```python\n",
    "honolulu[index]\n",
    "```\n",
    "Multiple values can also be sliced from tuples, using the same methods we used for lists. For instance, we can extract latitude and longitude using the following:\n",
    "\n",
    "```python\n",
    "honolulu[first_index : limit_last_index]\n",
    "```\n",
    "\n",
    "Since tuples are immutable, individual elements in a tuple cannot be removed or changed"
   ]
  },
  {
   "cell_type": "markdown",
   "metadata": {
    "colab_type": "text",
    "id": "h102JhdZHkKi"
   },
   "source": [
    "#### Example 8\n",
    "\n",
    "Let's practice indexing elements in a tuple. We will index the first element, the last element and slice the first two elements in `honolulu`."
   ]
  },
  {
   "cell_type": "code",
   "execution_count": 2,
   "metadata": {
    "colab": {
     "base_uri": "https://localhost:8080/",
     "height": 70
    },
    "colab_type": "code",
    "executionInfo": {
     "elapsed": 589,
     "status": "ok",
     "timestamp": 1548791356868,
     "user": {
      "displayName": "Jaclyn Lee",
      "photoUrl": "",
      "userId": "17525286701482268466"
     },
     "user_tz": 600
    },
    "id": "oTvCCUoZIotR",
    "outputId": "3f10aed4-cf23-4c5b-fb65-e66ce38c09d5"
   },
   "outputs": [
    {
     "name": "stdout",
     "output_type": "stream",
     "text": [
      "21 18' N\n",
      "177.2\n",
      "(\"21 18' N\", \"157 51' W\")\n"
     ]
    }
   ],
   "source": [
    "print(honolulu[0])\n",
    "print(honolulu[-1])\n",
    "print(honolulu[:2])\n"
   ]
  },
  {
   "cell_type": "markdown",
   "metadata": {
    "colab_type": "text",
    "id": "eh6uxFLON21g"
   },
   "source": [
    "In this respect, tuples are a lot like lists, since we can use the same method to index both lists and tuples. However, tuples are immutable, so we cannot do the same manipulations we did on lists with tuples. The example below demonstrates what happens when you try to manipulate a tuple."
   ]
  },
  {
   "cell_type": "markdown",
   "metadata": {
    "colab_type": "text",
    "id": "hLA9cRh7PC3E"
   },
   "source": [
    "#### Example 9\n",
    "\n",
    "Let's try to change the first value in our tuple to a new random number and see what happens."
   ]
  },
  {
   "cell_type": "code",
   "execution_count": 4,
   "metadata": {
    "colab": {
     "base_uri": "https://localhost:8080/",
     "height": 168
    },
    "colab_type": "code",
    "executionInfo": {
     "elapsed": 402,
     "status": "error",
     "timestamp": 1539380704786,
     "user": {
      "displayName": "Jaclyn Lee",
      "photoUrl": "",
      "userId": "17525286701482268466"
     },
     "user_tz": 600
    },
    "id": "VzClKpN_PM35",
    "outputId": "022f200f-592f-4835-86d3-28ac8fedbaa5"
   },
   "outputs": [
    {
     "ename": "TypeError",
     "evalue": "'tuple' object does not support item assignment",
     "output_type": "error",
     "traceback": [
      "\u001b[0;31m---------------------------------------------------------------------------\u001b[0m",
      "\u001b[0;31mTypeError\u001b[0m                                 Traceback (most recent call last)",
      "\u001b[0;32m<ipython-input-4-ad637a260bd1>\u001b[0m in \u001b[0;36m<module>\u001b[0;34m\u001b[0m\n\u001b[0;32m----> 1\u001b[0;31m \u001b[0mhonolulu\u001b[0m\u001b[0;34m[\u001b[0m\u001b[0;36m2\u001b[0m\u001b[0;34m]\u001b[0m \u001b[0;34m=\u001b[0m \u001b[0;36m10\u001b[0m\u001b[0;34m\u001b[0m\u001b[0m\n\u001b[0m",
      "\u001b[0;31mTypeError\u001b[0m: 'tuple' object does not support item assignment"
     ]
    }
   ],
   "source": [
    "honolulu[2] = 10"
   ]
  },
  {
   "cell_type": "markdown",
   "metadata": {
    "colab_type": "text",
    "id": "i0YyKHDsHoby"
   },
   "source": [
    "The example above shows that attempting to change an item in a tuple (ex. item at position 2 above) results in an error. Thus, since tuples cannot be mofidied, adding or removing an element to a tuple requires redefining the entire object. This manipulation is akin to writing over an existing variable name rather than manipulating the tuple."
   ]
  },
  {
   "cell_type": "markdown",
   "metadata": {
    "colab_type": "text",
    "id": "uOd1c5LBI0Cw"
   },
   "source": [
    "#### Example 10\n",
    "\n",
    "We can overwrite the variable `honolulu` by removing the elevation and area -- those are perhaps not needed for your analysis."
   ]
  },
  {
   "cell_type": "code",
   "execution_count": 1,
   "metadata": {
    "colab": {
     "base_uri": "https://localhost:8080/",
     "height": 34
    },
    "colab_type": "code",
    "executionInfo": {
     "elapsed": 443,
     "status": "ok",
     "timestamp": 1548791445863,
     "user": {
      "displayName": "Jaclyn Lee",
      "photoUrl": "",
      "userId": "17525286701482268466"
     },
     "user_tz": 600
    },
    "id": "JGKlhFbAJLNq",
    "outputId": "2f5a2332-bfc7-49bc-e736-9fd328933196"
   },
   "outputs": [
    {
     "data": {
      "text/plain": [
       "(\"21° 18' N\", \"157° 51' W\")"
      ]
     },
     "execution_count": 1,
     "metadata": {},
     "output_type": "execute_result"
    }
   ],
   "source": [
    "honolulu = (\"21° 18' N\", \"157° 51' W\")\n",
    "honolulu"
   ]
  },
  {
   "cell_type": "markdown",
   "metadata": {
    "colab_type": "text",
    "id": "iEXwFftBSflt"
   },
   "source": [
    "As illustrated by the two examples above, tuples cannot be modified unless the tuple name is assigned to a different tuple."
   ]
  },
  {
   "cell_type": "markdown",
   "metadata": {
    "colab_type": "text",
    "id": "YzvmCT8hHOwO"
   },
   "source": [
    "#### Quiz\n",
    "---\n",
    "\n",
    "How do tuples differ from lists?\n",
    "\n",
    "A. A list is an ordered collection, while a tuple is an unordered collection.\n",
    "\n",
    "B. A list is mutable, while a tuple is not.\n",
    "\n",
    "C. A list can handle elements of different data types, while a tuple can only contain elements of the same data type.\n",
    "\n",
    "D. Tuples have less values than lists."
   ]
  },
  {
   "cell_type": "markdown",
   "metadata": {
    "colab_type": "text",
    "id": "-_ZyayKnILDF"
   },
   "source": [
    "#### Quiz\n",
    "---\n",
    "\n",
    "How you would create a tuple called `doodle_dogs` that contains these three designer dog breeds:\n",
    "* labradoodle\n",
    "* goldendoodle\n",
    "* bernedoodle\n",
    " "
   ]
  },
  {
   "cell_type": "markdown",
   "metadata": {
    "colab_type": "text",
    "id": "MgSiqhHIIvKc"
   },
   "source": [
    "#### Quiz\n",
    "---\n",
    "\n",
    "True or False: You can refer to elements in a tuple the same way you do with a list."
   ]
  },
  {
   "cell_type": "markdown",
   "metadata": {
    "colab_type": "text",
    "id": "7yUmMDm4JKts"
   },
   "source": [
    "#### Quiz\n",
    "---\n",
    "\n",
    "True or False: You can \"change\" a tuple by redefining its variable name."
   ]
  },
  {
   "cell_type": "markdown",
   "metadata": {
    "colab_type": "text",
    "id": "2dSVaFjdyi2i"
   },
   "source": [
    "### Changing Tuples to Lists and Lists to Tuples\n",
    "---\n",
    "In some cases it's useful to convert a list to a tuple and vice-versa. This is done through the `tuple()` and `list()` functions, which take any ordered collection and return a tuple or a list respectively. Below, we will use `type()` which returns the variable type after each conversion. The example below gives a tuple of five of the food trucks available at the University of Hawaii Manoa Campus. "
   ]
  },
  {
   "cell_type": "code",
   "execution_count": 9,
   "metadata": {
    "colab": {},
    "colab_type": "code",
    "id": "dv9KuTaCy5GW"
   },
   "outputs": [
    {
     "name": "stdout",
     "output_type": "stream",
     "text": [
      "<class 'tuple'>\n"
     ]
    }
   ],
   "source": [
    "uh_food_trucks = (\"Sistah Truck\", \"Punchbowl Cafe\", \"Peace Cafe\", \"Hot Tacos\")\n",
    "print(type(uh_food_trucks))"
   ]
  },
  {
   "cell_type": "markdown",
   "metadata": {},
   "source": [
    "To add a new item, we convert the tuple into a list and immediately append a new item to it."
   ]
  },
  {
   "cell_type": "code",
   "execution_count": 12,
   "metadata": {},
   "outputs": [
    {
     "name": "stdout",
     "output_type": "stream",
     "text": [
      "<class 'list'>\n",
      "['Sistah Truck', 'Punchbowl Cafe', 'Peace Cafe', 'Hot Tacos', 'Kamitoku Ramen', 'Kamitoku Ramen']\n"
     ]
    }
   ],
   "source": [
    "uh_food_trucks = list(uh_food_trucks)\n",
    "uh_food_trucks.append(\"Kamitoku Ramen\")\n",
    "print(type(uh_food_trucks))\n",
    "print(uh_food_trucks)\n"
   ]
  },
  {
   "cell_type": "markdown",
   "metadata": {},
   "source": [
    "We can convert the list back into a tuple using the `tuple()` function."
   ]
  },
  {
   "cell_type": "code",
   "execution_count": 13,
   "metadata": {},
   "outputs": [
    {
     "name": "stdout",
     "output_type": "stream",
     "text": [
      "<class 'tuple'>\n"
     ]
    }
   ],
   "source": [
    "uh_food_trucks = tuple(uh_food_trucks)\n",
    "print(type(uh_food_trucks))"
   ]
  },
  {
   "cell_type": "markdown",
   "metadata": {
    "colab_type": "text",
    "id": "-SQSIARgbmgw"
   },
   "source": [
    "## `for` Loops\n",
    "---\n",
    "\n",
    "\n",
    "Manually performing a operations on a large set of items is tedious. It turns out that computers don't mind doing repetitive work all. Plus, they can do it very quickly as well! Python has various mechanisms for implementing repetitive work. On of them is the `for` loop. `for` loops are ideal for repeating functionalities that are tied to a collection of elements. For instance, we may want to check the account balance for each student at the University of Hawaii. Here the operation we want to repeat is checking the account balance and the set of elements we want to repeat to is all the students at the University of Hawaii. It helps to think of `for` loops in terms of the functionality that will be repeated and the collection of elements it will be repeated on."
   ]
  },
  {
   "cell_type": "markdown",
   "metadata": {
    "colab_type": "text",
    "id": "fpXjdGSYSNdP"
   },
   "source": [
    "### Creating a `for` Loop\n",
    "---\n",
    "\n",
    "The following is the basic structure of a `for` loop:\n",
    "\n",
    "```python\n",
    "for one_element in collection_of_elements:\n",
    "    functionality to do on one_element\n",
    "```\n",
    "\n",
    "Like with `if-else` statements, Python uses indentation to specify the code, i.e., the functionality that is repeated as a part of the `for` loop. The lines of code within the `for` loop should be indented with one tab.\n",
    "\n",
    "`one_element` is a temporary variable used to hold each element in a collection that the `for` loop iterated over. This temporary variable can be labeled using any valid variable name, but it's common to use singular names to represent the fact that it contains a single item of the collection. The flow logic of the `for` loop is summarized in the diagram below.\n",
    "\n",
    "<img src=\"images/ordered_collections/for_loop_flow_chart.jpg\" alt=\"drawing\" style=\"width:500px;\"/>\n",
    "\n"
   ]
  },
  {
   "cell_type": "markdown",
   "metadata": {
    "colab_type": "text",
    "id": "4nlcfKiXb1LU"
   },
   "source": [
    "#### Example 11\n",
    "---\n",
    "\n",
    "Take, for instance, the following Python snippet:\n",
    "\n",
    "\n",
    "```python\n",
    "broadway_shows = ['The Lion King', 'Rent', 'Wicked', 'Hamilton', 'Chicago', 'Aladdin', 'Frozen']\n",
    "\n",
    "\n",
    "for show in broadway_shows:\n",
    "    print(\"{} is sold out today!\".format(show))\n",
    "```\n",
    "\n",
    "This code loops through a list of Broadway shows currently playing in New York City (can you guess when this module was written?). The `for` loop takes the first element in the list, assigns it the temporary variable called `show` and executed the functionality in the `for` loop's body, i.e., print the content of the variable and \" is sold out today!\". Each of the elements is taken in order it appears in the list. It helps to think of the code above in terms of the operations described below.\n",
    "\n",
    "<img src=\"images/ordered_collections/broadway_for_loop.JPG\" alt=\"drawing\" style=\"width:500px;\"/>\n"
   ]
  },
  {
   "cell_type": "markdown",
   "metadata": {
    "colab_type": "text",
    "id": "24by6pvZfCDA"
   },
   "source": [
    "#### Example 12\n",
    "\n",
    "Let's revisit our card suit example. We can write a `for` loop to draw three elements randomly, with replacement, from the `suits` list. In the terms that we used above to define `for` loops, the functionality that we need to repeat is selecting a random element from the `suits` list and the collection of elements that the logic will be applied to is `[1,2,3]` since we would like to repeat the functionality three times.\n",
    "\n"
   ]
  },
  {
   "cell_type": "code",
   "execution_count": 1,
   "metadata": {},
   "outputs": [
    {
     "name": "stdout",
     "output_type": "stream",
     "text": [
      "This is draw 1:\n",
      "♡\n",
      "This is draw 2:\n",
      "♧\n",
      "This is draw 3:\n",
      "♡\n"
     ]
    }
   ],
   "source": [
    "import random\n",
    "suits = [\"♤\", \"♡\", \"♢\", \"♧\"]\n",
    "for i in [1,2,3]:\n",
    "  print(\"This is draw {}:\".format(i))\n",
    "  print(random.choice(suits))"
   ]
  },
  {
   "cell_type": "markdown",
   "metadata": {},
   "source": [
    "Above, we had to manually write the list, `[1, 2, 3]`, to instruct Python to repeat the functionality three times. It turns out that Python provides a useful function to generate a range of values. For instance, instead of explicitly writing the range of values `[1, 2, 3, 4, 5, 6, 7]`, we can use the conveniently named Python function, `range()`, by giving it a starting value of 1 and an end value of 8.\n",
    "\n",
    "```python\n",
    "range(1, 8)\n",
    "```\n",
    "Note that the end value was not included in the range generated. So, we can rewrite the code above as:"
   ]
  },
  {
   "cell_type": "code",
   "execution_count": 24,
   "metadata": {
    "colab": {
     "base_uri": "https://localhost:8080/",
     "height": 123
    },
    "colab_type": "code",
    "executionInfo": {
     "elapsed": 440,
     "status": "ok",
     "timestamp": 1539302231973,
     "user": {
      "displayName": "Jaclyn Lee",
      "photoUrl": "",
      "userId": "17525286701482268466"
     },
     "user_tz": 600
    },
    "id": "tsDAvwhLcHQz",
    "outputId": "d82485e9-d48a-4425-ed30-ce5b020bd0df"
   },
   "outputs": [
    {
     "name": "stdout",
     "output_type": "stream",
     "text": [
      "This is draw 1:\n",
      "♢\n",
      "This is draw 2:\n",
      "♧\n",
      "This is draw 3:\n",
      "♧\n"
     ]
    }
   ],
   "source": [
    "suits = [\"♤\", \"♡\", \"♢\", \"♧\"]\n",
    "for draw in range(1, 4):\n",
    "  print(\"This is draw {}:\".format(draw))\n",
    "  print(random.choice(suits))"
   ]
  },
  {
   "cell_type": "markdown",
   "metadata": {
    "colab_type": "text",
    "id": "AZkUTaLF5Yrk"
   },
   "source": [
    "To fully understand what happens when Python interprets a `for` loop, we can *unroll* a `for` loop by writing a block of code that does the same thing as a `for` loop without using one. Let's rewrite the example above to achieve the same output without using a `for` loop."
   ]
  },
  {
   "cell_type": "code",
   "execution_count": 25,
   "metadata": {
    "colab": {
     "base_uri": "https://localhost:8080/",
     "height": 123
    },
    "colab_type": "code",
    "executionInfo": {
     "elapsed": 447,
     "status": "ok",
     "timestamp": 1539299955315,
     "user": {
      "displayName": "Jaclyn Lee",
      "photoUrl": "",
      "userId": "17525286701482268466"
     },
     "user_tz": 600
    },
    "id": "EvxWZHU57U6E",
    "outputId": "68d78305-c0fc-4e65-9996-f5501f3cb9db"
   },
   "outputs": [
    {
     "name": "stdout",
     "output_type": "stream",
     "text": [
      "This is draw 1:\n",
      "♧\n",
      "This is draw 2:\n",
      "♧\n",
      "This is draw 3:\n",
      "♡\n"
     ]
    }
   ],
   "source": [
    "draw = 1\n",
    "print(\"This is draw {}:\".format(draw))\n",
    "print(random.choice(suits))\n",
    "\n",
    "draw = 2\n",
    "print(\"This is draw {}:\".format(draw))\n",
    "print(random.choice(suits))\n",
    "\n",
    "draw = 3\n",
    "print(\"This is draw {}:\".format(draw))\n",
    "print(random.choice(suits))"
   ]
  },
  {
   "cell_type": "markdown",
   "metadata": {
    "colab_type": "text",
    "id": "0FajzIfn8riL"
   },
   "source": [
    "As shown above, when the `for` loop is executed, Python assigns the first value generated by `range(1, 4)` to a temporary variable called `draw` the value 1.  Therefore, during first iteration, the `for` loop will first print `\"This is draw {}:\".format(draw)` which prints `\"This is draw 1:\"`. Next, Python will randomly choose a suit in `suits` and print the result. \n",
    "\n",
    "The second iteration begins with Python assigning the second value in `range(1, 4)`,ie., 2, to variable `draw`. Python will then print `'This is draw 2:'` and proceed to print the randomly drawn suit.\n",
    "\n",
    "This process of assigning to the variable `draw` values produced by the `range(1,4)` and printing the different draws and suits will repeat until the last item in `range(1,4)` is iterated through.\n"
   ]
  },
  {
   "cell_type": "markdown",
   "metadata": {
    "colab_type": "text",
    "id": "wt-ZOqCDNCId"
   },
   "source": [
    "#### Quiz\n",
    "---\n",
    "\n",
    "`visitor_expenditures_2016` is a list containing quarterly Hawaii visitor expenditures in the millions. How you would \"unroll\" the `for` loop  in the code below:\n",
    "\n",
    "```python\n",
    "visitor_expenditures_2016 = [3744.7, 3958.4, 3990.4, 4059.9]\n",
    "for quarter in visitor_expenditures_2016:\n",
    "  print(quarter * 1000000)\n",
    "\n",
    "```\n",
    "\n"
   ]
  },
  {
   "cell_type": "code",
   "execution_count": 1,
   "metadata": {},
   "outputs": [],
   "source": [
    "# Write your code here"
   ]
  },
  {
   "cell_type": "markdown",
   "metadata": {
    "colab_type": "text",
    "id": "34fFgVTSLo15"
   },
   "source": [
    "#### Quiz\n",
    "---\n",
    "Using the `visitor_expenditures_2016` list, write a `for` loop that creates another list with visitor expenditures in Jordanian dinars. Assume the exchange rate is constant at 1 dinar to 1.41 US dollars.\n",
    "\n",
    "Hint: \n",
    "Remember that the values in `visitor_expenditures_2016` are in millions of US dollars."
   ]
  },
  {
   "cell_type": "code",
   "execution_count": 1,
   "metadata": {
    "colab": {},
    "colab_type": "code",
    "id": "iD20hQm590CR"
   },
   "outputs": [],
   "source": [
    "visitor_expenditures_2016 = [3744.7, 3958.4, 3990.4, 4059.9]"
   ]
  },
  {
   "cell_type": "markdown",
   "metadata": {
    "colab_type": "text",
    "id": "rP5ljClFbtoT"
   },
   "source": [
    "## Summary\n",
    "---\n",
    "This chapter covered:\n",
    "* Creating lists and tuples.\n",
    "* Referring to and manipulating elements in a list or tuple.\n",
    "* How to loop through lists and tuples using `for` loops, and how to manipulate elements as you loop through them.\n",
    "\n",
    "The next section will introduce dictionaries, which is a type of unordered collection, and advance data structures."
   ]
  }
 ],
 "metadata": {
  "colab": {
   "collapsed_sections": [],
   "name": "6 Intro to Python: Ordered Collections.ipynb",
   "provenance": [],
   "version": "0.3.2"
  },
  "hide_input": false,
  "kernelspec": {
   "display_name": "Python 3",
   "language": "python",
   "name": "python3"
  },
  "language_info": {
   "codemirror_mode": {
    "name": "ipython",
    "version": 3
   },
   "file_extension": ".py",
   "mimetype": "text/x-python",
   "name": "python",
   "nbconvert_exporter": "python",
   "pygments_lexer": "ipython3",
   "version": "3.6.6"
  }
 },
 "nbformat": 4,
 "nbformat_minor": 1
}
