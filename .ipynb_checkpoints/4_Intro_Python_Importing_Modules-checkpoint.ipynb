{
 "cells": [
  {
   "cell_type": "markdown",
   "metadata": {
    "colab_type": "text",
    "id": "B91WbOnblKXe"
   },
   "source": [
    "# Modules\n",
    "---\n",
    "Now that you are familiar with common data types, we will explore additional functionality available in Python *modules*.\n",
    "\n",
    "Modules are Python files that contain functionality, i.e. constants and functions, which can be readily used. Thanks to the Python community, there are plenty of pre-existing and well documented modules that apply to very broad topics, from astronomy to  economics or marketing. In this chapter, we will cover how to access the functionality within modules.\n"
   ]
  },
  {
   "cell_type": "markdown",
   "metadata": {
    "colab_type": "text",
    "id": "sC4jKn1YiXF_"
   },
   "source": [
    "## Packages\n",
    "---\n",
    "\n",
    "In Python, modules are organized into packages, also known as libraries.  An example of a package is the Standard Library, which is automatically installed with Python. However, because not all Python packages are included with the default Python installation, domain-specific packages need to be downloaded and installed manually.  The Anaconda distribution of Python already comes with many commonly used packages -- see below for instructions on how to install a new package using Anaconda. Futhermore, the [awesome-python](https://github.com/vinta/awesome-python) GitHub page is a good place to explore popular packages."
   ]
  },
  {
   "cell_type": "markdown",
   "metadata": {
    "slideshow": {
     "slide_type": "slide"
    }
   },
   "source": [
    "### Installing Packages with Anaconda\n",
    "---\n",
    "You can install a package with anaconda by opening the terminal and entering the following, replacing `package-name` with the name of the package you want to install.\n",
    "```\n",
    "conda install package-name\n",
    "```"
   ]
  },
  {
   "cell_type": "markdown",
   "metadata": {
    "colab_type": "text",
    "id": "w3jAYu9p_3Rk"
   },
   "source": [
    "## Importing Modules\n",
    "---\n",
    "\n",
    "After installing the package and prior to using its functionality, we need to first instruct Python to import it since not all installed packages are available by default. To import all the contents of a module, we use the following syntax:\n",
    "\n",
    "```python\n",
    "import module_name\n",
    "```"
   ]
  },
  {
   "cell_type": "markdown",
   "metadata": {
    "colab_type": "text",
    "id": "aHFJhnkduBAe"
   },
   "source": [
    "#### Example 1: Importing all functionalities of the  `math` package:\n",
    "---\n",
    "\n",
    "For example, to import all the functionalities in the `math` module, we can do the following:\n",
    "\n",
    "\n"
   ]
  },
  {
   "cell_type": "code",
   "execution_count": 0,
   "metadata": {
    "colab": {},
    "colab_type": "code",
    "id": "xYRTMgNxp4Ot"
   },
   "outputs": [],
   "source": [
    "import math"
   ]
  },
  {
   "cell_type": "markdown",
   "metadata": {
    "colab_type": "text",
    "id": "PcEG7O-op9Mx"
   },
   "source": [
    "Now if we want to access and use a functionality from this module, we simply type the module name followed by a dot and the functionality's name.\n",
    "\n",
    "```python\n",
    "module_name.functionality_name\n",
    "```\n",
    "\n",
    "For instance,  the expression  `math.pi` will give us the value of the number $\\pi$. We can use that value directly in a more complex expression to calculate the area of a circle with a radius, $r$, of 5 inches. Recall that the area of a circle is $\\pi \\cdot r ^2 $. "
   ]
  },
  {
   "cell_type": "code",
   "execution_count": 0,
   "metadata": {
    "colab": {
     "base_uri": "https://localhost:8080/",
     "height": 186
    },
    "colab_type": "code",
    "executionInfo": {
     "elapsed": 536,
     "status": "error",
     "timestamp": 1547581816107,
     "user": {
      "displayName": "Jaclyn Lee",
      "photoUrl": "",
      "userId": "17525286701482268466"
     },
     "user_tz": 600
    },
    "id": "LU2dBrNfqz3z",
    "outputId": "4d026be8-fd7b-46c4-a65f-bb1601bf4994"
   },
   "outputs": [
    {
     "ename": "NameError",
     "evalue": "ignored",
     "output_type": "error",
     "traceback": [
      "\u001b[0;31m---------------------------------------------------------------------------\u001b[0m",
      "\u001b[0;31mNameError\u001b[0m                                 Traceback (most recent call last)",
      "\u001b[0;32m<ipython-input-1-d031c1935287>\u001b[0m in \u001b[0;36m<module>\u001b[0;34m()\u001b[0m\n\u001b[0;32m----> 1\u001b[0;31m \u001b[0marea\u001b[0m\u001b[0;34m=\u001b[0m\u001b[0mmath\u001b[0m\u001b[0;34m.\u001b[0m\u001b[0mpi\u001b[0m\u001b[0;34m*\u001b[0m\u001b[0;36m5\u001b[0m\u001b[0;34m**\u001b[0m\u001b[0;36m2\u001b[0m\u001b[0;34m\u001b[0m\u001b[0;34m\u001b[0m\u001b[0m\n\u001b[0m\u001b[1;32m      2\u001b[0m \u001b[0marea\u001b[0m\u001b[0;34m\u001b[0m\u001b[0;34m\u001b[0m\u001b[0m\n",
      "\u001b[0;31mNameError\u001b[0m: name 'math' is not defined"
     ]
    }
   ],
   "source": [
    "area = math.pi * 5 ** 2\n",
    "area"
   ]
  },
  {
   "cell_type": "markdown",
   "metadata": {
    "colab_type": "text",
    "id": "92UGW2gRQmDh"
   },
   "source": [
    "#### Quiz 1\n",
    "---\n",
    "Import the module `scipy.constants` and use the constant, `c` (speed of light in meters per second) to calculate how long it takes for light from the sun to reach earth, which is on average 149,600,000,000 meters apart. The equation you will be using is: \n",
    "\n",
    "$ time=\\frac{distance}{c}$"
   ]
  },
  {
   "cell_type": "code",
   "execution_count": 0,
   "metadata": {
    "colab": {
     "base_uri": "https://localhost:8080/",
     "height": 34
    },
    "colab_type": "code",
    "executionInfo": {
     "elapsed": 397,
     "status": "ok",
     "timestamp": 1547582301049,
     "user": {
      "displayName": "Jaclyn Lee",
      "photoUrl": "",
      "userId": "17525286701482268466"
     },
     "user_tz": 600
    },
    "id": "rdHQU7hxQrLP",
    "outputId": "e89f2534-605b-41e6-ad1a-b10a56c76e6c"
   },
   "outputs": [
    {
     "data": {
      "text/plain": [
       "8.316864773607257"
      ]
     },
     "execution_count": 6,
     "metadata": {
      "tags": []
     },
     "output_type": "execute_result"
    }
   ],
   "source": [
    "# Quiz 1\n"
   ]
  },
  {
   "cell_type": "markdown",
   "metadata": {
    "colab_type": "text",
    "id": "TyDBLldHAOGb"
   },
   "source": [
    "### Using Aliases\n",
    "---\n",
    "\n",
    "\n",
    "Module names can be modified using the `as` keyword. Renaming modules when you import them is called *aliasing*.\n",
    "\n",
    "```python\n",
    "import module_name as alias\n",
    "```\n",
    "\n",
    "The benefit of using aliases is that you can shorten module names, so you don't need to type out the full name each time. Many modules have commonly used abbreviations. For example, the `numpy` module is commonly aliased as `np`.\n",
    "\n",
    "\n",
    "\n"
   ]
  },
  {
   "cell_type": "markdown",
   "metadata": {
    "colab_type": "text",
    "id": "ZGABy-HaM_jP"
   },
   "source": [
    "#### Example 3\n",
    "---\n",
    "Continuing with our `math` example, we can import `math` as `m`, which only saves us three characters. However, the benefit of using aliases will be more apparent with longer named modules."
   ]
  },
  {
   "cell_type": "code",
   "execution_count": 0,
   "metadata": {
    "colab": {},
    "colab_type": "code",
    "id": "Gzr-b9gw2LTd"
   },
   "outputs": [],
   "source": [
    "import math as m\n",
    "\n",
    "area= m.pi * 5 **2\n",
    "area"
   ]
  },
  {
   "cell_type": "markdown",
   "metadata": {
    "colab_type": "text",
    "id": "LIIU-yywRB0C"
   },
   "source": [
    "#### Quiz 3\n",
    "---\n",
    "The Andromeda galaxy is the closest galaxy to the Milky Way and is 2 million light years away. A light year is the distance light travels in 1 year, so it takes 2 million years for light from Andromeda to reach us. Import the module `scipy.constants` using the alias `cst` to acces the value of the speed of light and determine the distnace between Andromeda and Earth in kilometers?\n",
    "\n",
    "Hint: $ distance = time\\cdot c$\n",
    "\n",
    "Note: 1 kilometer = 1000 meters"
   ]
  },
  {
   "cell_type": "code",
   "execution_count": null,
   "metadata": {},
   "outputs": [],
   "source": []
  },
  {
   "cell_type": "markdown",
   "metadata": {
    "colab_type": "text",
    "id": "dH3SG5jOAAB2"
   },
   "source": [
    "### Custom Imports\n",
    "---\n",
    "\n",
    "Rather than import all the contents of a module, it's more efficient to\n",
    " import only funtionality that you are interested in.\n",
    "\n",
    "```python\n",
    "from module_name import X\n",
    "```\n",
    "\n",
    "In the call above, `X` can be any functionality of `module_name`, i.e., function or constant name. In fact, it's possible to use the same syntax to import multiple objects, as long as they are separated by commas. \n",
    "\n",
    "As opposed to importing all the functionality,  `X` has to be used without  `module_name` as a prefix. "
   ]
  },
  {
   "cell_type": "markdown",
   "metadata": {
    "colab_type": "text",
    "id": "ByAV4Ot-MTOB"
   },
   "source": [
    "#### Example 2\n",
    "---\n",
    "Use the import syntax above to import the numbers `pi`  and `tau` ($\\tau = 2 \\pi$) from the `math` module to compute the area and the circumference of a circle with radius $r=5$.\n",
    "\n",
    "Area: $ \\pi \\cdot r^2 $\n",
    "\n",
    "Circumference: $ \\tau \\cdot r = 2 \\pi \\cdot r $"
   ]
  },
  {
   "cell_type": "code",
   "execution_count": 2,
   "metadata": {
    "colab": {
     "base_uri": "https://localhost:8080/",
     "height": 50
    },
    "colab_type": "code",
    "executionInfo": {
     "elapsed": 488,
     "status": "ok",
     "timestamp": 1548463694493,
     "user": {
      "displayName": "Charles Dickens",
      "photoUrl": "https://lh6.googleusercontent.com/-LyFY-SmW2Wk/AAAAAAAAAAI/AAAAAAAAAJc/aBlebAB4Y_M/s64/photo.jpg",
      "userId": "12322745199515603574"
     },
     "user_tz": 600
    },
    "id": "1OrWRXaMywEl",
    "outputId": "465ea9d8-0ae3-4cfe-bb11-23b6b001067d"
   },
   "outputs": [
    {
     "name": "stdout",
     "output_type": "stream",
     "text": [
      "The area is 78.53981633974483\n",
      "The cirumference is 31.41592653589793\n"
     ]
    }
   ],
   "source": [
    "from math import pi, tau\n",
    "\n",
    "area = pi * 5 ** 2\n",
    "circumference = tau * 5 \n",
    "\n",
    "print(\"The area is {}\".format(area))\n",
    "print(\"The cirumference is {}\".format(circumference))"
   ]
  },
  {
   "cell_type": "markdown",
   "metadata": {
    "colab_type": "text",
    "id": "paX7CLr-QvY2"
   },
   "source": [
    "#### Quiz 2\n",
    "---\n",
    "\n",
    "If the wavelengths of the visible light spectrum range from 380 nanometers to 700 nanometers (0.00000038 to 0.0000007 meters), is an electromagnetic wave with a frequency of 5,000 $s^{-1}$ in the visible light spectrum?\n",
    "\n",
    "Answer this question using the equation below and by importing  the speed of light, `c`, from `scipy.constants` using the `from  X import Y` syntax.\n",
    "\n",
    "$ Wavelength = \\frac{c}{frequency}$"
   ]
  },
  {
   "cell_type": "code",
   "execution_count": 0,
   "metadata": {
    "colab": {},
    "colab_type": "code",
    "id": "P8w3m09DQ-6D"
   },
   "outputs": [],
   "source": [
    "# Quiz 2\n"
   ]
  },
  {
   "cell_type": "markdown",
   "metadata": {
    "colab_type": "text",
    "id": "5LyhLHnq-7c3"
   },
   "source": [
    "## Functions in Modules\n",
    "---\n",
    "It turns out that the most valuable aspect of a module is the functions it includes. In many cases, modules provide access to functions that would be complex and tedious to implement. We have used functions before, for example `print()` and `list()`. Here, we will discuss the topic further and will continue to view functions as a black box (see figure below). In the next chapter, we will discuss how to write custom functions, which will be necessary to define new operations. First, it will serve us well to learn the proper terminology of using functions, which we cover below.\n",
    "\n"
   ]
  },
  {
   "cell_type": "markdown",
   "metadata": {
    "colab_type": "text",
    "id": "cLVTdAsYX_k7"
   },
   "source": [
    "<img src=\"images/importing_modules/black_box.JPG\" alt=\"drawing\" style=\"width:650px;\"/>"
   ]
  },
  {
   "cell_type": "markdown",
   "metadata": {
    "colab_type": "text",
    "id": "BuLIaji0_jwZ"
   },
   "source": [
    "### Calling Functions\n",
    "---\n",
    "\n",
    "We use, or *call*, a function by adopting the same syntax we used earlier with `print()`; we write the function name followed by parenthesis. \n",
    "\n",
    "```python\n",
    "function_name()\n",
    "```\n",
    "\n",
    "While some functions are self sufficient,  some other functions require input to operate on. For instance, a function that computes the tax on bill requires total amount. In fact,  some functions  may require multiple inputs, or *parameters* as they are callled. Parameters are passed to function inside the parentheses and are separated using commas.\n",
    "\n",
    "```python\n",
    "function_name(parameter_1, ... )\n",
    "```\n",
    "\n",
    "\n",
    "As we have done with the the constant `pi` earlier, we need to prefix functions defined in a module by the module name or its alias.\n",
    "\n",
    "```python\n",
    "module_name.function_name(parameters)\n",
    "```\n"
   ]
  },
  {
   "cell_type": "markdown",
   "metadata": {
    "colab_type": "text",
    "id": "e66-4U_LNeMa"
   },
   "source": [
    "#### Example 4\n",
    "----\n",
    "\n",
    "We compute the square root of the value 225 using the function `sqrt()`. Since this function is definides in the `math` module, then use the dot notation to separate the module name   pass it the number that we want to find the square root of, which in this case is 225."
   ]
  },
  {
   "cell_type": "code",
   "execution_count": 0,
   "metadata": {
    "colab": {
     "base_uri": "https://localhost:8080/",
     "height": 208
    },
    "colab_type": "code",
    "executionInfo": {
     "elapsed": 598,
     "status": "error",
     "timestamp": 1548461250498,
     "user": {
      "displayName": "Mahdi Belcaid",
      "photoUrl": "",
      "userId": "04817344393223947441"
     },
     "user_tz": 600
    },
    "id": "lyDHVSpNydFp",
    "outputId": "aa12d4da-433f-4716-faa7-6501411bf17e"
   },
   "outputs": [
    {
     "ename": "NameError",
     "evalue": "ignored",
     "output_type": "error",
     "traceback": [
      "\u001b[0;31m---------------------------------------------------------------------------\u001b[0m",
      "\u001b[0;31mNameError\u001b[0m                                 Traceback (most recent call last)",
      "\u001b[0;32m<ipython-input-3-df38769ff89a>\u001b[0m in \u001b[0;36m<module>\u001b[0;34m()\u001b[0m\n\u001b[0;32m----> 1\u001b[0;31m \u001b[0mmath\u001b[0m\u001b[0;34m.\u001b[0m\u001b[0msqrt\u001b[0m\u001b[0;34m(\u001b[0m\u001b[0;36m225\u001b[0m\u001b[0;34m)\u001b[0m\u001b[0;34m\u001b[0m\u001b[0;34m\u001b[0m\u001b[0m\n\u001b[0m\u001b[1;32m      2\u001b[0m \u001b[0;31m# or, if you aliased  math as m\u001b[0m\u001b[0;34m\u001b[0m\u001b[0;34m\u001b[0m\u001b[0;34m\u001b[0m\u001b[0m\n\u001b[1;32m      3\u001b[0m \u001b[0;31m# m.sqrt(225)\u001b[0m\u001b[0;34m\u001b[0m\u001b[0;34m\u001b[0m\u001b[0;34m\u001b[0m\u001b[0m\n",
      "\u001b[0;31mNameError\u001b[0m: name 'math' is not defined"
     ]
    }
   ],
   "source": [
    "math.sqrt(225)\n",
    "# or, if you aliased  math as m\n",
    "# m.sqrt(225)"
   ]
  },
  {
   "cell_type": "markdown",
   "metadata": {
    "colab_type": "text",
    "id": "OEnEXOQpRRpm"
   },
   "source": [
    "#### Quiz 4\n",
    "---\n",
    "Using aliases, how do you compute $\\tan(\\frac{\\pi}{4})$?\n",
    "\n",
    "Note: The function `tan()` is in the math module."
   ]
  },
  {
   "cell_type": "code",
   "execution_count": 0,
   "metadata": {
    "colab": {},
    "colab_type": "code",
    "id": "6dePCTx9Rc_w"
   },
   "outputs": [],
   "source": [
    "# Quiz 4"
   ]
  },
  {
   "cell_type": "markdown",
   "metadata": {
    "colab_type": "text",
    "id": "UpvrwWh6_ppr"
   },
   "source": [
    "### Positional Parameters\n",
    "---\n",
    "When a function is called, Python needs to match the parameters that the user provides to the parameters in the function definition. Python matches parameters based on their positions, so the order that you pass the parameters to the function matter. To put that in the context of the tax example above, if you use a function that takes the total amount and the tax rate in that order, then passing the values in a different order will yield unexpected results. This is illustrated below."
   ]
  },
  {
   "cell_type": "markdown",
   "metadata": {
    "colab_type": "text",
    "id": "VH8eS1403sh5"
   },
   "source": [
    "#### Example 5\n",
    "---\n",
    "The `round()` function will round a float number to a specified number of decimal points. `round()` will take two parameters; the first parameter is the float number that you're trying to round, while the second parameter is the number of decimal places you are rounding to. For instance: \n",
    "\n",
    "\n"
   ]
  },
  {
   "cell_type": "code",
   "execution_count": 0,
   "metadata": {
    "colab": {
     "base_uri": "https://localhost:8080/",
     "height": 34
    },
    "colab_type": "code",
    "executionInfo": {
     "elapsed": 559,
     "status": "ok",
     "timestamp": 1547676770479,
     "user": {
      "displayName": "Jaclyn Lee",
      "photoUrl": "",
      "userId": "17525286701482268466"
     },
     "user_tz": 600
    },
    "id": "R6GHMQ3k1S_s",
    "outputId": "4c0d2733-40d9-40c6-aa0c-24bdd9ea8400"
   },
   "outputs": [
    {
     "data": {
      "text/plain": [
       "123.79"
      ]
     },
     "execution_count": 1,
     "metadata": {
      "tags": []
     },
     "output_type": "execute_result"
    }
   ],
   "source": [
    "round(123.7897917498714094, 3)"
   ]
  },
  {
   "cell_type": "markdown",
   "metadata": {
    "colab_type": "text",
    "id": "sF8bvI475Sz1"
   },
   "source": [
    "However, if we mistakenly put 3 first and then 123.7897917498714094, we will get an error."
   ]
  },
  {
   "cell_type": "code",
   "execution_count": 0,
   "metadata": {
    "colab": {
     "base_uri": "https://localhost:8080/",
     "height": 168
    },
    "colab_type": "code",
    "executionInfo": {
     "elapsed": 422,
     "status": "error",
     "timestamp": 1539302969802,
     "user": {
      "displayName": "Jaclyn Lee",
      "photoUrl": "",
      "userId": "17525286701482268466"
     },
     "user_tz": 600
    },
    "id": "NsLeMJSp10Bl",
    "outputId": "21de36e2-08d6-48b4-d101-581c370b45c6"
   },
   "outputs": [
    {
     "ename": "TypeError",
     "evalue": "ignored",
     "output_type": "error",
     "traceback": [
      "\u001b[0;31m---------------------------------------------------------------------------\u001b[0m",
      "\u001b[0;31mTypeError\u001b[0m                                 Traceback (most recent call last)",
      "\u001b[0;32m<ipython-input-3-a45eadc6fa3d>\u001b[0m in \u001b[0;36m<module>\u001b[0;34m()\u001b[0m\n\u001b[0;32m----> 1\u001b[0;31m \u001b[0mround\u001b[0m\u001b[0;34m(\u001b[0m\u001b[0;36m3\u001b[0m\u001b[0;34m,\u001b[0m \u001b[0;36m123.7897917498714094\u001b[0m\u001b[0;34m)\u001b[0m\u001b[0;34m\u001b[0m\u001b[0m\n\u001b[0m",
      "\u001b[0;31mTypeError\u001b[0m: 'float' object cannot be interpreted as an integer"
     ]
    }
   ],
   "source": [
    "round(3, 123.7897917498714094)"
   ]
  },
  {
   "cell_type": "markdown",
   "metadata": {
    "colab_type": "text",
    "id": "U_enL1-r3qXm"
   },
   "source": [
    "If you are unsure what order to pass the parameters in, you can use the `help()` function or look up the function's documentation to find out what order the parameters should be in."
   ]
  },
  {
   "cell_type": "code",
   "execution_count": 0,
   "metadata": {
    "colab": {
     "base_uri": "https://localhost:8080/",
     "height": 163
    },
    "colab_type": "code",
    "executionInfo": {
     "elapsed": 732,
     "status": "ok",
     "timestamp": 1548461904107,
     "user": {
      "displayName": "Charles Dickens",
      "photoUrl": "https://lh6.googleusercontent.com/-LyFY-SmW2Wk/AAAAAAAAAAI/AAAAAAAAAJc/aBlebAB4Y_M/s64/photo.jpg",
      "userId": "12322745199515603574"
     },
     "user_tz": 600
    },
    "id": "HsomV4IchVQx",
    "outputId": "14c50e73-a953-40e0-ae51-5a3e3889a236"
   },
   "outputs": [
    {
     "name": "stdout",
     "output_type": "stream",
     "text": [
      "Help on built-in function round in module builtins:\n",
      "\n",
      "round(...)\n",
      "    round(number[, ndigits]) -> number\n",
      "    \n",
      "    Round a number to a given precision in decimal digits (default 0 digits).\n",
      "    This returns an int when called with one argument, otherwise the\n",
      "    same type as the number. ndigits may be negative.\n",
      "\n"
     ]
    }
   ],
   "source": [
    "help(round)"
   ]
  },
  {
   "cell_type": "markdown",
   "metadata": {
    "colab_type": "text",
    "id": "FJAUHidzj4oP"
   },
   "source": [
    "There are other types of parameters that can be passed to functions that we will discuss in the next chapter."
   ]
  },
  {
   "cell_type": "markdown",
   "metadata": {
    "colab_type": "text",
    "id": "MLiWGgHGRgsP"
   },
   "source": [
    "#### Quiz 5\n",
    "---\n",
    "Use the `randrange()` function from the `random` module to pick a random integer between 35 and 188."
   ]
  },
  {
   "cell_type": "code",
   "execution_count": 0,
   "metadata": {
    "colab": {},
    "colab_type": "code",
    "id": "vptALyqXRxI_"
   },
   "outputs": [],
   "source": [
    "# Quiz 5\n"
   ]
  },
  {
   "cell_type": "markdown",
   "metadata": {
    "colab_type": "text",
    "id": "OgIZDM3ORQh6"
   },
   "source": [
    "#### Quiz 6\n",
    "---\n",
    "\n",
    "If you imported the math module with the following code:\n",
    "```python\n",
    "import math as m\n",
    "```\n",
    "How can you use the `remainder()` function to find the remainder of 47 divided by 17?\n",
    "\n",
    "A. `remainder(17, 47)`\n",
    "\n",
    "B. `remainder(47: 17)`\n",
    "\n",
    "C. `math.remainder(47, 17)`\n",
    "\n",
    "D. `m.remainder(47, 17)`\n",
    "\n",
    "E. `m.remainder(17, 47)`"
   ]
  },
  {
   "cell_type": "markdown",
   "metadata": {
    "colab_type": "text",
    "id": "Tu6flVeF8f0O"
   },
   "source": [
    "## Summary\n",
    "---\n",
    "\n",
    "By now you should be able to:\n",
    "* Install packages from open source.\n",
    "* Import modules into programs.\n",
    "* Import a module using an alias.\n",
    "* Import single constants or functions from a module.\n",
    "* Use functions that take multiple parameters.\n",
    "\n",
    "\n",
    "The next chapter will go over how to create user-defined functions. We will go over the basic syntax of a function and relate it to how you can write your own functions. Being able to create user-defined functions can save you time and will increase the readability of your code."
   ]
  }
 ],
 "metadata": {
  "colab": {
   "collapsed_sections": [],
   "name": "4 Intro to Python: Importing Modules.ipynb",
   "provenance": [],
   "toc_visible": true,
   "version": "0.3.2"
  },
  "kernelspec": {
   "display_name": "Python 3",
   "language": "python",
   "name": "python3"
  },
  "language_info": {
   "codemirror_mode": {
    "name": "ipython",
    "version": 3
   },
   "file_extension": ".py",
   "mimetype": "text/x-python",
   "name": "python",
   "nbconvert_exporter": "python",
   "pygments_lexer": "ipython3",
   "version": "3.6.6"
  }
 },
 "nbformat": 4,
 "nbformat_minor": 1
}
