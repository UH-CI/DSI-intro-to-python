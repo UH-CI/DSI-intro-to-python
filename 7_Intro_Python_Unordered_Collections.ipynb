{
 "cells": [
  {
   "cell_type": "markdown",
   "metadata": {
    "colab_type": "text",
    "id": "macZLbAtN9K-"
   },
   "source": [
    "# Unordered Collections\n",
    "---\n",
    "\n",
    "In addition to the ordered collections we covered in chapter 6, lists and tuples, Python offers another category of data structures to group data, which does not keep track of the items' order of insertion.  \n",
    "\n",
    "One of the most valuable such data structures is the *dictionary*, which contains a set of unordered items, each of which is made up of a key and a value. It is helpful to think of this as a *traditional* (book, physical, English) dictionary which also holds keys, i.e., the words, and values, i.e., their definitions.\n",
    "\n",
    "\n",
    "This chapter will cover creating, modifying, and working with dictionaries, as well as iterating through items of a dictionary. We will also cover how to create and work with data structures that combine dictionaries, lists, and tuples to build complex and custom data structures."
   ]
  },
  {
   "cell_type": "markdown",
   "metadata": {
    "colab_type": "text",
    "id": "sz25DzjGN9K-"
   },
   "source": [
    "## Dictionaries\n",
    "---\n",
    "\n",
    "As discussed before, dictionaries are unordered collections of items that contain a *unique* key and associated value. The dictionary data structure arises frequently in everyday life: think of a phonebook and a database. These two things both share the common characteristics of a container holding labels tied to specific values. For example, think of an exam grade book. Each of the entries in the grade book is an item that may consist of the student ids as keys, and their grades as values.\n"
   ]
  },
  {
   "cell_type": "markdown",
   "metadata": {
    "colab_type": "text",
    "id": "pmsWNQSON9K8"
   },
   "source": [
    "### Creating Dictionaries\n",
    "---\n",
    "\n",
    "Just like how list are defined by square bracket (`[]`) and tuples used parentheses (`()`), dictionaries are defined using curly brackets (`{}`) and their items are separated by commas (`,`). The items, or the sets of keys and values, are separated by colons(`:`).\n",
    "\n",
    "For example, to build a dictionary of 3 elements that contains 3 student IDs (`v_sarah_1999`, `k_john_1998`, `h_jenny_1997`) and their respective grades (`A+`, `A-`, `A`), we would use the following syntax.\n",
    "\n",
    "```python\n",
    "dictionary_name = {\"v_sarah_1999\" : \"A+\", \"k_john_1998\" : \"A-\", \"h_jenny_1997\": \"A\"}\n",
    "```\n",
    "\n",
    "![dictionary](images/unordered_collections/dictionary.JPG)"
   ]
  },
  {
   "cell_type": "markdown",
   "metadata": {
    "colab_type": "text",
    "id": "qQikZPjzN9K7"
   },
   "source": [
    "#### Example 1\n",
    "\n",
    "The following dictionary `elsa_instagram` stores key-value pairs of data representing a user's Instagram profile. Note that these values are data types introduced in previous chapters including strings, integers, and Booleans. \n",
    "\n",
    "This dictionary contains the following information in key-value pairs:\n",
    "\n",
    "\n",
    "*   The username: `elsa`\n",
    "*   The number of followers: 342266 followers\n",
    "*   Whether the user is currently online (`True`) or offline (`False`)\n",
    "*   The account age, which is 4 years old\n",
    "\n",
    "Note that in the expression below, we write the items across different lines to improve readability.\n",
    "\n",
    "![dict_example](images/unordered_collections/dict_example.JPG)\n",
    "\n",
    "\n",
    "\n"
   ]
  },
  {
   "cell_type": "code",
   "execution_count": 2,
   "metadata": {
    "colab": {},
    "colab_type": "code",
    "collapsed": true,
    "id": "G_TksCtiN9K6"
   },
   "outputs": [],
   "source": [
    "elsa_instagram = {'username' : 'elsa',\n",
    "                  'followers' : 342266,\n",
    "                  'online' : True, \n",
    "                  'account age' : '4 years'}"
   ]
  },
  {
   "cell_type": "markdown",
   "metadata": {
    "colab_type": "text",
    "id": "BVl46nG4N9K5"
   },
   "source": [
    "#### Example 2\n",
    "\n",
    "This second example provides another example of a dictionary, which list some winter Olympic athletes and their sports."
   ]
  },
  {
   "cell_type": "code",
   "execution_count": null,
   "metadata": {
    "colab": {},
    "colab_type": "code",
    "collapsed": true,
    "id": "TZQ8tPdrN9K4"
   },
   "outputs": [],
   "source": [
    "usa_winter_athletes = {'Lindsey Vonn' : 'Skiing', \n",
    "                        'Shaun White' : 'Snowboarding',\n",
    "                        'Nathan Chen' : 'Figure Skating',\n",
    "                        'Maia Shibutani' : 'Ice Dancing', \n",
    "                        'Cory Christensen' : 'Curling'}"
   ]
  },
  {
   "cell_type": "markdown",
   "metadata": {
    "colab_type": "text",
    "id": "Z7fGTbpjN9Kz"
   },
   "source": [
    "### Accessing Elements using Keys\n",
    "---\n",
    "Unlike ordered collections, dictionaries do not have an inherent order, and, therefore, no indices can be used to index the contained items. Instead, dictionaries uses its keys to locate values associate with them. This is similar to how you would use a real dictionary; you look up the word to find the definitions. Similarly, you can look up a student's grade using their student id.\n",
    "\n",
    "Just like the list indexing, we can access the value associated with the key using the brackets notation, but instead of providing an index, we provide the key.\n",
    "\n",
    "\n",
    "`dictionary_name[key_1]`\n"
   ]
  },
  {
   "cell_type": "markdown",
   "metadata": {
    "colab_type": "text",
    "id": "OhKL_4-fN9Kz"
   },
   "source": [
    "#### Example 3\n",
    "\n",
    "In this example, we see whether the user `elsa_instagram` is online by accessing and printing the value associated with \"online\":\n",
    "\n",
    "![accessing_values](images/unordered_collections/accessing_values.JPG)"
   ]
  },
  {
   "cell_type": "code",
   "execution_count": 1,
   "metadata": {
    "colab": {},
    "colab_type": "code",
    "id": "kyxoQy0NN9Kw"
   },
   "outputs": [
    {
     "ename": "NameError",
     "evalue": "name 'elsa_instagram' is not defined",
     "output_type": "error",
     "traceback": [
      "\u001b[0;31m---------------------------------------------------------------------------\u001b[0m",
      "\u001b[0;31mNameError\u001b[0m                                 Traceback (most recent call last)",
      "\u001b[0;32m<ipython-input-1-62a2f7f72971>\u001b[0m in \u001b[0;36m<module>\u001b[0;34m\u001b[0m\n\u001b[0;32m----> 1\u001b[0;31m \u001b[0mprint\u001b[0m\u001b[0;34m(\u001b[0m\u001b[0melsa_instagram\u001b[0m\u001b[0;34m[\u001b[0m\u001b[0;34m\"online\"\u001b[0m\u001b[0;34m]\u001b[0m\u001b[0;34m)\u001b[0m\u001b[0;34m\u001b[0m\u001b[0m\n\u001b[0m",
      "\u001b[0;31mNameError\u001b[0m: name 'elsa_instagram' is not defined"
     ]
    }
   ],
   "source": [
    "print(elsa_instagram[\"online\"])"
   ]
  },
  {
   "cell_type": "markdown",
   "metadata": {
    "colab_type": "text",
    "id": "bW4LcLgoN9Kw"
   },
   "source": [
    "#### Potential Quiz Question\n",
    "\n",
    "Which one of the solutions below returns from the dictionary `ghg_2014` India's greenhouse gas emissions (numbers are in thousands of metric tons of carbon)?\n",
    "\n",
    "```Python\n",
    "ghg_2014 = {'china' : 2806634, 'united states of america' : 1432855, 'india' : 610411, 'russian federation' : 465052, 'japan' : 331074}\n",
    "```\n",
    "\n",
    "A. `ghg_2014[3]`\n",
    "\n",
    "B. `ghg_2014[2]`\n",
    "\n",
    "C. `ghg_2014['india']`\n",
    "\n",
    "D. `ghg_2014[india]`\n",
    "\n",
    "Source: https://cdiac.ess-dive.lbl.gov/trends/emis/top2014.tot"
   ]
  },
  {
   "cell_type": "markdown",
   "metadata": {
    "colab_type": "text",
    "id": "bfeus9nNN9K8"
   },
   "source": [
    "#### Keys \n",
    "----\n",
    "\n",
    "So far, we have only used strings as keys for our dictionaries. In fact, dictionary keys can be any immutable data type. For example, lists cannot serve as keys since they are mutable; we can add or remove an element from a list, which would change the key. However, tuples can serve as keys since they are immutable. This, again, is analogous with how we use dictionaries in real life. Imagine what would happen if we changed the spelling of the word `adviser` in the dictionary to `advisor`. Users looking for the first version would be unable to find it and our dictionary would be incomplete. If the spelling of a word changes a reasonable behavior would be to create another entry in the dictionary to highlight this fact without changing the initial spelling. \n",
    "\n",
    "Additionally, keys must be unique since each specific key maps to a value. Again, we cannot have more than two users with the same username in our grade book. For a traditional dictionary, words having alternative definitions must appear under the same entry. We will covers strategies to do this later in this module.\n"
   ]
  },
  {
   "cell_type": "markdown",
   "metadata": {
    "colab_type": "text",
    "id": "bgmGcdJ0N9K8"
   },
   "source": [
    "#### Values\n",
    "---\n",
    "As opposed to keys, dictionary values can be any data type supported in Python. There are no restrictions against a value appearing multiple times in a dictionary. As we will see later, dictionaries can also have ordered or unordered collections as values.\n"
   ]
  },
  {
   "cell_type": "markdown",
   "metadata": {
    "colab_type": "text",
    "id": "wl4zTGEz6zrG"
   },
   "source": [
    "#### Potential Quiz Question\n",
    "\n",
    "Which of the following data types cannot be used as keys?\n",
    "\n",
    "A. Strings\n",
    "\n",
    "B. Floats\n",
    "\n",
    "C. Tuples\n",
    "\n",
    "D. Lists"
   ]
  },
  {
   "cell_type": "markdown",
   "metadata": {
    "colab_type": "text",
    "id": "TFAqyY0nN9Ks"
   },
   "source": [
    "### Manipulating Dictionaries\n",
    "---\n",
    "A dictionary can be modified in two ways: 1- items can be added and deleted after creation and 2- elements contained inside a dictionary can be updated (modified). To illustrate with our running dictionary example, new words might be added to the English dictionary and existing words can have an additional definition added. In 2018, over 840 new words were added to the Merriam-Webster Unabridged dictionary, while the Oxford English Dictionary is revised on a quarterly basis, possibly replacing older definitions or expanding on them. \n"
   ]
  },
  {
   "cell_type": "markdown",
   "metadata": {
    "colab_type": "text",
    "id": "CjyR8mObN9Ks"
   },
   "source": [
    "#### Modifying Values in a Dictionary\n",
    "---\n",
    "Similar to changing values in a list, the value assigned to a key in a dictionary can easily be changed. We do that by indexing the value we would like to update using the same syntax and assigning a new value to it. The syntax will look familiar since it's similar to how we updates values in list, expect that here we use a `key` instead of an index.\n",
    "\n",
    "```\n",
    "dictionary_name[old_key] = new_value\n",
    "```\n",
    "\n",
    "![new_value_existing_key](images/unordered_collections/new_value_existing_key.JPG)"
   ]
  },
  {
   "cell_type": "markdown",
   "metadata": {
    "colab_type": "text",
    "id": "T66dqx7YN9Kr"
   },
   "source": [
    "#### Example 4\n",
    "For example, to change the value associated with `elsa_instagram`'s \"online\" status to `False`, write:\n",
    "```python\n",
    "elsa_instagram[\"online\"] = False\n",
    "```"
   ]
  },
  {
   "cell_type": "code",
   "execution_count": 5,
   "metadata": {
    "colab": {},
    "colab_type": "code",
    "id": "XxZdyONQN9Kq"
   },
   "outputs": [
    {
     "data": {
      "text/plain": [
       "False"
      ]
     },
     "execution_count": 5,
     "metadata": {},
     "output_type": "execute_result"
    }
   ],
   "source": [
    "# Change The state\n",
    "elsa_instagram[\"online\"] = False\n",
    "# print to make sure that it did change\n",
    "elsa_instagram[\"online\"]"
   ]
  },
  {
   "cell_type": "markdown",
   "metadata": {
    "colab_type": "text",
    "id": "__66oMzBN9Kn"
   },
   "source": [
    "#### Adding Key-Value Pairs\n",
    "---\n",
    "If a `key` we are trying to assess does not exist, Python assumes that we are trying to add a new `key/value` pair to our dictionary and automatically creates the item for us. Therefore, adding a new item is identical to updating, except that the key we are trying to update does not exist.\n",
    "\n",
    "![add_key_value](images/unordered_collections/add_key_value.JPG)\n",
    "\n",
    "```\n",
    "dictionary_name[new_key] = new_value\n",
    "```"
   ]
  },
  {
   "cell_type": "markdown",
   "metadata": {
    "colab_type": "text",
    "id": "k9livByCN9Kn"
   },
   "source": [
    "#### Example 5\n",
    "The example below shows how we can add a new key-value pair to the `elsa_instagram` dictionary, with the key being \"email\" and the email address `\"elsa100@gmail.com\"`."
   ]
  },
  {
   "cell_type": "code",
   "execution_count": 8,
   "metadata": {
    "colab": {},
    "colab_type": "code",
    "id": "M18CReObN9Kk"
   },
   "outputs": [
    {
     "data": {
      "text/plain": [
       "'elsa100@gmail.com'"
      ]
     },
     "execution_count": 8,
     "metadata": {},
     "output_type": "execute_result"
    }
   ],
   "source": [
    "# Add email\n",
    "elsa_instagram[\"email\"] = \"elsa100@gmail.com\"\n",
    "\n",
    "# Print info to show that it was appropriately added.\n",
    "elsa_instagram[\"email\"]"
   ]
  },
  {
   "cell_type": "markdown",
   "metadata": {
    "colab_type": "text",
    "id": "bs1JOIypN9Kk"
   },
   "source": [
    "#### Removing Key-Value Pairs\n",
    "---\n",
    "Deleting items is similar. You use the\n",
    "`del` keyword and provide it with the dictionary and `key` of the `item` to remove. See exact syntax below.\n",
    "\n",
    "![del_statement](images/unordered_collections/del_statement.JPG)\n",
    "\n",
    "```\n",
    "del dictionary_name[key]\n",
    "```"
   ]
  },
  {
   "cell_type": "markdown",
   "metadata": {
    "colab_type": "text",
    "id": "d9JWjyCjN9Kk"
   },
   "source": [
    "#### Example 6\n",
    "\n",
    "In this example, the key-value pair that contains `elsa_instagram`'s email address is deleted from the dictionary."
   ]
  },
  {
   "cell_type": "code",
   "execution_count": 9,
   "metadata": {
    "colab": {},
    "colab_type": "code",
    "collapsed": true,
    "id": "QXp_cGm0N9Kh"
   },
   "outputs": [],
   "source": [
    "del elsa_instagram[\"email\"]"
   ]
  },
  {
   "cell_type": "markdown",
   "metadata": {
    "colab_type": "text",
    "id": "M7Z7XovAN9Kg"
   },
   "source": [
    "#### Possible Quiz Question\n",
    "\n",
    "How would you add Germany's greenhouse gas emission data to the `ghg_2014` dictionary? Germany's greenhouse gas emissions were 196314 thousand metric tons of carbon in 2014. Write python statement add that information to the dictionary. \n",
    "\n",
    "```Python\n",
    "ghg_2014 = {'china' : 2806634, 'united states of america' : 1432855, 'india' : 610411, 'russian federation' : 465052, 'japan' : 331074}\n",
    "```\n",
    "\n",
    "Source: https://cdiac.ess-dive.lbl.gov/trends/emis/top2014.tot"
   ]
  },
  {
   "cell_type": "code",
   "execution_count": null,
   "metadata": {
    "collapsed": true
   },
   "outputs": [],
   "source": [
    "# Write your code here"
   ]
  },
  {
   "cell_type": "markdown",
   "metadata": {
    "colab_type": "text",
    "id": "DFjrx2rlN9Kf"
   },
   "source": [
    "#### Possible Quiz Question\n",
    "\n",
    "You noticed that `china` was misspelled in your dictionary. Given that string are not mutable; that is one of the requirements for dictionaries, you need to remove the misspelled version and reinsert it again. The value of the greenhouse gas emissions remains the same.\n",
    "\n",
    "\n",
    "```Python\n",
    "ghg_2014 = {'chinaa' : 2806634, 'united states of america' : 1432855, 'india' : 610411, 'russian federation' : 465052, 'japan' : 331074, 'germany' : 196314}\n",
    "```"
   ]
  },
  {
   "cell_type": "code",
   "execution_count": null,
   "metadata": {
    "collapsed": true
   },
   "outputs": [],
   "source": [
    "# Write you code here"
   ]
  },
  {
   "cell_type": "markdown",
   "metadata": {
    "colab_type": "text",
    "id": "vwPpBjs2N9Kc"
   },
   "source": [
    "### Iterating Through Dictionaries\n",
    "---\n",
    "\n",
    "While it's critical to have a mechanism to access a dictionary's items individually, it's often necessary to iterate, or loop, over all the elements of a dictionary. For instance, this would be required to convert the prices (values) of product ids (keys) in a dictionary from US Dollars to Canadian Dollars. We may need to traverse all the keys in our greenhouse gas emission dictionary to count the number of countries in Asia and the number of countries Europe.\n",
    "\n",
    "Like with lists and tuples, dictionaries can be used as an iterator for `for` loops. Specifically, the dictionary's keys, values or key-value pairs can be used as iterators. The order of items in a dictionary is \"random\", and as such, the order in which the items are processed is also random. In the next paragraphs, we will cover how to iterate over a dictionary's keys, values or items (key/value pairs)."
   ]
  },
  {
   "cell_type": "markdown",
   "metadata": {
    "colab_type": "text",
    "id": "FqKFcVFkN9KW"
   },
   "source": [
    "#### Accessing the Data stored a Dictionary\n",
    "---\n",
    "Dictionaries have three useful methods to return the data stores in the dictionary. These methods are:\n",
    "\n",
    "1-`keys()` which returns all the keys in the dictionary \n",
    "\n",
    "2-`values()` which returns all the values in the dictionary \n",
    "\n",
    "3-`items()` which returns all the items (key/value pairs) in the dictionary \n",
    "\n",
    "All three methods return `iterators`, which can therefore be used in for loops. "
   ]
  },
  {
   "cell_type": "code",
   "execution_count": 18,
   "metadata": {},
   "outputs": [
    {
     "name": "stdout",
     "output_type": "stream",
     "text": [
      "The greenhouse gas emmision dictionnary's keys are:\n",
      "dict_keys(['china', 'united states of america', 'india', 'russian federation', 'japan', 'germany'])\n"
     ]
    }
   ],
   "source": [
    "print(\"The greenhouse gas emission dictionary's keys are:\")\n",
    "print(ghg_2014.keys())"
   ]
  },
  {
   "cell_type": "code",
   "execution_count": 17,
   "metadata": {},
   "outputs": [
    {
     "name": "stdout",
     "output_type": "stream",
     "text": [
      "The greenhouse gas emmision dictionnary's values are:\n",
      "dict_values([2806634, 1432855, 610411, 465052, 331074, 196314])\n"
     ]
    }
   ],
   "source": [
    "print(\"The greenhouse gas emission dictionary's values are:\")\n",
    "print(ghg_2014.values())"
   ]
  },
  {
   "cell_type": "code",
   "execution_count": 16,
   "metadata": {},
   "outputs": [
    {
     "name": "stdout",
     "output_type": "stream",
     "text": [
      "The greenhouse gas emmision dictionnary's items are:\n",
      "dict_items([('china', 2806634), ('united states of america', 1432855), ('india', 610411), ('russian federation', 465052), ('japan', 331074), ('germany', 196314)])\n"
     ]
    }
   ],
   "source": [
    "print(\"The greenhouse gas emision dictionary's items are:\")\n",
    "print(ghg_2014.items())"
   ]
  },
  {
   "cell_type": "markdown",
   "metadata": {},
   "source": [
    "### Looping Through Keys Only\n",
    "\n",
    "Since the method `keys()` returns an iterator, the syntax we will use to loop over all the keys of a dictionary is similar to what we've used in the past. As a reminder, the python code we would use to loop over the data is:\n",
    "\n",
    "\n",
    "```\n",
    "for keys in dictionary_name.keys():\n",
    "    execute something\n",
    "```\n",
    "\n",
    "\n",
    "![keys_method](images/unordered_collections/keys_method.JPG)\n"
   ]
  },
  {
   "cell_type": "markdown",
   "metadata": {
    "colab_type": "text",
    "id": "M4gTDn0EN9KV"
   },
   "source": [
    "#### Example 9\n",
    "As an example, the following snipper of code loops through the keys of the dictionary `usa_winter_athletes` we created earlir, and prints its keys, one per line."
   ]
  },
  {
   "cell_type": "code",
   "execution_count": 19,
   "metadata": {
    "colab": {},
    "colab_type": "code",
    "id": "H5B4xaxXN9KT"
   },
   "outputs": [
    {
     "ename": "NameError",
     "evalue": "name 'usa_winter_athletes' is not defined",
     "output_type": "error",
     "traceback": [
      "\u001b[0;31m---------------------------------------------------------------------------\u001b[0m",
      "\u001b[0;31mNameError\u001b[0m                                 Traceback (most recent call last)",
      "\u001b[0;32m<ipython-input-19-170aae54e939>\u001b[0m in \u001b[0;36m<module>\u001b[0;34m()\u001b[0m\n\u001b[0;32m----> 1\u001b[0;31m \u001b[0;32mfor\u001b[0m \u001b[0mkeys\u001b[0m \u001b[0;32min\u001b[0m \u001b[0musa_winter_athletes\u001b[0m\u001b[0;34m.\u001b[0m\u001b[0mkeys\u001b[0m\u001b[0;34m(\u001b[0m\u001b[0;34m)\u001b[0m\u001b[0;34m:\u001b[0m\u001b[0;34m\u001b[0m\u001b[0m\n\u001b[0m\u001b[1;32m      2\u001b[0m     \u001b[0mprint\u001b[0m\u001b[0;34m(\u001b[0m\u001b[0mkeys\u001b[0m\u001b[0;34m)\u001b[0m\u001b[0;34m\u001b[0m\u001b[0m\n",
      "\u001b[0;31mNameError\u001b[0m: name 'usa_winter_athletes' is not defined"
     ]
    }
   ],
   "source": [
    "for keys in usa_winter_athletes.keys():\n",
    "    print(keys)"
   ]
  },
  {
   "cell_type": "markdown",
   "metadata": {
    "colab_type": "text",
    "id": "6-Z35OvKN9KZ"
   },
   "source": [
    "#### Looping Through Values Only\n",
    "---\n",
    "The logic for looping through `values` is identical as that seen with `keys()`. For the forloops, we write:\n",
    "\n",
    "```\n",
    "for value in dictionary_name.values():\n",
    "    execute something\n",
    "```\n",
    "\n",
    "\n",
    "![loop_values](images/unordered_collections/looping_values.JPG)"
   ]
  },
  {
   "cell_type": "markdown",
   "metadata": {
    "colab_type": "text",
    "id": "dEWsvvkVN9KY"
   },
   "source": [
    "#### Example 8\n",
    "\n",
    "This example only prints the value of each item stored in the `usa_winter_athletes` dictionary. Using the `values()` method may be useful if one is only interested in the dictionary values.\n"
   ]
  },
  {
   "cell_type": "code",
   "execution_count": null,
   "metadata": {
    "colab": {},
    "colab_type": "code",
    "collapsed": true,
    "id": "69vscgFYN9KY"
   },
   "outputs": [],
   "source": [
    "usa_winter_athletes = {'Skiing' : 'Lindsey Vonn', \n",
    "                        'Snowboarding' : 'Shaun White',\n",
    "                        'Figure Skating' : 'Nathan Chen',\n",
    "                        'Ice Dancing' : 'Maia Shibutani', \n",
    "                        'Curling' : 'Cory Christensen'}\n",
    "for value in usa_winter_athletes.values():\n",
    "  print(value)"
   ]
  },
  {
   "cell_type": "markdown",
   "metadata": {
    "colab_type": "text",
    "id": "Wpt2JKhjN9Kb"
   },
   "source": [
    "#### Iterating Through Key-Value Pairs\n",
    "---\n",
    "To loop through all the key-value pairs in a dictionary,  two temporary variable names must be provided in the first line of the `for` loop. \n",
    "\n",
    "\n",
    "Additionally, the `items()` method is used on dictionary to tell python to loop through both keys and values. \n",
    "\n",
    "\n",
    "The example below demonstrates how a `for` loop should be formatted to loop through the key-value pairs:\n",
    "```\n",
    "for key, value in dictionary_name.items():\n",
    "    execute something\n",
    "```\n",
    "\n",
    "![items_method](images/unordered_collections/items_method.JPG)"
   ]
  },
  {
   "cell_type": "markdown",
   "metadata": {
    "colab_type": "text",
    "id": "kyyIBUVmN9Kb"
   },
   "source": [
    "#### Example 7\n",
    "\n",
    "This example loops through the key-value pairs within the dictionary, `usa_winter_athletes`, and prints them. Because dictionaries are unordered, the key-value pairs may be printed out in a different order each time."
   ]
  },
  {
   "cell_type": "code",
   "execution_count": 1,
   "metadata": {
    "colab": {},
    "colab_type": "code",
    "id": "gjfCc6vwN9KZ"
   },
   "outputs": [
    {
     "name": "stdout",
     "output_type": "stream",
     "text": [
      "\n",
      " Key: Skiing\n",
      "Value: Lindsey Vonn\n",
      "\n",
      " Key: Snowboarding\n",
      "Value: Shaun White\n",
      "\n",
      " Key: Figure Skating\n",
      "Value: Nathan Chen\n",
      "\n",
      " Key: Ice Dancing\n",
      "Value: Maia Shibutani\n",
      "\n",
      " Key: Curling\n",
      "Value: Cory Christensen\n"
     ]
    }
   ],
   "source": [
    "usa_winter_athletes = {'Skiing' : 'Lindsey Vonn', \n",
    "                        'Snowboarding' : 'Shaun White',\n",
    "                        'Figure Skating' : 'Nathan Chen',\n",
    "                        'Ice Dancing' : 'Maia Shibutani', \n",
    "                        'Curling' : 'Cory Christensen'}\n",
    "for key, value in usa_winter_athletes.items():\n",
    "  print(\"\\n Key: {}\".format(key))\n",
    "  print(\"Value: {}\".format(value))\n"
   ]
  },
  {
   "cell_type": "markdown",
   "metadata": {
    "colab_type": "text",
    "id": "Br7UjY2fN9KT"
   },
   "source": [
    "#### Looping Through Dictionaries in Order\n",
    "---\n",
    "Python will loop through a dictionariy in a random order. However, using the `sorted()` function, dictionaries can be looped through in alphabetical or numeric order. \n",
    "\n",
    "\n",
    "The `sorted()` function takes the dictionary name and method as the parameter and temporarily sorts the keys, or values of the dictionary before looping through them. \n",
    "\n",
    "\n",
    "The `sorted()` function also works on lists.\n",
    "\n",
    "![looping_sorted](images/unordered_collections/looping_sorted.JPG)\n",
    "\n",
    "\n",
    "```\n",
    "for element(s) in sorted(dictionary_name.method()):\n",
    "    execute something\n",
    "```\n",
    "\n",
    "If the `sorted()` function is used in conjunction with the items and the keys method, the dictionary will be looped through in alphabetical or numeric order based on the keys. \n",
    "\n",
    "\n",
    "However, if the `sorted()` function is used in conjunction with the `values()` method, the dictionary will be looped through in alphabetical or numeric order based on the values."
   ]
  },
  {
   "cell_type": "markdown",
   "metadata": {
    "colab_type": "text",
    "id": "Upn1LO7cN9KS"
   },
   "source": [
    "#### Example 10\n",
    "\n",
    "This example uses the `sorted()` function in conjunction with the `keys()` method to print the keys of the `usa_winter_athletes` dictionary in alphabetical order."
   ]
  },
  {
   "cell_type": "code",
   "execution_count": 3,
   "metadata": {
    "colab": {},
    "colab_type": "code",
    "id": "aztDHyDUN9KQ"
   },
   "outputs": [
    {
     "name": "stdout",
     "output_type": "stream",
     "text": [
      "Curling\n",
      "Figure Skating\n",
      "Ice Dancing\n",
      "Skiing\n",
      "Snowboarding\n"
     ]
    }
   ],
   "source": [
    "usa_winter_athletes = {'Skiing' : 'Lindsey Vonn', \n",
    "                        'Snowboarding' : 'Shaun White',\n",
    "                        'Figure Skating' : 'Nathan Chen',\n",
    "                        'Ice Dancing' : 'Maia Shibutani', \n",
    "                        'Curling' : 'Cory Christensen'}\n",
    "for element in sorted(usa_winter_athletes.keys()):\n",
    "  print(element)"
   ]
  },
  {
   "cell_type": "markdown",
   "metadata": {
    "colab_type": "text",
    "id": "eSyMAx_-N9KQ"
   },
   "source": [
    "#### Example 11\n",
    "\n",
    "This example uses the `sorted()` function in conjunction with the `values()` method to print the values in the `usa_winter_athletes` dictionary in alphabetical order."
   ]
  },
  {
   "cell_type": "code",
   "execution_count": 4,
   "metadata": {
    "colab": {},
    "colab_type": "code",
    "id": "HRQORkHkN9KM"
   },
   "outputs": [
    {
     "name": "stdout",
     "output_type": "stream",
     "text": [
      "Cory Christensen\n",
      "Lindsey Vonn\n",
      "Maia Shibutani\n",
      "Nathan Chen\n",
      "Shaun White\n"
     ]
    }
   ],
   "source": [
    "usa_winter_athletes = {'Skiing' : 'Lindsey Vonn', \n",
    "                        'Snowboarding' : 'Shaun White',\n",
    "                        'Figure Skating' : 'Nathan Chen',\n",
    "                        'Ice Dancing' : 'Maia Shibutani', \n",
    "                        'Curling' : 'Cory Christensen'}\n",
    "for element in sorted(usa_winter_athletes.values()):\n",
    "  print(element)"
   ]
  },
  {
   "cell_type": "markdown",
   "metadata": {
    "colab_type": "text",
    "id": "nTCrAUz1N9KI"
   },
   "source": [
    "#### Possible Quiz Question\n",
    "\n",
    "True or false: When looping through a dictionary, the items will be looped through in the same order that they were inputted."
   ]
  },
  {
   "cell_type": "markdown",
   "metadata": {
    "colab_type": "text",
    "id": "FLIi_WD-N9KL"
   },
   "source": [
    "#### Possible Quiz Question\n",
    "\n",
    "Which method do you need to use when you loop through a dictionary's values only?\n",
    "\n",
    "A. `values()`\n",
    "\n",
    "B. `keys()`\n",
    "\n",
    "C. `items()`\n",
    "\n",
    "D. `append()`\n"
   ]
  },
  {
   "cell_type": "markdown",
   "metadata": {
    "colab_type": "text",
    "id": "6ain-5neN9KF"
   },
   "source": [
    "#### Exercise 8\n",
    "\n",
    "What function can you use to loop through a dictionary in alphabetical order?\n",
    "\n",
    "A. `order()`\n",
    "\n",
    "B. `alphabetical()`\n",
    "\n",
    "C. `sort()`\n",
    "\n",
    "D. `sorted()`\n",
    "\n",
    "E. `ordered()`"
   ]
  },
  {
   "cell_type": "markdown",
   "metadata": {
    "colab_type": "text",
    "id": "szaPLiLxIlLk"
   },
   "source": [
    "### Fun Dictionary Usage Example\n",
    "---"
   ]
  },
  {
   "cell_type": "markdown",
   "metadata": {
    "colab_type": "text",
    "id": "8gmitu4ZQsSm"
   },
   "source": [
    "#### Encrypting a Caesar Cipher\n",
    "\n",
    "A substitution cipher (also known as a caesar cipher) is simple method of encoding a message.\n",
    "In the substitution cipher, each letter is mapped to an alternative letter.\n",
    "\n",
    "**Insert image here of what the dictionary/ mapping looks like**\n",
    "\n",
    "We can use a dictionary to map a substitution cipher as shown below. Each letter of the alphabet and spaces are the keys of the dictionary and the alternative letters are the values."
   ]
  },
  {
   "cell_type": "code",
   "execution_count": null,
   "metadata": {
    "colab": {},
    "colab_type": "code",
    "collapsed": true,
    "id": "pMy6R8cyNT4d"
   },
   "outputs": [],
   "source": [
    "cipher = {'a' : 'd',\n",
    "          'b' : 'e',\n",
    "          'c' : 'f',\n",
    "          'd' : 'g',\n",
    "          'e' : 'h',\n",
    "          'f' : 'i',\n",
    "          'g' : 'j',\n",
    "          'h' : 'k',\n",
    "          'i' : 'l',\n",
    "          'j' : 'm',\n",
    "          'k' : 'n',\n",
    "          'l' : 'o',\n",
    "          'm' : 'p',\n",
    "          'n' : 'q',\n",
    "          'o' : 'r',\n",
    "          'p' : 's',\n",
    "          'q' : 't',\n",
    "          'r' : 'u',\n",
    "          's' : 'v',\n",
    "          't' : 'w',\n",
    "          'u' : 'x',\n",
    "          'v' : 'y',\n",
    "          'w' : 'z',\n",
    "          'x' : 'a',\n",
    "          'y' : 'b',\n",
    "          'z' : 'c',\n",
    "          \" \" : 'xx'}"
   ]
  },
  {
   "cell_type": "markdown",
   "metadata": {},
   "source": [
    "Now we can write a function to encrypt messages using the cipher. In the `encrypt()` function below, we use a `for` loop to loop through the message and append the alternative letters to a result string."
   ]
  },
  {
   "cell_type": "code",
   "execution_count": null,
   "metadata": {
    "collapsed": true
   },
   "outputs": [],
   "source": [
    "def encrypt(message, cipher):\n",
    "  result = \"\"\n",
    "  for c in message:\n",
    "    result = result + cipher[c]\n",
    "  return result"
   ]
  },
  {
   "cell_type": "code",
   "execution_count": null,
   "metadata": {
    "colab": {},
    "colab_type": "code",
    "collapsed": true,
    "id": "p8aMiLxoP7Wr"
   },
   "outputs": [],
   "source": [
    "print(encrypt(\"hello\", cipher))\n",
    "print(encrypt(\"this is a secret message\", cipher))\n",
    "print(encrypt(\"do you think you can decode it\", cipher))"
   ]
  },
  {
   "cell_type": "markdown",
   "metadata": {
    "colab_type": "text",
    "id": "to-NyS0kUUmX"
   },
   "source": [
    "#### Decrypting a Caesar Cipher\n",
    "Decoding a caesar cipher requires inverting the keys and the values of the original dictionary. To do this, we create a function that re-maps the original `cipher` dictionary's keys to be the values, and values to keys. This new dictionary can then be used to decode the encrypted message. \n"
   ]
  },
  {
   "cell_type": "code",
   "execution_count": null,
   "metadata": {
    "colab": {},
    "colab_type": "code",
    "collapsed": true,
    "id": "GNzEntPCU58p"
   },
   "outputs": [],
   "source": [
    "def invert(my_cipher):\n",
    "    result = {} \n",
    "    for key, value in my_cipher.items():\n",
    "      result[value] = key\n",
    "    return result\n",
    "    \n",
    "def decrypt(message, cipher):\n",
    "  return encrypt(message, invert(cipher))\n"
   ]
  },
  {
   "cell_type": "code",
   "execution_count": null,
   "metadata": {
    "colab": {},
    "colab_type": "code",
    "collapsed": true,
    "id": "MPXsrkG4nVEU"
   },
   "outputs": [],
   "source": [
    "print(decrypt(\"khoor\",cipher))"
   ]
  },
  {
   "cell_type": "markdown",
   "metadata": {
    "colab_type": "text",
    "id": "oCkFyCTzDrM3"
   },
   "source": [
    "## Advanced Data Structures\n",
    "---\n",
    "Advanced data structures are essentially nested collections, which involve placing a collection within another collection. For example, one can create a list of lists, a dictionary of dictionaries, a list of dictionaries, a dictionary of tuples and so on. Nesting collections introduces greater possibilities for storing and organizing data, which in turn makes it easier to access and manipulate. For example, if you have a website with several users, you could store each user's profile information in separate dictionaries. However, if you have hundreds or thousands of user profiles, it will be easier to access their information if these dictionaries were nested in a list or another dictionary.\n",
    "\n",
    "\n",
    "There are two ways to nest collections. The first is to directly define everything in one assignment statement as seen below."
   ]
  },
  {
   "cell_type": "markdown",
   "metadata": {
    "colab_type": "text",
    "id": "vZchFsp1Cbky"
   },
   "source": [
    "#### Example 12\n",
    "\n",
    "We can create a list of tuples containing monuments on Oahu and their GPS coordinates.\n"
   ]
  },
  {
   "cell_type": "code",
   "execution_count": null,
   "metadata": {
    "colab": {
     "base_uri": "https://localhost:8080/",
     "height": 70
    },
    "colab_type": "code",
    "executionInfo": {
     "elapsed": 653,
     "status": "ok",
     "timestamp": 1547080518070,
     "user": {
      "displayName": "Jaclyn Lee",
      "photoUrl": "",
      "userId": "17525286701482268466"
     },
     "user_tz": 600
    },
    "id": "jvQNkx5xCozZ",
    "outputId": "f360cbeb-282c-4f14-958e-ff37a9c21d14"
   },
   "outputs": [
    {
     "data": {
      "text/plain": [
       "[('USS Arizona', \"N21°18'\", \"W157°57'\"),\n",
       " ('Iolani Palace', \"N21°18'\", \"W157°51'\"),\n",
       " ('Diamond Head', \"N21°15'\", \"W157°48'\")]"
      ]
     },
     "execution_count": 1,
     "metadata": {
      "tags": []
     },
     "output_type": "execute_result"
    }
   ],
   "source": [
    "monuments = [('USS Arizona', \"N21°18'\", \"W157°57'\"),\n",
    "             (\"Iolani Palace\", \"N21°18'\", \"W157°51'\"),\n",
    "             (\"Diamond Head\", \"N21°15'\", \"W157°48'\")]\n",
    "monuments"
   ]
  },
  {
   "cell_type": "markdown",
   "metadata": {
    "colab_type": "text",
    "id": "8LEvuYvna0Qo"
   },
   "source": [
    "The second method for nesting collections involves building the collections separately and then combining the variables to build a nested collection. The example below shows this style of nesting collections."
   ]
  },
  {
   "cell_type": "markdown",
   "metadata": {
    "colab_type": "text",
    "id": "ShLa2wwfCqbB"
   },
   "source": [
    "#### Example 13\n",
    "\n",
    "We will categorize the colleges in the Big West Athletic Conference into their respective university systems. All of this information will be organized within a dictionary."
   ]
  },
  {
   "cell_type": "code",
   "execution_count": null,
   "metadata": {
    "colab": {
     "base_uri": "https://localhost:8080/",
     "height": 54
    },
    "colab_type": "code",
    "executionInfo": {
     "elapsed": 443,
     "status": "ok",
     "timestamp": 1547080530696,
     "user": {
      "displayName": "Jaclyn Lee",
      "photoUrl": "",
      "userId": "17525286701482268466"
     },
     "user_tz": 600
    },
    "id": "KggfVqyPDDo9",
    "outputId": "61dc6be8-ef82-426d-fb5e-8afa080ff6a5"
   },
   "outputs": [
    {
     "name": "stdout",
     "output_type": "stream",
     "text": [
      "{'CSU': ['cal poly', 'csuf', 'csun', 'long beach state'], 'UH': ['uhm'], 'UC': ['uc davis', 'uc irvine', 'uc riverside', 'uc santa barbara']}\n"
     ]
    }
   ],
   "source": [
    "csu = ['cal poly', 'csuf', 'csun', 'long beach state']\n",
    "uh = ['uhm']\n",
    "uc = ['uc davis', 'uc irvine', 'uc riverside', 'uc santa barbara']\n",
    "\n",
    "big_west = {'CSU' : csu, 'UH' : uh, 'UC' : uc}\n",
    "\n",
    "print(big_west)"
   ]
  },
  {
   "cell_type": "markdown",
   "metadata": {
    "colab_type": "text",
    "id": "tdop_fG3hPRJ"
   },
   "source": [
    "Both methods of nesting collections will yield the same results, so you can use whichever method you prefer."
   ]
  },
  {
   "cell_type": "markdown",
   "metadata": {
    "colab_type": "text",
    "id": "NcVrTKVMDUJf"
   },
   "source": [
    "### Indexing Elements in Nested Collections\n",
    "---\n",
    "\n",
    "**Maybe put an animation here to show how to refer to elements in nested collections**\n",
    "\n",
    "\n",
    "Referring to items in nested collections is fairly straightforward. You still use indices to refer to items in lists and tuples and keys to refer to items in dictionaries. The difference is that you use an additional set of square brackets (with an index or key) to access items in sub collections. The index or key in the first square brackets will refer to the nested collections within the main collection as a whole. The second set of square brackets will refer to an item within the nested collection that the first square brackets specified.\n",
    "\n",
    "**Color coded picture here illustrating above concept**\n",
    "\n",
    "**Picture of index/key referring to elements in subcollections, highlight what the index/key refers to in same color.**"
   ]
  },
  {
   "cell_type": "markdown",
   "metadata": {
    "colab_type": "text",
    "id": "ZbeK9z6vGjXY"
   },
   "source": [
    "#### Example 14\n",
    "\n",
    "Let's use the nested collections in the examples above to demonstrate how we can access elements in nested collections."
   ]
  },
  {
   "cell_type": "code",
   "execution_count": 2,
   "metadata": {
    "colab": {
     "base_uri": "https://localhost:8080/",
     "height": 158
    },
    "colab_type": "code",
    "executionInfo": {
     "elapsed": 415,
     "status": "ok",
     "timestamp": 1547080537529,
     "user": {
      "displayName": "Jaclyn Lee",
      "photoUrl": "",
      "userId": "17525286701482268466"
     },
     "user_tz": 600
    },
    "id": "tCWQjlw6EcPu",
    "outputId": "13a58ce6-522c-48d5-9c3b-8565d6bf9058"
   },
   "outputs": [
    {
     "name": "stdout",
     "output_type": "stream",
     "text": [
      "This is the third element in the monuments list: ('Diamond Head', \"N21°15'\", \"W157°48'\")\n",
      "This is the second item in the second tuple in the monuments list: N21°18'\n",
      "This is the item under \"UC\": ['uc davis', 'uc irvine', 'uc riverside', 'uc santa barbara']\n",
      "This is the last item in the \"UC\" list: uc santa barbara\n"
     ]
    }
   ],
   "source": [
    "monuments = [('USS Arizona', \"N21°18'\", \"W157°57'\"),\n",
    "             (\"Iolani Palace\", \"N21°18'\", \"W157°51'\"),\n",
    "             (\"Diamond Head\", \"N21°15'\", \"W157°48'\")]\n",
    "\n",
    "print(\"This is the third element in the monuments list: {}\".format(monuments[2]))\n",
    "\n",
    "print(\"This is the second item in the second tuple in the monuments list: {}\".format(monuments[1][1]))\n",
    "\n",
    "csu = ['cal poly', 'csuf', 'csun', 'long beach state']\n",
    "uh = ['uhm']\n",
    "uc = ['uc davis', 'uc irvine', 'uc riverside', 'uc santa barbara']\n",
    "big_west = {'CSU' : csu, 'UH' : uh, 'UC' : uc}\n",
    "\n",
    "print('This is the item under \"UC\": {}'.format(big_west[\"UC\"]))\n",
    "\n",
    "print('This is the last item in the \"UC\" list: {}'.format(big_west[\"UC\"][-1]))"
   ]
  },
  {
   "cell_type": "markdown",
   "metadata": {
    "colab_type": "text",
    "id": "viIoUYuuoC5R"
   },
   "source": [
    "Notice that by using only one index or key you are referring to one of the nested collections, but using two indices or keys will allow you to access an item within the nested collection. \n",
    "\n",
    "How do you think you would refer to individual items in three levels of nested collections (for example a list within a list within a list)?"
   ]
  },
  {
   "cell_type": "markdown",
   "metadata": {
    "colab_type": "text",
    "id": "CZP9PtWAL_JW"
   },
   "source": [
    "#### Potential Quiz Question\n",
    "\n",
    "Which of the following advance control structure combinations won't work?\n",
    "\n",
    "A. Nesting dictionaries inside of a list.\n",
    "\n",
    "B. Using lists as keys and values in a dictionary\n",
    "\n",
    "C. Using tuples as keys and values in a dictionary\n",
    "\n",
    "D. Nesting lists inside of dictionaries that are nested in a tuple"
   ]
  },
  {
   "cell_type": "markdown",
   "metadata": {
    "colab_type": "text",
    "id": "KFOVJHZPNM1v"
   },
   "source": [
    "#### Potential Quiz Question\n",
    "\n",
    "How would you refer to `'cal poly'` in the `big_west` dictionary?"
   ]
  },
  {
   "cell_type": "markdown",
   "metadata": {
    "colab_type": "text",
    "id": "p2LK0xLoN9J7"
   },
   "source": [
    "## Summary\n",
    "---\n",
    "This section covered:\n",
    "* Creating dictionaries\n",
    "* Referring to values within a dictionary\n",
    "* How to modify, add and remove key-value pairs in a dictionary. \n",
    "* How to loop through a dictionary.\n",
    "* How to create and work with advance data structures. \n",
    "\n",
    "The next section will cover advance control structures that use different combinations of `if-else` statements and `for` loops."
   ]
  }
 ],
 "metadata": {
  "colab": {
   "collapsed_sections": [],
   "name": "7 Intro to Python: Unordered Collections",
   "provenance": [],
   "version": "0.3.2"
  },
  "hide_input": false,
  "kernelspec": {
   "display_name": "Python 3",
   "language": "python",
   "name": "python3"
  },
  "language_info": {
   "codemirror_mode": {
    "name": "ipython",
    "version": 3
   },
   "file_extension": ".py",
   "mimetype": "text/x-python",
   "name": "python",
   "nbconvert_exporter": "python",
   "pygments_lexer": "ipython3",
   "version": "3.6.4"
  }
 },
 "nbformat": 4,
 "nbformat_minor": 2
}
