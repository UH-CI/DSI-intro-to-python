{
 "cells": [
  {
   "cell_type": "markdown",
   "metadata": {
    "colab_type": "text",
    "id": "macZLbAtN9K-"
   },
   "source": [
    "# Unordered Collections\n",
    "---\n",
    "\n",
    "Chapter 6 introduced two types of ordered collections, lists and tuples. Similar to ordered collections, unordered collections can contain thousands of values under the same variable label. Unlike ordered collections, unordered collections do not store positional location of the value or the order of insertion. \n",
    "\n",
    "This chapter will cover creating, modifying, and working with dictionaries, as well as iterating through items of a dictionary. Dictionaries are versatile and useful data types in Python. Therefore, we will cover more advanced functionality in the next chapter.\n",
    "\n",
    " \n"
   ]
  },
  {
   "cell_type": "markdown",
   "metadata": {
    "colab_type": "text",
    "id": "sz25DzjGN9K-"
   },
   "source": [
    "## Dictionaries\n",
    "---\n",
    "Dictionaries are collections of items. Each item contains a unique key and information that is associated with that key. The dictionary data structure frequently appears in our everyday life: think of a phonebook, a database, a recipe. These three things all share the common characteristics of container holding labels tied to specific values. For example, think of a Spanish to English dictionary. Visualize the 'keys' of this dictionary as vocabulary words in English, and the linked values the words in Spanish. A dictionary can also be something like a contact in a cell phone: the name of a friend containing information pairs on phone number, home address, and email address.\n",
    "\n"
   ]
  },
  {
   "cell_type": "markdown",
   "metadata": {
    "colab_type": "text",
    "id": "pmsWNQSON9K8"
   },
   "source": [
    "### Creating Dictionaries\n",
    "---\n",
    "Dictionaries are defined by the \"{}\" brackets and their items are separated by a \",\" (comma). As mentioned above, each item of a dictionairy hase a key  and a value - those are separated \":\".\n",
    "\n",
    "\n",
    "Example: \n",
    "\n",
    "`dictionary_name = {\"key 1\" : \"info 1\", \"key 2\" : \"info 2\"}`\n",
    "\n",
    "\n",
    "\n",
    "\n",
    "![dictionary](images/unordered_collections/dictionary.JPG)"
   ]
  },
  {
   "cell_type": "markdown",
   "metadata": {
    "colab_type": "text",
    "id": "bfeus9nNN9K8"
   },
   "source": [
    "#### Keys \n",
    "----\n",
    "\n",
    "\n",
    "In a Dictionary, a given key can only appear once as dictionary maps each key to a corresponding value. Thus duplicate keys are not supported. Keys can be any immutable data type, however strings are typically usually used for keys to add desciption. Other dictionaries and lists cannot serve as dictionary keys, as these are mutable, however tuples can serve as dictionary keys as they are immutable. "
   ]
  },
  {
   "cell_type": "markdown",
   "metadata": {
    "colab_type": "text",
    "id": "bgmGcdJ0N9K8"
   },
   "source": [
    "#### Key Values\n",
    "---\n",
    "Opposed to dictionary keys, dictionary values can be any data type supported in Python. There are no restrictions against a value appearing multiple times in a dictionary in Python. "
   ]
  },
  {
   "cell_type": "markdown",
   "metadata": {
    "colab_type": "text",
    "id": "qQikZPjzN9K7"
   },
   "source": [
    "#### Example 1\n",
    "\n",
    "The following dictionary `elsa_instagram` contains key-value pairs of data of an instagram user's profile. Note that these  values are datatypes introduced in previous chapters including strings, integers, and booleans. \n",
    "\n",
    "This dictionary contains the following information in key- value pairs:\n",
    "\n",
    "\n",
    "*   This user's username is elsa\n",
    "*   This user has 342266 followers\n",
    "*   This user is online\n",
    "*   This user's account is 4 years old\n",
    "\n",
    "![dict_example](images/unordered_collections/dict_example.JPG)\n",
    "\n",
    "\n",
    "\n"
   ]
  },
  {
   "cell_type": "code",
   "execution_count": 0,
   "metadata": {
    "colab": {},
    "colab_type": "code",
    "id": "G_TksCtiN9K6"
   },
   "outputs": [],
   "source": [
    "elsa_instagram = {'username' : 'elsa',\n",
    "                  'followers' : 342266,\n",
    "                  'online' : True, \n",
    "                  'account age' : '4 years'}"
   ]
  },
  {
   "cell_type": "markdown",
   "metadata": {
    "colab_type": "text",
    "id": "BVl46nG4N9K5"
   },
   "source": [
    "#### Example 2\n",
    "\n",
    "This dictionary contains the sports and names of athletes that partake in the winter olympics:\n"
   ]
  },
  {
   "cell_type": "code",
   "execution_count": 0,
   "metadata": {
    "colab": {},
    "colab_type": "code",
    "id": "TZQ8tPdrN9K4"
   },
   "outputs": [],
   "source": [
    "usa_winter_athletes = {'Skiing' : 'Lindsey Vonn', \n",
    "                        'Snowboarding' : 'Shaun White',\n",
    "                        'Figure Skating' : 'Nathan Chen',\n",
    "                        'Ice Dancing' : 'Maia Shibutani', \n",
    "                        'Curling' : 'Cory Christensen'}"
   ]
  },
  {
   "cell_type": "markdown",
   "metadata": {
    "colab_type": "text",
    "id": "cRHcxlsCLekh"
   },
   "source": [
    "#### Potential Quiz Question\n",
    "\n",
    "Which of the following is false about dictionaries?\n",
    "\n",
    "A. Dictionaries are a type of unordered collection.\n",
    "\n",
    "B. Dictionaries are delineated by curly braces .\n",
    "\n",
    "C.  Dictionaries are composed of key-value pairs. The keys and the values are separated by a colon, and the key-value pairs are separated by commas.\n"
   ]
  },
  {
   "cell_type": "markdown",
   "metadata": {
    "colab_type": "text",
    "id": "wl4zTGEz6zrG"
   },
   "source": [
    "#### Potential Quiz Question\n",
    "\n",
    "Which of the following cannot be used as keys?\n",
    "\n",
    "A. Strings\n",
    "\n",
    "B. Floats\n",
    "\n",
    "C. Tuples\n",
    "\n",
    "D. Lists"
   ]
  },
  {
   "cell_type": "markdown",
   "metadata": {
    "colab_type": "text",
    "id": "Z7fGTbpjN9Kz"
   },
   "source": [
    "### Accessing Elements: Keys\n",
    "\n",
    "---\n",
    "\n",
    "Unlike ordered collections like lists and tuples, dictionaries do not have indicies that can be used to index the contained values. However, dictionaries values can be located using their keys. To return the value associated with a key, give the name of the dictionary and then place the key inside of square brackets:\n",
    "\n",
    "`dictionary_name[\"key 1\"]`\n",
    "\n"
   ]
  },
  {
   "cell_type": "markdown",
   "metadata": {
    "colab_type": "text",
    "id": "OhKL_4-fN9Kz"
   },
   "source": [
    "#### Example 3\n",
    "\n",
    "In this example, we access the value associated with the key \"online\", to see if the user `elsa_instagram` is online, and print the value:\n",
    "\n",
    "![accessing_values](images/unordered_collections/accessing_values.JPG)"
   ]
  },
  {
   "cell_type": "code",
   "execution_count": 0,
   "metadata": {
    "colab": {},
    "colab_type": "code",
    "id": "kyxoQy0NN9Kw"
   },
   "outputs": [],
   "source": [
    "elsa_instagram[\"online\"]"
   ]
  },
  {
   "cell_type": "markdown",
   "metadata": {
    "colab_type": "text",
    "id": "bW4LcLgoN9Kw"
   },
   "source": [
    "#### Potential Quiz Question\n",
    "\n",
    "Which one correctly refers to India's greenhouse gas emissions in `ghg_2014` (numbers are in thousands of metric tons of carbon)?\n",
    "\n",
    "```\n",
    "ghg_2014 = {'china' : 2806634, 'united states of america' : 1432855, 'india' : 610411, 'russian federation' : 465052, 'japan' : 331074}\n",
    "```\n",
    "\n",
    "A. `ghg_2014[3]`\n",
    "\n",
    "B. `ghg_2014[2]`\n",
    "\n",
    "C. `ghg_2014['india']`\n",
    "\n",
    "D. `ghg_2014[india]`\n",
    "\n",
    "Source: https://cdiac.ess-dive.lbl.gov/trends/emis/top2014.tot"
   ]
  },
  {
   "cell_type": "markdown",
   "metadata": {
    "colab_type": "text",
    "id": "TFAqyY0nN9Ks"
   },
   "source": [
    "### Manipulating Dictionaries\n",
    "---\n",
    "After creating a dictionary, elements stored inside a dictionary can be easily modified. Key-value pairs can also be added and deleted after creation. For example, new elements might be added if to the english to spanish dictionary. Existing key-value pairs might be deleted, or changed if the associated data is no longer relevant, or incorrect.\n"
   ]
  },
  {
   "cell_type": "markdown",
   "metadata": {
    "colab_type": "text",
    "id": "CjyR8mObN9Ks"
   },
   "source": [
    "#### Modifying Values in a Dictionary\n",
    "---\n",
    "Similar to changing values in a list, the value assigned to a key in a dictionary can easily be changed. Simply write the name of the dictionary with the old key in square brackets, followed by the equals sign and the new value that you wish to assign to the existing key.\n",
    "\n",
    "\n",
    "```\n",
    "dictionary_name[old_key] = new_value\n",
    "```\n",
    "\n",
    "![new_value_existing_key](images/unordered_collections/new_value_existing_key.JPG)"
   ]
  },
  {
   "cell_type": "markdown",
   "metadata": {
    "colab_type": "text",
    "id": "T66dqx7YN9Kr"
   },
   "source": [
    "#### Example 4\n",
    "\n",
    "\n",
    "For example, to change the value associated with `elsa_instagram`'s online status to False, write:"
   ]
  },
  {
   "cell_type": "code",
   "execution_count": 0,
   "metadata": {
    "colab": {},
    "colab_type": "code",
    "id": "XxZdyONQN9Kq"
   },
   "outputs": [],
   "source": [
    "elsa_instagram[\"online\"] = False\n",
    "elsa_instagram[\"online\"]"
   ]
  },
  {
   "cell_type": "markdown",
   "metadata": {
    "colab_type": "text",
    "id": "__66oMzBN9Kn"
   },
   "source": [
    "#### Adding Key-Value Pairs\n",
    "---\n",
    "Adding a key-value pair is very similar to modifying values in a dictionary. First, write the name of the dictionary followed by the square brackets `[ ]`. Inside the square brackets, write the new key name, then an `=` followed by the new value you want to add to the dictionary.\n",
    "\n",
    "![add_key_value](images/unordered_collections/add_key_value.JPG)\n",
    "\n",
    "```\n",
    "dictionary_name[new_key] = new_value\n",
    "```"
   ]
  },
  {
   "cell_type": "markdown",
   "metadata": {
    "colab_type": "text",
    "id": "k9livByCN9Kn"
   },
   "source": [
    "#### Example 5\n",
    "In this example, a new key-value pair is added to the dictionary `elsa_instagram`, the key being \"email\" and the email address `\"elsa100@gmail.com\"`."
   ]
  },
  {
   "cell_type": "code",
   "execution_count": 0,
   "metadata": {
    "colab": {},
    "colab_type": "code",
    "id": "M18CReObN9Kk"
   },
   "outputs": [],
   "source": [
    "elsa_instagram[\"email\"] = [\"elsa100@gmail.com\"]\n",
    "elsa_instagram[\"email\"]"
   ]
  },
  {
   "cell_type": "markdown",
   "metadata": {
    "colab_type": "text",
    "id": "bs1JOIypN9Kk"
   },
   "source": [
    "#### Removing Key-Value Pairs\n",
    "---\n",
    "The `del` statement is used to remove a key-value pair, as demonstrated below.\n",
    "\n",
    "![del_statement](images/unordered_collections/del_statement.JPG)\n",
    "\n",
    "```\n",
    "del dictionary_name[key]\n",
    "```"
   ]
  },
  {
   "cell_type": "markdown",
   "metadata": {
    "colab_type": "text",
    "id": "d9JWjyCjN9Kk"
   },
   "source": [
    "#### Example 6\n",
    "\n",
    "In this example, the key-value pair that contains `elsa_instagram`'s email address is deleted from the dictionary:"
   ]
  },
  {
   "cell_type": "code",
   "execution_count": 0,
   "metadata": {
    "colab": {},
    "colab_type": "code",
    "id": "QXp_cGm0N9Kh"
   },
   "outputs": [],
   "source": [
    "del elsa_instagram[\"email\"]"
   ]
  },
  {
   "cell_type": "markdown",
   "metadata": {
    "colab_type": "text",
    "id": "M7Z7XovAN9Kg"
   },
   "source": [
    "#### Possible Quiz Question\n",
    "\n",
    "How would you add Germany's greenhouse gas emission data to the `ghg_2014` dictionary. Germany's greenhouse gas emissions was 196314 thousand metric tons of carbon in 2014.\n",
    "```\n",
    "ghg_2014 = {'china' : 2806634, 'united states of america' : 1432855, 'india' : 610411, 'russian federation' : 465052, 'japan' : 331074}\n",
    "```\n",
    "\n",
    "Source: https://cdiac.ess-dive.lbl.gov/trends/emis/top2014.tot"
   ]
  },
  {
   "cell_type": "markdown",
   "metadata": {
    "colab_type": "text",
    "id": "DFjrx2rlN9Kf"
   },
   "source": [
    "#### Possible Quiz Question\n",
    "\n",
    "How would you delete China's greenhouse gas emission data from the `ghg_2014` dictionary. \n",
    "```\n",
    "ghg_2014 = {'china' : 2806634, 'united states of america' : 1432855, 'india' : 610411, 'russian federation' : 465052, 'japan' : 331074, `germany` : 196314}\n",
    "```"
   ]
  },
  {
   "cell_type": "markdown",
   "metadata": {
    "colab_type": "text",
    "id": "vwPpBjs2N9Kc"
   },
   "source": [
    "### Looping Through Dictionaries\n",
    "---\n",
    "Like with lists and tuples, `for` loops can be used to iterate a block of code for every key, value, or key value pair. Dictionaries are looped through in a random order because dictionaries are unordered collections."
   ]
  },
  {
   "cell_type": "markdown",
   "metadata": {
    "colab_type": "text",
    "id": "Wpt2JKhjN9Kb"
   },
   "source": [
    "#### Looping Through Key-Value Pairs\n",
    "---\n",
    "To loop through all the key-value pairs in a dictionary,  two temporary variable names must be provided in the first line of the `for` loop. \n",
    "\n",
    "\n",
    "Additionally, the `items()` method is used on dictionary to tell python to loop through both keys and values. \n",
    "\n",
    "\n",
    "The example below demonstrates how a `for` loop should be formatted to loop through the key-value pairs.\n",
    "\n",
    "![items_method](images/unordered_collections/items_method.JPG)\n",
    "\n",
    "\n",
    "```\n",
    "for key, value in dictionary_name.items():\n",
    "    execute something\n",
    "  ```"
   ]
  },
  {
   "cell_type": "markdown",
   "metadata": {
    "colab_type": "text",
    "id": "kyyIBUVmN9Kb"
   },
   "source": [
    "#### Example 7\n",
    "\n",
    "This example loops through the key value pairs within the dictionary `usa_winter_athletes`, and prints out those key value pairs. Because dictionaries are unordered, the key value pairs may be printed out in a different order each time."
   ]
  },
  {
   "cell_type": "code",
   "execution_count": 0,
   "metadata": {
    "colab": {},
    "colab_type": "code",
    "id": "gjfCc6vwN9KZ"
   },
   "outputs": [],
   "source": [
    "usa_winter_athletes = {'Skiing' : 'Lindsey Vonn', \n",
    "                        'Snowboarding' : 'Shaun White',\n",
    "                        'Figure Skating' : 'Nathan Chen',\n",
    "                        'Ice Dancing' : 'Maia Shibutani', \n",
    "                        'Curling' : 'Cory Christensen'}\n",
    "for key, value in usa_winter_athletes.items():\n",
    "  print(\"\\n Key: \" + key)\n",
    "  print(\"Value: \" + value)\n"
   ]
  },
  {
   "cell_type": "markdown",
   "metadata": {
    "colab_type": "text",
    "id": "6-Z35OvKN9KZ"
   },
   "source": [
    "#### Looping Through Values Only\n",
    "---\n",
    "The `values()` method can be used to tell Python to only store a dictionary's values in the temporary variable when a `for` loop is used to loop through only a dictionary's values only. Below is an example of this `for` loop:\n",
    "```\n",
    "for value in dictionary_name.values():\n",
    "    execute something\n",
    "```\n",
    "\n",
    "![loop_values](images/unordered_collections/looping_values.JPG)"
   ]
  },
  {
   "cell_type": "markdown",
   "metadata": {
    "colab_type": "text",
    "id": "dEWsvvkVN9KY"
   },
   "source": [
    "#### Example 8\n",
    "\n",
    "This example only prints the value of each key-value pair stored in the `usa_winter_athletes` dictionary. Using the `values()` method may be useful if one is only interested in the dictionary values.\n"
   ]
  },
  {
   "cell_type": "code",
   "execution_count": 0,
   "metadata": {
    "colab": {},
    "colab_type": "code",
    "id": "69vscgFYN9KY"
   },
   "outputs": [],
   "source": [
    "usa_winter_athletes = {'Skiing' : 'Lindsey Vonn', \n",
    "                        'Snowboarding' : 'Shaun White',\n",
    "                        'Figure Skating' : 'Nathan Chen',\n",
    "                        'Ice Dancing' : 'Maia Shibutani', \n",
    "                        'Curling' : 'Cory Christensen'}\n",
    "for value in usa_winter_athletes.values():\n",
    "  print(value)"
   ]
  },
  {
   "cell_type": "markdown",
   "metadata": {
    "colab_type": "text",
    "id": "FqKFcVFkN9KW"
   },
   "source": [
    "#### Looping Through Keys Only\n",
    "---\n",
    "Similar to looping through dictionary values, the `keys()` method is used to loop through the keys of a dictionary.\n",
    "\n",
    "\n",
    "![keys_method](images/unordered_collections/keys_method.JPG)\n",
    "\n",
    "```\n",
    "for keys in dictionary_name.keys():\n",
    "    execute something\n",
    "```\n"
   ]
  },
  {
   "cell_type": "markdown",
   "metadata": {
    "colab_type": "text",
    "id": "M4gTDn0EN9KV"
   },
   "source": [
    "#### Example 9\n",
    "\n",
    "This example loops through the keys of the dictionary `usa_winter_athletes`, and prints its keys."
   ]
  },
  {
   "cell_type": "code",
   "execution_count": 0,
   "metadata": {
    "colab": {},
    "colab_type": "code",
    "id": "H5B4xaxXN9KT"
   },
   "outputs": [],
   "source": [
    "for keys in usa_winter_athletes.keys():\n",
    "  print(keys)"
   ]
  },
  {
   "cell_type": "markdown",
   "metadata": {
    "colab_type": "text",
    "id": "Br7UjY2fN9KT"
   },
   "source": [
    "#### Looping Through Dictionaries in Order\n",
    "---\n",
    "Python will loop through a dictionariy in a random order. However, using the `sorted()` function, dictionaries can be looped through in alphabetical or numeric order. \n",
    "\n",
    "\n",
    "The sorted function takes the dictionary name and method as the parameter and temporarily sorts the keys, or values of the dictionary before looping through them. \n",
    "\n",
    "\n",
    "The sorted function also works on lists.\n",
    "\n",
    "![looping_sorted](images/unordered_collections/looping_sorted.JPG)\n",
    "\n",
    "\n",
    "```\n",
    "for element(s) in sorted(dictionary_name.method()):\n",
    "    execute something\n",
    "```\n",
    "\n",
    "If the sorted function is used in conjunction with the items and the keys method, the dictionary will be looped through in alphabetical or numeric order based on the keys. \n",
    "\n",
    "\n",
    "However, if the sorted function is used in conjunction with the `values()` method, the dictionary will be looped through in alphabetical or numeric order based on the values."
   ]
  },
  {
   "cell_type": "markdown",
   "metadata": {
    "colab_type": "text",
    "id": "Upn1LO7cN9KS"
   },
   "source": [
    "#### Example 10\n",
    "\n",
    "This example uses the `sorted` function in conjunction with the keys method to loop through the keys of the `usa_winter_athletes` dictionary in alphabetical order, and then prints out the keys."
   ]
  },
  {
   "cell_type": "code",
   "execution_count": 0,
   "metadata": {
    "colab": {},
    "colab_type": "code",
    "id": "aztDHyDUN9KQ"
   },
   "outputs": [],
   "source": [
    "usa_winter_athletes = {'Skiing' : 'Lindsey Vonn', \n",
    "                        'Snowboarding' : 'Shaun White',\n",
    "                        'Figure Skating' : 'Nathan Chen',\n",
    "                        'Ice Dancing' : 'Maia Shibutani', \n",
    "                        'Curling' : 'Cory Christensen'}\n",
    "for element in sorted(usa_winter_athletes.keys()):\n",
    "  print(element)"
   ]
  },
  {
   "cell_type": "markdown",
   "metadata": {
    "colab_type": "text",
    "id": "eSyMAx_-N9KQ"
   },
   "source": [
    "#### Example 11\n",
    "\n",
    "This example uses the sorted function in conjunction with the `values()` method to loop through the values of the `usa_winter_athletes` dictionary in numeric order, and then prints out the values."
   ]
  },
  {
   "cell_type": "code",
   "execution_count": 0,
   "metadata": {
    "colab": {},
    "colab_type": "code",
    "id": "HRQORkHkN9KM"
   },
   "outputs": [],
   "source": [
    "usa_winter_athletes = {'Skiing' : 'Lindsey Vonn', \n",
    "                        'Snowboarding' : 'Shaun White',\n",
    "                        'Figure Skating' : 'Nathan Chen',\n",
    "                        'Ice Dancing' : 'Maia Shibutani', \n",
    "                        'Curling' : 'Cory Christensen'}\n",
    "for element in sorted(usa_winter_athletes.values()):\n",
    "  print(element)"
   ]
  },
  {
   "cell_type": "markdown",
   "metadata": {
    "colab_type": "text",
    "id": "nTCrAUz1N9KI"
   },
   "source": [
    "#### Possible Quiz Question\n",
    "\n",
    "True or false: When looping through a dictionary, the items will be looped through in the same order that they were inputted in the dictionary."
   ]
  },
  {
   "cell_type": "markdown",
   "metadata": {
    "colab_type": "text",
    "id": "FLIi_WD-N9KL"
   },
   "source": [
    "#### Possible Quiz Question\n",
    "\n",
    "Which method do you need to use when you loop through a dictionary's values only?\n",
    "\n",
    "A. `values()`\n",
    "\n",
    "B. `keys()`\n",
    "\n",
    "C. `items()`\n",
    "\n",
    "D. `.append()`\n"
   ]
  },
  {
   "cell_type": "markdown",
   "metadata": {
    "colab_type": "text",
    "id": "6ain-5neN9KF"
   },
   "source": [
    "#### Exercise 8\n",
    "\n",
    "What function can you use to loop through a dictionary in alphabetical order?\n",
    "\n",
    "A. `order()`\n",
    "\n",
    "B. `alphabetical()`\n",
    "\n",
    "C. `sort()`\n",
    "\n",
    "D. `sorted()`\n",
    "\n",
    "E. `ordered()`"
   ]
  },
  {
   "cell_type": "markdown",
   "metadata": {
    "colab_type": "text",
    "id": "szaPLiLxIlLk"
   },
   "source": [
    "### Fun Dictionary Usage Example\n",
    "---"
   ]
  },
  {
   "cell_type": "markdown",
   "metadata": {
    "colab_type": "text",
    "id": "8gmitu4ZQsSm"
   },
   "source": [
    "#### Encrypting a Caeser Cipher\n",
    "\n",
    "A classic method of encryption utilized by Julius Caeser, substitution ciphers (also known as caeser ciphers ) are a simple method of encoding a message. In the substitution cipher, each letter is mapped to an alternative letter.\n",
    "\n",
    "**Insert image here of what the dictionary/ mapping looks like**"
   ]
  },
  {
   "cell_type": "code",
   "execution_count": 0,
   "metadata": {
    "colab": {},
    "colab_type": "code",
    "id": "pMy6R8cyNT4d"
   },
   "outputs": [],
   "source": [
    "cipher = {'a' : 'd',\n",
    "          'b' : 'e',\n",
    "          'c' : 'f',\n",
    "          'd' : 'g',\n",
    "          'e' : 'h',\n",
    "          'f' : 'i',\n",
    "          'g' : 'j',\n",
    "          'h' : 'k',\n",
    "          'i' : 'l',\n",
    "          'j' : 'm',\n",
    "          'k' : 'n',\n",
    "          'l' : 'o',\n",
    "          'm' : 'p',\n",
    "          'n' : 'q',\n",
    "          'o' : 'r',\n",
    "          'p' : 's',\n",
    "          'q' : 't',\n",
    "          'r' : 'u',\n",
    "          's' : 'v',\n",
    "          't' : 'w',\n",
    "          'u' : 'x',\n",
    "          'v' : 'y',\n",
    "          'w' : 'z',\n",
    "          'x' : 'a',\n",
    "          'y' : 'b',\n",
    "          'z' : 'c',\n",
    "          \" \" : 'xx'}\n",
    "\n",
    "def encrypt(message, cipher):\n",
    "  result = \"\"\n",
    "  for c in message:\n",
    "    result = result + cipher[c]\n",
    "  return result"
   ]
  },
  {
   "cell_type": "code",
   "execution_count": 0,
   "metadata": {
    "colab": {},
    "colab_type": "code",
    "id": "p8aMiLxoP7Wr"
   },
   "outputs": [],
   "source": [
    "print(encrypt(\"hello\", cipher))\n",
    "print(encrypt(\"this is a secret message\", cipher))\n",
    "print(encrypt(\"do you think you can decode it\", cipher))"
   ]
  },
  {
   "cell_type": "markdown",
   "metadata": {
    "colab_type": "text",
    "id": "to-NyS0kUUmX"
   },
   "source": [
    "#### Decrypting a Caeser Cipher\n",
    "\n",
    "Decoding a caeser cipher just requires inverting the keys and the values of the original dictionary. To do this, we create a function that re-maps the original `cipher` dictionary's keys to be the values, and values to keys, and creates a new dictionary that can be used to then decode the cipher. \n"
   ]
  },
  {
   "cell_type": "code",
   "execution_count": 0,
   "metadata": {
    "colab": {},
    "colab_type": "code",
    "id": "GNzEntPCU58p"
   },
   "outputs": [],
   "source": [
    "def invert(my_cipher):\n",
    "    result = {} \n",
    "    for key, value in my_cipher.items():\n",
    "      result[value] = key\n",
    "    return result\n",
    "                        \n",
    "#def invert(my_cipher):\n",
    "#    return dict([(value, key) for key, value in my_cipher.items()])\n",
    "    \n",
    "def decrypt(message, cipher):\n",
    "  return encrypt(message, invert(cipher))\n"
   ]
  },
  {
   "cell_type": "code",
   "execution_count": 0,
   "metadata": {
    "colab": {},
    "colab_type": "code",
    "id": "MPXsrkG4nVEU"
   },
   "outputs": [],
   "source": [
    "print(decrypt(\"khoor\",cipher))"
   ]
  },
  {
   "cell_type": "markdown",
   "metadata": {
    "colab_type": "text",
    "id": "oCkFyCTzDrM3"
   },
   "source": [
    "## Advance Data Structures\n",
    "---\n",
    "Nesting collections involves placing a collection within collection. For example, one can create a list of lists, a dictionary of dictionaries, a list of dictionaries, a dictionary of tuples and so on. Nesting collections introduces greater possibilities for storing and organizing data, which in turn makes it easier to access and manipulate. For example, if you have a website with several users, you could store each user's profile information in separate dictionaries. However, if you have hundreds or thousands of user profiles, it will be easier to access their information if these dictionaries were nested in a list or another dictionary.\n",
    "\n",
    "\n",
    "There are two ways to nest collections. The first is to directly define everything in one assignment statement as seen in Example 12. This method is best used for short and simple nested collections.\n",
    "\n",
    "\n",
    "\n"
   ]
  },
  {
   "cell_type": "markdown",
   "metadata": {
    "colab_type": "text",
    "id": "vZchFsp1Cbky"
   },
   "source": [
    "#### Example 12\n",
    "\n",
    "We can create a list of tuples containing monuments on Oahu and their GPS coordinates.\n"
   ]
  },
  {
   "cell_type": "code",
   "execution_count": 0,
   "metadata": {
    "colab": {
     "base_uri": "https://localhost:8080/",
     "height": 70
    },
    "colab_type": "code",
    "executionInfo": {
     "elapsed": 653,
     "status": "ok",
     "timestamp": 1547080518070,
     "user": {
      "displayName": "Jaclyn Lee",
      "photoUrl": "",
      "userId": "17525286701482268466"
     },
     "user_tz": 600
    },
    "id": "jvQNkx5xCozZ",
    "outputId": "f360cbeb-282c-4f14-958e-ff37a9c21d14"
   },
   "outputs": [
    {
     "data": {
      "text/plain": [
       "[('USS Arizona', \"N21°18'\", \"W157°57'\"),\n",
       " ('Iolani Palace', \"N21°18'\", \"W157°51'\"),\n",
       " ('Diamond Head', \"N21°15'\", \"W157°48'\")]"
      ]
     },
     "execution_count": 1,
     "metadata": {
      "tags": []
     },
     "output_type": "execute_result"
    }
   ],
   "source": [
    "monuments = [('USS Arizona', \"N21°18'\", \"W157°57'\"),\n",
    "             (\"Iolani Palace\", \"N21°18'\", \"W157°51'\"),\n",
    "             (\"Diamond Head\", \"N21°15'\", \"W157°48'\")]\n",
    "monuments"
   ]
  },
  {
   "cell_type": "markdown",
   "metadata": {
    "colab_type": "text",
    "id": "8LEvuYvna0Qo"
   },
   "source": [
    "The second method for nesting collections involves building the collections separately and then combining the variables to build a nested collection. The example bellow shows this style of nesting collections."
   ]
  },
  {
   "cell_type": "markdown",
   "metadata": {
    "colab_type": "text",
    "id": "ShLa2wwfCqbB"
   },
   "source": [
    "#### Example 13\n",
    "\n",
    "We will catagorize the colleges in the Big West Athletic Conference into their respective university systems. All of this information will be organized within a dictionary."
   ]
  },
  {
   "cell_type": "code",
   "execution_count": 0,
   "metadata": {
    "colab": {
     "base_uri": "https://localhost:8080/",
     "height": 54
    },
    "colab_type": "code",
    "executionInfo": {
     "elapsed": 443,
     "status": "ok",
     "timestamp": 1547080530696,
     "user": {
      "displayName": "Jaclyn Lee",
      "photoUrl": "",
      "userId": "17525286701482268466"
     },
     "user_tz": 600
    },
    "id": "KggfVqyPDDo9",
    "outputId": "61dc6be8-ef82-426d-fb5e-8afa080ff6a5"
   },
   "outputs": [
    {
     "name": "stdout",
     "output_type": "stream",
     "text": [
      "{'CSU': ['cal poly', 'csuf', 'csun', 'long beach state'], 'UH': ['uhm'], 'UC': ['uc davis', 'uc irvine', 'uc riverside', 'uc santa barbara']}\n"
     ]
    }
   ],
   "source": [
    "csu = ['cal poly', 'csuf', 'csun', 'long beach state']\n",
    "uh = ['uhm']\n",
    "uc = ['uc davis', 'uc irvine', 'uc riverside', 'uc santa barbara']\n",
    "\n",
    "big_west = {'CSU' : csu, 'UH' : uh, 'UC' : uc}\n",
    "\n",
    "print(big_west)"
   ]
  },
  {
   "cell_type": "markdown",
   "metadata": {
    "colab_type": "text",
    "id": "tdop_fG3hPRJ"
   },
   "source": [
    "Both methods of nesting collections will yield the same results, so you can use whichever method you prefer."
   ]
  },
  {
   "cell_type": "markdown",
   "metadata": {
    "colab_type": "text",
    "id": "NcVrTKVMDUJf"
   },
   "source": [
    "### Indexing Elements in Nested Collections\n",
    "---\n",
    "\n",
    "**Maybe put an animation here to show how to refer to elements in nested collections**\n",
    "\n",
    "\n",
    "Referring to items in nested collections is fairly straightforward. You still use indices to refer to items in lists and tuples and keys to refer to items in dictionaries. The difference is that you use an additional set of square brackets (with an index or key) to access items in sub collections. The index or key in the first square brackets will refer to the nested collections within the main collection as a whole. The second set of square brackets will refer to an item within the nested collection that the first square brackets specified.\n",
    "\n",
    "**Color coded picture here illustrating above concept**\n",
    "\n",
    "**Picture of index/key referring to elements in subcollections, highlight what the index/key refers to in same color.**"
   ]
  },
  {
   "cell_type": "markdown",
   "metadata": {
    "colab_type": "text",
    "id": "ZbeK9z6vGjXY"
   },
   "source": [
    "#### Example 14\n",
    "\n",
    "Let's use the nested collections in the examples above to demonstrate how we can access elements in nested collections."
   ]
  },
  {
   "cell_type": "code",
   "execution_count": 0,
   "metadata": {
    "colab": {
     "base_uri": "https://localhost:8080/",
     "height": 158
    },
    "colab_type": "code",
    "executionInfo": {
     "elapsed": 415,
     "status": "ok",
     "timestamp": 1547080537529,
     "user": {
      "displayName": "Jaclyn Lee",
      "photoUrl": "",
      "userId": "17525286701482268466"
     },
     "user_tz": 600
    },
    "id": "tCWQjlw6EcPu",
    "outputId": "13a58ce6-522c-48d5-9c3b-8565d6bf9058"
   },
   "outputs": [
    {
     "name": "stdout",
     "output_type": "stream",
     "text": [
      "This is the third element in the monuments list:\n",
      "('Diamond Head', \"N21°15'\", \"W157°48'\")\n",
      "This is the second item in the second tuple in the monuments list:\n",
      "N21°18'\n",
      "This is the item under \"UC\":\n",
      "['uc davis', 'uc irvine', 'uc riverside', 'uc santa barbara']\n",
      "This is the last item in the \"UC\" list:\n",
      "uc santa barbara\n"
     ]
    }
   ],
   "source": [
    "monuments = [('USS Arizona', \"N21°18'\", \"W157°57'\"),\n",
    "             (\"Iolani Palace\", \"N21°18'\", \"W157°51'\"),\n",
    "             (\"Diamond Head\", \"N21°15'\", \"W157°48'\")]\n",
    "\n",
    "print(\"This is the third element in the monuments list:\")\n",
    "print(monuments[2])\n",
    "\n",
    "print(\"This is the second item in the second tuple in the monuments list:\")\n",
    "print(monuments[1][1])\n",
    "\n",
    "csu = ['cal poly', 'csuf', 'csun', 'long beach state']\n",
    "uh = ['uhm']\n",
    "uc = ['uc davis', 'uc irvine', 'uc riverside', 'uc santa barbara']\n",
    "big_west = {'CSU' : csu, 'UH' : uh, 'UC' : uc}\n",
    "\n",
    "print('This is the item under \"UC\":')\n",
    "print(big_west[\"UC\"])\n",
    "\n",
    "print('This is the last item in the \"UC\" list:')\n",
    "print(big_west[\"UC\"][-1])"
   ]
  },
  {
   "cell_type": "markdown",
   "metadata": {
    "colab_type": "text",
    "id": "viIoUYuuoC5R"
   },
   "source": [
    "Notice that by using only one index or key you are refering to one of the nested collections, but using two indices or keys will allow you to access an item within the nested collection. \n",
    "\n",
    "How do you think you would refer to individual items in three levels of nested collections (for example a list within a list within a list)?"
   ]
  },
  {
   "cell_type": "markdown",
   "metadata": {
    "colab_type": "text",
    "id": "CZP9PtWAL_JW"
   },
   "source": [
    "#### Potential Quiz Question\n",
    "\n",
    "Which of the following advance control structure combinaions won't work?\n",
    "\n",
    "A. Nesting dictionaries inside of a list.\n",
    "\n",
    "B. Using lists as keys and values in a dictionary\n",
    "\n",
    "C. Using tuples as keys and values in a dictionary\n",
    "\n",
    "D. Nesting lists inside of dictionaries that are nested in a tuple"
   ]
  },
  {
   "cell_type": "markdown",
   "metadata": {
    "colab_type": "text",
    "id": "KFOVJHZPNM1v"
   },
   "source": [
    "#### Potential Quiz Question\n",
    "\n",
    "How would you refer to `'cal poly'` in the `big_west` dictionary?"
   ]
  },
  {
   "cell_type": "markdown",
   "metadata": {
    "colab_type": "text",
    "id": "p2LK0xLoN9J7"
   },
   "source": [
    "## Summary\n",
    "---\n",
    "This section covered:\n",
    "* Creating dictionaries\n",
    "* Referring to values within a dictionary\n",
    "* How to modify, add and remove key-value pairs in a dictionary. \n",
    "* How to loop through a dictionary.\n",
    "* How to create and work with advance data structures. \n",
    "\n",
    "The next section will cover advance control structures that use different combinations of `if-else` statements and `for` loops."
   ]
  },
  {
   "cell_type": "code",
   "execution_count": 0,
   "metadata": {
    "colab": {},
    "colab_type": "code",
    "id": "Qq30yUaH-RHE"
   },
   "outputs": [],
   "source": []
  }
 ],
 "metadata": {
  "colab": {
   "collapsed_sections": [],
   "name": "7 Intro to Python: Unordered Collections",
   "provenance": [],
   "version": "0.3.2"
  },
  "kernelspec": {
   "display_name": "Python 3",
   "language": "python",
   "name": "python3"
  },
  "language_info": {
   "codemirror_mode": {
    "name": "ipython",
    "version": 3
   },
   "file_extension": ".py",
   "mimetype": "text/x-python",
   "name": "python",
   "nbconvert_exporter": "python",
   "pygments_lexer": "ipython3",
   "version": "3.6.6"
  }
 },
 "nbformat": 4,
 "nbformat_minor": 1
}
